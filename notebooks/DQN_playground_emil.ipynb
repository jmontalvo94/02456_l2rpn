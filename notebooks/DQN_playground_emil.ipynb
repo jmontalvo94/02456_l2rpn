{
  "nbformat": 4,
  "nbformat_minor": 0,
  "metadata": {
    "colab": {
      "name": "DQN_playground_emil",
      "provenance": [],
      "collapsed_sections": [],
      "toc_visible": true,
      "mount_file_id": "1Dnb-IWdWxjr8BS3piNxJrv6rltWoflzo",
      "authorship_tag": "ABX9TyPe5gySM03p8M1vBYqkCOcp",
      "include_colab_link": true
    },
    "kernelspec": {
      "name": "python3",
      "display_name": "Python 3"
    },
    "widgets": {
      "application/vnd.jupyter.widget-state+json": {
        "083f01f122374056bd497c2f90ebe30a": {
          "model_module": "@jupyter-widgets/controls",
          "model_name": "HBoxModel",
          "state": {
            "_view_name": "HBoxView",
            "_dom_classes": [],
            "_model_name": "HBoxModel",
            "_view_module": "@jupyter-widgets/controls",
            "_model_module_version": "1.5.0",
            "_view_count": null,
            "_view_module_version": "1.5.0",
            "box_style": "",
            "layout": "IPY_MODEL_ba111174985d4ebfb07b4c8fe7d6a4f7",
            "_model_module": "@jupyter-widgets/controls",
            "children": [
              "IPY_MODEL_a8b13a60a1ea45d682d0fe5ab11fcfb9",
              "IPY_MODEL_51de618974f9461e88b0dc7a56a31696",
              "IPY_MODEL_1e51d7cf2e7d408d8fc51622d8823395"
            ]
          }
        },
        "ba111174985d4ebfb07b4c8fe7d6a4f7": {
          "model_module": "@jupyter-widgets/base",
          "model_name": "LayoutModel",
          "state": {
            "_view_name": "LayoutView",
            "grid_template_rows": null,
            "right": null,
            "justify_content": null,
            "_view_module": "@jupyter-widgets/base",
            "overflow": null,
            "_model_module_version": "1.2.0",
            "_view_count": null,
            "flex_flow": null,
            "width": null,
            "min_width": null,
            "border": null,
            "align_items": null,
            "bottom": null,
            "_model_module": "@jupyter-widgets/base",
            "top": null,
            "grid_column": null,
            "overflow_y": null,
            "overflow_x": null,
            "grid_auto_flow": null,
            "grid_area": null,
            "grid_template_columns": null,
            "flex": null,
            "_model_name": "LayoutModel",
            "justify_items": null,
            "grid_row": null,
            "max_height": null,
            "align_content": null,
            "visibility": null,
            "align_self": null,
            "height": null,
            "min_height": null,
            "padding": null,
            "grid_auto_rows": null,
            "grid_gap": null,
            "max_width": null,
            "order": null,
            "_view_module_version": "1.2.0",
            "grid_template_areas": null,
            "object_position": null,
            "object_fit": null,
            "grid_auto_columns": null,
            "margin": null,
            "display": null,
            "left": null
          }
        },
        "a8b13a60a1ea45d682d0fe5ab11fcfb9": {
          "model_module": "@jupyter-widgets/controls",
          "model_name": "HTMLModel",
          "state": {
            "_view_name": "HTMLView",
            "style": "IPY_MODEL_ef7385f3fc974fb39647f97ffbdf3e8f",
            "_dom_classes": [],
            "description": "",
            "_model_name": "HTMLModel",
            "placeholder": "​",
            "_view_module": "@jupyter-widgets/controls",
            "_model_module_version": "1.5.0",
            "value": " 17%",
            "_view_count": null,
            "_view_module_version": "1.5.0",
            "description_tooltip": null,
            "_model_module": "@jupyter-widgets/controls",
            "layout": "IPY_MODEL_72e4b61c786943039f7a7d473bbaabbd"
          }
        },
        "51de618974f9461e88b0dc7a56a31696": {
          "model_module": "@jupyter-widgets/controls",
          "model_name": "FloatProgressModel",
          "state": {
            "_view_name": "ProgressView",
            "style": "IPY_MODEL_da26891acd6946adbd7240dfba08daef",
            "_dom_classes": [],
            "description": "",
            "_model_name": "FloatProgressModel",
            "bar_style": "danger",
            "max": 8064,
            "_view_module": "@jupyter-widgets/controls",
            "_model_module_version": "1.5.0",
            "value": 1381,
            "_view_count": null,
            "_view_module_version": "1.5.0",
            "orientation": "horizontal",
            "min": 0,
            "description_tooltip": null,
            "_model_module": "@jupyter-widgets/controls",
            "layout": "IPY_MODEL_f47fc39cdbed4a06be3c878a1cc54786"
          }
        },
        "1e51d7cf2e7d408d8fc51622d8823395": {
          "model_module": "@jupyter-widgets/controls",
          "model_name": "HTMLModel",
          "state": {
            "_view_name": "HTMLView",
            "style": "IPY_MODEL_ab512c24d0184bf78e95132d6a2f8a01",
            "_dom_classes": [],
            "description": "",
            "_model_name": "HTMLModel",
            "placeholder": "​",
            "_view_module": "@jupyter-widgets/controls",
            "_model_module_version": "1.5.0",
            "value": " 1381/8064 [00:51&lt;04:09, 26.78it/s]",
            "_view_count": null,
            "_view_module_version": "1.5.0",
            "description_tooltip": null,
            "_model_module": "@jupyter-widgets/controls",
            "layout": "IPY_MODEL_2ce445f1a81d41f1aff0141113abe7a7"
          }
        },
        "ef7385f3fc974fb39647f97ffbdf3e8f": {
          "model_module": "@jupyter-widgets/controls",
          "model_name": "DescriptionStyleModel",
          "state": {
            "_view_name": "StyleView",
            "_model_name": "DescriptionStyleModel",
            "description_width": "",
            "_view_module": "@jupyter-widgets/base",
            "_model_module_version": "1.5.0",
            "_view_count": null,
            "_view_module_version": "1.2.0",
            "_model_module": "@jupyter-widgets/controls"
          }
        },
        "72e4b61c786943039f7a7d473bbaabbd": {
          "model_module": "@jupyter-widgets/base",
          "model_name": "LayoutModel",
          "state": {
            "_view_name": "LayoutView",
            "grid_template_rows": null,
            "right": null,
            "justify_content": null,
            "_view_module": "@jupyter-widgets/base",
            "overflow": null,
            "_model_module_version": "1.2.0",
            "_view_count": null,
            "flex_flow": null,
            "width": null,
            "min_width": null,
            "border": null,
            "align_items": null,
            "bottom": null,
            "_model_module": "@jupyter-widgets/base",
            "top": null,
            "grid_column": null,
            "overflow_y": null,
            "overflow_x": null,
            "grid_auto_flow": null,
            "grid_area": null,
            "grid_template_columns": null,
            "flex": null,
            "_model_name": "LayoutModel",
            "justify_items": null,
            "grid_row": null,
            "max_height": null,
            "align_content": null,
            "visibility": null,
            "align_self": null,
            "height": null,
            "min_height": null,
            "padding": null,
            "grid_auto_rows": null,
            "grid_gap": null,
            "max_width": null,
            "order": null,
            "_view_module_version": "1.2.0",
            "grid_template_areas": null,
            "object_position": null,
            "object_fit": null,
            "grid_auto_columns": null,
            "margin": null,
            "display": null,
            "left": null
          }
        },
        "da26891acd6946adbd7240dfba08daef": {
          "model_module": "@jupyter-widgets/controls",
          "model_name": "ProgressStyleModel",
          "state": {
            "_view_name": "StyleView",
            "_model_name": "ProgressStyleModel",
            "description_width": "",
            "_view_module": "@jupyter-widgets/base",
            "_model_module_version": "1.5.0",
            "_view_count": null,
            "_view_module_version": "1.2.0",
            "bar_color": null,
            "_model_module": "@jupyter-widgets/controls"
          }
        },
        "f47fc39cdbed4a06be3c878a1cc54786": {
          "model_module": "@jupyter-widgets/base",
          "model_name": "LayoutModel",
          "state": {
            "_view_name": "LayoutView",
            "grid_template_rows": null,
            "right": null,
            "justify_content": null,
            "_view_module": "@jupyter-widgets/base",
            "overflow": null,
            "_model_module_version": "1.2.0",
            "_view_count": null,
            "flex_flow": null,
            "width": null,
            "min_width": null,
            "border": null,
            "align_items": null,
            "bottom": null,
            "_model_module": "@jupyter-widgets/base",
            "top": null,
            "grid_column": null,
            "overflow_y": null,
            "overflow_x": null,
            "grid_auto_flow": null,
            "grid_area": null,
            "grid_template_columns": null,
            "flex": null,
            "_model_name": "LayoutModel",
            "justify_items": null,
            "grid_row": null,
            "max_height": null,
            "align_content": null,
            "visibility": null,
            "align_self": null,
            "height": null,
            "min_height": null,
            "padding": null,
            "grid_auto_rows": null,
            "grid_gap": null,
            "max_width": null,
            "order": null,
            "_view_module_version": "1.2.0",
            "grid_template_areas": null,
            "object_position": null,
            "object_fit": null,
            "grid_auto_columns": null,
            "margin": null,
            "display": null,
            "left": null
          }
        },
        "ab512c24d0184bf78e95132d6a2f8a01": {
          "model_module": "@jupyter-widgets/controls",
          "model_name": "DescriptionStyleModel",
          "state": {
            "_view_name": "StyleView",
            "_model_name": "DescriptionStyleModel",
            "description_width": "",
            "_view_module": "@jupyter-widgets/base",
            "_model_module_version": "1.5.0",
            "_view_count": null,
            "_view_module_version": "1.2.0",
            "_model_module": "@jupyter-widgets/controls"
          }
        },
        "2ce445f1a81d41f1aff0141113abe7a7": {
          "model_module": "@jupyter-widgets/base",
          "model_name": "LayoutModel",
          "state": {
            "_view_name": "LayoutView",
            "grid_template_rows": null,
            "right": null,
            "justify_content": null,
            "_view_module": "@jupyter-widgets/base",
            "overflow": null,
            "_model_module_version": "1.2.0",
            "_view_count": null,
            "flex_flow": null,
            "width": null,
            "min_width": null,
            "border": null,
            "align_items": null,
            "bottom": null,
            "_model_module": "@jupyter-widgets/base",
            "top": null,
            "grid_column": null,
            "overflow_y": null,
            "overflow_x": null,
            "grid_auto_flow": null,
            "grid_area": null,
            "grid_template_columns": null,
            "flex": null,
            "_model_name": "LayoutModel",
            "justify_items": null,
            "grid_row": null,
            "max_height": null,
            "align_content": null,
            "visibility": null,
            "align_self": null,
            "height": null,
            "min_height": null,
            "padding": null,
            "grid_auto_rows": null,
            "grid_gap": null,
            "max_width": null,
            "order": null,
            "_view_module_version": "1.2.0",
            "grid_template_areas": null,
            "object_position": null,
            "object_fit": null,
            "grid_auto_columns": null,
            "margin": null,
            "display": null,
            "left": null
          }
        },
        "b609548ced4a4d16b2210f8db03daf47": {
          "model_module": "@jupyter-widgets/controls",
          "model_name": "HBoxModel",
          "state": {
            "_view_name": "HBoxView",
            "_dom_classes": [],
            "_model_name": "HBoxModel",
            "_view_module": "@jupyter-widgets/controls",
            "_model_module_version": "1.5.0",
            "_view_count": null,
            "_view_module_version": "1.5.0",
            "box_style": "",
            "layout": "IPY_MODEL_17247f6be96348f9a6caebbedea37707",
            "_model_module": "@jupyter-widgets/controls",
            "children": [
              "IPY_MODEL_184e38c2e2e1448e97f3399df7abb1e9",
              "IPY_MODEL_a07c8c4d643d401e982a7482dd493b9e",
              "IPY_MODEL_fc68aacde372476cb6e6ecaf0467443e"
            ]
          }
        },
        "17247f6be96348f9a6caebbedea37707": {
          "model_module": "@jupyter-widgets/base",
          "model_name": "LayoutModel",
          "state": {
            "_view_name": "LayoutView",
            "grid_template_rows": null,
            "right": null,
            "justify_content": null,
            "_view_module": "@jupyter-widgets/base",
            "overflow": null,
            "_model_module_version": "1.2.0",
            "_view_count": null,
            "flex_flow": null,
            "width": null,
            "min_width": null,
            "border": null,
            "align_items": null,
            "bottom": null,
            "_model_module": "@jupyter-widgets/base",
            "top": null,
            "grid_column": null,
            "overflow_y": null,
            "overflow_x": null,
            "grid_auto_flow": null,
            "grid_area": null,
            "grid_template_columns": null,
            "flex": null,
            "_model_name": "LayoutModel",
            "justify_items": null,
            "grid_row": null,
            "max_height": null,
            "align_content": null,
            "visibility": null,
            "align_self": null,
            "height": null,
            "min_height": null,
            "padding": null,
            "grid_auto_rows": null,
            "grid_gap": null,
            "max_width": null,
            "order": null,
            "_view_module_version": "1.2.0",
            "grid_template_areas": null,
            "object_position": null,
            "object_fit": null,
            "grid_auto_columns": null,
            "margin": null,
            "display": null,
            "left": null
          }
        },
        "184e38c2e2e1448e97f3399df7abb1e9": {
          "model_module": "@jupyter-widgets/controls",
          "model_name": "HTMLModel",
          "state": {
            "_view_name": "HTMLView",
            "style": "IPY_MODEL_c33fae95ed9842eeaa4a833f5fd3cd0a",
            "_dom_classes": [],
            "description": "",
            "_model_name": "HTMLModel",
            "placeholder": "​",
            "_view_module": "@jupyter-widgets/controls",
            "_model_module_version": "1.5.0",
            "value": "  0%",
            "_view_count": null,
            "_view_module_version": "1.5.0",
            "description_tooltip": null,
            "_model_module": "@jupyter-widgets/controls",
            "layout": "IPY_MODEL_9ef0dff8af2b4eddb105d132523cab66"
          }
        },
        "a07c8c4d643d401e982a7482dd493b9e": {
          "model_module": "@jupyter-widgets/controls",
          "model_name": "FloatProgressModel",
          "state": {
            "_view_name": "ProgressView",
            "style": "IPY_MODEL_e38f0c73c42048dfb38357225ab40fbd",
            "_dom_classes": [],
            "description": "",
            "_model_name": "FloatProgressModel",
            "bar_style": "danger",
            "max": 8064,
            "_view_module": "@jupyter-widgets/controls",
            "_model_module_version": "1.5.0",
            "value": 8,
            "_view_count": null,
            "_view_module_version": "1.5.0",
            "orientation": "horizontal",
            "min": 0,
            "description_tooltip": null,
            "_model_module": "@jupyter-widgets/controls",
            "layout": "IPY_MODEL_a68fe26e3d174096b4217b83965f4b4a"
          }
        },
        "fc68aacde372476cb6e6ecaf0467443e": {
          "model_module": "@jupyter-widgets/controls",
          "model_name": "HTMLModel",
          "state": {
            "_view_name": "HTMLView",
            "style": "IPY_MODEL_39e2713ed2c4414f89b4814b65335428",
            "_dom_classes": [],
            "description": "",
            "_model_name": "HTMLModel",
            "placeholder": "​",
            "_view_module": "@jupyter-widgets/controls",
            "_model_module_version": "1.5.0",
            "value": " 8/8064 [00:07&lt;2:00:53,  1.11it/s]",
            "_view_count": null,
            "_view_module_version": "1.5.0",
            "description_tooltip": null,
            "_model_module": "@jupyter-widgets/controls",
            "layout": "IPY_MODEL_8d63a81bce584c3c856e4a3a9591843c"
          }
        },
        "c33fae95ed9842eeaa4a833f5fd3cd0a": {
          "model_module": "@jupyter-widgets/controls",
          "model_name": "DescriptionStyleModel",
          "state": {
            "_view_name": "StyleView",
            "_model_name": "DescriptionStyleModel",
            "description_width": "",
            "_view_module": "@jupyter-widgets/base",
            "_model_module_version": "1.5.0",
            "_view_count": null,
            "_view_module_version": "1.2.0",
            "_model_module": "@jupyter-widgets/controls"
          }
        },
        "9ef0dff8af2b4eddb105d132523cab66": {
          "model_module": "@jupyter-widgets/base",
          "model_name": "LayoutModel",
          "state": {
            "_view_name": "LayoutView",
            "grid_template_rows": null,
            "right": null,
            "justify_content": null,
            "_view_module": "@jupyter-widgets/base",
            "overflow": null,
            "_model_module_version": "1.2.0",
            "_view_count": null,
            "flex_flow": null,
            "width": null,
            "min_width": null,
            "border": null,
            "align_items": null,
            "bottom": null,
            "_model_module": "@jupyter-widgets/base",
            "top": null,
            "grid_column": null,
            "overflow_y": null,
            "overflow_x": null,
            "grid_auto_flow": null,
            "grid_area": null,
            "grid_template_columns": null,
            "flex": null,
            "_model_name": "LayoutModel",
            "justify_items": null,
            "grid_row": null,
            "max_height": null,
            "align_content": null,
            "visibility": null,
            "align_self": null,
            "height": null,
            "min_height": null,
            "padding": null,
            "grid_auto_rows": null,
            "grid_gap": null,
            "max_width": null,
            "order": null,
            "_view_module_version": "1.2.0",
            "grid_template_areas": null,
            "object_position": null,
            "object_fit": null,
            "grid_auto_columns": null,
            "margin": null,
            "display": null,
            "left": null
          }
        },
        "e38f0c73c42048dfb38357225ab40fbd": {
          "model_module": "@jupyter-widgets/controls",
          "model_name": "ProgressStyleModel",
          "state": {
            "_view_name": "StyleView",
            "_model_name": "ProgressStyleModel",
            "description_width": "",
            "_view_module": "@jupyter-widgets/base",
            "_model_module_version": "1.5.0",
            "_view_count": null,
            "_view_module_version": "1.2.0",
            "bar_color": null,
            "_model_module": "@jupyter-widgets/controls"
          }
        },
        "a68fe26e3d174096b4217b83965f4b4a": {
          "model_module": "@jupyter-widgets/base",
          "model_name": "LayoutModel",
          "state": {
            "_view_name": "LayoutView",
            "grid_template_rows": null,
            "right": null,
            "justify_content": null,
            "_view_module": "@jupyter-widgets/base",
            "overflow": null,
            "_model_module_version": "1.2.0",
            "_view_count": null,
            "flex_flow": null,
            "width": null,
            "min_width": null,
            "border": null,
            "align_items": null,
            "bottom": null,
            "_model_module": "@jupyter-widgets/base",
            "top": null,
            "grid_column": null,
            "overflow_y": null,
            "overflow_x": null,
            "grid_auto_flow": null,
            "grid_area": null,
            "grid_template_columns": null,
            "flex": null,
            "_model_name": "LayoutModel",
            "justify_items": null,
            "grid_row": null,
            "max_height": null,
            "align_content": null,
            "visibility": null,
            "align_self": null,
            "height": null,
            "min_height": null,
            "padding": null,
            "grid_auto_rows": null,
            "grid_gap": null,
            "max_width": null,
            "order": null,
            "_view_module_version": "1.2.0",
            "grid_template_areas": null,
            "object_position": null,
            "object_fit": null,
            "grid_auto_columns": null,
            "margin": null,
            "display": null,
            "left": null
          }
        },
        "39e2713ed2c4414f89b4814b65335428": {
          "model_module": "@jupyter-widgets/controls",
          "model_name": "DescriptionStyleModel",
          "state": {
            "_view_name": "StyleView",
            "_model_name": "DescriptionStyleModel",
            "description_width": "",
            "_view_module": "@jupyter-widgets/base",
            "_model_module_version": "1.5.0",
            "_view_count": null,
            "_view_module_version": "1.2.0",
            "_model_module": "@jupyter-widgets/controls"
          }
        },
        "8d63a81bce584c3c856e4a3a9591843c": {
          "model_module": "@jupyter-widgets/base",
          "model_name": "LayoutModel",
          "state": {
            "_view_name": "LayoutView",
            "grid_template_rows": null,
            "right": null,
            "justify_content": null,
            "_view_module": "@jupyter-widgets/base",
            "overflow": null,
            "_model_module_version": "1.2.0",
            "_view_count": null,
            "flex_flow": null,
            "width": null,
            "min_width": null,
            "border": null,
            "align_items": null,
            "bottom": null,
            "_model_module": "@jupyter-widgets/base",
            "top": null,
            "grid_column": null,
            "overflow_y": null,
            "overflow_x": null,
            "grid_auto_flow": null,
            "grid_area": null,
            "grid_template_columns": null,
            "flex": null,
            "_model_name": "LayoutModel",
            "justify_items": null,
            "grid_row": null,
            "max_height": null,
            "align_content": null,
            "visibility": null,
            "align_self": null,
            "height": null,
            "min_height": null,
            "padding": null,
            "grid_auto_rows": null,
            "grid_gap": null,
            "max_width": null,
            "order": null,
            "_view_module_version": "1.2.0",
            "grid_template_areas": null,
            "object_position": null,
            "object_fit": null,
            "grid_auto_columns": null,
            "margin": null,
            "display": null,
            "left": null
          }
        },
        "f7c535c86f1946bab585b5d96b153722": {
          "model_module": "@jupyter-widgets/controls",
          "model_name": "HBoxModel",
          "state": {
            "_view_name": "HBoxView",
            "_dom_classes": [],
            "_model_name": "HBoxModel",
            "_view_module": "@jupyter-widgets/controls",
            "_model_module_version": "1.5.0",
            "_view_count": null,
            "_view_module_version": "1.5.0",
            "box_style": "",
            "layout": "IPY_MODEL_5812ed4d08c74ee99ca97ccd533ce4b3",
            "_model_module": "@jupyter-widgets/controls",
            "children": [
              "IPY_MODEL_59c565a3163245098b9e55dc104f7a0d",
              "IPY_MODEL_c7b856e693c94c6b84805ff63117a2ab",
              "IPY_MODEL_787483138e294b969d9c50a0aba28f82"
            ]
          }
        },
        "5812ed4d08c74ee99ca97ccd533ce4b3": {
          "model_module": "@jupyter-widgets/base",
          "model_name": "LayoutModel",
          "state": {
            "_view_name": "LayoutView",
            "grid_template_rows": null,
            "right": null,
            "justify_content": null,
            "_view_module": "@jupyter-widgets/base",
            "overflow": null,
            "_model_module_version": "1.2.0",
            "_view_count": null,
            "flex_flow": null,
            "width": null,
            "min_width": null,
            "border": null,
            "align_items": null,
            "bottom": null,
            "_model_module": "@jupyter-widgets/base",
            "top": null,
            "grid_column": null,
            "overflow_y": null,
            "overflow_x": null,
            "grid_auto_flow": null,
            "grid_area": null,
            "grid_template_columns": null,
            "flex": null,
            "_model_name": "LayoutModel",
            "justify_items": null,
            "grid_row": null,
            "max_height": null,
            "align_content": null,
            "visibility": null,
            "align_self": null,
            "height": null,
            "min_height": null,
            "padding": null,
            "grid_auto_rows": null,
            "grid_gap": null,
            "max_width": null,
            "order": null,
            "_view_module_version": "1.2.0",
            "grid_template_areas": null,
            "object_position": null,
            "object_fit": null,
            "grid_auto_columns": null,
            "margin": null,
            "display": null,
            "left": null
          }
        },
        "59c565a3163245098b9e55dc104f7a0d": {
          "model_module": "@jupyter-widgets/controls",
          "model_name": "HTMLModel",
          "state": {
            "_view_name": "HTMLView",
            "style": "IPY_MODEL_6e35b1de403e413097d1b75c5003a325",
            "_dom_classes": [],
            "description": "",
            "_model_name": "HTMLModel",
            "placeholder": "​",
            "_view_module": "@jupyter-widgets/controls",
            "_model_module_version": "1.5.0",
            "value": "  3%",
            "_view_count": null,
            "_view_module_version": "1.5.0",
            "description_tooltip": null,
            "_model_module": "@jupyter-widgets/controls",
            "layout": "IPY_MODEL_99895e1b2cf148fa829615781c15fd10"
          }
        },
        "c7b856e693c94c6b84805ff63117a2ab": {
          "model_module": "@jupyter-widgets/controls",
          "model_name": "FloatProgressModel",
          "state": {
            "_view_name": "ProgressView",
            "style": "IPY_MODEL_73d426580800432eb416f35fb8293675",
            "_dom_classes": [],
            "description": "",
            "_model_name": "FloatProgressModel",
            "bar_style": "danger",
            "max": 8064,
            "_view_module": "@jupyter-widgets/controls",
            "_model_module_version": "1.5.0",
            "value": 274,
            "_view_count": null,
            "_view_module_version": "1.5.0",
            "orientation": "horizontal",
            "min": 0,
            "description_tooltip": null,
            "_model_module": "@jupyter-widgets/controls",
            "layout": "IPY_MODEL_80368c4ab58a46d9a3c3045de6c1847f"
          }
        },
        "787483138e294b969d9c50a0aba28f82": {
          "model_module": "@jupyter-widgets/controls",
          "model_name": "HTMLModel",
          "state": {
            "_view_name": "HTMLView",
            "style": "IPY_MODEL_cbb19435f2f147d4ba9b7dd824278b2f",
            "_dom_classes": [],
            "description": "",
            "_model_name": "HTMLModel",
            "placeholder": "​",
            "_view_module": "@jupyter-widgets/controls",
            "_model_module_version": "1.5.0",
            "value": " 274/8064 [31:52&lt;15:06:04,  6.98s/it]",
            "_view_count": null,
            "_view_module_version": "1.5.0",
            "description_tooltip": null,
            "_model_module": "@jupyter-widgets/controls",
            "layout": "IPY_MODEL_ed03fd61d008480b8c9bc7868d053eb2"
          }
        },
        "6e35b1de403e413097d1b75c5003a325": {
          "model_module": "@jupyter-widgets/controls",
          "model_name": "DescriptionStyleModel",
          "state": {
            "_view_name": "StyleView",
            "_model_name": "DescriptionStyleModel",
            "description_width": "",
            "_view_module": "@jupyter-widgets/base",
            "_model_module_version": "1.5.0",
            "_view_count": null,
            "_view_module_version": "1.2.0",
            "_model_module": "@jupyter-widgets/controls"
          }
        },
        "99895e1b2cf148fa829615781c15fd10": {
          "model_module": "@jupyter-widgets/base",
          "model_name": "LayoutModel",
          "state": {
            "_view_name": "LayoutView",
            "grid_template_rows": null,
            "right": null,
            "justify_content": null,
            "_view_module": "@jupyter-widgets/base",
            "overflow": null,
            "_model_module_version": "1.2.0",
            "_view_count": null,
            "flex_flow": null,
            "width": null,
            "min_width": null,
            "border": null,
            "align_items": null,
            "bottom": null,
            "_model_module": "@jupyter-widgets/base",
            "top": null,
            "grid_column": null,
            "overflow_y": null,
            "overflow_x": null,
            "grid_auto_flow": null,
            "grid_area": null,
            "grid_template_columns": null,
            "flex": null,
            "_model_name": "LayoutModel",
            "justify_items": null,
            "grid_row": null,
            "max_height": null,
            "align_content": null,
            "visibility": null,
            "align_self": null,
            "height": null,
            "min_height": null,
            "padding": null,
            "grid_auto_rows": null,
            "grid_gap": null,
            "max_width": null,
            "order": null,
            "_view_module_version": "1.2.0",
            "grid_template_areas": null,
            "object_position": null,
            "object_fit": null,
            "grid_auto_columns": null,
            "margin": null,
            "display": null,
            "left": null
          }
        },
        "73d426580800432eb416f35fb8293675": {
          "model_module": "@jupyter-widgets/controls",
          "model_name": "ProgressStyleModel",
          "state": {
            "_view_name": "StyleView",
            "_model_name": "ProgressStyleModel",
            "description_width": "",
            "_view_module": "@jupyter-widgets/base",
            "_model_module_version": "1.5.0",
            "_view_count": null,
            "_view_module_version": "1.2.0",
            "bar_color": null,
            "_model_module": "@jupyter-widgets/controls"
          }
        },
        "80368c4ab58a46d9a3c3045de6c1847f": {
          "model_module": "@jupyter-widgets/base",
          "model_name": "LayoutModel",
          "state": {
            "_view_name": "LayoutView",
            "grid_template_rows": null,
            "right": null,
            "justify_content": null,
            "_view_module": "@jupyter-widgets/base",
            "overflow": null,
            "_model_module_version": "1.2.0",
            "_view_count": null,
            "flex_flow": null,
            "width": null,
            "min_width": null,
            "border": null,
            "align_items": null,
            "bottom": null,
            "_model_module": "@jupyter-widgets/base",
            "top": null,
            "grid_column": null,
            "overflow_y": null,
            "overflow_x": null,
            "grid_auto_flow": null,
            "grid_area": null,
            "grid_template_columns": null,
            "flex": null,
            "_model_name": "LayoutModel",
            "justify_items": null,
            "grid_row": null,
            "max_height": null,
            "align_content": null,
            "visibility": null,
            "align_self": null,
            "height": null,
            "min_height": null,
            "padding": null,
            "grid_auto_rows": null,
            "grid_gap": null,
            "max_width": null,
            "order": null,
            "_view_module_version": "1.2.0",
            "grid_template_areas": null,
            "object_position": null,
            "object_fit": null,
            "grid_auto_columns": null,
            "margin": null,
            "display": null,
            "left": null
          }
        },
        "cbb19435f2f147d4ba9b7dd824278b2f": {
          "model_module": "@jupyter-widgets/controls",
          "model_name": "DescriptionStyleModel",
          "state": {
            "_view_name": "StyleView",
            "_model_name": "DescriptionStyleModel",
            "description_width": "",
            "_view_module": "@jupyter-widgets/base",
            "_model_module_version": "1.5.0",
            "_view_count": null,
            "_view_module_version": "1.2.0",
            "_model_module": "@jupyter-widgets/controls"
          }
        },
        "ed03fd61d008480b8c9bc7868d053eb2": {
          "model_module": "@jupyter-widgets/base",
          "model_name": "LayoutModel",
          "state": {
            "_view_name": "LayoutView",
            "grid_template_rows": null,
            "right": null,
            "justify_content": null,
            "_view_module": "@jupyter-widgets/base",
            "overflow": null,
            "_model_module_version": "1.2.0",
            "_view_count": null,
            "flex_flow": null,
            "width": null,
            "min_width": null,
            "border": null,
            "align_items": null,
            "bottom": null,
            "_model_module": "@jupyter-widgets/base",
            "top": null,
            "grid_column": null,
            "overflow_y": null,
            "overflow_x": null,
            "grid_auto_flow": null,
            "grid_area": null,
            "grid_template_columns": null,
            "flex": null,
            "_model_name": "LayoutModel",
            "justify_items": null,
            "grid_row": null,
            "max_height": null,
            "align_content": null,
            "visibility": null,
            "align_self": null,
            "height": null,
            "min_height": null,
            "padding": null,
            "grid_auto_rows": null,
            "grid_gap": null,
            "max_width": null,
            "order": null,
            "_view_module_version": "1.2.0",
            "grid_template_areas": null,
            "object_position": null,
            "object_fit": null,
            "grid_auto_columns": null,
            "margin": null,
            "display": null,
            "left": null
          }
        },
        "b951cc7b4b7f44d69e8e065ccca3e7cd": {
          "model_module": "@jupyter-widgets/controls",
          "model_name": "HBoxModel",
          "state": {
            "_view_name": "HBoxView",
            "_dom_classes": [],
            "_model_name": "HBoxModel",
            "_view_module": "@jupyter-widgets/controls",
            "_model_module_version": "1.5.0",
            "_view_count": null,
            "_view_module_version": "1.5.0",
            "box_style": "",
            "layout": "IPY_MODEL_6927328f882d438083024d28722ed258",
            "_model_module": "@jupyter-widgets/controls",
            "children": [
              "IPY_MODEL_ed6ae79fadff45a9a630efda707461e5",
              "IPY_MODEL_cb3c5d029a9c4494a3f92878342fe440",
              "IPY_MODEL_9a77349f32fd44e48935aaaf46306b7f"
            ]
          }
        },
        "6927328f882d438083024d28722ed258": {
          "model_module": "@jupyter-widgets/base",
          "model_name": "LayoutModel",
          "state": {
            "_view_name": "LayoutView",
            "grid_template_rows": null,
            "right": null,
            "justify_content": null,
            "_view_module": "@jupyter-widgets/base",
            "overflow": null,
            "_model_module_version": "1.2.0",
            "_view_count": null,
            "flex_flow": null,
            "width": null,
            "min_width": null,
            "border": null,
            "align_items": null,
            "bottom": null,
            "_model_module": "@jupyter-widgets/base",
            "top": null,
            "grid_column": null,
            "overflow_y": null,
            "overflow_x": null,
            "grid_auto_flow": null,
            "grid_area": null,
            "grid_template_columns": null,
            "flex": null,
            "_model_name": "LayoutModel",
            "justify_items": null,
            "grid_row": null,
            "max_height": null,
            "align_content": null,
            "visibility": null,
            "align_self": null,
            "height": null,
            "min_height": null,
            "padding": null,
            "grid_auto_rows": null,
            "grid_gap": null,
            "max_width": null,
            "order": null,
            "_view_module_version": "1.2.0",
            "grid_template_areas": null,
            "object_position": null,
            "object_fit": null,
            "grid_auto_columns": null,
            "margin": null,
            "display": null,
            "left": null
          }
        },
        "ed6ae79fadff45a9a630efda707461e5": {
          "model_module": "@jupyter-widgets/controls",
          "model_name": "HTMLModel",
          "state": {
            "_view_name": "HTMLView",
            "style": "IPY_MODEL_fd1b5bda2ed74566ae1dffbd2af48b0a",
            "_dom_classes": [],
            "description": "",
            "_model_name": "HTMLModel",
            "placeholder": "​",
            "_view_module": "@jupyter-widgets/controls",
            "_model_module_version": "1.5.0",
            "value": " 10%",
            "_view_count": null,
            "_view_module_version": "1.5.0",
            "description_tooltip": null,
            "_model_module": "@jupyter-widgets/controls",
            "layout": "IPY_MODEL_7ccead51ca814da594973dadc404060b"
          }
        },
        "cb3c5d029a9c4494a3f92878342fe440": {
          "model_module": "@jupyter-widgets/controls",
          "model_name": "FloatProgressModel",
          "state": {
            "_view_name": "ProgressView",
            "style": "IPY_MODEL_f52343404ae4414f83e3720b1292c7ff",
            "_dom_classes": [],
            "description": "",
            "_model_name": "FloatProgressModel",
            "bar_style": "danger",
            "max": 8064,
            "_view_module": "@jupyter-widgets/controls",
            "_model_module_version": "1.5.0",
            "value": 813,
            "_view_count": null,
            "_view_module_version": "1.5.0",
            "orientation": "horizontal",
            "min": 0,
            "description_tooltip": null,
            "_model_module": "@jupyter-widgets/controls",
            "layout": "IPY_MODEL_b6a61e04a9464173aab205f2f9c74fb1"
          }
        },
        "9a77349f32fd44e48935aaaf46306b7f": {
          "model_module": "@jupyter-widgets/controls",
          "model_name": "HTMLModel",
          "state": {
            "_view_name": "HTMLView",
            "style": "IPY_MODEL_8197f94c46b34d94bfdf14fcafc9c7d2",
            "_dom_classes": [],
            "description": "",
            "_model_name": "HTMLModel",
            "placeholder": "​",
            "_view_module": "@jupyter-widgets/controls",
            "_model_module_version": "1.5.0",
            "value": " 813/8064 [00:18&lt;02:48, 42.91it/s]",
            "_view_count": null,
            "_view_module_version": "1.5.0",
            "description_tooltip": null,
            "_model_module": "@jupyter-widgets/controls",
            "layout": "IPY_MODEL_c1fc0f532b984a94b929766efaba1707"
          }
        },
        "fd1b5bda2ed74566ae1dffbd2af48b0a": {
          "model_module": "@jupyter-widgets/controls",
          "model_name": "DescriptionStyleModel",
          "state": {
            "_view_name": "StyleView",
            "_model_name": "DescriptionStyleModel",
            "description_width": "",
            "_view_module": "@jupyter-widgets/base",
            "_model_module_version": "1.5.0",
            "_view_count": null,
            "_view_module_version": "1.2.0",
            "_model_module": "@jupyter-widgets/controls"
          }
        },
        "7ccead51ca814da594973dadc404060b": {
          "model_module": "@jupyter-widgets/base",
          "model_name": "LayoutModel",
          "state": {
            "_view_name": "LayoutView",
            "grid_template_rows": null,
            "right": null,
            "justify_content": null,
            "_view_module": "@jupyter-widgets/base",
            "overflow": null,
            "_model_module_version": "1.2.0",
            "_view_count": null,
            "flex_flow": null,
            "width": null,
            "min_width": null,
            "border": null,
            "align_items": null,
            "bottom": null,
            "_model_module": "@jupyter-widgets/base",
            "top": null,
            "grid_column": null,
            "overflow_y": null,
            "overflow_x": null,
            "grid_auto_flow": null,
            "grid_area": null,
            "grid_template_columns": null,
            "flex": null,
            "_model_name": "LayoutModel",
            "justify_items": null,
            "grid_row": null,
            "max_height": null,
            "align_content": null,
            "visibility": null,
            "align_self": null,
            "height": null,
            "min_height": null,
            "padding": null,
            "grid_auto_rows": null,
            "grid_gap": null,
            "max_width": null,
            "order": null,
            "_view_module_version": "1.2.0",
            "grid_template_areas": null,
            "object_position": null,
            "object_fit": null,
            "grid_auto_columns": null,
            "margin": null,
            "display": null,
            "left": null
          }
        },
        "f52343404ae4414f83e3720b1292c7ff": {
          "model_module": "@jupyter-widgets/controls",
          "model_name": "ProgressStyleModel",
          "state": {
            "_view_name": "StyleView",
            "_model_name": "ProgressStyleModel",
            "description_width": "",
            "_view_module": "@jupyter-widgets/base",
            "_model_module_version": "1.5.0",
            "_view_count": null,
            "_view_module_version": "1.2.0",
            "bar_color": null,
            "_model_module": "@jupyter-widgets/controls"
          }
        },
        "b6a61e04a9464173aab205f2f9c74fb1": {
          "model_module": "@jupyter-widgets/base",
          "model_name": "LayoutModel",
          "state": {
            "_view_name": "LayoutView",
            "grid_template_rows": null,
            "right": null,
            "justify_content": null,
            "_view_module": "@jupyter-widgets/base",
            "overflow": null,
            "_model_module_version": "1.2.0",
            "_view_count": null,
            "flex_flow": null,
            "width": null,
            "min_width": null,
            "border": null,
            "align_items": null,
            "bottom": null,
            "_model_module": "@jupyter-widgets/base",
            "top": null,
            "grid_column": null,
            "overflow_y": null,
            "overflow_x": null,
            "grid_auto_flow": null,
            "grid_area": null,
            "grid_template_columns": null,
            "flex": null,
            "_model_name": "LayoutModel",
            "justify_items": null,
            "grid_row": null,
            "max_height": null,
            "align_content": null,
            "visibility": null,
            "align_self": null,
            "height": null,
            "min_height": null,
            "padding": null,
            "grid_auto_rows": null,
            "grid_gap": null,
            "max_width": null,
            "order": null,
            "_view_module_version": "1.2.0",
            "grid_template_areas": null,
            "object_position": null,
            "object_fit": null,
            "grid_auto_columns": null,
            "margin": null,
            "display": null,
            "left": null
          }
        },
        "8197f94c46b34d94bfdf14fcafc9c7d2": {
          "model_module": "@jupyter-widgets/controls",
          "model_name": "DescriptionStyleModel",
          "state": {
            "_view_name": "StyleView",
            "_model_name": "DescriptionStyleModel",
            "description_width": "",
            "_view_module": "@jupyter-widgets/base",
            "_model_module_version": "1.5.0",
            "_view_count": null,
            "_view_module_version": "1.2.0",
            "_model_module": "@jupyter-widgets/controls"
          }
        },
        "c1fc0f532b984a94b929766efaba1707": {
          "model_module": "@jupyter-widgets/base",
          "model_name": "LayoutModel",
          "state": {
            "_view_name": "LayoutView",
            "grid_template_rows": null,
            "right": null,
            "justify_content": null,
            "_view_module": "@jupyter-widgets/base",
            "overflow": null,
            "_model_module_version": "1.2.0",
            "_view_count": null,
            "flex_flow": null,
            "width": null,
            "min_width": null,
            "border": null,
            "align_items": null,
            "bottom": null,
            "_model_module": "@jupyter-widgets/base",
            "top": null,
            "grid_column": null,
            "overflow_y": null,
            "overflow_x": null,
            "grid_auto_flow": null,
            "grid_area": null,
            "grid_template_columns": null,
            "flex": null,
            "_model_name": "LayoutModel",
            "justify_items": null,
            "grid_row": null,
            "max_height": null,
            "align_content": null,
            "visibility": null,
            "align_self": null,
            "height": null,
            "min_height": null,
            "padding": null,
            "grid_auto_rows": null,
            "grid_gap": null,
            "max_width": null,
            "order": null,
            "_view_module_version": "1.2.0",
            "grid_template_areas": null,
            "object_position": null,
            "object_fit": null,
            "grid_auto_columns": null,
            "margin": null,
            "display": null,
            "left": null
          }
        }
      }
    },
    "accelerator": "GPU"
  },
  "cells": [
    {
      "cell_type": "markdown",
      "metadata": {
        "id": "view-in-github",
        "colab_type": "text"
      },
      "source": [
        "<a href=\"https://colab.research.google.com/github/jmontalvo94/02456_l2rpn/blob/main/DQN_playground_emil.ipynb\" target=\"_parent\"><img src=\"https://colab.research.google.com/assets/colab-badge.svg\" alt=\"Open In Colab\"/></a>"
      ]
    },
    {
      "cell_type": "code",
      "metadata": {
        "colab": {
          "base_uri": "https://localhost:8080/"
        },
        "id": "nokYs8Dam7P1",
        "outputId": "5c9435b6-bafa-403a-8994-b08be773b5ed"
      },
      "source": [
        "# Use this code if pull commands does not work\n",
        "%rm -rf /content/drive/My\\ Drive/Colab\\ Notebooks/DEEP_LEARNING_DTU/project/\\02456_l2rpn/\n",
        "%cd /content/drive/My\\ Drive/Colab\\ Notebooks/DEEP_LEARNING_DTU/project/\n",
        "!git clone https://github.com/jmontalvo94/02456_l2rpn.git\n",
        "#!git pull"
      ],
      "execution_count": 5,
      "outputs": [
        {
          "output_type": "stream",
          "text": [
            "/content/drive/My Drive/Colab Notebooks/DEEP_LEARNING_DTU/project/02456_l2rpn\n",
            "remote: Enumerating objects: 5, done.\u001b[K\n",
            "remote: Counting objects: 100% (5/5), done.\u001b[K\n",
            "remote: Compressing objects: 100% (1/1), done.\u001b[K\n",
            "remote: Total 3 (delta 2), reused 3 (delta 2), pack-reused 0\u001b[K\n",
            "Unpacking objects: 100% (3/3), done.\n",
            "From https://github.com/jmontalvo94/02456_l2rpn\n",
            "   5df8195..57fe4f7  main       -> origin/main\n",
            "Updating 5df8195..57fe4f7\n",
            "Fast-forward\n",
            " agent_emil.py | 2 \u001b[32m++\u001b[m\n",
            " 1 file changed, 2 insertions(+)\n"
          ],
          "name": "stdout"
        }
      ]
    },
    {
      "cell_type": "code",
      "metadata": {
        "colab": {
          "base_uri": "https://localhost:8080/"
        },
        "id": "CCzLfGVkpubI",
        "outputId": "5da68672-c345-4e41-cc50-d76283c70ac1"
      },
      "source": [
        "!git pull"
      ],
      "execution_count": 9,
      "outputs": [
        {
          "output_type": "stream",
          "text": [
            "remote: Enumerating objects: 5, done.\u001b[K\n",
            "remote: Counting objects:  20% (1/5)\u001b[K\rremote: Counting objects:  40% (2/5)\u001b[K\rremote: Counting objects:  60% (3/5)\u001b[K\rremote: Counting objects:  80% (4/5)\u001b[K\rremote: Counting objects: 100% (5/5)\u001b[K\rremote: Counting objects: 100% (5/5), done.\u001b[K\n",
            "remote: Compressing objects: 100% (1/1)\u001b[K\rremote: Compressing objects: 100% (1/1), done.\u001b[K\n",
            "remote: Total 3 (delta 2), reused 3 (delta 2), pack-reused 0\u001b[K\n",
            "Unpacking objects:  33% (1/3)   \rUnpacking objects:  66% (2/3)   \rUnpacking objects: 100% (3/3)   \rUnpacking objects: 100% (3/3), done.\n",
            "From https://github.com/jmontalvo94/02456_l2rpn\n",
            "   57fe4f7..b85e4f7  main       -> origin/main\n",
            "Updating 57fe4f7..b85e4f7\n",
            "Fast-forward\n",
            " agent_emil.py | 2 \u001b[32m+\u001b[m\u001b[31m-\u001b[m\n",
            " 1 file changed, 1 insertion(+), 1 deletion(-)\n"
          ],
          "name": "stdout"
        }
      ]
    },
    {
      "cell_type": "code",
      "metadata": {
        "id": "12yOFgca_XJ6",
        "colab": {
          "base_uri": "https://localhost:8080/"
        },
        "outputId": "856c0f10-2e16-4611-f096-4415363d41a2"
      },
      "source": [
        "%cd /content/drive/My\\ Drive/Colab\\ Notebooks/DEEP_LEARNING_DTU/project/\\02456_l2rpn/\n",
        "\n",
        "!pip install grid2op\n",
        "\n",
        "import agent_emil as agent \n",
        "import grid2op\n",
        "import re\n",
        "import numpy as np\n",
        "import pandas as pd\n",
        "import matplotlib.pyplot as plt\n",
        "from grid2op.Chronics import GridStateFromFileWithForecasts\n",
        "from grid2op.Agent import DoNothingAgent,RandomAgent,PowerLineSwitch,AgentWithConverter\n",
        "from grid2op.Action import DontAct,PowerlineChangeAction\n",
        "from grid2op.PlotGrid import PlotMatplot\n",
        "from tqdm.notebook import tqdm "
      ],
      "execution_count": 1,
      "outputs": [
        {
          "output_type": "stream",
          "text": [
            "/content/drive/My Drive/Colab Notebooks/DEEP_LEARNING_DTU/project/02456_l2rpn\n",
            "Requirement already satisfied: grid2op in /usr/local/lib/python3.6/dist-packages (1.3.1)\n",
            "Requirement already satisfied: tqdm>=4.45.0 in /usr/local/lib/python3.6/dist-packages (from grid2op) (4.53.0)\n",
            "Requirement already satisfied: networkx>=2.4 in /usr/local/lib/python3.6/dist-packages (from grid2op) (2.5)\n",
            "Requirement already satisfied: requests>=2.23.0 in /usr/local/lib/python3.6/dist-packages (from grid2op) (2.23.0)\n",
            "Requirement already satisfied: scipy>=1.4.1 in /usr/local/lib/python3.6/dist-packages (from grid2op) (1.4.1)\n",
            "Requirement already satisfied: numpy>=1.18.3 in /usr/local/lib/python3.6/dist-packages (from grid2op) (1.18.5)\n",
            "Requirement already satisfied: pandas>=1.0.3 in /usr/local/lib/python3.6/dist-packages (from grid2op) (1.1.4)\n",
            "Requirement already satisfied: pandapower>=2.2.2 in /usr/local/lib/python3.6/dist-packages (from grid2op) (2.4.0)\n",
            "Requirement already satisfied: pathlib>=1.0.1 in /usr/local/lib/python3.6/dist-packages (from grid2op) (1.0.1)\n",
            "Requirement already satisfied: decorator>=4.3.0 in /usr/local/lib/python3.6/dist-packages (from networkx>=2.4->grid2op) (4.4.2)\n",
            "Requirement already satisfied: urllib3!=1.25.0,!=1.25.1,<1.26,>=1.21.1 in /usr/local/lib/python3.6/dist-packages (from requests>=2.23.0->grid2op) (1.24.3)\n",
            "Requirement already satisfied: idna<3,>=2.5 in /usr/local/lib/python3.6/dist-packages (from requests>=2.23.0->grid2op) (2.10)\n",
            "Requirement already satisfied: certifi>=2017.4.17 in /usr/local/lib/python3.6/dist-packages (from requests>=2.23.0->grid2op) (2020.6.20)\n",
            "Requirement already satisfied: chardet<4,>=3.0.2 in /usr/local/lib/python3.6/dist-packages (from requests>=2.23.0->grid2op) (3.0.4)\n",
            "Requirement already satisfied: python-dateutil>=2.7.3 in /usr/local/lib/python3.6/dist-packages (from pandas>=1.0.3->grid2op) (2.8.1)\n",
            "Requirement already satisfied: pytz>=2017.2 in /usr/local/lib/python3.6/dist-packages (from pandas>=1.0.3->grid2op) (2018.9)\n",
            "Requirement already satisfied: packaging in /usr/local/lib/python3.6/dist-packages (from pandapower>=2.2.2->grid2op) (20.4)\n",
            "Requirement already satisfied: xlrd in /usr/local/lib/python3.6/dist-packages (from pandapower>=2.2.2->grid2op) (1.1.0)\n",
            "Requirement already satisfied: xlsxwriter in /usr/local/lib/python3.6/dist-packages (from pandapower>=2.2.2->grid2op) (1.3.7)\n",
            "Requirement already satisfied: cryptography in /usr/local/lib/python3.6/dist-packages (from pandapower>=2.2.2->grid2op) (3.2.1)\n",
            "Requirement already satisfied: six>=1.5 in /usr/local/lib/python3.6/dist-packages (from python-dateutil>=2.7.3->pandas>=1.0.3->grid2op) (1.15.0)\n",
            "Requirement already satisfied: pyparsing>=2.0.2 in /usr/local/lib/python3.6/dist-packages (from packaging->pandapower>=2.2.2->grid2op) (2.4.7)\n",
            "Requirement already satisfied: cffi!=1.11.3,>=1.8 in /usr/local/lib/python3.6/dist-packages (from cryptography->pandapower>=2.2.2->grid2op) (1.14.3)\n",
            "Requirement already satisfied: pycparser in /usr/local/lib/python3.6/dist-packages (from cffi!=1.11.3,>=1.8->cryptography->pandapower>=2.2.2->grid2op) (2.20)\n"
          ],
          "name": "stdout"
        }
      ]
    },
    {
      "cell_type": "markdown",
      "metadata": {
        "id": "4gkYjnRfJHm_"
      },
      "source": [
        "# CREATE ENVIROMENT"
      ]
    },
    {
      "cell_type": "code",
      "metadata": {
        "id": "2aDnlLjJJKwx"
      },
      "source": [
        "env = grid2op.make('rte_case14_realistic',\n",
        "                   action_class=PowerlineChangeAction)"
      ],
      "execution_count": 2,
      "outputs": []
    },
    {
      "cell_type": "markdown",
      "metadata": {
        "id": "-xSw0pzHJOdn"
      },
      "source": [
        "# PRE-BUILT AGENT: DO NOTHING AGENT"
      ]
    },
    {
      "cell_type": "code",
      "metadata": {
        "id": "jrDcuB7_zvuO",
        "colab": {
          "base_uri": "https://localhost:8080/",
          "height": 82,
          "referenced_widgets": [
            "083f01f122374056bd497c2f90ebe30a",
            "ba111174985d4ebfb07b4c8fe7d6a4f7",
            "a8b13a60a1ea45d682d0fe5ab11fcfb9",
            "51de618974f9461e88b0dc7a56a31696",
            "1e51d7cf2e7d408d8fc51622d8823395",
            "ef7385f3fc974fb39647f97ffbdf3e8f",
            "72e4b61c786943039f7a7d473bbaabbd",
            "da26891acd6946adbd7240dfba08daef",
            "f47fc39cdbed4a06be3c878a1cc54786",
            "ab512c24d0184bf78e95132d6a2f8a01",
            "2ce445f1a81d41f1aff0141113abe7a7"
          ]
        },
        "outputId": "8ebe87b6-1a0f-4528-812f-9ee0516ee915"
      },
      "source": [
        "my_agent = DoNothingAgent(env.action_space)\n",
        "all_obs = []\n",
        "obs = env.reset()\n",
        "all_obs.append(obs)\n",
        "reward = env.reward_range[0]\n",
        "reward_list = []\n",
        "done = False\n",
        "nb_step = 0\n",
        "print(\"Do Nothing Agent Simulation\")\n",
        "with tqdm(total=env.chronics_handler.max_timestep()) as pbar:\n",
        "    while True:\n",
        "        action = my_agent.act(obs, reward, done)\n",
        "        obs, reward, done, _ = env.step(action)\n",
        "        reward_list.append(reward)\n",
        "        pbar.update(1)\n",
        "        if done:\n",
        "            break\n",
        "        all_obs.append(obs)\n",
        "        nb_step += 1\n",
        "\n",
        "reward_list_do_nothing_agent = np.copy(reward_list)\n"
      ],
      "execution_count": 4,
      "outputs": [
        {
          "output_type": "stream",
          "text": [
            "Do Nothing Agent Simulation\n"
          ],
          "name": "stdout"
        },
        {
          "output_type": "display_data",
          "data": {
            "application/vnd.jupyter.widget-view+json": {
              "model_id": "083f01f122374056bd497c2f90ebe30a",
              "version_minor": 0,
              "version_major": 2
            },
            "text/plain": [
              "HBox(children=(HTML(value=''), FloatProgress(value=0.0, max=8064.0), HTML(value='')))"
            ]
          },
          "metadata": {
            "tags": []
          }
        },
        {
          "output_type": "stream",
          "text": [
            "\n"
          ],
          "name": "stdout"
        }
      ]
    },
    {
      "cell_type": "markdown",
      "metadata": {
        "id": "Yuzy6V3dLeBh"
      },
      "source": [
        "# PRE-BUILT AGENT: RANDOM ACTION AGENT"
      ]
    },
    {
      "cell_type": "code",
      "metadata": {
        "id": "PdiVQrzC1rf8",
        "colab": {
          "base_uri": "https://localhost:8080/",
          "height": 82,
          "referenced_widgets": [
            "b609548ced4a4d16b2210f8db03daf47",
            "17247f6be96348f9a6caebbedea37707",
            "184e38c2e2e1448e97f3399df7abb1e9",
            "a07c8c4d643d401e982a7482dd493b9e",
            "fc68aacde372476cb6e6ecaf0467443e",
            "c33fae95ed9842eeaa4a833f5fd3cd0a",
            "9ef0dff8af2b4eddb105d132523cab66",
            "e38f0c73c42048dfb38357225ab40fbd",
            "a68fe26e3d174096b4217b83965f4b4a",
            "39e2713ed2c4414f89b4814b65335428",
            "8d63a81bce584c3c856e4a3a9591843c"
          ]
        },
        "outputId": "5b1685cc-ad0a-4391-f356-cff29c6f56bb"
      },
      "source": [
        "my_agent = RandomAgent(env.action_space)\n",
        "all_obs = []\n",
        "obs = env.reset()\n",
        "all_obs.append(obs)\n",
        "reward = env.reward_range[0]\n",
        "reward_list = []\n",
        "done = False\n",
        "nb_step = 0\n",
        "print(\"Random Agent Simulation\")\n",
        "with tqdm(total=env.chronics_handler.max_timestep()) as pbar:\n",
        "    while True:\n",
        "        action = my_agent.act(obs, reward, done)\n",
        "        obs, reward, done, _ = env.step(action)\n",
        "        reward_list.append(reward)\n",
        "        pbar.update(1)\n",
        "        if done:\n",
        "            break\n",
        "        all_obs.append(obs)\n",
        "        nb_step += 1\n",
        "\n",
        "reward_list_random_agent = np.copy(reward_list)\n"
      ],
      "execution_count": 5,
      "outputs": [
        {
          "output_type": "stream",
          "text": [
            "Random Agent Simulation\n"
          ],
          "name": "stdout"
        },
        {
          "output_type": "display_data",
          "data": {
            "application/vnd.jupyter.widget-view+json": {
              "model_id": "b609548ced4a4d16b2210f8db03daf47",
              "version_minor": 0,
              "version_major": 2
            },
            "text/plain": [
              "HBox(children=(HTML(value=''), FloatProgress(value=0.0, max=8064.0), HTML(value='')))"
            ]
          },
          "metadata": {
            "tags": []
          }
        },
        {
          "output_type": "stream",
          "text": [
            "\n"
          ],
          "name": "stdout"
        }
      ]
    },
    {
      "cell_type": "markdown",
      "metadata": {
        "id": "DkG0bNV2LgDj"
      },
      "source": [
        "# PRE-BUILT AGENT: POWER SWITCH AGENT"
      ]
    },
    {
      "cell_type": "code",
      "metadata": {
        "id": "ODbKAS9y3I4r",
        "colab": {
          "base_uri": "https://localhost:8080/",
          "height": 82,
          "referenced_widgets": [
            "f7c535c86f1946bab585b5d96b153722",
            "5812ed4d08c74ee99ca97ccd533ce4b3",
            "59c565a3163245098b9e55dc104f7a0d",
            "c7b856e693c94c6b84805ff63117a2ab",
            "787483138e294b969d9c50a0aba28f82",
            "6e35b1de403e413097d1b75c5003a325",
            "99895e1b2cf148fa829615781c15fd10",
            "73d426580800432eb416f35fb8293675",
            "80368c4ab58a46d9a3c3045de6c1847f",
            "cbb19435f2f147d4ba9b7dd824278b2f",
            "ed03fd61d008480b8c9bc7868d053eb2"
          ]
        },
        "outputId": "6a511bf6-50b3-488d-8b51-e7e0e692677e"
      },
      "source": [
        "env_all_actions_available = grid2op.make('rte_case14_realistic')\n",
        "my_agent = PowerLineSwitch(env_all_actions_available.action_space)\n",
        "all_obs = []\n",
        "obs = env_all_actions_available.reset()\n",
        "all_obs.append(obs)\n",
        "reward = env_all_actions_available.reward_range[0]\n",
        "reward_list = []\n",
        "done = False\n",
        "nb_step = 0\n",
        "print(\"Power Line Switch Agent Simulation\")\n",
        "with tqdm(total=env_all_actions_available.chronics_handler.max_timestep()) as pbar:\n",
        "    while True:\n",
        "        action = my_agent.act(obs, reward, done)\n",
        "        obs, reward, done, _ = env_all_actions_available.step(action)\n",
        "        reward_list.append(reward)\n",
        "        pbar.update(1)\n",
        "        if done:\n",
        "            break\n",
        "        all_obs.append(obs)\n",
        "        nb_step += 1\n",
        "\n",
        "reward_power_line_switch_agent = np.copy(reward_list)\n"
      ],
      "execution_count": 6,
      "outputs": [
        {
          "output_type": "stream",
          "text": [
            "Power Line Switch Agent Simulation\n"
          ],
          "name": "stdout"
        },
        {
          "output_type": "display_data",
          "data": {
            "application/vnd.jupyter.widget-view+json": {
              "model_id": "f7c535c86f1946bab585b5d96b153722",
              "version_minor": 0,
              "version_major": 2
            },
            "text/plain": [
              "HBox(children=(HTML(value=''), FloatProgress(value=0.0, max=8064.0), HTML(value='')))"
            ]
          },
          "metadata": {
            "tags": []
          }
        },
        {
          "output_type": "stream",
          "text": [
            "\n"
          ],
          "name": "stdout"
        }
      ]
    },
    {
      "cell_type": "markdown",
      "metadata": {
        "id": "csrcnm9ALjRA"
      },
      "source": [
        "# GRAPHICAL COMPARISON OF PRE-BUILT AGENTS"
      ]
    },
    {
      "cell_type": "code",
      "metadata": {
        "id": "FncvWlavL5bx",
        "colab": {
          "base_uri": "https://localhost:8080/",
          "height": 369
        },
        "outputId": "45640fdc-eb11-4b2e-edf2-e0418c705720"
      },
      "source": [
        "import seaborn as sns\n",
        "import matplotlib.pyplot as plt\n",
        "\n",
        "nested_lists = [reward_list_do_nothing_agent,reward_list_random_agent,reward_power_line_switch_agent]\n",
        "lists_to_df  = []\n",
        "\n",
        "for nested_list in  nested_lists:\n",
        "  len_list = len(nested_list)\n",
        "  final_value = nested_list[-1]\n",
        "  list_ = np.repeat(final_value,env.chronics_handler.max_timestep())\n",
        "  list_[:len_list] = nested_list\n",
        "  lists_to_df.append(list_)\n",
        "\n",
        "df_pre_built_agents = pd.DataFrame(lists_to_df)\\\n",
        ".transpose()\\\n",
        ".rename(columns={0:'do_nothing_agent',1:'random_agent',2:'switch_power_line_agent'})\\\n",
        ".stack()\\\n",
        ".reset_index()\\\n",
        ".rename(columns={'level_0':'iteration','level_1':'agent_type',0:'reward'})\n",
        "\n",
        "\n",
        "fig,ax = plt.subplots(1,1,figsize=(7,5))\n",
        "sns.lineplot(x='iteration',y='reward',hue='agent_type',ax=ax,data=df_pre_built_agents)\n",
        "ax.set_xlabel(\"# of iterations\")\n",
        "ax.set_ylabel(\"Reward\")\n",
        "ax.set_title(\"Performance of pre-built grid2op agents\\n(Only action available is powerline switch)\")\n",
        "ax.legend(['Do nothing agent','Random actions agent','Switch Power Line agent'])\n",
        "plt.tight_layout()\n",
        "plt.show()\n",
        "# df_pre_built_agents = pd.DataFrame({'random_agent':reward_list_random_agent,\n",
        "#                                     'power_line_switch_agent':reward_power_line_switch_agent\n",
        "#                                     })\n",
        "# df_pre_built_agents"
      ],
      "execution_count": null,
      "outputs": [
        {
          "output_type": "display_data",
          "data": {
            "image/png": "[encoded data removed]",
            "text/plain": [
              "<Figure size 504x360 with 1 Axes>"
            ]
          },
          "metadata": {
            "tags": [],
            "needs_background": "light"
          }
        }
      ]
    },
    {
      "cell_type": "markdown",
      "metadata": {
        "id": "GgPG0z_DYbL0"
      },
      "source": [
        "# SIMPLE DQN"
      ]
    },
    {
      "cell_type": "code",
      "metadata": {
        "id": "BOD9Rbwea7aQ",
        "colab": {
          "base_uri": "https://localhost:8080/"
        },
        "outputId": "baee5cf5-5e9a-4519-e4b9-08f096548b61"
      },
      "source": [
        "import torch \n",
        "\n",
        "def act_vect_to_act_obj(env, Q_est):\n",
        "  \"\"\"\n",
        "  This function returns a grid2op action object based on the estimated Q-value vector.\n",
        "  It operates as follows:\n",
        "  1. Identifies whether a' (action that maximizes Q function is positive).\n",
        "  2. if a' is non-positive, do nothing action is returned\n",
        "  3. if a' positive a grid2op action with line change of a' is returned.   \n",
        "\n",
        "  Arguments:\n",
        "\n",
        "  env: grid2op enviroment\n",
        "\n",
        "  Q_est: torch array\n",
        "  - Estimated Q-value function \n",
        "\n",
        "  Returns\n",
        "  a: grid2op action object\n",
        "  \"\"\"\n",
        "\n",
        "  ## Fix potential nan values\n",
        "  Q_est[Q_est!=Q_est] = -1\n",
        "  a_argmax = Q_est.argmax()\n",
        "\n",
        "  # Check if a' is above zero\n",
        "  if Q_est.max()>0:\n",
        "    line_id = Q_est.argmax().item()\n",
        "    a = env.action_space({'change_line_status': [line_id]}) # Change line status of line with line_id\n",
        "  else:\n",
        "    a = env.action_space({}) # Do nothing\n",
        "\n",
        "  return a\n",
        "\n",
        "if torch.cuda.is_available(): \n",
        " dev = \"cuda:0\" \n",
        "else: \n",
        " dev = \"cpu\"\n",
        "\n",
        "# num_episodes = 2000\n",
        "# episode_limit = 100\n",
        "# batch_size = 64\n",
        "# learning_rate = 0.005\n",
        "# gamma = 0.99 # discount rate\n",
        "# tau = 0.01 # target network update rate\n",
        "# replay_memory_capacity = 10000\n",
        "# prefill_memory = True\n",
        "# double_dqn = False\n",
        "# val_freq = 100 # validation frequency\n",
        "\n",
        "TRAINING_PARAMS = {\n",
        "    'num_episodes':2000,\n",
        "    'episode_limit':1500,\n",
        "    'batch_size':64,\n",
        "    'replay_memory_capacity':10000,\n",
        "    'prefil_memory':True,\n",
        "    'val_freq':100,\n",
        "    'tau':0.01,\n",
        "    'gamma':0.99,\n",
        "    'double_dqn':False\n",
        "}\n",
        "\n",
        "NN_PARAMS = {\n",
        "    'n_inputs':env.observation_space.n,\n",
        "    'n_outputs':env.action_space.n,\n",
        "    'optimizer':'SGD',\n",
        "    'learning_rate':0.005,\n",
        "    'weight_decay':0.001\n",
        "}\n",
        "\n",
        "# n_inputs = env.observation_space.n\n",
        "# n_outputs = env.action_space.n\n",
        "\n",
        "# initialize DQN and replay memory\n",
        "policy_dqn = agent.DQN(NN_PARAMS)\n",
        "target_dqn = agent.DQN(NN_PARAMS)\n",
        "target_dqn.load_state_dict(policy_dqn.state_dict())\n",
        "\n",
        "# set to cuda if available\n",
        "policy_dqn.to(dev)\n",
        "target_dqn.to(dev)\n",
        "\n",
        "replay_memory = agent.ReplayMemory(TRAINING_PARAMS['replay_memory_capacity'])\n",
        "\n",
        "# prefill replay memory with random actions\n",
        "if TRAINING_PARAMS['prefil_memory']:\n",
        "    print('prefill replay memory')\n",
        "    s = env.reset()\n",
        "    while replay_memory.count() < TRAINING_PARAMS['replay_memory_capacity']:\n",
        "        a = env.action_space.sample()\n",
        "        s1, r, d, _ = env.step(a)\n",
        "        replay_memory.add(s.to_vect(), a.to_vect(), r, s1.to_vect(), d)\n",
        "        s = s1 if not d else env.reset()\n",
        "\n",
        "# Fix issue with replay_memory not saving states and actions as vectors in some cases (legacy)\n",
        "# for i,sample_ in enumerate(replay_memory.memory):\n",
        "#   for j in [0,1,3]:\n",
        "#     try:\n",
        "#       ss_ = sample_[j].to_vect()\n",
        "#       replay_memory[i][j] = ss_\n",
        "#     except:\n",
        "#       pass\n",
        "\n",
        "# training loop\n",
        "try:\n",
        "    print('start training')\n",
        "    epsilon = 1.0\n",
        "    rewards, lengths, losses, epsilons,game_overs = [], [], [], [],[]\n",
        "    for i in range(TRAINING_PARAMS['num_episodes']):\n",
        "        # init new episode\n",
        "        s, ep_reward, ep_loss,ep_game_over = env.reset(), 0, 0,False\n",
        "        for j in range(TRAINING_PARAMS['episode_limit']):\n",
        "            # select action with epsilon-greedy strategy\n",
        "            if np.random.rand() < epsilon:\n",
        "                a = env.action_space.sample()\n",
        "            else:\n",
        "                with torch.no_grad():\n",
        "                    Q_est = policy_dqn(torch.from_numpy(np.array(s.to_vect(),dtype='float32')).to(dev).float())\n",
        "                    a = act_vect_to_act_obj(env,Q_est)                    \n",
        "            # perform action\n",
        "            s1, r, d, _ = env.step(a)\n",
        "            # store experience in replay memory\n",
        "            replay_memory.add(s.to_vect(), a.to_vect(), r, s1.to_vect(), d)\n",
        "            # batch update\n",
        "            if replay_memory.count() >= TRAINING_PARAMS['batch_size']:\n",
        "                # sample batch from replay memory\n",
        "                batch = np.array(replay_memory.sample(TRAINING_PARAMS['batch_size']))\n",
        "                ss, aa, rr, ss1, dd = batch[:,0], batch[:,1], batch[:,2], batch[:,3], batch[:,4]\n",
        "                # do forward pass of batch\n",
        "                policy_dqn.optimizer.zero_grad()\n",
        "                #Q = policy_dqn(torch.from_numpy(one_hot(ss, n_inputs)).float())\n",
        "                Q = policy_dqn(torch.from_numpy(np.array(ss.tolist(),dtype='float32')).to(dev).float())\n",
        "                # use target network to compute target Q-values\n",
        "                with torch.no_grad():\n",
        "                    if TRAINING_PARAMS['double_dqn']:\n",
        "                        Q1 = policy_dqn(torch.from_numpy(np.array(ss1.tolist(),dtype='float32')).to(dev).float())\n",
        "                    else:\n",
        "                        # TODO: use target net\n",
        "                        Q1 = target_dqn(torch.from_numpy(np.array(ss1.tolist(),dtype='float32')).to(dev).float())\n",
        "                # compute target for each sampled experience\n",
        "                q_targets = Q.clone()\n",
        "                for k in range(TRAINING_PARAMS['batch_size']):\n",
        "                    q_targets[k, aa[k]] = rr[k] + TRAINING_PARAMS['gamma'] * Q1[k].max().item() * (not dd[k])\n",
        "                # update network weights\n",
        "                loss = policy_dqn.loss(Q, q_targets)\n",
        "                loss.backward()\n",
        "                policy_dqn.optimizer.step()\n",
        "                # update target network parameters from policy network parameters\n",
        "                target_dqn.update_params(policy_dqn.state_dict(), TRAINING_PARAMS['tau'])\n",
        "            else:\n",
        "                loss = 0\n",
        "            # bookkeeping\n",
        "            s = s1\n",
        "            ep_reward += r\n",
        "            ep_loss += loss.item()\n",
        "            if r==-10:\n",
        "              ep_game_over = True\n",
        "            if d: break\n",
        "        # bookkeeping\n",
        "        epsilon *= TRAINING_PARAMS['num_episodes']/(i/(TRAINING_PARAMS['num_episodes']/20)+TRAINING_PARAMS['num_episodes']) # decrease epsilon\n",
        "        epsilons.append(epsilon); rewards.append(ep_reward); lengths.append(j+1); losses.append(ep_loss);game_overs.append(ep_game_over)\n",
        "        if (i+1) % TRAINING_PARAMS['val_freq'] == 0:\n",
        "          print('%5d mean training reward: %5.2f' % (i+1, np.mean(rewards[-TRAINING_PARAMS['val_freq']:])))\n",
        "          print(f\"{i+1} mean survival rate (not game over): {1-np.mean(game_overs[-TRAINING_PARAMS['val_freq']:])}%\")\n",
        "    print('done')\n",
        "except KeyboardInterrupt:\n",
        "    print('interrupt')\n",
        "\n"
      ],
      "execution_count": null,
      "outputs": [
        {
          "output_type": "stream",
          "text": [
            "prefill replay memory\n",
            "start training\n",
            "  100 mean training reward: 2684.39\n",
            "100 mean survival rate (not game over): 0.0%\n",
            "  200 mean training reward: 2837.69\n",
            "200 mean survival rate (not game over): 0.0%\n",
            "  300 mean training reward: 2959.92\n",
            "300 mean survival rate (not game over): 0.0%\n",
            "  400 mean training reward: 2537.61\n",
            "400 mean survival rate (not game over): 0.0%\n",
            "  500 mean training reward: 2894.98\n",
            "500 mean survival rate (not game over): 0.0%\n",
            "  600 mean training reward: 2851.27\n",
            "600 mean survival rate (not game over): 0.0%\n",
            "  700 mean training reward: 2709.17\n",
            "700 mean survival rate (not game over): 0.0%\n",
            "  800 mean training reward: 3589.67\n",
            "800 mean survival rate (not game over): 0.0%\n",
            "  900 mean training reward: 3404.25\n",
            "900 mean survival rate (not game over): 0.0%\n"
          ],
          "name": "stdout"
        }
      ]
    },
    {
      "cell_type": "code",
      "metadata": {
        "colab": {
          "base_uri": "https://localhost:8080/",
          "height": 640
        },
        "id": "faSoVvbjYroB",
        "outputId": "b213fdfb-c8ba-4a90-d618-edeb3c665994"
      },
      "source": [
        "# plot results\n",
        "def moving_average(a, n=10) :\n",
        "    ret = np.cumsum(a, dtype=float)\n",
        "    ret[n:] = ret[n:] - ret[:-n]\n",
        "    return ret / n\n",
        "\n",
        "plt.figure(figsize=(16, 9))\n",
        "plt.subplot(411)\n",
        "plt.title('training rewards')\n",
        "plt.plot(range(1, TRAINING_PARAMS['num_episodes']+1), rewards)\n",
        "plt.plot(moving_average(rewards))\n",
        "plt.xlim([0, TRAINING_PARAMS['num_episodes']])\n",
        "plt.subplot(412)\n",
        "plt.title('training lengths')\n",
        "plt.plot(range(1, TRAINING_PARAMS['num_episodes']+1), lengths)\n",
        "plt.plot(range(1, TRAINING_PARAMS['num_episodes']+1), moving_average(lengths))\n",
        "plt.xlim([0, TRAINING_PARAMS['num_episodes']])\n",
        "plt.subplot(413)\n",
        "plt.title('training loss')\n",
        "plt.plot(range(1, TRAINING_PARAMS['num_episodes']+1), losses)\n",
        "plt.plot(range(1, TRAINING_PARAMS['num_episodes']+1), moving_average(losses))\n",
        "plt.xlim([0, TRAINING_PARAMS['num_episodes']])\n",
        "plt.subplot(414)\n",
        "plt.title('epsilon')\n",
        "plt.plot(range(1, TRAINING_PARAMS['num_episodes']+1), epsilons)\n",
        "plt.xlim([0, TRAINING_PARAMS['num_episodes']])\n",
        "plt.tight_layout(); plt.show()"
      ],
      "execution_count": 11,
      "outputs": [
        {
          "output_type": "display_data",
          "data": {
            "image/png": "[encoded data removed]",
            "text/plain": [
              "<Figure size 1152x648 with 4 Axes>"
            ]
          },
          "metadata": {
            "tags": [],
            "needs_background": "light"
          }
        }
      ]
    },
    {
      "cell_type": "markdown",
      "metadata": {
        "id": "rNnxDUSYvI5d"
      },
      "source": [
        "# VERY SIMPLE DQN AGENT"
      ]
    },
    {
      "cell_type": "code",
      "metadata": {
        "colab": {
          "base_uri": "https://localhost:8080/",
          "height": 82,
          "referenced_widgets": [
            "b951cc7b4b7f44d69e8e065ccca3e7cd",
            "6927328f882d438083024d28722ed258",
            "ed6ae79fadff45a9a630efda707461e5",
            "cb3c5d029a9c4494a3f92878342fe440",
            "9a77349f32fd44e48935aaaf46306b7f",
            "fd1b5bda2ed74566ae1dffbd2af48b0a",
            "7ccead51ca814da594973dadc404060b",
            "f52343404ae4414f83e3720b1292c7ff",
            "b6a61e04a9464173aab205f2f9c74fb1",
            "8197f94c46b34d94bfdf14fcafc9c7d2",
            "c1fc0f532b984a94b929766efaba1707"
          ]
        },
        "id": "lnY920uosmCe",
        "outputId": "dfeb7eed-e312-4ad8-ecde-9258e05713dd"
      },
      "source": [
        "all_obs = []\n",
        "obs = env.reset()\n",
        "all_obs.append(obs)\n",
        "reward = env.reward_range[0]\n",
        "reward_list = []\n",
        "done = False\n",
        "nb_step = 0\n",
        "print(\"Very Simple DQN Simulation\")\n",
        "with tqdm(total=env.chronics_handler.max_timestep()) as pbar:\n",
        "    while True:\n",
        "        action = act_vect_to_act_obj(env,target_dqn(torch.from_numpy(np.array(obs.to_vect(),dtype='float32')).to(dev).float()))\n",
        "        #action = my_agent.act(obs, reward, done)\n",
        "        obs, reward, done, _ = env.step(action)\n",
        "        reward_list.append(reward)\n",
        "        pbar.update(1)\n",
        "        if done:\n",
        "            break\n",
        "        all_obs.append(obs)\n",
        "        nb_step += 1\n",
        "\n",
        "reward_list_simple_DQN = np.copy(reward_list)\n"
      ],
      "execution_count": 41,
      "outputs": [
        {
          "output_type": "stream",
          "text": [
            "Very Simple DQN Simulation\n"
          ],
          "name": "stdout"
        },
        {
          "output_type": "display_data",
          "data": {
            "application/vnd.jupyter.widget-view+json": {
              "model_id": "b951cc7b4b7f44d69e8e065ccca3e7cd",
              "version_minor": 0,
              "version_major": 2
            },
            "text/plain": [
              "HBox(children=(HTML(value=''), FloatProgress(value=0.0, max=8064.0), HTML(value='')))"
            ]
          },
          "metadata": {
            "tags": []
          }
        },
        {
          "output_type": "stream",
          "text": [
            "\n"
          ],
          "name": "stdout"
        }
      ]
    },
    {
      "cell_type": "code",
      "metadata": {
        "colab": {
          "base_uri": "https://localhost:8080/",
          "height": 229
        },
        "id": "qY5Z838vtRCp",
        "outputId": "1a1d5042-e820-4f4a-82f4-b86c2f13b31c"
      },
      "source": [
        "import seaborn as sns\n",
        "import matplotlib.pyplot as plt\n",
        "\n",
        "nested_lists = [reward_list_do_nothing_agent,reward_list_random_agent,reward_power_line_switch_agent,reward_list_simple_DQN]\n",
        "lists_to_df  = []\n",
        "\n",
        "for nested_list in  nested_lists:\n",
        "  len_list = len(nested_list)\n",
        "  final_value = nested_list[-1]\n",
        "  list_ = np.repeat(final_value,env.chronics_handler.max_timestep())\n",
        "  list_[:len_list] = nested_list\n",
        "  lists_to_df.append(list_)\n",
        "\n",
        "df_pre_built_agents = pd.DataFrame(lists_to_df)\\\n",
        ".transpose()\\\n",
        ".rename(columns={0:'do_nothing_agent',1:'random_agent',2:'switch_power_line_agent',3:'Very Simple DQN agent'})\\\n",
        ".stack()\\\n",
        ".reset_index()\\\n",
        ".rename(columns={'level_0':'iteration','level_1':'agent_type',0:'reward'})\n",
        "\n",
        "\n",
        "fig,ax = plt.subplots(1,1,figsize=(7,5))\n",
        "sns.lineplot(x='iteration',y='reward',hue='agent_type',ax=ax,data=df_pre_built_agents)\n",
        "ax.set_xlabel(\"# of iterations\")\n",
        "ax.set_ylabel(\"Reward\")\n",
        "ax.set_title(\"Performance of pre-built grid2op agents\\n(Only action available is powerline switch)\")\n",
        "ax.legend(['Do nothing agent','Random actions agent','Switch Power Line agent','Double DQN Agent'])\n",
        "ax.set_xlim(0,1000)\n",
        "plt.tight_layout()\n",
        "plt.show()\n",
        "\n",
        "# df_pre_built_agents = pd.DataFrame({'random_agent':reward_list_random_agent,\n",
        "#                                     'power_line_switch_agent':reward_power_line_switch_agent\n",
        "#                                     })\n",
        "# df_pre_built_agents"
      ],
      "execution_count": 1,
      "outputs": [
        {
          "output_type": "error",
          "ename": "NameError",
          "evalue": "ignored",
          "traceback": [
            "\u001b[0;31m---------------------------------------------------------------------------\u001b[0m",
            "\u001b[0;31mNameError\u001b[0m                                 Traceback (most recent call last)",
            "\u001b[0;32m<ipython-input-1-938a49497bb6>\u001b[0m in \u001b[0;36m<module>\u001b[0;34m()\u001b[0m\n\u001b[1;32m      2\u001b[0m \u001b[0;32mimport\u001b[0m \u001b[0mmatplotlib\u001b[0m\u001b[0;34m.\u001b[0m\u001b[0mpyplot\u001b[0m \u001b[0;32mas\u001b[0m \u001b[0mplt\u001b[0m\u001b[0;34m\u001b[0m\u001b[0;34m\u001b[0m\u001b[0m\n\u001b[1;32m      3\u001b[0m \u001b[0;34m\u001b[0m\u001b[0m\n\u001b[0;32m----> 4\u001b[0;31m \u001b[0mnested_lists\u001b[0m \u001b[0;34m=\u001b[0m \u001b[0;34m[\u001b[0m\u001b[0mreward_list_do_nothing_agent\u001b[0m\u001b[0;34m,\u001b[0m\u001b[0mreward_list_random_agent\u001b[0m\u001b[0;34m,\u001b[0m\u001b[0mreward_power_line_switch_agent\u001b[0m\u001b[0;34m,\u001b[0m\u001b[0mreward_list_simple_DQN\u001b[0m\u001b[0;34m]\u001b[0m\u001b[0;34m\u001b[0m\u001b[0;34m\u001b[0m\u001b[0m\n\u001b[0m\u001b[1;32m      5\u001b[0m \u001b[0mlists_to_df\u001b[0m  \u001b[0;34m=\u001b[0m \u001b[0;34m[\u001b[0m\u001b[0;34m]\u001b[0m\u001b[0;34m\u001b[0m\u001b[0;34m\u001b[0m\u001b[0m\n\u001b[1;32m      6\u001b[0m \u001b[0;34m\u001b[0m\u001b[0m\n",
            "\u001b[0;31mNameError\u001b[0m: name 'reward_list_do_nothing_agent' is not defined"
          ]
        }
      ]
    },
    {
      "cell_type": "code",
      "metadata": {
        "id": "eiApUCyMg6yB"
      },
      "source": [
        ""
      ],
      "execution_count": null,
      "outputs": []
    }
  ]
}