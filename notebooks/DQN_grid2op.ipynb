{
  "nbformat": 4,
  "nbformat_minor": 0,
  "metadata": {
    "accelerator": "GPU",
    "colab": {
      "name": "DQN_grid2op",
      "provenance": [],
      "collapsed_sections": [],
      "toc_visible": true,
      "mount_file_id": "1PRHKIPMYXOPlmV7Fn2f6Tyojz-I6FKpG",
      "authorship_tag": "ABX9TyPDuwAIqU2w5E0FV53Wxipx",
      "include_colab_link": true
    },
    "kernelspec": {
      "display_name": "Python 3",
      "name": "python3"
    },
    "widgets": {
      "application/vnd.jupyter.widget-state+json": {
        "f850c940f17f40298c0729f192bdb6f7": {
          "model_module": "@jupyter-widgets/controls",
          "model_name": "HBoxModel",
          "state": {
            "_view_name": "HBoxView",
            "_dom_classes": [],
            "_model_name": "HBoxModel",
            "_view_module": "@jupyter-widgets/controls",
            "_model_module_version": "1.5.0",
            "_view_count": null,
            "_view_module_version": "1.5.0",
            "box_style": "",
            "layout": "IPY_MODEL_bc57b8b61ecb4ec48cac6bb83998b209",
            "_model_module": "@jupyter-widgets/controls",
            "children": [
              "IPY_MODEL_923fe07baf64462ca791db7e88162060",
              "IPY_MODEL_50e0007c147c4e998ba229583e01d22b",
              "IPY_MODEL_f941b2eb8fdb4415a5ac2a8b37b7f25e"
            ]
          }
        },
        "bc57b8b61ecb4ec48cac6bb83998b209": {
          "model_module": "@jupyter-widgets/base",
          "model_name": "LayoutModel",
          "state": {
            "_view_name": "LayoutView",
            "grid_template_rows": null,
            "right": null,
            "justify_content": null,
            "_view_module": "@jupyter-widgets/base",
            "overflow": null,
            "_model_module_version": "1.2.0",
            "_view_count": null,
            "flex_flow": null,
            "width": null,
            "min_width": null,
            "border": null,
            "align_items": null,
            "bottom": null,
            "_model_module": "@jupyter-widgets/base",
            "top": null,
            "grid_column": null,
            "overflow_y": null,
            "overflow_x": null,
            "grid_auto_flow": null,
            "grid_area": null,
            "grid_template_columns": null,
            "flex": null,
            "_model_name": "LayoutModel",
            "justify_items": null,
            "grid_row": null,
            "max_height": null,
            "align_content": null,
            "visibility": null,
            "align_self": null,
            "height": null,
            "min_height": null,
            "padding": null,
            "grid_auto_rows": null,
            "grid_gap": null,
            "max_width": null,
            "order": null,
            "_view_module_version": "1.2.0",
            "grid_template_areas": null,
            "object_position": null,
            "object_fit": null,
            "grid_auto_columns": null,
            "margin": null,
            "display": null,
            "left": null
          }
        },
        "923fe07baf64462ca791db7e88162060": {
          "model_module": "@jupyter-widgets/controls",
          "model_name": "HTMLModel",
          "state": {
            "_view_name": "HTMLView",
            "style": "IPY_MODEL_8aaf08701f954aef842e7a90fed49b44",
            "_dom_classes": [],
            "description": "",
            "_model_name": "HTMLModel",
            "placeholder": "​",
            "_view_module": "@jupyter-widgets/controls",
            "_model_module_version": "1.5.0",
            "value": " 17%",
            "_view_count": null,
            "_view_module_version": "1.5.0",
            "description_tooltip": null,
            "_model_module": "@jupyter-widgets/controls",
            "layout": "IPY_MODEL_ae363b996e324b90b807b61a1c54e2cb"
          }
        },
        "50e0007c147c4e998ba229583e01d22b": {
          "model_module": "@jupyter-widgets/controls",
          "model_name": "FloatProgressModel",
          "state": {
            "_view_name": "ProgressView",
            "style": "IPY_MODEL_5af14c92cab240638b2ac1da07a8cf11",
            "_dom_classes": [],
            "description": "",
            "_model_name": "FloatProgressModel",
            "bar_style": "danger",
            "max": 8064,
            "_view_module": "@jupyter-widgets/controls",
            "_model_module_version": "1.5.0",
            "value": 1380,
            "_view_count": null,
            "_view_module_version": "1.5.0",
            "orientation": "horizontal",
            "min": 0,
            "description_tooltip": null,
            "_model_module": "@jupyter-widgets/controls",
            "layout": "IPY_MODEL_7d8359c769be43af9dd89cfe717c260d"
          }
        },
        "f941b2eb8fdb4415a5ac2a8b37b7f25e": {
          "model_module": "@jupyter-widgets/controls",
          "model_name": "HTMLModel",
          "state": {
            "_view_name": "HTMLView",
            "style": "IPY_MODEL_fcdb8eb710cb4ccfb5edd7f1ad9ae9e0",
            "_dom_classes": [],
            "description": "",
            "_model_name": "HTMLModel",
            "placeholder": "​",
            "_view_module": "@jupyter-widgets/controls",
            "_model_module_version": "1.5.0",
            "value": " 1380/8064 [02:22&lt;11:28,  9.71it/s]",
            "_view_count": null,
            "_view_module_version": "1.5.0",
            "description_tooltip": null,
            "_model_module": "@jupyter-widgets/controls",
            "layout": "IPY_MODEL_94560a3e8c054b9885d18f6cc7d6c9e1"
          }
        },
        "8aaf08701f954aef842e7a90fed49b44": {
          "model_module": "@jupyter-widgets/controls",
          "model_name": "DescriptionStyleModel",
          "state": {
            "_view_name": "StyleView",
            "_model_name": "DescriptionStyleModel",
            "description_width": "",
            "_view_module": "@jupyter-widgets/base",
            "_model_module_version": "1.5.0",
            "_view_count": null,
            "_view_module_version": "1.2.0",
            "_model_module": "@jupyter-widgets/controls"
          }
        },
        "ae363b996e324b90b807b61a1c54e2cb": {
          "model_module": "@jupyter-widgets/base",
          "model_name": "LayoutModel",
          "state": {
            "_view_name": "LayoutView",
            "grid_template_rows": null,
            "right": null,
            "justify_content": null,
            "_view_module": "@jupyter-widgets/base",
            "overflow": null,
            "_model_module_version": "1.2.0",
            "_view_count": null,
            "flex_flow": null,
            "width": null,
            "min_width": null,
            "border": null,
            "align_items": null,
            "bottom": null,
            "_model_module": "@jupyter-widgets/base",
            "top": null,
            "grid_column": null,
            "overflow_y": null,
            "overflow_x": null,
            "grid_auto_flow": null,
            "grid_area": null,
            "grid_template_columns": null,
            "flex": null,
            "_model_name": "LayoutModel",
            "justify_items": null,
            "grid_row": null,
            "max_height": null,
            "align_content": null,
            "visibility": null,
            "align_self": null,
            "height": null,
            "min_height": null,
            "padding": null,
            "grid_auto_rows": null,
            "grid_gap": null,
            "max_width": null,
            "order": null,
            "_view_module_version": "1.2.0",
            "grid_template_areas": null,
            "object_position": null,
            "object_fit": null,
            "grid_auto_columns": null,
            "margin": null,
            "display": null,
            "left": null
          }
        },
        "5af14c92cab240638b2ac1da07a8cf11": {
          "model_module": "@jupyter-widgets/controls",
          "model_name": "ProgressStyleModel",
          "state": {
            "_view_name": "StyleView",
            "_model_name": "ProgressStyleModel",
            "description_width": "",
            "_view_module": "@jupyter-widgets/base",
            "_model_module_version": "1.5.0",
            "_view_count": null,
            "_view_module_version": "1.2.0",
            "bar_color": null,
            "_model_module": "@jupyter-widgets/controls"
          }
        },
        "7d8359c769be43af9dd89cfe717c260d": {
          "model_module": "@jupyter-widgets/base",
          "model_name": "LayoutModel",
          "state": {
            "_view_name": "LayoutView",
            "grid_template_rows": null,
            "right": null,
            "justify_content": null,
            "_view_module": "@jupyter-widgets/base",
            "overflow": null,
            "_model_module_version": "1.2.0",
            "_view_count": null,
            "flex_flow": null,
            "width": null,
            "min_width": null,
            "border": null,
            "align_items": null,
            "bottom": null,
            "_model_module": "@jupyter-widgets/base",
            "top": null,
            "grid_column": null,
            "overflow_y": null,
            "overflow_x": null,
            "grid_auto_flow": null,
            "grid_area": null,
            "grid_template_columns": null,
            "flex": null,
            "_model_name": "LayoutModel",
            "justify_items": null,
            "grid_row": null,
            "max_height": null,
            "align_content": null,
            "visibility": null,
            "align_self": null,
            "height": null,
            "min_height": null,
            "padding": null,
            "grid_auto_rows": null,
            "grid_gap": null,
            "max_width": null,
            "order": null,
            "_view_module_version": "1.2.0",
            "grid_template_areas": null,
            "object_position": null,
            "object_fit": null,
            "grid_auto_columns": null,
            "margin": null,
            "display": null,
            "left": null
          }
        },
        "fcdb8eb710cb4ccfb5edd7f1ad9ae9e0": {
          "model_module": "@jupyter-widgets/controls",
          "model_name": "DescriptionStyleModel",
          "state": {
            "_view_name": "StyleView",
            "_model_name": "DescriptionStyleModel",
            "description_width": "",
            "_view_module": "@jupyter-widgets/base",
            "_model_module_version": "1.5.0",
            "_view_count": null,
            "_view_module_version": "1.2.0",
            "_model_module": "@jupyter-widgets/controls"
          }
        },
        "94560a3e8c054b9885d18f6cc7d6c9e1": {
          "model_module": "@jupyter-widgets/base",
          "model_name": "LayoutModel",
          "state": {
            "_view_name": "LayoutView",
            "grid_template_rows": null,
            "right": null,
            "justify_content": null,
            "_view_module": "@jupyter-widgets/base",
            "overflow": null,
            "_model_module_version": "1.2.0",
            "_view_count": null,
            "flex_flow": null,
            "width": null,
            "min_width": null,
            "border": null,
            "align_items": null,
            "bottom": null,
            "_model_module": "@jupyter-widgets/base",
            "top": null,
            "grid_column": null,
            "overflow_y": null,
            "overflow_x": null,
            "grid_auto_flow": null,
            "grid_area": null,
            "grid_template_columns": null,
            "flex": null,
            "_model_name": "LayoutModel",
            "justify_items": null,
            "grid_row": null,
            "max_height": null,
            "align_content": null,
            "visibility": null,
            "align_self": null,
            "height": null,
            "min_height": null,
            "padding": null,
            "grid_auto_rows": null,
            "grid_gap": null,
            "max_width": null,
            "order": null,
            "_view_module_version": "1.2.0",
            "grid_template_areas": null,
            "object_position": null,
            "object_fit": null,
            "grid_auto_columns": null,
            "margin": null,
            "display": null,
            "left": null
          }
        },
        "a3504c46a64441b794c9a16b3efae8dd": {
          "model_module": "@jupyter-widgets/controls",
          "model_name": "HBoxModel",
          "state": {
            "_view_name": "HBoxView",
            "_dom_classes": [],
            "_model_name": "HBoxModel",
            "_view_module": "@jupyter-widgets/controls",
            "_model_module_version": "1.5.0",
            "_view_count": null,
            "_view_module_version": "1.5.0",
            "box_style": "",
            "layout": "IPY_MODEL_6015263972aa48e791c75acfdbc24dc2",
            "_model_module": "@jupyter-widgets/controls",
            "children": [
              "IPY_MODEL_ea29bb02dca2430fa7cacc0b9c71e18d",
              "IPY_MODEL_8f4511f4a4eb44cdaef1128f4724fa99",
              "IPY_MODEL_80dfc6d1d76d42a8a52880c53c85c3b1"
            ]
          }
        },
        "6015263972aa48e791c75acfdbc24dc2": {
          "model_module": "@jupyter-widgets/base",
          "model_name": "LayoutModel",
          "state": {
            "_view_name": "LayoutView",
            "grid_template_rows": null,
            "right": null,
            "justify_content": null,
            "_view_module": "@jupyter-widgets/base",
            "overflow": null,
            "_model_module_version": "1.2.0",
            "_view_count": null,
            "flex_flow": null,
            "width": null,
            "min_width": null,
            "border": null,
            "align_items": null,
            "bottom": null,
            "_model_module": "@jupyter-widgets/base",
            "top": null,
            "grid_column": null,
            "overflow_y": null,
            "overflow_x": null,
            "grid_auto_flow": null,
            "grid_area": null,
            "grid_template_columns": null,
            "flex": null,
            "_model_name": "LayoutModel",
            "justify_items": null,
            "grid_row": null,
            "max_height": null,
            "align_content": null,
            "visibility": null,
            "align_self": null,
            "height": null,
            "min_height": null,
            "padding": null,
            "grid_auto_rows": null,
            "grid_gap": null,
            "max_width": null,
            "order": null,
            "_view_module_version": "1.2.0",
            "grid_template_areas": null,
            "object_position": null,
            "object_fit": null,
            "grid_auto_columns": null,
            "margin": null,
            "display": null,
            "left": null
          }
        },
        "ea29bb02dca2430fa7cacc0b9c71e18d": {
          "model_module": "@jupyter-widgets/controls",
          "model_name": "HTMLModel",
          "state": {
            "_view_name": "HTMLView",
            "style": "IPY_MODEL_5b24025df5154dbcb567ebd37904d08b",
            "_dom_classes": [],
            "description": "",
            "_model_name": "HTMLModel",
            "placeholder": "​",
            "_view_module": "@jupyter-widgets/controls",
            "_model_module_version": "1.5.0",
            "value": "  0%",
            "_view_count": null,
            "_view_module_version": "1.5.0",
            "description_tooltip": null,
            "_model_module": "@jupyter-widgets/controls",
            "layout": "IPY_MODEL_0c3dc240230f412eaeb704c560024b17"
          }
        },
        "8f4511f4a4eb44cdaef1128f4724fa99": {
          "model_module": "@jupyter-widgets/controls",
          "model_name": "FloatProgressModel",
          "state": {
            "_view_name": "ProgressView",
            "style": "IPY_MODEL_aee4d4131d10457393816b38cd333047",
            "_dom_classes": [],
            "description": "",
            "_model_name": "FloatProgressModel",
            "bar_style": "danger",
            "max": 8064,
            "_view_module": "@jupyter-widgets/controls",
            "_model_module_version": "1.5.0",
            "value": 2,
            "_view_count": null,
            "_view_module_version": "1.5.0",
            "orientation": "horizontal",
            "min": 0,
            "description_tooltip": null,
            "_model_module": "@jupyter-widgets/controls",
            "layout": "IPY_MODEL_98149fa84a89478cbfa566174db49603"
          }
        },
        "80dfc6d1d76d42a8a52880c53c85c3b1": {
          "model_module": "@jupyter-widgets/controls",
          "model_name": "HTMLModel",
          "state": {
            "_view_name": "HTMLView",
            "style": "IPY_MODEL_2cd587fa3d8f47049d2d5562b8d98634",
            "_dom_classes": [],
            "description": "",
            "_model_name": "HTMLModel",
            "placeholder": "​",
            "_view_module": "@jupyter-widgets/controls",
            "_model_module_version": "1.5.0",
            "value": " 2/8064 [01:03&lt;71:35:34, 31.97s/it]",
            "_view_count": null,
            "_view_module_version": "1.5.0",
            "description_tooltip": null,
            "_model_module": "@jupyter-widgets/controls",
            "layout": "IPY_MODEL_2a6ce2d5631e4f3cbb8ff8c0dc40d005"
          }
        },
        "5b24025df5154dbcb567ebd37904d08b": {
          "model_module": "@jupyter-widgets/controls",
          "model_name": "DescriptionStyleModel",
          "state": {
            "_view_name": "StyleView",
            "_model_name": "DescriptionStyleModel",
            "description_width": "",
            "_view_module": "@jupyter-widgets/base",
            "_model_module_version": "1.5.0",
            "_view_count": null,
            "_view_module_version": "1.2.0",
            "_model_module": "@jupyter-widgets/controls"
          }
        },
        "0c3dc240230f412eaeb704c560024b17": {
          "model_module": "@jupyter-widgets/base",
          "model_name": "LayoutModel",
          "state": {
            "_view_name": "LayoutView",
            "grid_template_rows": null,
            "right": null,
            "justify_content": null,
            "_view_module": "@jupyter-widgets/base",
            "overflow": null,
            "_model_module_version": "1.2.0",
            "_view_count": null,
            "flex_flow": null,
            "width": null,
            "min_width": null,
            "border": null,
            "align_items": null,
            "bottom": null,
            "_model_module": "@jupyter-widgets/base",
            "top": null,
            "grid_column": null,
            "overflow_y": null,
            "overflow_x": null,
            "grid_auto_flow": null,
            "grid_area": null,
            "grid_template_columns": null,
            "flex": null,
            "_model_name": "LayoutModel",
            "justify_items": null,
            "grid_row": null,
            "max_height": null,
            "align_content": null,
            "visibility": null,
            "align_self": null,
            "height": null,
            "min_height": null,
            "padding": null,
            "grid_auto_rows": null,
            "grid_gap": null,
            "max_width": null,
            "order": null,
            "_view_module_version": "1.2.0",
            "grid_template_areas": null,
            "object_position": null,
            "object_fit": null,
            "grid_auto_columns": null,
            "margin": null,
            "display": null,
            "left": null
          }
        },
        "aee4d4131d10457393816b38cd333047": {
          "model_module": "@jupyter-widgets/controls",
          "model_name": "ProgressStyleModel",
          "state": {
            "_view_name": "StyleView",
            "_model_name": "ProgressStyleModel",
            "description_width": "",
            "_view_module": "@jupyter-widgets/base",
            "_model_module_version": "1.5.0",
            "_view_count": null,
            "_view_module_version": "1.2.0",
            "bar_color": null,
            "_model_module": "@jupyter-widgets/controls"
          }
        },
        "98149fa84a89478cbfa566174db49603": {
          "model_module": "@jupyter-widgets/base",
          "model_name": "LayoutModel",
          "state": {
            "_view_name": "LayoutView",
            "grid_template_rows": null,
            "right": null,
            "justify_content": null,
            "_view_module": "@jupyter-widgets/base",
            "overflow": null,
            "_model_module_version": "1.2.0",
            "_view_count": null,
            "flex_flow": null,
            "width": null,
            "min_width": null,
            "border": null,
            "align_items": null,
            "bottom": null,
            "_model_module": "@jupyter-widgets/base",
            "top": null,
            "grid_column": null,
            "overflow_y": null,
            "overflow_x": null,
            "grid_auto_flow": null,
            "grid_area": null,
            "grid_template_columns": null,
            "flex": null,
            "_model_name": "LayoutModel",
            "justify_items": null,
            "grid_row": null,
            "max_height": null,
            "align_content": null,
            "visibility": null,
            "align_self": null,
            "height": null,
            "min_height": null,
            "padding": null,
            "grid_auto_rows": null,
            "grid_gap": null,
            "max_width": null,
            "order": null,
            "_view_module_version": "1.2.0",
            "grid_template_areas": null,
            "object_position": null,
            "object_fit": null,
            "grid_auto_columns": null,
            "margin": null,
            "display": null,
            "left": null
          }
        },
        "2cd587fa3d8f47049d2d5562b8d98634": {
          "model_module": "@jupyter-widgets/controls",
          "model_name": "DescriptionStyleModel",
          "state": {
            "_view_name": "StyleView",
            "_model_name": "DescriptionStyleModel",
            "description_width": "",
            "_view_module": "@jupyter-widgets/base",
            "_model_module_version": "1.5.0",
            "_view_count": null,
            "_view_module_version": "1.2.0",
            "_model_module": "@jupyter-widgets/controls"
          }
        },
        "2a6ce2d5631e4f3cbb8ff8c0dc40d005": {
          "model_module": "@jupyter-widgets/base",
          "model_name": "LayoutModel",
          "state": {
            "_view_name": "LayoutView",
            "grid_template_rows": null,
            "right": null,
            "justify_content": null,
            "_view_module": "@jupyter-widgets/base",
            "overflow": null,
            "_model_module_version": "1.2.0",
            "_view_count": null,
            "flex_flow": null,
            "width": null,
            "min_width": null,
            "border": null,
            "align_items": null,
            "bottom": null,
            "_model_module": "@jupyter-widgets/base",
            "top": null,
            "grid_column": null,
            "overflow_y": null,
            "overflow_x": null,
            "grid_auto_flow": null,
            "grid_area": null,
            "grid_template_columns": null,
            "flex": null,
            "_model_name": "LayoutModel",
            "justify_items": null,
            "grid_row": null,
            "max_height": null,
            "align_content": null,
            "visibility": null,
            "align_self": null,
            "height": null,
            "min_height": null,
            "padding": null,
            "grid_auto_rows": null,
            "grid_gap": null,
            "max_width": null,
            "order": null,
            "_view_module_version": "1.2.0",
            "grid_template_areas": null,
            "object_position": null,
            "object_fit": null,
            "grid_auto_columns": null,
            "margin": null,
            "display": null,
            "left": null
          }
        },
        "5361225a78ca4f4caeeaf12c99bf4373": {
          "model_module": "@jupyter-widgets/controls",
          "model_name": "HBoxModel",
          "state": {
            "_view_name": "HBoxView",
            "_dom_classes": [],
            "_model_name": "HBoxModel",
            "_view_module": "@jupyter-widgets/controls",
            "_model_module_version": "1.5.0",
            "_view_count": null,
            "_view_module_version": "1.5.0",
            "box_style": "",
            "layout": "IPY_MODEL_aec75469212a41c2b04f7cd8a00ea592",
            "_model_module": "@jupyter-widgets/controls",
            "children": [
              "IPY_MODEL_cac76db14fbc43688f55748bcf2b1e40",
              "IPY_MODEL_3b6e3607af8a423da2886cc31d38561d",
              "IPY_MODEL_5f29fd8df1b54293839793fe5970e147"
            ]
          }
        },
        "aec75469212a41c2b04f7cd8a00ea592": {
          "model_module": "@jupyter-widgets/base",
          "model_name": "LayoutModel",
          "state": {
            "_view_name": "LayoutView",
            "grid_template_rows": null,
            "right": null,
            "justify_content": null,
            "_view_module": "@jupyter-widgets/base",
            "overflow": null,
            "_model_module_version": "1.2.0",
            "_view_count": null,
            "flex_flow": null,
            "width": null,
            "min_width": null,
            "border": null,
            "align_items": null,
            "bottom": null,
            "_model_module": "@jupyter-widgets/base",
            "top": null,
            "grid_column": null,
            "overflow_y": null,
            "overflow_x": null,
            "grid_auto_flow": null,
            "grid_area": null,
            "grid_template_columns": null,
            "flex": null,
            "_model_name": "LayoutModel",
            "justify_items": null,
            "grid_row": null,
            "max_height": null,
            "align_content": null,
            "visibility": null,
            "align_self": null,
            "height": null,
            "min_height": null,
            "padding": null,
            "grid_auto_rows": null,
            "grid_gap": null,
            "max_width": null,
            "order": null,
            "_view_module_version": "1.2.0",
            "grid_template_areas": null,
            "object_position": null,
            "object_fit": null,
            "grid_auto_columns": null,
            "margin": null,
            "display": null,
            "left": null
          }
        },
        "cac76db14fbc43688f55748bcf2b1e40": {
          "model_module": "@jupyter-widgets/controls",
          "model_name": "HTMLModel",
          "state": {
            "_view_name": "HTMLView",
            "style": "IPY_MODEL_58a02f2c06484f438997fcae75649368",
            "_dom_classes": [],
            "description": "",
            "_model_name": "HTMLModel",
            "placeholder": "​",
            "_view_module": "@jupyter-widgets/controls",
            "_model_module_version": "1.5.0",
            "value": " 17%",
            "_view_count": null,
            "_view_module_version": "1.5.0",
            "description_tooltip": null,
            "_model_module": "@jupyter-widgets/controls",
            "layout": "IPY_MODEL_9d73ddaca0de4b3c9cfe11e925100a0e"
          }
        },
        "3b6e3607af8a423da2886cc31d38561d": {
          "model_module": "@jupyter-widgets/controls",
          "model_name": "FloatProgressModel",
          "state": {
            "_view_name": "ProgressView",
            "style": "IPY_MODEL_ce6471e788ad4389bc5398500bd02bae",
            "_dom_classes": [],
            "description": "",
            "_model_name": "FloatProgressModel",
            "bar_style": "danger",
            "max": 8064,
            "_view_module": "@jupyter-widgets/controls",
            "_model_module_version": "1.5.0",
            "value": 1381,
            "_view_count": null,
            "_view_module_version": "1.5.0",
            "orientation": "horizontal",
            "min": 0,
            "description_tooltip": null,
            "_model_module": "@jupyter-widgets/controls",
            "layout": "IPY_MODEL_b3b44b7720b94c9f944cf97f0ce40b06"
          }
        },
        "5f29fd8df1b54293839793fe5970e147": {
          "model_module": "@jupyter-widgets/controls",
          "model_name": "HTMLModel",
          "state": {
            "_view_name": "HTMLView",
            "style": "IPY_MODEL_f8b77c3f76654b1794ac9d1cb2dc280c",
            "_dom_classes": [],
            "description": "",
            "_model_name": "HTMLModel",
            "placeholder": "​",
            "_view_module": "@jupyter-widgets/controls",
            "_model_module_version": "1.5.0",
            "value": " 1381/8064 [11:02&lt;53:23,  2.09it/s]",
            "_view_count": null,
            "_view_module_version": "1.5.0",
            "description_tooltip": null,
            "_model_module": "@jupyter-widgets/controls",
            "layout": "IPY_MODEL_77eb5a0c2a6e40d29c44d452cfeb878b"
          }
        },
        "58a02f2c06484f438997fcae75649368": {
          "model_module": "@jupyter-widgets/controls",
          "model_name": "DescriptionStyleModel",
          "state": {
            "_view_name": "StyleView",
            "_model_name": "DescriptionStyleModel",
            "description_width": "",
            "_view_module": "@jupyter-widgets/base",
            "_model_module_version": "1.5.0",
            "_view_count": null,
            "_view_module_version": "1.2.0",
            "_model_module": "@jupyter-widgets/controls"
          }
        },
        "9d73ddaca0de4b3c9cfe11e925100a0e": {
          "model_module": "@jupyter-widgets/base",
          "model_name": "LayoutModel",
          "state": {
            "_view_name": "LayoutView",
            "grid_template_rows": null,
            "right": null,
            "justify_content": null,
            "_view_module": "@jupyter-widgets/base",
            "overflow": null,
            "_model_module_version": "1.2.0",
            "_view_count": null,
            "flex_flow": null,
            "width": null,
            "min_width": null,
            "border": null,
            "align_items": null,
            "bottom": null,
            "_model_module": "@jupyter-widgets/base",
            "top": null,
            "grid_column": null,
            "overflow_y": null,
            "overflow_x": null,
            "grid_auto_flow": null,
            "grid_area": null,
            "grid_template_columns": null,
            "flex": null,
            "_model_name": "LayoutModel",
            "justify_items": null,
            "grid_row": null,
            "max_height": null,
            "align_content": null,
            "visibility": null,
            "align_self": null,
            "height": null,
            "min_height": null,
            "padding": null,
            "grid_auto_rows": null,
            "grid_gap": null,
            "max_width": null,
            "order": null,
            "_view_module_version": "1.2.0",
            "grid_template_areas": null,
            "object_position": null,
            "object_fit": null,
            "grid_auto_columns": null,
            "margin": null,
            "display": null,
            "left": null
          }
        },
        "ce6471e788ad4389bc5398500bd02bae": {
          "model_module": "@jupyter-widgets/controls",
          "model_name": "ProgressStyleModel",
          "state": {
            "_view_name": "StyleView",
            "_model_name": "ProgressStyleModel",
            "description_width": "",
            "_view_module": "@jupyter-widgets/base",
            "_model_module_version": "1.5.0",
            "_view_count": null,
            "_view_module_version": "1.2.0",
            "bar_color": null,
            "_model_module": "@jupyter-widgets/controls"
          }
        },
        "b3b44b7720b94c9f944cf97f0ce40b06": {
          "model_module": "@jupyter-widgets/base",
          "model_name": "LayoutModel",
          "state": {
            "_view_name": "LayoutView",
            "grid_template_rows": null,
            "right": null,
            "justify_content": null,
            "_view_module": "@jupyter-widgets/base",
            "overflow": null,
            "_model_module_version": "1.2.0",
            "_view_count": null,
            "flex_flow": null,
            "width": null,
            "min_width": null,
            "border": null,
            "align_items": null,
            "bottom": null,
            "_model_module": "@jupyter-widgets/base",
            "top": null,
            "grid_column": null,
            "overflow_y": null,
            "overflow_x": null,
            "grid_auto_flow": null,
            "grid_area": null,
            "grid_template_columns": null,
            "flex": null,
            "_model_name": "LayoutModel",
            "justify_items": null,
            "grid_row": null,
            "max_height": null,
            "align_content": null,
            "visibility": null,
            "align_self": null,
            "height": null,
            "min_height": null,
            "padding": null,
            "grid_auto_rows": null,
            "grid_gap": null,
            "max_width": null,
            "order": null,
            "_view_module_version": "1.2.0",
            "grid_template_areas": null,
            "object_position": null,
            "object_fit": null,
            "grid_auto_columns": null,
            "margin": null,
            "display": null,
            "left": null
          }
        },
        "f8b77c3f76654b1794ac9d1cb2dc280c": {
          "model_module": "@jupyter-widgets/controls",
          "model_name": "DescriptionStyleModel",
          "state": {
            "_view_name": "StyleView",
            "_model_name": "DescriptionStyleModel",
            "description_width": "",
            "_view_module": "@jupyter-widgets/base",
            "_model_module_version": "1.5.0",
            "_view_count": null,
            "_view_module_version": "1.2.0",
            "_model_module": "@jupyter-widgets/controls"
          }
        },
        "77eb5a0c2a6e40d29c44d452cfeb878b": {
          "model_module": "@jupyter-widgets/base",
          "model_name": "LayoutModel",
          "state": {
            "_view_name": "LayoutView",
            "grid_template_rows": null,
            "right": null,
            "justify_content": null,
            "_view_module": "@jupyter-widgets/base",
            "overflow": null,
            "_model_module_version": "1.2.0",
            "_view_count": null,
            "flex_flow": null,
            "width": null,
            "min_width": null,
            "border": null,
            "align_items": null,
            "bottom": null,
            "_model_module": "@jupyter-widgets/base",
            "top": null,
            "grid_column": null,
            "overflow_y": null,
            "overflow_x": null,
            "grid_auto_flow": null,
            "grid_area": null,
            "grid_template_columns": null,
            "flex": null,
            "_model_name": "LayoutModel",
            "justify_items": null,
            "grid_row": null,
            "max_height": null,
            "align_content": null,
            "visibility": null,
            "align_self": null,
            "height": null,
            "min_height": null,
            "padding": null,
            "grid_auto_rows": null,
            "grid_gap": null,
            "max_width": null,
            "order": null,
            "_view_module_version": "1.2.0",
            "grid_template_areas": null,
            "object_position": null,
            "object_fit": null,
            "grid_auto_columns": null,
            "margin": null,
            "display": null,
            "left": null
          }
        },
        "22dda315639f42e4bbefbfe4975598c1": {
          "model_module": "@jupyter-widgets/controls",
          "model_name": "HBoxModel",
          "state": {
            "_view_name": "HBoxView",
            "_dom_classes": [],
            "_model_name": "HBoxModel",
            "_view_module": "@jupyter-widgets/controls",
            "_model_module_version": "1.5.0",
            "_view_count": null,
            "_view_module_version": "1.5.0",
            "box_style": "",
            "layout": "IPY_MODEL_6cc6c6ea50fe4785a1a3a7f2dd9a0d36",
            "_model_module": "@jupyter-widgets/controls",
            "children": [
              "IPY_MODEL_ef8008c8827349f6af33b3bc26459195",
              "IPY_MODEL_6cc79644397d4ac3b0f33e7960cd7b85",
              "IPY_MODEL_c64ea066b3eb4abc9c53bcbc3297ec3c"
            ]
          }
        },
        "6cc6c6ea50fe4785a1a3a7f2dd9a0d36": {
          "model_module": "@jupyter-widgets/base",
          "model_name": "LayoutModel",
          "state": {
            "_view_name": "LayoutView",
            "grid_template_rows": null,
            "right": null,
            "justify_content": null,
            "_view_module": "@jupyter-widgets/base",
            "overflow": null,
            "_model_module_version": "1.2.0",
            "_view_count": null,
            "flex_flow": null,
            "width": null,
            "min_width": null,
            "border": null,
            "align_items": null,
            "bottom": null,
            "_model_module": "@jupyter-widgets/base",
            "top": null,
            "grid_column": null,
            "overflow_y": null,
            "overflow_x": null,
            "grid_auto_flow": null,
            "grid_area": null,
            "grid_template_columns": null,
            "flex": null,
            "_model_name": "LayoutModel",
            "justify_items": null,
            "grid_row": null,
            "max_height": null,
            "align_content": null,
            "visibility": null,
            "align_self": null,
            "height": null,
            "min_height": null,
            "padding": null,
            "grid_auto_rows": null,
            "grid_gap": null,
            "max_width": null,
            "order": null,
            "_view_module_version": "1.2.0",
            "grid_template_areas": null,
            "object_position": null,
            "object_fit": null,
            "grid_auto_columns": null,
            "margin": null,
            "display": null,
            "left": null
          }
        },
        "ef8008c8827349f6af33b3bc26459195": {
          "model_module": "@jupyter-widgets/controls",
          "model_name": "HTMLModel",
          "state": {
            "_view_name": "HTMLView",
            "style": "IPY_MODEL_fc887f7e0e6841cabe13dbf919384386",
            "_dom_classes": [],
            "description": "",
            "_model_name": "HTMLModel",
            "placeholder": "​",
            "_view_module": "@jupyter-widgets/controls",
            "_model_module_version": "1.5.0",
            "value": "100%",
            "_view_count": null,
            "_view_module_version": "1.5.0",
            "description_tooltip": null,
            "_model_module": "@jupyter-widgets/controls",
            "layout": "IPY_MODEL_f26e372bd5094feca93aa867435ed724"
          }
        },
        "6cc79644397d4ac3b0f33e7960cd7b85": {
          "model_module": "@jupyter-widgets/controls",
          "model_name": "FloatProgressModel",
          "state": {
            "_view_name": "ProgressView",
            "style": "IPY_MODEL_414dea96c3134349bfbe4eb21ac18b60",
            "_dom_classes": [],
            "description": "",
            "_model_name": "FloatProgressModel",
            "bar_style": "success",
            "max": 20000,
            "_view_module": "@jupyter-widgets/controls",
            "_model_module_version": "1.5.0",
            "value": 20000,
            "_view_count": null,
            "_view_module_version": "1.5.0",
            "orientation": "horizontal",
            "min": 0,
            "description_tooltip": null,
            "_model_module": "@jupyter-widgets/controls",
            "layout": "IPY_MODEL_4173433057d04302bd728b24d12111a7"
          }
        },
        "c64ea066b3eb4abc9c53bcbc3297ec3c": {
          "model_module": "@jupyter-widgets/controls",
          "model_name": "HTMLModel",
          "state": {
            "_view_name": "HTMLView",
            "style": "IPY_MODEL_fe0f9aa9f6cb4b8caebdb41aa2f7870a",
            "_dom_classes": [],
            "description": "",
            "_model_name": "HTMLModel",
            "placeholder": "​",
            "_view_module": "@jupyter-widgets/controls",
            "_model_module_version": "1.5.0",
            "value": " 20000/20000 [32:31&lt;00:00, 10.25it/s]",
            "_view_count": null,
            "_view_module_version": "1.5.0",
            "description_tooltip": null,
            "_model_module": "@jupyter-widgets/controls",
            "layout": "IPY_MODEL_f35e680798da42cb9f8f1f23bfce7e7c"
          }
        },
        "fc887f7e0e6841cabe13dbf919384386": {
          "model_module": "@jupyter-widgets/controls",
          "model_name": "DescriptionStyleModel",
          "state": {
            "_view_name": "StyleView",
            "_model_name": "DescriptionStyleModel",
            "description_width": "",
            "_view_module": "@jupyter-widgets/base",
            "_model_module_version": "1.5.0",
            "_view_count": null,
            "_view_module_version": "1.2.0",
            "_model_module": "@jupyter-widgets/controls"
          }
        },
        "f26e372bd5094feca93aa867435ed724": {
          "model_module": "@jupyter-widgets/base",
          "model_name": "LayoutModel",
          "state": {
            "_view_name": "LayoutView",
            "grid_template_rows": null,
            "right": null,
            "justify_content": null,
            "_view_module": "@jupyter-widgets/base",
            "overflow": null,
            "_model_module_version": "1.2.0",
            "_view_count": null,
            "flex_flow": null,
            "width": null,
            "min_width": null,
            "border": null,
            "align_items": null,
            "bottom": null,
            "_model_module": "@jupyter-widgets/base",
            "top": null,
            "grid_column": null,
            "overflow_y": null,
            "overflow_x": null,
            "grid_auto_flow": null,
            "grid_area": null,
            "grid_template_columns": null,
            "flex": null,
            "_model_name": "LayoutModel",
            "justify_items": null,
            "grid_row": null,
            "max_height": null,
            "align_content": null,
            "visibility": null,
            "align_self": null,
            "height": null,
            "min_height": null,
            "padding": null,
            "grid_auto_rows": null,
            "grid_gap": null,
            "max_width": null,
            "order": null,
            "_view_module_version": "1.2.0",
            "grid_template_areas": null,
            "object_position": null,
            "object_fit": null,
            "grid_auto_columns": null,
            "margin": null,
            "display": null,
            "left": null
          }
        },
        "414dea96c3134349bfbe4eb21ac18b60": {
          "model_module": "@jupyter-widgets/controls",
          "model_name": "ProgressStyleModel",
          "state": {
            "_view_name": "StyleView",
            "_model_name": "ProgressStyleModel",
            "description_width": "",
            "_view_module": "@jupyter-widgets/base",
            "_model_module_version": "1.5.0",
            "_view_count": null,
            "_view_module_version": "1.2.0",
            "bar_color": null,
            "_model_module": "@jupyter-widgets/controls"
          }
        },
        "4173433057d04302bd728b24d12111a7": {
          "model_module": "@jupyter-widgets/base",
          "model_name": "LayoutModel",
          "state": {
            "_view_name": "LayoutView",
            "grid_template_rows": null,
            "right": null,
            "justify_content": null,
            "_view_module": "@jupyter-widgets/base",
            "overflow": null,
            "_model_module_version": "1.2.0",
            "_view_count": null,
            "flex_flow": null,
            "width": null,
            "min_width": null,
            "border": null,
            "align_items": null,
            "bottom": null,
            "_model_module": "@jupyter-widgets/base",
            "top": null,
            "grid_column": null,
            "overflow_y": null,
            "overflow_x": null,
            "grid_auto_flow": null,
            "grid_area": null,
            "grid_template_columns": null,
            "flex": null,
            "_model_name": "LayoutModel",
            "justify_items": null,
            "grid_row": null,
            "max_height": null,
            "align_content": null,
            "visibility": null,
            "align_self": null,
            "height": null,
            "min_height": null,
            "padding": null,
            "grid_auto_rows": null,
            "grid_gap": null,
            "max_width": null,
            "order": null,
            "_view_module_version": "1.2.0",
            "grid_template_areas": null,
            "object_position": null,
            "object_fit": null,
            "grid_auto_columns": null,
            "margin": null,
            "display": null,
            "left": null
          }
        },
        "fe0f9aa9f6cb4b8caebdb41aa2f7870a": {
          "model_module": "@jupyter-widgets/controls",
          "model_name": "DescriptionStyleModel",
          "state": {
            "_view_name": "StyleView",
            "_model_name": "DescriptionStyleModel",
            "description_width": "",
            "_view_module": "@jupyter-widgets/base",
            "_model_module_version": "1.5.0",
            "_view_count": null,
            "_view_module_version": "1.2.0",
            "_model_module": "@jupyter-widgets/controls"
          }
        },
        "f35e680798da42cb9f8f1f23bfce7e7c": {
          "model_module": "@jupyter-widgets/base",
          "model_name": "LayoutModel",
          "state": {
            "_view_name": "LayoutView",
            "grid_template_rows": null,
            "right": null,
            "justify_content": null,
            "_view_module": "@jupyter-widgets/base",
            "overflow": null,
            "_model_module_version": "1.2.0",
            "_view_count": null,
            "flex_flow": null,
            "width": null,
            "min_width": null,
            "border": null,
            "align_items": null,
            "bottom": null,
            "_model_module": "@jupyter-widgets/base",
            "top": null,
            "grid_column": null,
            "overflow_y": null,
            "overflow_x": null,
            "grid_auto_flow": null,
            "grid_area": null,
            "grid_template_columns": null,
            "flex": null,
            "_model_name": "LayoutModel",
            "justify_items": null,
            "grid_row": null,
            "max_height": null,
            "align_content": null,
            "visibility": null,
            "align_self": null,
            "height": null,
            "min_height": null,
            "padding": null,
            "grid_auto_rows": null,
            "grid_gap": null,
            "max_width": null,
            "order": null,
            "_view_module_version": "1.2.0",
            "grid_template_areas": null,
            "object_position": null,
            "object_fit": null,
            "grid_auto_columns": null,
            "margin": null,
            "display": null,
            "left": null
          }
        },
        "330b8ab2166e4fc98c2dca56813819f3": {
          "model_module": "@jupyter-widgets/controls",
          "model_name": "HBoxModel",
          "state": {
            "_dom_classes": [],
            "_model_module": "@jupyter-widgets/controls",
            "_model_module_version": "1.5.0",
            "_model_name": "HBoxModel",
            "_view_count": null,
            "_view_module": "@jupyter-widgets/controls",
            "_view_module_version": "1.5.0",
            "_view_name": "HBoxView",
            "box_style": "",
            "children": [
              "IPY_MODEL_baaa4a27007042189e260c9349af18f0",
              "IPY_MODEL_bde7a8dfb5e542fc81dd50fce2feda33",
              "IPY_MODEL_c830b597422a4caeaa0235dddf96760c"
            ],
            "layout": "IPY_MODEL_fb83a4d3c0844462851dde56d98237f2"
          }
        },
        "baaa4a27007042189e260c9349af18f0": {
          "model_module": "@jupyter-widgets/controls",
          "model_name": "HTMLModel",
          "state": {
            "_dom_classes": [],
            "_model_module": "@jupyter-widgets/controls",
            "_model_module_version": "1.5.0",
            "_model_name": "HTMLModel",
            "_view_count": null,
            "_view_module": "@jupyter-widgets/controls",
            "_view_module_version": "1.5.0",
            "_view_name": "HTMLView",
            "description": "",
            "description_tooltip": null,
            "layout": "IPY_MODEL_7072757db5144731a1042f7131cf5d26",
            "placeholder": "​",
            "style": "IPY_MODEL_2a8c01cf229d4baf96fd44be0d6376d0",
            "value": " 14%"
          }
        },
        "bde7a8dfb5e542fc81dd50fce2feda33": {
          "model_module": "@jupyter-widgets/controls",
          "model_name": "FloatProgressModel",
          "state": {
            "_dom_classes": [],
            "_model_module": "@jupyter-widgets/controls",
            "_model_module_version": "1.5.0",
            "_model_name": "FloatProgressModel",
            "_view_count": null,
            "_view_module": "@jupyter-widgets/controls",
            "_view_module_version": "1.5.0",
            "_view_name": "ProgressView",
            "bar_style": "danger",
            "description": "",
            "description_tooltip": null,
            "layout": "IPY_MODEL_38db3f17530e492aa56e6f02198dcff8",
            "max": 8064,
            "min": 0,
            "orientation": "horizontal",
            "style": "IPY_MODEL_f7a9810600ce4df5ac6a4aa6c909e0c2",
            "value": 1099
          }
        },
        "c830b597422a4caeaa0235dddf96760c": {
          "model_module": "@jupyter-widgets/controls",
          "model_name": "HTMLModel",
          "state": {
            "_dom_classes": [],
            "_model_module": "@jupyter-widgets/controls",
            "_model_module_version": "1.5.0",
            "_model_name": "HTMLModel",
            "_view_count": null,
            "_view_module": "@jupyter-widgets/controls",
            "_view_module_version": "1.5.0",
            "_view_name": "HTMLView",
            "description": "",
            "description_tooltip": null,
            "layout": "IPY_MODEL_602fd06af7d6439f900c3e943dac0283",
            "placeholder": "​",
            "style": "IPY_MODEL_451697b21421435c842b9e3fb42a8e16",
            "value": " 1099/8064 [00:34&lt;03:38, 31.88it/s]"
          }
        },
        "fb83a4d3c0844462851dde56d98237f2": {
          "model_module": "@jupyter-widgets/base",
          "model_name": "LayoutModel",
          "state": {
            "_model_module": "@jupyter-widgets/base",
            "_model_module_version": "1.2.0",
            "_model_name": "LayoutModel",
            "_view_count": null,
            "_view_module": "@jupyter-widgets/base",
            "_view_module_version": "1.2.0",
            "_view_name": "LayoutView",
            "align_content": null,
            "align_items": null,
            "align_self": null,
            "border": null,
            "bottom": null,
            "display": null,
            "flex": null,
            "flex_flow": null,
            "grid_area": null,
            "grid_auto_columns": null,
            "grid_auto_flow": null,
            "grid_auto_rows": null,
            "grid_column": null,
            "grid_gap": null,
            "grid_row": null,
            "grid_template_areas": null,
            "grid_template_columns": null,
            "grid_template_rows": null,
            "height": null,
            "justify_content": null,
            "justify_items": null,
            "left": null,
            "margin": null,
            "max_height": null,
            "max_width": null,
            "min_height": null,
            "min_width": null,
            "object_fit": null,
            "object_position": null,
            "order": null,
            "overflow": null,
            "overflow_x": null,
            "overflow_y": null,
            "padding": null,
            "right": null,
            "top": null,
            "visibility": null,
            "width": null
          }
        },
        "7072757db5144731a1042f7131cf5d26": {
          "model_module": "@jupyter-widgets/base",
          "model_name": "LayoutModel",
          "state": {
            "_model_module": "@jupyter-widgets/base",
            "_model_module_version": "1.2.0",
            "_model_name": "LayoutModel",
            "_view_count": null,
            "_view_module": "@jupyter-widgets/base",
            "_view_module_version": "1.2.0",
            "_view_name": "LayoutView",
            "align_content": null,
            "align_items": null,
            "align_self": null,
            "border": null,
            "bottom": null,
            "display": null,
            "flex": null,
            "flex_flow": null,
            "grid_area": null,
            "grid_auto_columns": null,
            "grid_auto_flow": null,
            "grid_auto_rows": null,
            "grid_column": null,
            "grid_gap": null,
            "grid_row": null,
            "grid_template_areas": null,
            "grid_template_columns": null,
            "grid_template_rows": null,
            "height": null,
            "justify_content": null,
            "justify_items": null,
            "left": null,
            "margin": null,
            "max_height": null,
            "max_width": null,
            "min_height": null,
            "min_width": null,
            "object_fit": null,
            "object_position": null,
            "order": null,
            "overflow": null,
            "overflow_x": null,
            "overflow_y": null,
            "padding": null,
            "right": null,
            "top": null,
            "visibility": null,
            "width": null
          }
        },
        "2a8c01cf229d4baf96fd44be0d6376d0": {
          "model_module": "@jupyter-widgets/controls",
          "model_name": "DescriptionStyleModel",
          "state": {
            "_model_module": "@jupyter-widgets/controls",
            "_model_module_version": "1.5.0",
            "_model_name": "DescriptionStyleModel",
            "_view_count": null,
            "_view_module": "@jupyter-widgets/base",
            "_view_module_version": "1.2.0",
            "_view_name": "StyleView",
            "description_width": ""
          }
        },
        "38db3f17530e492aa56e6f02198dcff8": {
          "model_module": "@jupyter-widgets/base",
          "model_name": "LayoutModel",
          "state": {
            "_model_module": "@jupyter-widgets/base",
            "_model_module_version": "1.2.0",
            "_model_name": "LayoutModel",
            "_view_count": null,
            "_view_module": "@jupyter-widgets/base",
            "_view_module_version": "1.2.0",
            "_view_name": "LayoutView",
            "align_content": null,
            "align_items": null,
            "align_self": null,
            "border": null,
            "bottom": null,
            "display": null,
            "flex": null,
            "flex_flow": null,
            "grid_area": null,
            "grid_auto_columns": null,
            "grid_auto_flow": null,
            "grid_auto_rows": null,
            "grid_column": null,
            "grid_gap": null,
            "grid_row": null,
            "grid_template_areas": null,
            "grid_template_columns": null,
            "grid_template_rows": null,
            "height": null,
            "justify_content": null,
            "justify_items": null,
            "left": null,
            "margin": null,
            "max_height": null,
            "max_width": null,
            "min_height": null,
            "min_width": null,
            "object_fit": null,
            "object_position": null,
            "order": null,
            "overflow": null,
            "overflow_x": null,
            "overflow_y": null,
            "padding": null,
            "right": null,
            "top": null,
            "visibility": null,
            "width": null
          }
        },
        "f7a9810600ce4df5ac6a4aa6c909e0c2": {
          "model_module": "@jupyter-widgets/controls",
          "model_name": "ProgressStyleModel",
          "state": {
            "_model_module": "@jupyter-widgets/controls",
            "_model_module_version": "1.5.0",
            "_model_name": "ProgressStyleModel",
            "_view_count": null,
            "_view_module": "@jupyter-widgets/base",
            "_view_module_version": "1.2.0",
            "_view_name": "StyleView",
            "bar_color": null,
            "description_width": ""
          }
        },
        "602fd06af7d6439f900c3e943dac0283": {
          "model_module": "@jupyter-widgets/base",
          "model_name": "LayoutModel",
          "state": {
            "_model_module": "@jupyter-widgets/base",
            "_model_module_version": "1.2.0",
            "_model_name": "LayoutModel",
            "_view_count": null,
            "_view_module": "@jupyter-widgets/base",
            "_view_module_version": "1.2.0",
            "_view_name": "LayoutView",
            "align_content": null,
            "align_items": null,
            "align_self": null,
            "border": null,
            "bottom": null,
            "display": null,
            "flex": null,
            "flex_flow": null,
            "grid_area": null,
            "grid_auto_columns": null,
            "grid_auto_flow": null,
            "grid_auto_rows": null,
            "grid_column": null,
            "grid_gap": null,
            "grid_row": null,
            "grid_template_areas": null,
            "grid_template_columns": null,
            "grid_template_rows": null,
            "height": null,
            "justify_content": null,
            "justify_items": null,
            "left": null,
            "margin": null,
            "max_height": null,
            "max_width": null,
            "min_height": null,
            "min_width": null,
            "object_fit": null,
            "object_position": null,
            "order": null,
            "overflow": null,
            "overflow_x": null,
            "overflow_y": null,
            "padding": null,
            "right": null,
            "top": null,
            "visibility": null,
            "width": null
          }
        },
        "451697b21421435c842b9e3fb42a8e16": {
          "model_module": "@jupyter-widgets/controls",
          "model_name": "DescriptionStyleModel",
          "state": {
            "_model_module": "@jupyter-widgets/controls",
            "_model_module_version": "1.5.0",
            "_model_name": "DescriptionStyleModel",
            "_view_count": null,
            "_view_module": "@jupyter-widgets/base",
            "_view_module_version": "1.2.0",
            "_view_name": "StyleView",
            "description_width": ""
          }
        }
      }
    }
  },
  "cells": [
    {
      "cell_type": "code",
      "metadata": {
        "colab": {
          "base_uri": "https://localhost:8080/"
        },
        "id": "nokYs8Dam7P1",
        "outputId": "5c9435b6-bafa-403a-8994-b08be773b5ed"
      },
      "source": [
        "# Use this code if pull commands does not work\n",
        "#%rm -rf /content/drive/My\\ Drive/Colab\\ Notebooks/DEEP_LEARNING_DTU/project/\\02456_l2rpn/\n",
        "#%cd /content/drive/My\\ Drive/Colab\\ Notebooks/DEEP_LEARNING_DTU/project/\n",
        "#!git clone https://github.com/jmontalvo94/02456_l2rpn.git\n",
        "#!git pull"
      ],
      "execution_count": null,
      "outputs": [
        {
          "output_type": "stream",
          "text": [
            "/content/drive/My Drive/Colab Notebooks/DEEP_LEARNING_DTU/project/02456_l2rpn\n",
            "remote: Enumerating objects: 5, done.\u001b[K\n",
            "remote: Counting objects: 100% (5/5), done.\u001b[K\n",
            "remote: Compressing objects: 100% (1/1), done.\u001b[K\n",
            "remote: Total 3 (delta 2), reused 3 (delta 2), pack-reused 0\u001b[K\n",
            "Unpacking objects: 100% (3/3), done.\n",
            "From https://github.com/jmontalvo94/02456_l2rpn\n",
            "   5df8195..57fe4f7  main       -> origin/main\n",
            "Updating 5df8195..57fe4f7\n",
            "Fast-forward\n",
            " agent_emil.py | 2 \u001b[32m++\u001b[m\n",
            " 1 file changed, 2 insertions(+)\n"
          ],
          "name": "stdout"
        }
      ]
    },
    {
      "cell_type": "code",
      "metadata": {
        "colab": {
          "base_uri": "https://localhost:8080/"
        },
        "id": "CCzLfGVkpubI",
        "outputId": "324accba-f8a0-4fdb-b347-f22da78a3ef7"
      },
      "source": [
        "!git pull"
      ],
      "execution_count": null,
      "outputs": [
        {
          "output_type": "stream",
          "text": [
            "remote: Enumerating objects: 5, done.\u001b[K\n",
            "remote: Counting objects:  20% (1/5)\u001b[K\rremote: Counting objects:  40% (2/5)\u001b[K\rremote: Counting objects:  60% (3/5)\u001b[K\rremote: Counting objects:  80% (4/5)\u001b[K\rremote: Counting objects: 100% (5/5)\u001b[K\rremote: Counting objects: 100% (5/5), done.\u001b[K\n",
            "remote: Compressing objects: 100% (1/1)\u001b[K\rremote: Compressing objects: 100% (1/1), done.\u001b[K\n",
            "remote: Total 3 (delta 2), reused 3 (delta 2), pack-reused 0\u001b[K\n",
            "Unpacking objects:  33% (1/3)   \rUnpacking objects:  66% (2/3)   \rUnpacking objects: 100% (3/3)   \rUnpacking objects: 100% (3/3), done.\n",
            "From https://github.com/jmontalvo94/02456_l2rpn\n",
            "   e7402c8..5327d3a  main       -> origin/main\n",
            "Updating e7402c8..5327d3a\n",
            "Fast-forward\n",
            " agent_emil.py | 26 \u001b[32m+++++++++++\u001b[m\u001b[31m---------------\u001b[m\n",
            " 1 file changed, 11 insertions(+), 15 deletions(-)\n"
          ],
          "name": "stdout"
        }
      ]
    },
    {
      "cell_type": "code",
      "metadata": {
        "colab": {
          "base_uri": "https://localhost:8080/"
        },
        "id": "12yOFgca_XJ6",
        "outputId": "1170940f-2a06-4e6c-abc7-0fe8c553c771"
      },
      "source": [
        "# %cd /content/drive/My\\ Drive/Colab\\ Notebooks/DEEP_LEARNING_DTU/project/\\02456_l2rpn/\n",
        "\n",
        "# !pip install grid2op\n",
        "\n",
        "import agent_emil as agent \n",
        "import grid2op\n",
        "import re\n",
        "import numpy as np\n",
        "import pandas as pd\n",
        "import matplotlib.pyplot as plt\n",
        "from grid2op.Chronics import GridStateFromFileWithForecasts\n",
        "from grid2op.Agent import DoNothingAgent,RandomAgent,PowerLineSwitch,AgentWithConverter\n",
        "from grid2op.Action import DontAct,PowerlineChangeAction,TopologySetAction,TopologyChangeAction\n",
        "from grid2op.PlotGrid import PlotMatplot\n",
        "from grid2op.Parameters import Parameters\n",
        "from grid2op.Converter import IdToAct,Converter\n",
        "from grid2op.Reward import FlatReward\n",
        "from itertools import product\n",
        "from tqdm.notebook import tqdm "
      ],
      "execution_count": 1,
      "outputs": []
    },
    {
      "cell_type": "markdown",
      "metadata": {
        "id": "4gkYjnRfJHm_"
      },
      "source": [
        "# CREATE ENVIROMENT"
      ]
    },
    {
      "cell_type": "code",
      "metadata": {
        "id": "2aDnlLjJJKwx"
      },
      "source": [
        "p = Parameters()\n",
        "# Disable lines disconnections due to overflows\n",
        "# p.NO_OVERFLOW_DISCONNECTION = True\n",
        "# Allow many steps with overflow\n",
        "# p.NB_TIMESTEP_OVERFLOW_ALLOWED = 1 # Default is 2\n",
        "# No waiting time to reconnect\n",
        "# p.NB_TIMESTEP_RECONNECTION = 0\n",
        "# No authomatic disconnection\n",
        "# p.HARD_OVERFLOW_THRESHOLD = 9999\n",
        "\n",
        "env = grid2op.make('rte_case14_realistic',\n",
        "                   action_class=TopologyChangeAction,\n",
        "                   param=p)\n",
        "\n",
        "# For reproducibility\n",
        "env.seed(0)\n",
        "\n",
        "# Chronic ID and number of episodes\n",
        "CHRONIC_ID = 000\n",
        "episode_count = 100 "
      ],
      "execution_count": 2,
      "outputs": []
    },
    {
      "cell_type": "markdown",
      "metadata": {
        "id": "Taw-_9qXLHu1"
      },
      "source": [
        "##### CUSTOM-MADE FUNCTIONS TO CONVERT GRID2OP ACTION TO ONE HOT ENCODING ACTION"
      ]
    },
    {
      "cell_type": "code",
      "metadata": {
        "id": "34-1ShvF6hpo"
      },
      "source": [
        "n_powerlines = 20\n",
        "n_substations = 14\n",
        "total_bus_actions = 56\n",
        "\n",
        "def create_one_hot_converter(n_powerlines,n_substations,total_bus_actions):\n",
        "  \"\"\"\n",
        "  Creates two 2-d np.arrays used for conversion between grid2op action to one hot encoding action vector used by a neural network\n",
        "  \"\"\"\n",
        "  one_hot_encoding_act_conv = []\n",
        "  env_act_dict_list = []\n",
        "  zero_act = np.zeros((n_powerlines+total_bus_actions,1))\n",
        "\n",
        "  ## Add do nothing action vector (all zeroes)\n",
        "  one_hot_encoding_act_conv.append(zero_act)\n",
        "  env_act_dict_list.append({}) ## {} is the do nothing dictonary for actions in grid2op\n",
        "\n",
        "  ## Powerline change actions\n",
        "  for idx in range(n_powerlines):\n",
        "    one_hot_encoding_act_conv_pwline = zero_act.copy()\n",
        "    one_hot_encoding_act_conv_pwline[total_bus_actions+idx] = 1\n",
        "    one_hot_encoding_act_conv.append(one_hot_encoding_act_conv_pwline)\n",
        "    env_act_dict_list.append({'change_line_status': [idx]}) ## {'change_line_status': [idx]} set an action of changing line status for lineid with id idx\n",
        "\n",
        "\n",
        "  ## Bus change actions\n",
        "  start_slice = 0\n",
        "  for sub_station_id, nb_el in enumerate(env.action_space.sub_info):\n",
        "    one_hot_encoding_act_conv_substation = zero_act.copy()\n",
        "\n",
        "    possible_bus_actions = np.array(list(product('01', repeat=nb_el))).astype(int)\n",
        "    for possible_bus_action in possible_bus_actions:\n",
        "      if possible_bus_action.sum()>0: # Do not include no change action vector\n",
        "        one_hot_encoding_act_conv_substation[start_slice:(start_slice+nb_el)] = possible_bus_action.reshape(-1,1)\n",
        "        one_hot_encoding_act_conv.append(one_hot_encoding_act_conv_substation.copy())\n",
        "        env_act_dict_list.append({\"change_bus\": {\"substations_id\": [(sub_station_id, possible_bus_action.astype(bool))]}})\n",
        "    start_slice += nb_el\n",
        "\n",
        "  one_hot_encoding_act_conv = np.array(one_hot_encoding_act_conv).reshape(len(one_hot_encoding_act_conv),n_powerlines+total_bus_actions)\n",
        "\n",
        "  return one_hot_encoding_act_conv,env_act_dict_list\n",
        "\n",
        "def convert_env_act_to_one_hot_encoding_act(one_hot_encoding_act_conv,env_act):\n",
        "  \"\"\"\n",
        "  Converts an grid2op action (in numpy format) to a one hot encoding vector\n",
        "  \"\"\"\n",
        "  one_hot_encoding_act = np.zeros(len(one_hot_encoding_act_conv))\n",
        "  env_act = env_act.reshape(-1,)\n",
        "  action_idx = (one_hot_encoding_act_conv[:, None] == env_act).all(-1).any(-1)\n",
        "  one_hot_encoding_act[action_idx] = 1\n",
        "  return one_hot_encoding_act\n",
        "\n",
        "def convert_one_hot_encoding_act_to_env_act(env_act_dict_list,one_hot_encoding_act,env=env):\n",
        "  \"\"\"\n",
        "  Converts a one hot encoding action to a grid2op action\n",
        "  \"\"\"\n",
        "  return env.action_space(env_act_dict_list[tmp_.argmax().item()])"
      ],
      "execution_count": 3,
      "outputs": []
    },
    {
      "cell_type": "markdown",
      "metadata": {
        "id": "bxUTlkF-LTbJ"
      },
      "source": [
        "##### SANITY CHECKS OF WHETHER CUSTOM MADE CONVERSIONS WORK"
      ]
    },
    {
      "cell_type": "code",
      "metadata": {
        "colab": {
          "base_uri": "https://localhost:8080/"
        },
        "id": "CDvSVUuhkDTz",
        "outputId": "947f083a-c347-49b3-b0e5-e5f89006daf0"
      },
      "source": [
        "one_hot_encoding_act_conv,env_act_dict_list = create_one_hot_converter(n_powerlines,n_substations,total_bus_actions)\n",
        "\n",
        "my_agent = RandomAgent(env.action_space)\n",
        "all_obs = []\n",
        "obs = env.reset()\n",
        "reward = env.reward_range[0]\n",
        "reward_list = []\n",
        "done = False\n",
        "nb_step = 0\n",
        "action = my_agent.act(obs, reward, done)\n",
        "#print(action.to_vect()[:56])\n",
        "#print(action.to_vect()[-20:])\n",
        "print(\"Action directly from grid2op\")\n",
        "print(action)\n",
        "#print(action.to_dict())\n",
        "tmp_ = convert_env_act_to_one_hot_encoding_act(one_hot_encoding_act_conv,env_act=action.to_vect())\n",
        "my_action = convert_one_hot_encoding_act_to_env_act(env_act_dict_list,tmp_)\n",
        "print(\"Action converted to one hot encoding and back to grid2op action. Should be the same as above\")\n",
        "print(my_action)"
      ],
      "execution_count": 4,
      "outputs": [
        {
          "output_type": "stream",
          "name": "stdout",
          "text": [
            "Action directly from grid2op\nThis action will:\n\t - NOT change anything to the injections\n\t - NOT perform any redispatching action\n\t - NOT force any line status\n\t - NOT switch any line status\n\t - Change the bus of the following element:\n\t \t - switch bus of line (origin) 2 [on substation 1]\n\t \t - switch bus of generator 0 [on substation 1]\n\t - NOT force any particular bus configuration\nAction converted to one hot encoding and back to grid2op action. Should be the same as above\nThis action will:\n\t - NOT change anything to the injections\n\t - NOT perform any redispatching action\n\t - NOT force any line status\n\t - NOT switch any line status\n\t - Change the bus of the following element:\n\t \t - switch bus of line (origin) 2 [on substation 1]\n\t \t - switch bus of generator 0 [on substation 1]\n\t - NOT force any particular bus configuration\n"
          ]
        }
      ]
    },
    {
      "cell_type": "markdown",
      "metadata": {
        "id": "-xSw0pzHJOdn"
      },
      "source": [
        "# PRE-BUILT AGENT: DO NOTHING AGENT"
      ]
    },
    {
      "cell_type": "code",
      "execution_count": 10,
      "metadata": {},
      "outputs": [
        {
          "output_type": "execute_result",
          "data": {
            "text/plain": [
              "8064"
            ]
          },
          "metadata": {},
          "execution_count": 10
        }
      ],
      "source": [
        "env.chronics_handler.max_timestep()"
      ]
    },
    {
      "cell_type": "code",
      "metadata": {
        "colab": {
          "base_uri": "https://localhost:8080/",
          "height": 82,
          "referenced_widgets": [
            "f850c940f17f40298c0729f192bdb6f7",
            "bc57b8b61ecb4ec48cac6bb83998b209",
            "923fe07baf64462ca791db7e88162060",
            "50e0007c147c4e998ba229583e01d22b",
            "f941b2eb8fdb4415a5ac2a8b37b7f25e",
            "8aaf08701f954aef842e7a90fed49b44",
            "ae363b996e324b90b807b61a1c54e2cb",
            "5af14c92cab240638b2ac1da07a8cf11",
            "7d8359c769be43af9dd89cfe717c260d",
            "fcdb8eb710cb4ccfb5edd7f1ad9ae9e0",
            "94560a3e8c054b9885d18f6cc7d6c9e1"
          ]
        },
        "id": "jrDcuB7_zvuO",
        "outputId": "76383d79-b702-47de-d092-6dfc05fa2971"
      },
      "source": [
        "my_agent = DoNothingAgent(env.action_space)\n",
        "all_obs = []\n",
        "obs = env.reset()\n",
        "all_obs.append(obs)\n",
        "reward = env.reward_range[0]\n",
        "reward_list = []\n",
        "done = False\n",
        "nb_step = 0\n",
        "print(\"Do Nothing Agent Simulation\")\n",
        "with tqdm(total=env.chronics_handler.max_timestep()) as pbar:\n",
        "\n",
        "    # env.set_id(CHRONIC_ID)\n",
        "    # ob = env.reset()\n",
        "\n",
        "    while True:\n",
        "        action = my_agent.act(obs, reward, done)\n",
        "        obs, reward, done, _ = env.step(action)\n",
        "        reward_list.append(reward)\n",
        "        pbar.update(1)\n",
        "        if done:\n",
        "            break\n",
        "        all_obs.append(obs)\n",
        "        nb_step += 1\n",
        "\n",
        "reward_list_do_nothing_agent = np.copy(reward_list)\n",
        "print(nb_step)\n"
      ],
      "execution_count": 5,
      "outputs": [
        {
          "output_type": "stream",
          "name": "stdout",
          "text": [
            "Do Nothing Agent Simulation\n"
          ]
        },
        {
          "output_type": "display_data",
          "data": {
            "text/plain": "HBox(children=(FloatProgress(value=0.0, max=8064.0), HTML(value='')))",
            "application/vnd.jupyter.widget-view+json": {
              "version_major": 2,
              "version_minor": 0,
              "model_id": "94b7658ebbf844dda28eecf44c3a8c93"
            }
          },
          "metadata": {}
        },
        {
          "output_type": "stream",
          "name": "stdout",
          "text": [
            "\n1094\n"
          ]
        }
      ]
    },
    {
      "cell_type": "code",
      "metadata": {
        "colab": {
          "base_uri": "https://localhost:8080/"
        },
        "id": "jJXzN3yur7UU",
        "outputId": "7915fb01-0b34-415d-843e-1c7d2feaf5d2"
      },
      "source": [
        "reward_list_do_nothing_agent"
      ],
      "execution_count": null,
      "outputs": [
        {
          "output_type": "execute_result",
          "data": {
            "text/plain": [
              "array([1., 1., 1., ..., 1., 1., 0.], dtype=float32)"
            ]
          },
          "metadata": {
            "tags": []
          },
          "execution_count": 23
        }
      ]
    },
    {
      "cell_type": "markdown",
      "metadata": {
        "id": "Yuzy6V3dLeBh"
      },
      "source": [
        "# PRE-BUILT AGENT: RANDOM ACTION AGENT"
      ]
    },
    {
      "cell_type": "code",
      "metadata": {
        "colab": {
          "base_uri": "https://localhost:8080/",
          "height": 82,
          "referenced_widgets": [
            "a3504c46a64441b794c9a16b3efae8dd",
            "6015263972aa48e791c75acfdbc24dc2",
            "ea29bb02dca2430fa7cacc0b9c71e18d",
            "8f4511f4a4eb44cdaef1128f4724fa99",
            "80dfc6d1d76d42a8a52880c53c85c3b1",
            "5b24025df5154dbcb567ebd37904d08b",
            "0c3dc240230f412eaeb704c560024b17",
            "aee4d4131d10457393816b38cd333047",
            "98149fa84a89478cbfa566174db49603",
            "2cd587fa3d8f47049d2d5562b8d98634",
            "2a6ce2d5631e4f3cbb8ff8c0dc40d005"
          ]
        },
        "id": "PdiVQrzC1rf8",
        "outputId": "f98db777-cc05-4b9e-afa8-184368ea6685"
      },
      "source": [
        "my_agent = RandomAgent(env.action_space)\n",
        "all_obs = []\n",
        "obs = env.reset()\n",
        "all_obs.append(obs)\n",
        "reward = env.reward_range[0]\n",
        "reward_list = []\n",
        "done = False\n",
        "nb_step = 0\n",
        "print(\"Random Agent Simulation\")\n",
        "with tqdm(total=env.chronics_handler.max_timestep()) as pbar:\n",
        "\n",
        "    # env.set_id(CHRONIC_ID)\n",
        "    # ob = env.reset()\n",
        "    \n",
        "    while True:\n",
        "        action = my_agent.act(obs, reward, done)\n",
        "        obs, reward, done, _ = env.step(action)\n",
        "        reward_list.append(reward)\n",
        "        pbar.update(1)\n",
        "        if done:\n",
        "            break\n",
        "        all_obs.append(obs)\n",
        "        nb_step += 1\n",
        "\n",
        "reward_list_random_agent = np.copy(reward_list)\n"
      ],
      "execution_count": 6,
      "outputs": [
        {
          "output_type": "stream",
          "name": "stdout",
          "text": [
            "Random Agent Simulation\n"
          ]
        },
        {
          "output_type": "display_data",
          "data": {
            "text/plain": "HBox(children=(FloatProgress(value=0.0, max=8064.0), HTML(value='')))",
            "application/vnd.jupyter.widget-view+json": {
              "version_major": 2,
              "version_minor": 0,
              "model_id": "2c0d45a3b7f84ddcad359b09563d8962"
            }
          },
          "metadata": {}
        },
        {
          "output_type": "stream",
          "name": "stdout",
          "text": [
            "\n"
          ]
        }
      ]
    },
    {
      "cell_type": "markdown",
      "metadata": {
        "id": "DkG0bNV2LgDj"
      },
      "source": [
        "# PRE-BUILT AGENT: POWER SWITCH AGENT"
      ]
    },
    {
      "cell_type": "code",
      "metadata": {
        "colab": {
          "base_uri": "https://localhost:8080/",
          "height": 82,
          "referenced_widgets": [
            "5361225a78ca4f4caeeaf12c99bf4373",
            "aec75469212a41c2b04f7cd8a00ea592",
            "cac76db14fbc43688f55748bcf2b1e40",
            "3b6e3607af8a423da2886cc31d38561d",
            "5f29fd8df1b54293839793fe5970e147",
            "58a02f2c06484f438997fcae75649368",
            "9d73ddaca0de4b3c9cfe11e925100a0e",
            "ce6471e788ad4389bc5398500bd02bae",
            "b3b44b7720b94c9f944cf97f0ce40b06",
            "f8b77c3f76654b1794ac9d1cb2dc280c",
            "77eb5a0c2a6e40d29c44d452cfeb878b"
          ]
        },
        "id": "ODbKAS9y3I4r",
        "outputId": "6d795dea-849c-4cc5-fada-c4e32fb0b1a4"
      },
      "source": [
        "env_all_actions_available = grid2op.make('rte_case14_realistic',\n",
        "                   reward_class=FlatReward,\n",
        "                   param=p)\n",
        "my_agent = PowerLineSwitch(env_all_actions_available.action_space)\n",
        "all_obs = []\n",
        "obs = env_all_actions_available.reset()\n",
        "all_obs.append(obs)\n",
        "reward = env_all_actions_available.reward_range[0]\n",
        "reward_list = []\n",
        "done = False\n",
        "nb_step = 0\n",
        "print(\"Power Line Switch Agent Simulation\")\n",
        "with tqdm(total=env_all_actions_available.chronics_handler.max_timestep()) as pbar:\n",
        "\n",
        "    # env.set_id(CHRONIC_ID)\n",
        "    # ob = env.reset()\n",
        "\n",
        "    while True:\n",
        "        action = my_agent.act(obs, reward, done)\n",
        "        obs, reward, done, _ = env_all_actions_available.step(action)\n",
        "        reward_list.append(reward)\n",
        "        pbar.update(1)\n",
        "        if done:\n",
        "            break\n",
        "        all_obs.append(obs)\n",
        "        nb_step += 1\n",
        "\n",
        "reward_power_line_switch_agent = np.copy(reward_list)\n"
      ],
      "execution_count": 7,
      "outputs": [
        {
          "output_type": "stream",
          "name": "stdout",
          "text": [
            "Power Line Switch Agent Simulation\n"
          ]
        },
        {
          "output_type": "display_data",
          "data": {
            "text/plain": "HBox(children=(FloatProgress(value=0.0, max=8064.0), HTML(value='')))",
            "application/vnd.jupyter.widget-view+json": {
              "version_major": 2,
              "version_minor": 0,
              "model_id": "468b6b542e244e898ee2f1f603bc655c"
            }
          },
          "metadata": {}
        },
        {
          "output_type": "stream",
          "name": "stdout",
          "text": [
            "\n"
          ]
        }
      ]
    },
    {
      "cell_type": "markdown",
      "metadata": {
        "id": "csrcnm9ALjRA"
      },
      "source": [
        "# GRAPHICAL COMPARISON OF PRE-BUILT AGENTS"
      ]
    },
    {
      "cell_type": "code",
      "metadata": {
        "colab": {
          "base_uri": "https://localhost:8080/",
          "height": 369
        },
        "id": "FncvWlavL5bx",
        "outputId": "342a6781-91a5-4105-a405-086a5e9f53c0"
      },
      "source": [
        "import seaborn as sns\n",
        "import matplotlib.pyplot as plt\n",
        "\n",
        "nested_lists = [reward_list_do_nothing_agent,reward_list_random_agent,reward_power_line_switch_agent]\n",
        "lists_to_df  = []\n",
        "\n",
        "for nested_list in  nested_lists:\n",
        "  len_list = len(nested_list)\n",
        "  final_value = nested_list[-1]\n",
        "  list_ = np.repeat(final_value,env.chronics_handler.max_timestep())\n",
        "  list_[:len_list] = nested_list\n",
        "  lists_to_df.append(list_)\n",
        "\n",
        "df_pre_built_agents = pd.DataFrame(lists_to_df)\\\n",
        ".transpose()\\\n",
        ".rename(columns={0:'do_nothing_agent',1:'random_agent',2:'switch_power_line_agent'})\\\n",
        ".stack()\\\n",
        ".reset_index()\\\n",
        ".rename(columns={'level_0':'iteration','level_1':'agent_type',0:'reward'})\n",
        "\n",
        "\n",
        "fig,ax = plt.subplots(1,1,figsize=(7,5))\n",
        "sns.lineplot(x='iteration',y='reward',hue='agent_type',ax=ax,data=df_pre_built_agents)\n",
        "ax.set_xlabel(\"# of iterations\")\n",
        "ax.set_ylabel(\"Reward\")\n",
        "ax.set_title(\"Performance of pre-built grid2op agents\\n(Only actions available are pwline switch and topology set action)\")\n",
        "ax.legend(['Do nothing agent','Random actions agent','Switch Power Line agent'])\n",
        "plt.tight_layout()\n",
        "plt.show()\n",
        "# df_pre_built_agents = pd.DataFrame({'random_agent':reward_list_random_agent,\n",
        "#                                     'power_line_switch_agent':reward_power_line_switch_agent\n",
        "#                                     })\n",
        "# df_pre_built_agents"
      ],
      "execution_count": 8,
      "outputs": [
        {
          "output_type": "display_data",
          "data": {
            "text/plain": "<Figure size 504x360 with 1 Axes>",
            "image/svg+xml": "<?xml version=\"1.0\" encoding=\"utf-8\" standalone=\"no\"?>\n<!DOCTYPE svg PUBLIC \"-//W3C//DTD SVG 1.1//EN\"\n  \"http://www.w3.org/Graphics/SVG/1.1/DTD/svg11.dtd\">\n<!-- Created with matplotlib (https://matplotlib.org/) -->\n<svg height=\"349.71175pt\" version=\"1.1\" viewBox=\"0 0 493.165625 349.71175\" width=\"493.165625pt\" xmlns=\"http://www.w3.org/2000/svg\" xmlns:xlink=\"http://www.w3.org/1999/xlink\">\n <defs>\n  <style type=\"text/css\">\n*{stroke-linecap:butt;stroke-linejoin:round;}\n  </style>\n </defs>\n <g id=\"figure_1\">\n  <g id=\"patch_1\">\n   <path d=\"M 0 349.71175 \nL 493.165625 349.71175 \nL 493.165625 0 \nL 0 0 \nz\n\" style=\"fill:none;\"/>\n  </g>\n  <g id=\"axes_1\">\n   <g id=\"patch_2\">\n    <path d=\"M 53.328125 312.1555 \nL 485.965625 312.1555 \nL 485.965625 35.7555 \nL 53.328125 35.7555 \nz\n\" style=\"fill:#ffffff;\"/>\n   </g>\n   <g id=\"matplotlib.axis_1\">\n    <g id=\"xtick_1\">\n     <g id=\"line2d_1\">\n      <defs>\n       <path d=\"M 0 0 \nL 0 3.5 \n\" id=\"maff705b366\" style=\"stroke:#000000;stroke-width:0.8;\"/>\n      </defs>\n      <g>\n       <use style=\"stroke:#000000;stroke-width:0.8;\" x=\"72.993466\" xlink:href=\"#maff705b366\" y=\"312.1555\"/>\n      </g>\n     </g>\n     <g id=\"text_1\">\n      <!-- 0 -->\n      <defs>\n       <path d=\"M 31.78125 66.40625 \nQ 24.171875 66.40625 20.328125 58.90625 \nQ 16.5 51.421875 16.5 36.375 \nQ 16.5 21.390625 20.328125 13.890625 \nQ 24.171875 6.390625 31.78125 6.390625 \nQ 39.453125 6.390625 43.28125 13.890625 \nQ 47.125 21.390625 47.125 36.375 \nQ 47.125 51.421875 43.28125 58.90625 \nQ 39.453125 66.40625 31.78125 66.40625 \nz\nM 31.78125 74.21875 \nQ 44.046875 74.21875 50.515625 64.515625 \nQ 56.984375 54.828125 56.984375 36.375 \nQ 56.984375 17.96875 50.515625 8.265625 \nQ 44.046875 -1.421875 31.78125 -1.421875 \nQ 19.53125 -1.421875 13.0625 8.265625 \nQ 6.59375 17.96875 6.59375 36.375 \nQ 6.59375 54.828125 13.0625 64.515625 \nQ 19.53125 74.21875 31.78125 74.21875 \nz\n\" id=\"DejaVuSans-48\"/>\n      </defs>\n      <g transform=\"translate(69.812216 326.753937)scale(0.1 -0.1)\">\n       <use xlink:href=\"#DejaVuSans-48\"/>\n      </g>\n     </g>\n    </g>\n    <g id=\"xtick_2\">\n     <g id=\"line2d_2\">\n      <g>\n       <use style=\"stroke:#000000;stroke-width:0.8;\" x=\"121.772682\" xlink:href=\"#maff705b366\" y=\"312.1555\"/>\n      </g>\n     </g>\n     <g id=\"text_2\">\n      <!-- 1000 -->\n      <defs>\n       <path d=\"M 12.40625 8.296875 \nL 28.515625 8.296875 \nL 28.515625 63.921875 \nL 10.984375 60.40625 \nL 10.984375 69.390625 \nL 28.421875 72.90625 \nL 38.28125 72.90625 \nL 38.28125 8.296875 \nL 54.390625 8.296875 \nL 54.390625 0 \nL 12.40625 0 \nz\n\" id=\"DejaVuSans-49\"/>\n      </defs>\n      <g transform=\"translate(109.047682 326.753937)scale(0.1 -0.1)\">\n       <use xlink:href=\"#DejaVuSans-49\"/>\n       <use x=\"63.623047\" xlink:href=\"#DejaVuSans-48\"/>\n       <use x=\"127.246094\" xlink:href=\"#DejaVuSans-48\"/>\n       <use x=\"190.869141\" xlink:href=\"#DejaVuSans-48\"/>\n      </g>\n     </g>\n    </g>\n    <g id=\"xtick_3\">\n     <g id=\"line2d_3\">\n      <g>\n       <use style=\"stroke:#000000;stroke-width:0.8;\" x=\"170.551898\" xlink:href=\"#maff705b366\" y=\"312.1555\"/>\n      </g>\n     </g>\n     <g id=\"text_3\">\n      <!-- 2000 -->\n      <defs>\n       <path d=\"M 19.1875 8.296875 \nL 53.609375 8.296875 \nL 53.609375 0 \nL 7.328125 0 \nL 7.328125 8.296875 \nQ 12.9375 14.109375 22.625 23.890625 \nQ 32.328125 33.6875 34.8125 36.53125 \nQ 39.546875 41.84375 41.421875 45.53125 \nQ 43.3125 49.21875 43.3125 52.78125 \nQ 43.3125 58.59375 39.234375 62.25 \nQ 35.15625 65.921875 28.609375 65.921875 \nQ 23.96875 65.921875 18.8125 64.3125 \nQ 13.671875 62.703125 7.8125 59.421875 \nL 7.8125 69.390625 \nQ 13.765625 71.78125 18.9375 73 \nQ 24.125 74.21875 28.421875 74.21875 \nQ 39.75 74.21875 46.484375 68.546875 \nQ 53.21875 62.890625 53.21875 53.421875 \nQ 53.21875 48.921875 51.53125 44.890625 \nQ 49.859375 40.875 45.40625 35.40625 \nQ 44.1875 33.984375 37.640625 27.21875 \nQ 31.109375 20.453125 19.1875 8.296875 \nz\n\" id=\"DejaVuSans-50\"/>\n      </defs>\n      <g transform=\"translate(157.826898 326.753937)scale(0.1 -0.1)\">\n       <use xlink:href=\"#DejaVuSans-50\"/>\n       <use x=\"63.623047\" xlink:href=\"#DejaVuSans-48\"/>\n       <use x=\"127.246094\" xlink:href=\"#DejaVuSans-48\"/>\n       <use x=\"190.869141\" xlink:href=\"#DejaVuSans-48\"/>\n      </g>\n     </g>\n    </g>\n    <g id=\"xtick_4\">\n     <g id=\"line2d_4\">\n      <g>\n       <use style=\"stroke:#000000;stroke-width:0.8;\" x=\"219.331114\" xlink:href=\"#maff705b366\" y=\"312.1555\"/>\n      </g>\n     </g>\n     <g id=\"text_4\">\n      <!-- 3000 -->\n      <defs>\n       <path d=\"M 40.578125 39.3125 \nQ 47.65625 37.796875 51.625 33 \nQ 55.609375 28.21875 55.609375 21.1875 \nQ 55.609375 10.40625 48.1875 4.484375 \nQ 40.765625 -1.421875 27.09375 -1.421875 \nQ 22.515625 -1.421875 17.65625 -0.515625 \nQ 12.796875 0.390625 7.625 2.203125 \nL 7.625 11.71875 \nQ 11.71875 9.328125 16.59375 8.109375 \nQ 21.484375 6.890625 26.8125 6.890625 \nQ 36.078125 6.890625 40.9375 10.546875 \nQ 45.796875 14.203125 45.796875 21.1875 \nQ 45.796875 27.640625 41.28125 31.265625 \nQ 36.765625 34.90625 28.71875 34.90625 \nL 20.21875 34.90625 \nL 20.21875 43.015625 \nL 29.109375 43.015625 \nQ 36.375 43.015625 40.234375 45.921875 \nQ 44.09375 48.828125 44.09375 54.296875 \nQ 44.09375 59.90625 40.109375 62.90625 \nQ 36.140625 65.921875 28.71875 65.921875 \nQ 24.65625 65.921875 20.015625 65.03125 \nQ 15.375 64.15625 9.8125 62.3125 \nL 9.8125 71.09375 \nQ 15.4375 72.65625 20.34375 73.4375 \nQ 25.25 74.21875 29.59375 74.21875 \nQ 40.828125 74.21875 47.359375 69.109375 \nQ 53.90625 64.015625 53.90625 55.328125 \nQ 53.90625 49.265625 50.4375 45.09375 \nQ 46.96875 40.921875 40.578125 39.3125 \nz\n\" id=\"DejaVuSans-51\"/>\n      </defs>\n      <g transform=\"translate(206.606114 326.753937)scale(0.1 -0.1)\">\n       <use xlink:href=\"#DejaVuSans-51\"/>\n       <use x=\"63.623047\" xlink:href=\"#DejaVuSans-48\"/>\n       <use x=\"127.246094\" xlink:href=\"#DejaVuSans-48\"/>\n       <use x=\"190.869141\" xlink:href=\"#DejaVuSans-48\"/>\n      </g>\n     </g>\n    </g>\n    <g id=\"xtick_5\">\n     <g id=\"line2d_5\">\n      <g>\n       <use style=\"stroke:#000000;stroke-width:0.8;\" x=\"268.11033\" xlink:href=\"#maff705b366\" y=\"312.1555\"/>\n      </g>\n     </g>\n     <g id=\"text_5\">\n      <!-- 4000 -->\n      <defs>\n       <path d=\"M 37.796875 64.3125 \nL 12.890625 25.390625 \nL 37.796875 25.390625 \nz\nM 35.203125 72.90625 \nL 47.609375 72.90625 \nL 47.609375 25.390625 \nL 58.015625 25.390625 \nL 58.015625 17.1875 \nL 47.609375 17.1875 \nL 47.609375 0 \nL 37.796875 0 \nL 37.796875 17.1875 \nL 4.890625 17.1875 \nL 4.890625 26.703125 \nz\n\" id=\"DejaVuSans-52\"/>\n      </defs>\n      <g transform=\"translate(255.38533 326.753937)scale(0.1 -0.1)\">\n       <use xlink:href=\"#DejaVuSans-52\"/>\n       <use x=\"63.623047\" xlink:href=\"#DejaVuSans-48\"/>\n       <use x=\"127.246094\" xlink:href=\"#DejaVuSans-48\"/>\n       <use x=\"190.869141\" xlink:href=\"#DejaVuSans-48\"/>\n      </g>\n     </g>\n    </g>\n    <g id=\"xtick_6\">\n     <g id=\"line2d_6\">\n      <g>\n       <use style=\"stroke:#000000;stroke-width:0.8;\" x=\"316.889546\" xlink:href=\"#maff705b366\" y=\"312.1555\"/>\n      </g>\n     </g>\n     <g id=\"text_6\">\n      <!-- 5000 -->\n      <defs>\n       <path d=\"M 10.796875 72.90625 \nL 49.515625 72.90625 \nL 49.515625 64.59375 \nL 19.828125 64.59375 \nL 19.828125 46.734375 \nQ 21.96875 47.46875 24.109375 47.828125 \nQ 26.265625 48.1875 28.421875 48.1875 \nQ 40.625 48.1875 47.75 41.5 \nQ 54.890625 34.8125 54.890625 23.390625 \nQ 54.890625 11.625 47.5625 5.09375 \nQ 40.234375 -1.421875 26.90625 -1.421875 \nQ 22.3125 -1.421875 17.546875 -0.640625 \nQ 12.796875 0.140625 7.71875 1.703125 \nL 7.71875 11.625 \nQ 12.109375 9.234375 16.796875 8.0625 \nQ 21.484375 6.890625 26.703125 6.890625 \nQ 35.15625 6.890625 40.078125 11.328125 \nQ 45.015625 15.765625 45.015625 23.390625 \nQ 45.015625 31 40.078125 35.4375 \nQ 35.15625 39.890625 26.703125 39.890625 \nQ 22.75 39.890625 18.8125 39.015625 \nQ 14.890625 38.140625 10.796875 36.28125 \nz\n\" id=\"DejaVuSans-53\"/>\n      </defs>\n      <g transform=\"translate(304.164546 326.753937)scale(0.1 -0.1)\">\n       <use xlink:href=\"#DejaVuSans-53\"/>\n       <use x=\"63.623047\" xlink:href=\"#DejaVuSans-48\"/>\n       <use x=\"127.246094\" xlink:href=\"#DejaVuSans-48\"/>\n       <use x=\"190.869141\" xlink:href=\"#DejaVuSans-48\"/>\n      </g>\n     </g>\n    </g>\n    <g id=\"xtick_7\">\n     <g id=\"line2d_7\">\n      <g>\n       <use style=\"stroke:#000000;stroke-width:0.8;\" x=\"365.668762\" xlink:href=\"#maff705b366\" y=\"312.1555\"/>\n      </g>\n     </g>\n     <g id=\"text_7\">\n      <!-- 6000 -->\n      <defs>\n       <path d=\"M 33.015625 40.375 \nQ 26.375 40.375 22.484375 35.828125 \nQ 18.609375 31.296875 18.609375 23.390625 \nQ 18.609375 15.53125 22.484375 10.953125 \nQ 26.375 6.390625 33.015625 6.390625 \nQ 39.65625 6.390625 43.53125 10.953125 \nQ 47.40625 15.53125 47.40625 23.390625 \nQ 47.40625 31.296875 43.53125 35.828125 \nQ 39.65625 40.375 33.015625 40.375 \nz\nM 52.59375 71.296875 \nL 52.59375 62.3125 \nQ 48.875 64.0625 45.09375 64.984375 \nQ 41.3125 65.921875 37.59375 65.921875 \nQ 27.828125 65.921875 22.671875 59.328125 \nQ 17.53125 52.734375 16.796875 39.40625 \nQ 19.671875 43.65625 24.015625 45.921875 \nQ 28.375 48.1875 33.59375 48.1875 \nQ 44.578125 48.1875 50.953125 41.515625 \nQ 57.328125 34.859375 57.328125 23.390625 \nQ 57.328125 12.15625 50.6875 5.359375 \nQ 44.046875 -1.421875 33.015625 -1.421875 \nQ 20.359375 -1.421875 13.671875 8.265625 \nQ 6.984375 17.96875 6.984375 36.375 \nQ 6.984375 53.65625 15.1875 63.9375 \nQ 23.390625 74.21875 37.203125 74.21875 \nQ 40.921875 74.21875 44.703125 73.484375 \nQ 48.484375 72.75 52.59375 71.296875 \nz\n\" id=\"DejaVuSans-54\"/>\n      </defs>\n      <g transform=\"translate(352.943762 326.753937)scale(0.1 -0.1)\">\n       <use xlink:href=\"#DejaVuSans-54\"/>\n       <use x=\"63.623047\" xlink:href=\"#DejaVuSans-48\"/>\n       <use x=\"127.246094\" xlink:href=\"#DejaVuSans-48\"/>\n       <use x=\"190.869141\" xlink:href=\"#DejaVuSans-48\"/>\n      </g>\n     </g>\n    </g>\n    <g id=\"xtick_8\">\n     <g id=\"line2d_8\">\n      <g>\n       <use style=\"stroke:#000000;stroke-width:0.8;\" x=\"414.447978\" xlink:href=\"#maff705b366\" y=\"312.1555\"/>\n      </g>\n     </g>\n     <g id=\"text_8\">\n      <!-- 7000 -->\n      <defs>\n       <path d=\"M 8.203125 72.90625 \nL 55.078125 72.90625 \nL 55.078125 68.703125 \nL 28.609375 0 \nL 18.3125 0 \nL 43.21875 64.59375 \nL 8.203125 64.59375 \nz\n\" id=\"DejaVuSans-55\"/>\n      </defs>\n      <g transform=\"translate(401.722978 326.753937)scale(0.1 -0.1)\">\n       <use xlink:href=\"#DejaVuSans-55\"/>\n       <use x=\"63.623047\" xlink:href=\"#DejaVuSans-48\"/>\n       <use x=\"127.246094\" xlink:href=\"#DejaVuSans-48\"/>\n       <use x=\"190.869141\" xlink:href=\"#DejaVuSans-48\"/>\n      </g>\n     </g>\n    </g>\n    <g id=\"xtick_9\">\n     <g id=\"line2d_9\">\n      <g>\n       <use style=\"stroke:#000000;stroke-width:0.8;\" x=\"463.227193\" xlink:href=\"#maff705b366\" y=\"312.1555\"/>\n      </g>\n     </g>\n     <g id=\"text_9\">\n      <!-- 8000 -->\n      <defs>\n       <path d=\"M 31.78125 34.625 \nQ 24.75 34.625 20.71875 30.859375 \nQ 16.703125 27.09375 16.703125 20.515625 \nQ 16.703125 13.921875 20.71875 10.15625 \nQ 24.75 6.390625 31.78125 6.390625 \nQ 38.8125 6.390625 42.859375 10.171875 \nQ 46.921875 13.96875 46.921875 20.515625 \nQ 46.921875 27.09375 42.890625 30.859375 \nQ 38.875 34.625 31.78125 34.625 \nz\nM 21.921875 38.8125 \nQ 15.578125 40.375 12.03125 44.71875 \nQ 8.5 49.078125 8.5 55.328125 \nQ 8.5 64.0625 14.71875 69.140625 \nQ 20.953125 74.21875 31.78125 74.21875 \nQ 42.671875 74.21875 48.875 69.140625 \nQ 55.078125 64.0625 55.078125 55.328125 \nQ 55.078125 49.078125 51.53125 44.71875 \nQ 48 40.375 41.703125 38.8125 \nQ 48.828125 37.15625 52.796875 32.3125 \nQ 56.78125 27.484375 56.78125 20.515625 \nQ 56.78125 9.90625 50.3125 4.234375 \nQ 43.84375 -1.421875 31.78125 -1.421875 \nQ 19.734375 -1.421875 13.25 4.234375 \nQ 6.78125 9.90625 6.78125 20.515625 \nQ 6.78125 27.484375 10.78125 32.3125 \nQ 14.796875 37.15625 21.921875 38.8125 \nz\nM 18.3125 54.390625 \nQ 18.3125 48.734375 21.84375 45.5625 \nQ 25.390625 42.390625 31.78125 42.390625 \nQ 38.140625 42.390625 41.71875 45.5625 \nQ 45.3125 48.734375 45.3125 54.390625 \nQ 45.3125 60.0625 41.71875 63.234375 \nQ 38.140625 66.40625 31.78125 66.40625 \nQ 25.390625 66.40625 21.84375 63.234375 \nQ 18.3125 60.0625 18.3125 54.390625 \nz\n\" id=\"DejaVuSans-56\"/>\n      </defs>\n      <g transform=\"translate(450.502193 326.753937)scale(0.1 -0.1)\">\n       <use xlink:href=\"#DejaVuSans-56\"/>\n       <use x=\"63.623047\" xlink:href=\"#DejaVuSans-48\"/>\n       <use x=\"127.246094\" xlink:href=\"#DejaVuSans-48\"/>\n       <use x=\"190.869141\" xlink:href=\"#DejaVuSans-48\"/>\n      </g>\n     </g>\n    </g>\n    <g id=\"text_10\">\n     <!-- # of iterations -->\n     <defs>\n      <path d=\"M 51.125 44 \nL 36.921875 44 \nL 32.8125 27.6875 \nL 47.125 27.6875 \nz\nM 43.796875 71.78125 \nL 38.71875 51.515625 \nL 52.984375 51.515625 \nL 58.109375 71.78125 \nL 65.921875 71.78125 \nL 60.890625 51.515625 \nL 76.125 51.515625 \nL 76.125 44 \nL 58.984375 44 \nL 54.984375 27.6875 \nL 70.515625 27.6875 \nL 70.515625 20.21875 \nL 53.078125 20.21875 \nL 48 0 \nL 40.1875 0 \nL 45.21875 20.21875 \nL 30.90625 20.21875 \nL 25.875 0 \nL 18.015625 0 \nL 23.09375 20.21875 \nL 7.71875 20.21875 \nL 7.71875 27.6875 \nL 24.90625 27.6875 \nL 29 44 \nL 13.28125 44 \nL 13.28125 51.515625 \nL 30.90625 51.515625 \nL 35.890625 71.78125 \nz\n\" id=\"DejaVuSans-35\"/>\n      <path id=\"DejaVuSans-32\"/>\n      <path d=\"M 30.609375 48.390625 \nQ 23.390625 48.390625 19.1875 42.75 \nQ 14.984375 37.109375 14.984375 27.296875 \nQ 14.984375 17.484375 19.15625 11.84375 \nQ 23.34375 6.203125 30.609375 6.203125 \nQ 37.796875 6.203125 41.984375 11.859375 \nQ 46.1875 17.53125 46.1875 27.296875 \nQ 46.1875 37.015625 41.984375 42.703125 \nQ 37.796875 48.390625 30.609375 48.390625 \nz\nM 30.609375 56 \nQ 42.328125 56 49.015625 48.375 \nQ 55.71875 40.765625 55.71875 27.296875 \nQ 55.71875 13.875 49.015625 6.21875 \nQ 42.328125 -1.421875 30.609375 -1.421875 \nQ 18.84375 -1.421875 12.171875 6.21875 \nQ 5.515625 13.875 5.515625 27.296875 \nQ 5.515625 40.765625 12.171875 48.375 \nQ 18.84375 56 30.609375 56 \nz\n\" id=\"DejaVuSans-111\"/>\n      <path d=\"M 37.109375 75.984375 \nL 37.109375 68.5 \nL 28.515625 68.5 \nQ 23.6875 68.5 21.796875 66.546875 \nQ 19.921875 64.59375 19.921875 59.515625 \nL 19.921875 54.6875 \nL 34.71875 54.6875 \nL 34.71875 47.703125 \nL 19.921875 47.703125 \nL 19.921875 0 \nL 10.890625 0 \nL 10.890625 47.703125 \nL 2.296875 47.703125 \nL 2.296875 54.6875 \nL 10.890625 54.6875 \nL 10.890625 58.5 \nQ 10.890625 67.625 15.140625 71.796875 \nQ 19.390625 75.984375 28.609375 75.984375 \nz\n\" id=\"DejaVuSans-102\"/>\n      <path d=\"M 9.421875 54.6875 \nL 18.40625 54.6875 \nL 18.40625 0 \nL 9.421875 0 \nz\nM 9.421875 75.984375 \nL 18.40625 75.984375 \nL 18.40625 64.59375 \nL 9.421875 64.59375 \nz\n\" id=\"DejaVuSans-105\"/>\n      <path d=\"M 18.3125 70.21875 \nL 18.3125 54.6875 \nL 36.8125 54.6875 \nL 36.8125 47.703125 \nL 18.3125 47.703125 \nL 18.3125 18.015625 \nQ 18.3125 11.328125 20.140625 9.421875 \nQ 21.96875 7.515625 27.59375 7.515625 \nL 36.8125 7.515625 \nL 36.8125 0 \nL 27.59375 0 \nQ 17.1875 0 13.234375 3.875 \nQ 9.28125 7.765625 9.28125 18.015625 \nL 9.28125 47.703125 \nL 2.6875 47.703125 \nL 2.6875 54.6875 \nL 9.28125 54.6875 \nL 9.28125 70.21875 \nz\n\" id=\"DejaVuSans-116\"/>\n      <path d=\"M 56.203125 29.59375 \nL 56.203125 25.203125 \nL 14.890625 25.203125 \nQ 15.484375 15.921875 20.484375 11.0625 \nQ 25.484375 6.203125 34.421875 6.203125 \nQ 39.59375 6.203125 44.453125 7.46875 \nQ 49.3125 8.734375 54.109375 11.28125 \nL 54.109375 2.78125 \nQ 49.265625 0.734375 44.1875 -0.34375 \nQ 39.109375 -1.421875 33.890625 -1.421875 \nQ 20.796875 -1.421875 13.15625 6.1875 \nQ 5.515625 13.8125 5.515625 26.8125 \nQ 5.515625 40.234375 12.765625 48.109375 \nQ 20.015625 56 32.328125 56 \nQ 43.359375 56 49.78125 48.890625 \nQ 56.203125 41.796875 56.203125 29.59375 \nz\nM 47.21875 32.234375 \nQ 47.125 39.59375 43.09375 43.984375 \nQ 39.0625 48.390625 32.421875 48.390625 \nQ 24.90625 48.390625 20.390625 44.140625 \nQ 15.875 39.890625 15.1875 32.171875 \nz\n\" id=\"DejaVuSans-101\"/>\n      <path d=\"M 41.109375 46.296875 \nQ 39.59375 47.171875 37.8125 47.578125 \nQ 36.03125 48 33.890625 48 \nQ 26.265625 48 22.1875 43.046875 \nQ 18.109375 38.09375 18.109375 28.8125 \nL 18.109375 0 \nL 9.078125 0 \nL 9.078125 54.6875 \nL 18.109375 54.6875 \nL 18.109375 46.1875 \nQ 20.953125 51.171875 25.484375 53.578125 \nQ 30.03125 56 36.53125 56 \nQ 37.453125 56 38.578125 55.875 \nQ 39.703125 55.765625 41.0625 55.515625 \nz\n\" id=\"DejaVuSans-114\"/>\n      <path d=\"M 34.28125 27.484375 \nQ 23.390625 27.484375 19.1875 25 \nQ 14.984375 22.515625 14.984375 16.5 \nQ 14.984375 11.71875 18.140625 8.90625 \nQ 21.296875 6.109375 26.703125 6.109375 \nQ 34.1875 6.109375 38.703125 11.40625 \nQ 43.21875 16.703125 43.21875 25.484375 \nL 43.21875 27.484375 \nz\nM 52.203125 31.203125 \nL 52.203125 0 \nL 43.21875 0 \nL 43.21875 8.296875 \nQ 40.140625 3.328125 35.546875 0.953125 \nQ 30.953125 -1.421875 24.3125 -1.421875 \nQ 15.921875 -1.421875 10.953125 3.296875 \nQ 6 8.015625 6 15.921875 \nQ 6 25.140625 12.171875 29.828125 \nQ 18.359375 34.515625 30.609375 34.515625 \nL 43.21875 34.515625 \nL 43.21875 35.40625 \nQ 43.21875 41.609375 39.140625 45 \nQ 35.0625 48.390625 27.6875 48.390625 \nQ 23 48.390625 18.546875 47.265625 \nQ 14.109375 46.140625 10.015625 43.890625 \nL 10.015625 52.203125 \nQ 14.9375 54.109375 19.578125 55.046875 \nQ 24.21875 56 28.609375 56 \nQ 40.484375 56 46.34375 49.84375 \nQ 52.203125 43.703125 52.203125 31.203125 \nz\n\" id=\"DejaVuSans-97\"/>\n      <path d=\"M 54.890625 33.015625 \nL 54.890625 0 \nL 45.90625 0 \nL 45.90625 32.71875 \nQ 45.90625 40.484375 42.875 44.328125 \nQ 39.84375 48.1875 33.796875 48.1875 \nQ 26.515625 48.1875 22.3125 43.546875 \nQ 18.109375 38.921875 18.109375 30.90625 \nL 18.109375 0 \nL 9.078125 0 \nL 9.078125 54.6875 \nL 18.109375 54.6875 \nL 18.109375 46.1875 \nQ 21.34375 51.125 25.703125 53.5625 \nQ 30.078125 56 35.796875 56 \nQ 45.21875 56 50.046875 50.171875 \nQ 54.890625 44.34375 54.890625 33.015625 \nz\n\" id=\"DejaVuSans-110\"/>\n      <path d=\"M 44.28125 53.078125 \nL 44.28125 44.578125 \nQ 40.484375 46.53125 36.375 47.5 \nQ 32.28125 48.484375 27.875 48.484375 \nQ 21.1875 48.484375 17.84375 46.4375 \nQ 14.5 44.390625 14.5 40.28125 \nQ 14.5 37.15625 16.890625 35.375 \nQ 19.28125 33.59375 26.515625 31.984375 \nL 29.59375 31.296875 \nQ 39.15625 29.25 43.1875 25.515625 \nQ 47.21875 21.78125 47.21875 15.09375 \nQ 47.21875 7.46875 41.1875 3.015625 \nQ 35.15625 -1.421875 24.609375 -1.421875 \nQ 20.21875 -1.421875 15.453125 -0.5625 \nQ 10.6875 0.296875 5.421875 2 \nL 5.421875 11.28125 \nQ 10.40625 8.6875 15.234375 7.390625 \nQ 20.0625 6.109375 24.8125 6.109375 \nQ 31.15625 6.109375 34.5625 8.28125 \nQ 37.984375 10.453125 37.984375 14.40625 \nQ 37.984375 18.0625 35.515625 20.015625 \nQ 33.0625 21.96875 24.703125 23.78125 \nL 21.578125 24.515625 \nQ 13.234375 26.265625 9.515625 29.90625 \nQ 5.8125 33.546875 5.8125 39.890625 \nQ 5.8125 47.609375 11.28125 51.796875 \nQ 16.75 56 26.8125 56 \nQ 31.78125 56 36.171875 55.265625 \nQ 40.578125 54.546875 44.28125 53.078125 \nz\n\" id=\"DejaVuSans-115\"/>\n     </defs>\n     <g transform=\"translate(233.732031 340.432062)scale(0.1 -0.1)\">\n      <use xlink:href=\"#DejaVuSans-35\"/>\n      <use x=\"83.789062\" xlink:href=\"#DejaVuSans-32\"/>\n      <use x=\"115.576172\" xlink:href=\"#DejaVuSans-111\"/>\n      <use x=\"176.757812\" xlink:href=\"#DejaVuSans-102\"/>\n      <use x=\"211.962891\" xlink:href=\"#DejaVuSans-32\"/>\n      <use x=\"243.75\" xlink:href=\"#DejaVuSans-105\"/>\n      <use x=\"271.533203\" xlink:href=\"#DejaVuSans-116\"/>\n      <use x=\"310.742188\" xlink:href=\"#DejaVuSans-101\"/>\n      <use x=\"372.265625\" xlink:href=\"#DejaVuSans-114\"/>\n      <use x=\"413.378906\" xlink:href=\"#DejaVuSans-97\"/>\n      <use x=\"474.658203\" xlink:href=\"#DejaVuSans-116\"/>\n      <use x=\"513.867188\" xlink:href=\"#DejaVuSans-105\"/>\n      <use x=\"541.650391\" xlink:href=\"#DejaVuSans-111\"/>\n      <use x=\"602.832031\" xlink:href=\"#DejaVuSans-110\"/>\n      <use x=\"666.210938\" xlink:href=\"#DejaVuSans-115\"/>\n     </g>\n    </g>\n   </g>\n   <g id=\"matplotlib.axis_2\">\n    <g id=\"ytick_1\">\n     <g id=\"line2d_10\">\n      <defs>\n       <path d=\"M 0 0 \nL -3.5 0 \n\" id=\"md195c1e9b9\" style=\"stroke:#000000;stroke-width:0.8;\"/>\n      </defs>\n      <g>\n       <use style=\"stroke:#000000;stroke-width:0.8;\" x=\"53.328125\" xlink:href=\"#md195c1e9b9\" y=\"297.682415\"/>\n      </g>\n     </g>\n     <g id=\"text_11\">\n      <!-- 0 -->\n      <g transform=\"translate(39.965625 301.481634)scale(0.1 -0.1)\">\n       <use xlink:href=\"#DejaVuSans-48\"/>\n      </g>\n     </g>\n    </g>\n    <g id=\"ytick_2\">\n     <g id=\"line2d_11\">\n      <g>\n       <use style=\"stroke:#000000;stroke-width:0.8;\" x=\"53.328125\" xlink:href=\"#md195c1e9b9\" y=\"259.493452\"/>\n      </g>\n     </g>\n     <g id=\"text_12\">\n      <!-- 200 -->\n      <g transform=\"translate(27.240625 263.292671)scale(0.1 -0.1)\">\n       <use xlink:href=\"#DejaVuSans-50\"/>\n       <use x=\"63.623047\" xlink:href=\"#DejaVuSans-48\"/>\n       <use x=\"127.246094\" xlink:href=\"#DejaVuSans-48\"/>\n      </g>\n     </g>\n    </g>\n    <g id=\"ytick_3\">\n     <g id=\"line2d_12\">\n      <g>\n       <use style=\"stroke:#000000;stroke-width:0.8;\" x=\"53.328125\" xlink:href=\"#md195c1e9b9\" y=\"221.304489\"/>\n      </g>\n     </g>\n     <g id=\"text_13\">\n      <!-- 400 -->\n      <g transform=\"translate(27.240625 225.103707)scale(0.1 -0.1)\">\n       <use xlink:href=\"#DejaVuSans-52\"/>\n       <use x=\"63.623047\" xlink:href=\"#DejaVuSans-48\"/>\n       <use x=\"127.246094\" xlink:href=\"#DejaVuSans-48\"/>\n      </g>\n     </g>\n    </g>\n    <g id=\"ytick_4\">\n     <g id=\"line2d_13\">\n      <g>\n       <use style=\"stroke:#000000;stroke-width:0.8;\" x=\"53.328125\" xlink:href=\"#md195c1e9b9\" y=\"183.115525\"/>\n      </g>\n     </g>\n     <g id=\"text_14\">\n      <!-- 600 -->\n      <g transform=\"translate(27.240625 186.914744)scale(0.1 -0.1)\">\n       <use xlink:href=\"#DejaVuSans-54\"/>\n       <use x=\"63.623047\" xlink:href=\"#DejaVuSans-48\"/>\n       <use x=\"127.246094\" xlink:href=\"#DejaVuSans-48\"/>\n      </g>\n     </g>\n    </g>\n    <g id=\"ytick_5\">\n     <g id=\"line2d_14\">\n      <g>\n       <use style=\"stroke:#000000;stroke-width:0.8;\" x=\"53.328125\" xlink:href=\"#md195c1e9b9\" y=\"144.926562\"/>\n      </g>\n     </g>\n     <g id=\"text_15\">\n      <!-- 800 -->\n      <g transform=\"translate(27.240625 148.725781)scale(0.1 -0.1)\">\n       <use xlink:href=\"#DejaVuSans-56\"/>\n       <use x=\"63.623047\" xlink:href=\"#DejaVuSans-48\"/>\n       <use x=\"127.246094\" xlink:href=\"#DejaVuSans-48\"/>\n      </g>\n     </g>\n    </g>\n    <g id=\"ytick_6\">\n     <g id=\"line2d_15\">\n      <g>\n       <use style=\"stroke:#000000;stroke-width:0.8;\" x=\"53.328125\" xlink:href=\"#md195c1e9b9\" y=\"106.737598\"/>\n      </g>\n     </g>\n     <g id=\"text_16\">\n      <!-- 1000 -->\n      <g transform=\"translate(20.878125 110.536817)scale(0.1 -0.1)\">\n       <use xlink:href=\"#DejaVuSans-49\"/>\n       <use x=\"63.623047\" xlink:href=\"#DejaVuSans-48\"/>\n       <use x=\"127.246094\" xlink:href=\"#DejaVuSans-48\"/>\n       <use x=\"190.869141\" xlink:href=\"#DejaVuSans-48\"/>\n      </g>\n     </g>\n    </g>\n    <g id=\"ytick_7\">\n     <g id=\"line2d_16\">\n      <g>\n       <use style=\"stroke:#000000;stroke-width:0.8;\" x=\"53.328125\" xlink:href=\"#md195c1e9b9\" y=\"68.548635\"/>\n      </g>\n     </g>\n     <g id=\"text_17\">\n      <!-- 1200 -->\n      <g transform=\"translate(20.878125 72.347854)scale(0.1 -0.1)\">\n       <use xlink:href=\"#DejaVuSans-49\"/>\n       <use x=\"63.623047\" xlink:href=\"#DejaVuSans-50\"/>\n       <use x=\"127.246094\" xlink:href=\"#DejaVuSans-48\"/>\n       <use x=\"190.869141\" xlink:href=\"#DejaVuSans-48\"/>\n      </g>\n     </g>\n    </g>\n    <g id=\"text_18\">\n     <!-- Reward -->\n     <defs>\n      <path d=\"M 44.390625 34.1875 \nQ 47.5625 33.109375 50.5625 29.59375 \nQ 53.5625 26.078125 56.59375 19.921875 \nL 66.609375 0 \nL 56 0 \nL 46.6875 18.703125 \nQ 43.0625 26.03125 39.671875 28.421875 \nQ 36.28125 30.8125 30.421875 30.8125 \nL 19.671875 30.8125 \nL 19.671875 0 \nL 9.8125 0 \nL 9.8125 72.90625 \nL 32.078125 72.90625 \nQ 44.578125 72.90625 50.734375 67.671875 \nQ 56.890625 62.453125 56.890625 51.90625 \nQ 56.890625 45.015625 53.6875 40.46875 \nQ 50.484375 35.9375 44.390625 34.1875 \nz\nM 19.671875 64.796875 \nL 19.671875 38.921875 \nL 32.078125 38.921875 \nQ 39.203125 38.921875 42.84375 42.21875 \nQ 46.484375 45.515625 46.484375 51.90625 \nQ 46.484375 58.296875 42.84375 61.546875 \nQ 39.203125 64.796875 32.078125 64.796875 \nz\n\" id=\"DejaVuSans-82\"/>\n      <path d=\"M 4.203125 54.6875 \nL 13.1875 54.6875 \nL 24.421875 12.015625 \nL 35.59375 54.6875 \nL 46.1875 54.6875 \nL 57.421875 12.015625 \nL 68.609375 54.6875 \nL 77.59375 54.6875 \nL 63.28125 0 \nL 52.6875 0 \nL 40.921875 44.828125 \nL 29.109375 0 \nL 18.5 0 \nz\n\" id=\"DejaVuSans-119\"/>\n      <path d=\"M 45.40625 46.390625 \nL 45.40625 75.984375 \nL 54.390625 75.984375 \nL 54.390625 0 \nL 45.40625 0 \nL 45.40625 8.203125 \nQ 42.578125 3.328125 38.25 0.953125 \nQ 33.9375 -1.421875 27.875 -1.421875 \nQ 17.96875 -1.421875 11.734375 6.484375 \nQ 5.515625 14.40625 5.515625 27.296875 \nQ 5.515625 40.1875 11.734375 48.09375 \nQ 17.96875 56 27.875 56 \nQ 33.9375 56 38.25 53.625 \nQ 42.578125 51.265625 45.40625 46.390625 \nz\nM 14.796875 27.296875 \nQ 14.796875 17.390625 18.875 11.75 \nQ 22.953125 6.109375 30.078125 6.109375 \nQ 37.203125 6.109375 41.296875 11.75 \nQ 45.40625 17.390625 45.40625 27.296875 \nQ 45.40625 37.203125 41.296875 42.84375 \nQ 37.203125 48.484375 30.078125 48.484375 \nQ 22.953125 48.484375 18.875 42.84375 \nQ 14.796875 37.203125 14.796875 27.296875 \nz\n\" id=\"DejaVuSans-100\"/>\n     </defs>\n     <g transform=\"translate(14.798438 192.576594)rotate(-90)scale(0.1 -0.1)\">\n      <use xlink:href=\"#DejaVuSans-82\"/>\n      <use x=\"64.982422\" xlink:href=\"#DejaVuSans-101\"/>\n      <use x=\"126.505859\" xlink:href=\"#DejaVuSans-119\"/>\n      <use x=\"208.292969\" xlink:href=\"#DejaVuSans-97\"/>\n      <use x=\"269.572266\" xlink:href=\"#DejaVuSans-114\"/>\n      <use x=\"308.935547\" xlink:href=\"#DejaVuSans-100\"/>\n     </g>\n    </g>\n   </g>\n   <g id=\"line2d_17\">\n    <path clip-path=\"url(#pce649b037c)\" d=\"M 72.993466 89.231557 \nL 73.042245 89.819053 \nL 73.3837 81.39627 \nL 73.432479 81.938827 \nL 73.578817 77.445517 \nL 73.627596 77.069687 \nL 73.773933 75.465606 \nL 73.871492 76.508041 \nL 73.96905 73.054322 \nL 74.017829 74.795505 \nL 74.066609 75.179888 \nL 74.164167 71.288176 \nL 74.212946 72.863167 \nL 74.261726 75.37067 \nL 74.310505 71.089026 \nL 74.408063 72.272921 \nL 74.749518 65.203511 \nL 74.944635 59.321492 \nL 74.993414 61.065146 \nL 75.042193 56.77588 \nL 75.139751 57.78221 \nL 75.188531 58.448978 \nL 75.334868 52.449553 \nL 75.383647 54.632506 \nL 75.432427 52.91046 \nL 75.578764 50.224878 \nL 75.725102 52.332054 \nL 75.773881 49.395485 \nL 75.87144 49.516224 \nL 75.920219 51.517602 \nL 75.968998 49.279082 \nL 76.017777 50.342681 \nL 76.066557 48.319136 \nL 76.115336 50.344569 \nL 76.164115 52.217096 \nL 76.212894 51.398028 \nL 76.261673 49.513474 \nL 76.310453 50.343869 \nL 76.359232 53.258202 \nL 76.408011 51.164032 \nL 76.45679 50.57684 \nL 76.505569 53.719714 \nL 76.554349 52.79613 \nL 76.603128 51.400499 \nL 76.651907 51.983333 \nL 76.798245 55.767965 \nL 76.847024 55.426563 \nL 76.895803 53.943384 \nL 77.042141 56.552163 \nL 77.09092 56.890023 \nL 77.139699 55.197602 \nL 77.188478 55.538212 \nL 77.383595 59.539149 \nL 77.432375 57.108798 \nL 77.481154 59.428922 \nL 77.578712 60.733976 \nL 77.627491 63.094424 \nL 77.676271 60.51907 \nL 77.72505 60.624378 \nL 77.822608 64.464113 \nL 77.871388 62.343022 \nL 77.968946 62.444834 \nL 78.066504 64.456398 \nL 78.212842 68.067497 \nL 78.651855 76.110278 \nL 78.749413 74.866992 \nL 78.895751 79.736528 \nL 78.94453 78.168203 \nL 78.993309 79.369067 \nL 79.090868 77.420786 \nL 79.188426 81.46263 \nL 79.237206 80.741063 \nL 79.285985 79.456567 \nL 79.334764 80.010149 \nL 79.383543 83.159806 \nL 79.432322 82.537744 \nL 79.481102 81.910413 \nL 79.529881 82.271395 \nL 79.57866 82.179862 \nL 79.627439 83.426154 \nL 79.724998 83.161135 \nL 79.773777 83.512606 \nL 79.822556 81.551273 \nL 79.920115 85.181299 \nL 79.968894 84.921151 \nL 80.017673 84.481759 \nL 80.066452 86.567584 \nL 80.115231 85.965217 \nL 80.164011 84.739902 \nL 80.21279 87.422174 \nL 80.310348 87.250808 \nL 80.359128 87.677567 \nL 80.407907 87.25167 \nL 80.456686 86.73536 \nL 80.505465 88.100713 \nL 80.554244 86.389598 \nL 80.651803 85.875712 \nL 80.944478 79.267464 \nL 81.188374 72.833868 \nL 81.237153 73.99879 \nL 81.285933 73.319482 \nL 81.43227 68.867708 \nL 81.481049 68.869666 \nL 81.529829 69.576828 \nL 81.724946 64.027051 \nL 81.773725 64.02824 \nL 82.0664 61.269213 \nL 82.212738 62.021758 \nL 82.310296 58.545126 \nL 82.359075 58.657125 \nL 82.505413 58.105198 \nL 82.554192 57.994295 \nL 82.602971 59.208282 \nL 82.651751 58.877602 \nL 82.70053 58.660434 \nL 82.749309 57.885863 \nL 82.798088 58.105012 \nL 82.944426 61.058619 \nL 83.041984 56.991229 \nL 83.188322 63.090205 \nL 83.237101 63.089855 \nL 83.28588 62.557228 \nL 83.529777 74.980226 \nL 83.578556 74.404781 \nL 83.92001 87.530652 \nL 83.968789 86.928589 \nL 84.115127 91.704423 \nL 84.163906 90.307533 \nL 84.310244 93.0064 \nL 84.359023 93.24916 \nL 84.505361 92.601225 \nL 84.55414 93.333235 \nL 84.700478 90.552857 \nL 84.749257 91.544339 \nL 84.798036 90.306624 \nL 84.895595 89.642723 \nL 84.944374 85.376253 \nL 85.041932 86.503391 \nL 85.090711 84.941709 \nL 85.18827 85.291316 \nL 85.237049 85.986288 \nL 85.285828 85.380472 \nL 85.627283 78.284 \nL 85.724841 79.850065 \nL 85.919958 73.924599 \nL 85.968737 76.318681 \nL 86.017517 75.457868 \nL 86.066296 74.698307 \nL 86.554088 87.537225 \nL 86.749205 83.805177 \nL 86.797984 85.728447 \nL 86.846763 84.068262 \nL 86.944322 85.385413 \nL 86.993101 86.33445 \nL 87.188218 83.362219 \nL 87.236997 84.158164 \nL 87.724789 71.48849 \nL 87.773568 72.667444 \nL 87.822348 72.17915 \nL 87.968685 69.69449 \nL 88.017464 70.592994 \nL 88.066244 70.494351 \nL 88.261361 68.791162 \nL 88.31014 69.593424 \nL 88.358919 67.055876 \nL 88.456477 67.570556 \nL 88.505257 68.489151 \nL 88.846711 60.630275 \nL 88.89549 60.6296 \nL 89.188166 55.422787 \nL 89.236945 56.326512 \nL 89.383282 51.864622 \nL 89.432062 53.600863 \nL 89.52962 53.140237 \nL 89.578399 53.947836 \nL 89.627179 51.512963 \nL 89.675958 53.022644 \nL 89.724737 53.023903 \nL 89.773516 54.288097 \nL 89.822295 51.980373 \nL 89.871075 53.599791 \nL 89.919854 53.715379 \nL 90.261308 64.361485 \nL 90.310088 62.669879 \nL 90.456425 68.588912 \nL 90.505204 68.690282 \nL 90.992997 89.310248 \nL 91.041776 89.30794 \nL 91.236893 96.748891 \nL 91.529568 103.447576 \nL 91.578347 102.863402 \nL 91.627126 103.300056 \nL 91.773464 106.314266 \nL 91.822243 105.813467 \nL 92.01736 107.714477 \nL 92.066139 105.810507 \nL 92.114919 106.589693 \nL 92.163698 107.988366 \nL 92.212477 105.94614 \nL 92.261256 106.020646 \nL 92.310035 108.883793 \nL 92.407594 108.33182 \nL 92.456373 107.496634 \nL 92.553932 109.017561 \nL 92.602711 108.325398 \nL 92.65149 108.397935 \nL 92.700269 108.530841 \nL 92.797828 107.693313 \nL 92.846607 109.494143 \nL 92.895386 109.216 \nL 93.041724 108.317951 \nL 93.090503 109.693211 \nL 93.139282 108.592178 \nL 93.188061 107.202222 \nL 93.236841 109.483572 \nL 93.28562 107.899432 \nL 93.334399 107.47589 \nL 93.383178 107.620718 \nL 93.480737 108.870041 \nL 93.529516 108.453957 \nL 93.627074 106.987514 \nL 93.822191 109.753883 \nL 93.87097 108.450706 \nL 93.91975 109.275041 \nL 93.968529 110.36654 \nL 94.017308 109.686987 \nL 94.066087 108.726249 \nL 94.114866 109.758836 \nL 94.163646 108.797644 \nL 94.212425 109.210523 \nL 94.358762 107.341969 \nL 94.407542 109.967367 \nL 94.456321 108.662454 \nL 94.5051 105.787513 \nL 94.553879 108.178612 \nL 94.602659 108.178437 \nL 94.651438 106.357806 \nL 94.700217 106.924511 \nL 94.748996 108.387935 \nL 94.846555 105.582396 \nL 94.895334 106.010344 \nL 94.944113 105.726759 \nL 95.13923 103.132 \nL 95.334347 104.877215 \nL 95.383126 104.593595 \nL 95.578243 101.376995 \nL 95.627022 102.119214 \nL 95.870918 98.208388 \nL 95.968477 97.209214 \nL 96.017256 98.061124 \nL 96.066035 97.521248 \nL 96.261152 94.141091 \nL 96.309931 96.513729 \nL 96.35871 94.942117 \nL 96.456269 94.221273 \nL 96.505048 94.543702 \nL 96.553827 94.937759 \nL 96.602606 94.223277 \nL 96.651386 95.492273 \nL 96.700165 94.466364 \nL 96.846503 96.119836 \nL 96.895282 93.340437 \nL 96.944061 94.222019 \nL 96.99284 94.141394 \nL 97.041619 92.367229 \nL 97.139178 96.827604 \nL 97.187957 94.217007 \nL 97.236736 95.098356 \nL 97.285515 95.803956 \nL 97.529412 102.793651 \nL 97.62697 104.758014 \nL 97.773308 107.800183 \nL 97.822087 106.886809 \nL 97.968424 111.82514 \nL 98.017204 112.019511 \nL 98.163541 115.428723 \nL 98.212321 115.424655 \nL 98.309879 115.747108 \nL 98.700113 110.148931 \nL 98.748892 112.032658 \nL 98.797671 109.672338 \nL 99.236684 99.448131 \nL 99.285463 99.224018 \nL 99.626918 92.13349 \nL 99.675697 92.54342 \nL 99.968372 86.947445 \nL 100.017152 87.205985 \nL 100.065931 86.948587 \nL 100.11471 87.469467 \nL 100.163489 86.001602 \nL 100.407385 95.744356 \nL 100.456164 95.582361 \nL 100.504944 94.871702 \nL 100.553723 97.997771 \nL 100.602502 95.424328 \nL 100.651281 94.632578 \nL 100.700061 95.981312 \nL 100.74884 95.105208 \nL 100.846398 92.540739 \nL 100.895177 95.984319 \nL 100.943957 93.110008 \nL 100.992736 94.635422 \nL 101.041515 94.313832 \nL 101.187853 92.627471 \nL 101.236632 92.217168 \nL 101.285411 92.625373 \nL 101.578086 81.13836 \nL 101.626866 80.594055 \nL 101.675645 81.411654 \nL 101.870762 78.758192 \nL 101.96832 80.593775 \nL 102.017099 79.034354 \nL 102.065879 80.319758 \nL 102.114658 80.683677 \nL 102.260995 76.421915 \nL 102.407333 79.2208 \nL 102.504892 77.08013 \nL 102.553671 77.269489 \nL 102.60245 76.986359 \nL 102.651229 73.550005 \nL 102.748788 73.651491 \nL 102.846346 72.185957 \nL 102.895125 67.886085 \nL 102.992684 68.29168 \nL 103.041463 69.102496 \nL 103.139021 65.517852 \nL 103.187801 65.830981 \nL 103.23658 66.762956 \nL 103.431697 63.315437 \nL 103.480476 62.786819 \nL 103.529255 66.147793 \nL 103.578034 62.355958 \nL 103.724372 65.105731 \nL 103.773151 63.212739 \nL 103.82193 65.314111 \nL 103.87071 66.349809 \nL 103.919489 65.728889 \nL 103.968268 65.628498 \nL 104.114606 67.174984 \nL 104.309723 72.971879 \nL 104.358502 72.388812 \nL 104.407281 75.671562 \nL 104.504839 75.286526 \nL 104.943852 95.355637 \nL 104.992632 94.877203 \nL 105.187748 101.260219 \nL 105.577982 110.627178 \nL 105.72432 111.83486 \nL 105.773099 111.694402 \nL 105.919437 114.133027 \nL 105.968216 112.024989 \nL 106.016995 113.016121 \nL 106.065774 112.686058 \nL 106.212112 114.644735 \nL 106.260891 112.283016 \nL 106.30967 114.123785 \nL 106.407229 112.410282 \nL 106.456008 115.158085 \nL 106.553566 114.96115 \nL 106.602346 115.090502 \nL 106.699904 112.870628 \nL 106.748683 113.723237 \nL 106.797463 113.727654 \nL 106.895021 114.378619 \nL 107.090138 112.465407 \nL 107.138917 114.303857 \nL 107.187696 112.335461 \nL 107.285255 113.909392 \nL 107.382813 111.061454 \nL 107.480372 114.627579 \nL 107.626709 112.196774 \nL 107.724268 113.257762 \nL 107.773047 111.866781 \nL 107.821826 113.583152 \nL 107.919385 111.668471 \nL 107.968164 112.131032 \nL 108.065722 113.65098 \nL 108.163281 113.261096 \nL 108.309618 110.933979 \nL 108.407177 112.072201 \nL 108.553514 109.371434 \nL 108.602294 110.730191 \nL 108.651073 110.667712 \nL 108.699852 110.056453 \nL 108.79741 111.000584 \nL 109.236423 105.394726 \nL 109.285203 107.656625 \nL 109.333982 105.257112 \nL 109.382761 105.899709 \nL 109.43154 105.614807 \nL 109.480319 105.613607 \nL 109.577878 103.747652 \nL 109.626657 103.890908 \nL 109.675436 104.548679 \nL 109.870553 98.457954 \nL 110.016891 100.809312 \nL 110.163228 98.692486 \nL 110.260787 99.909969 \nL 110.407125 96.140394 \nL 110.553462 97.390696 \nL 110.6998 94.876457 \nL 110.894917 97.851858 \nL 111.041254 96.14431 \nL 111.090034 98.702579 \nL 111.138813 96.458301 \nL 111.577826 104.775403 \nL 111.626605 103.617368 \nL 111.772943 109.815243 \nL 111.821722 109.339641 \nL 112.163176 119.522673 \nL 112.211956 120.126799 \nL 112.260735 119.6329 \nL 112.309514 118.591328 \nL 112.358293 118.772926 \nL 112.455852 119.022002 \nL 112.504631 116.579904 \nL 112.602189 116.830974 \nL 112.797306 114.653942 \nL 113.041202 109.391736 \nL 113.089981 109.59162 \nL 113.285098 105.179599 \nL 113.528994 99.352122 \nL 113.577774 100.105809 \nL 113.626553 99.124629 \nL 113.77289 94.764622 \nL 113.82167 95.560147 \nL 113.870449 94.68409 \nL 113.919228 93.399921 \nL 113.968007 94.440957 \nL 114.016787 93.963688 \nL 114.114345 91.777473 \nL 114.163124 91.860568 \nL 114.211903 91.530447 \nL 114.358241 95.476562 \nL 114.504579 100.489074 \nL 114.553358 100.033132 \nL 114.602137 101.834988 \nL 114.650916 99.882885 \nL 114.699696 100.030429 \nL 114.748475 101.009906 \nL 114.797254 98.894176 \nL 114.894812 98.898908 \nL 114.992371 97.740932 \nL 115.089929 99.124559 \nL 115.138708 98.823225 \nL 115.187488 98.900446 \nL 115.236267 99.657792 \nL 115.724059 84.396216 \nL 115.772838 86.487891 \nL 115.821618 84.838615 \nL 115.919176 85.708262 \nL 115.967955 85.448929 \nL 116.016734 86.744007 \nL 116.065514 85.968224 \nL 116.163072 84.484462 \nL 116.211851 85.271201 \nL 116.358189 83.425385 \nL 116.406968 82.887817 \nL 116.504527 85.446552 \nL 116.797202 78.151164 \nL 116.845981 78.985662 \nL 117.187436 72.515169 \nL 117.382552 70.738323 \nL 117.480111 70.735853 \nL 117.52889 68.733216 \nL 117.577669 69.738474 \nL 117.626449 70.140782 \nL 117.675228 67.61398 \nL 117.724007 69.232605 \nL 117.772786 70.536797 \nL 117.821565 70.236208 \nL 117.870345 69.939162 \nL 117.967903 71.531961 \nL 118.016682 70.930993 \nL 118.065461 70.136913 \nL 118.16302 74.165051 \nL 118.211799 71.233051 \nL 118.358137 78.696681 \nL 118.406916 78.511633 \nL 118.602033 83.855967 \nL 118.894708 94.515195 \nL 119.236163 104.091281 \nL 119.821513 115.084535 \nL 119.870292 114.304987 \nL 119.967851 117.058443 \nL 120.01663 116.362282 \nL 120.114189 116.227337 \nL 120.162968 116.860377 \nL 120.211747 115.83969 \nL 120.260526 117.553951 \nL 120.309305 116.15593 \nL 120.455643 117.671835 \nL 120.504422 116.851543 \nL 120.553201 117.853409 \nL 120.65076 117.915247 \nL 120.699539 116.14571 \nL 120.748318 116.971945 \nL 120.797098 118.157774 \nL 120.943435 116.0163 \nL 121.040994 117.592131 \nL 121.089773 117.087206 \nL 121.138552 116.580137 \nL 121.187331 117.464585 \nL 121.23611 114.588141 \nL 121.28489 115.942866 \nL 121.382448 117.210707 \nL 121.480007 114.005529 \nL 121.528786 114.522014 \nL 121.626344 113.609432 \nL 121.675123 113.805354 \nL 121.821461 115.938857 \nL 121.87024 114.453568 \nL 121.91902 114.714533 \nL 121.967799 115.037906 \nL 122.016578 116.699443 \nL 122.065357 114.911374 \nL 122.114136 114.265829 \nL 122.211695 116.384682 \nL 122.406812 113.410341 \nL 122.455591 114.201228 \nL 122.50437 114.132223 \nL 122.553149 111.958559 \nL 122.601929 113.02013 \nL 122.650708 114.721175 \nL 122.699487 112.622834 \nL 122.748266 112.490394 \nL 122.943383 109.871254 \nL 122.992162 110.753022 \nL 123.040941 110.01233 \nL 123.089721 110.48334 \nL 123.1385 108.15197 \nL 123.236058 108.22911 \nL 123.284838 109.192855 \nL 123.333617 108.505609 \nL 123.382396 108.506041 \nL 123.479954 106.48034 \nL 123.528734 108.444203 \nL 123.577513 106.418642 \nL 123.626292 108.171468 \nL 123.870188 101.940133 \nL 123.918967 102.235851 \nL 124.016526 101.421818 \nL 124.065305 101.575142 \nL 124.114084 102.09791 \nL 124.260422 99.853516 \nL 124.309201 99.933068 \nL 124.35798 99.860462 \nL 124.40676 98.337425 \nL 124.455539 99.175372 \nL 124.504318 99.632736 \nL 124.553097 96.634585 \nL 124.650656 97.415356 \nL 124.699435 99.632852 \nL 124.748214 98.33225 \nL 124.796993 96.553797 \nL 124.845772 99.63206 \nL 124.894552 98.644564 \nL 124.943331 97.02384 \nL 124.99211 97.870505 \nL 125.089669 99.09526 \nL 125.187227 99.177191 \nL 125.236006 97.094978 \nL 125.479902 102.467551 \nL 125.528681 102.391856 \nL 125.577461 102.090894 \nL 125.772578 109.012772 \nL 126.114032 117.748182 \nL 126.162811 117.873874 \nL 126.26037 120.129946 \nL 126.309149 119.330132 \nL 126.455487 299.591864 \nL 466.300284 299.591864 \nL 466.300284 299.591864 \n\" style=\"fill:none;stroke:#1f77b4;stroke-linecap:square;stroke-width:1.5;\"/>\n   </g>\n   <g id=\"line2d_18\">\n    <path clip-path=\"url(#pce649b037c)\" d=\"M 72.993466 84.920568 \nL 73.042245 85.706048 \nL 73.188583 299.591864 \nL 466.300284 299.591864 \nL 466.300284 299.591864 \n\" style=\"fill:none;stroke:#ff7f0e;stroke-linecap:square;stroke-width:1.5;\"/>\n   </g>\n   <g id=\"line2d_19\">\n    <path clip-path=\"url(#pce649b037c)\" d=\"M 72.993466 297.491471 \nL 140.357563 297.491471 \nL 140.503901 297.682415 \nL 466.300284 297.682415 \nL 466.300284 297.682415 \n\" style=\"fill:none;stroke:#2ca02c;stroke-linecap:square;stroke-width:1.5;\"/>\n   </g>\n   <g id=\"line2d_20\"/>\n   <g id=\"line2d_21\"/>\n   <g id=\"line2d_22\"/>\n   <g id=\"line2d_23\"/>\n   <g id=\"patch_3\">\n    <path d=\"M 53.328125 312.1555 \nL 53.328125 35.7555 \n\" style=\"fill:none;stroke:#000000;stroke-linecap:square;stroke-linejoin:miter;stroke-width:0.8;\"/>\n   </g>\n   <g id=\"patch_4\">\n    <path d=\"M 485.965625 312.1555 \nL 485.965625 35.7555 \n\" style=\"fill:none;stroke:#000000;stroke-linecap:square;stroke-linejoin:miter;stroke-width:0.8;\"/>\n   </g>\n   <g id=\"patch_5\">\n    <path d=\"M 53.328125 312.1555 \nL 485.965625 312.1555 \n\" style=\"fill:none;stroke:#000000;stroke-linecap:square;stroke-linejoin:miter;stroke-width:0.8;\"/>\n   </g>\n   <g id=\"patch_6\">\n    <path d=\"M 53.328125 35.7555 \nL 485.965625 35.7555 \n\" style=\"fill:none;stroke:#000000;stroke-linecap:square;stroke-linejoin:miter;stroke-width:0.8;\"/>\n   </g>\n   <g id=\"text_19\">\n    <!-- Performance of pre-built grid2op agents -->\n    <defs>\n     <path d=\"M 19.671875 64.796875 \nL 19.671875 37.40625 \nL 32.078125 37.40625 \nQ 38.96875 37.40625 42.71875 40.96875 \nQ 46.484375 44.53125 46.484375 51.125 \nQ 46.484375 57.671875 42.71875 61.234375 \nQ 38.96875 64.796875 32.078125 64.796875 \nz\nM 9.8125 72.90625 \nL 32.078125 72.90625 \nQ 44.34375 72.90625 50.609375 67.359375 \nQ 56.890625 61.8125 56.890625 51.125 \nQ 56.890625 40.328125 50.609375 34.8125 \nQ 44.34375 29.296875 32.078125 29.296875 \nL 19.671875 29.296875 \nL 19.671875 0 \nL 9.8125 0 \nz\n\" id=\"DejaVuSans-80\"/>\n     <path d=\"M 52 44.1875 \nQ 55.375 50.25 60.0625 53.125 \nQ 64.75 56 71.09375 56 \nQ 79.640625 56 84.28125 50.015625 \nQ 88.921875 44.046875 88.921875 33.015625 \nL 88.921875 0 \nL 79.890625 0 \nL 79.890625 32.71875 \nQ 79.890625 40.578125 77.09375 44.375 \nQ 74.3125 48.1875 68.609375 48.1875 \nQ 61.625 48.1875 57.5625 43.546875 \nQ 53.515625 38.921875 53.515625 30.90625 \nL 53.515625 0 \nL 44.484375 0 \nL 44.484375 32.71875 \nQ 44.484375 40.625 41.703125 44.40625 \nQ 38.921875 48.1875 33.109375 48.1875 \nQ 26.21875 48.1875 22.15625 43.53125 \nQ 18.109375 38.875 18.109375 30.90625 \nL 18.109375 0 \nL 9.078125 0 \nL 9.078125 54.6875 \nL 18.109375 54.6875 \nL 18.109375 46.1875 \nQ 21.1875 51.21875 25.484375 53.609375 \nQ 29.78125 56 35.6875 56 \nQ 41.65625 56 45.828125 52.96875 \nQ 50 49.953125 52 44.1875 \nz\n\" id=\"DejaVuSans-109\"/>\n     <path d=\"M 48.78125 52.59375 \nL 48.78125 44.1875 \nQ 44.96875 46.296875 41.140625 47.34375 \nQ 37.3125 48.390625 33.40625 48.390625 \nQ 24.65625 48.390625 19.8125 42.84375 \nQ 14.984375 37.3125 14.984375 27.296875 \nQ 14.984375 17.28125 19.8125 11.734375 \nQ 24.65625 6.203125 33.40625 6.203125 \nQ 37.3125 6.203125 41.140625 7.25 \nQ 44.96875 8.296875 48.78125 10.40625 \nL 48.78125 2.09375 \nQ 45.015625 0.34375 40.984375 -0.53125 \nQ 36.96875 -1.421875 32.421875 -1.421875 \nQ 20.0625 -1.421875 12.78125 6.34375 \nQ 5.515625 14.109375 5.515625 27.296875 \nQ 5.515625 40.671875 12.859375 48.328125 \nQ 20.21875 56 33.015625 56 \nQ 37.15625 56 41.109375 55.140625 \nQ 45.0625 54.296875 48.78125 52.59375 \nz\n\" id=\"DejaVuSans-99\"/>\n     <path d=\"M 18.109375 8.203125 \nL 18.109375 -20.796875 \nL 9.078125 -20.796875 \nL 9.078125 54.6875 \nL 18.109375 54.6875 \nL 18.109375 46.390625 \nQ 20.953125 51.265625 25.265625 53.625 \nQ 29.59375 56 35.59375 56 \nQ 45.5625 56 51.78125 48.09375 \nQ 58.015625 40.1875 58.015625 27.296875 \nQ 58.015625 14.40625 51.78125 6.484375 \nQ 45.5625 -1.421875 35.59375 -1.421875 \nQ 29.59375 -1.421875 25.265625 0.953125 \nQ 20.953125 3.328125 18.109375 8.203125 \nz\nM 48.6875 27.296875 \nQ 48.6875 37.203125 44.609375 42.84375 \nQ 40.53125 48.484375 33.40625 48.484375 \nQ 26.265625 48.484375 22.1875 42.84375 \nQ 18.109375 37.203125 18.109375 27.296875 \nQ 18.109375 17.390625 22.1875 11.75 \nQ 26.265625 6.109375 33.40625 6.109375 \nQ 40.53125 6.109375 44.609375 11.75 \nQ 48.6875 17.390625 48.6875 27.296875 \nz\n\" id=\"DejaVuSans-112\"/>\n     <path d=\"M 4.890625 31.390625 \nL 31.203125 31.390625 \nL 31.203125 23.390625 \nL 4.890625 23.390625 \nz\n\" id=\"DejaVuSans-45\"/>\n     <path d=\"M 48.6875 27.296875 \nQ 48.6875 37.203125 44.609375 42.84375 \nQ 40.53125 48.484375 33.40625 48.484375 \nQ 26.265625 48.484375 22.1875 42.84375 \nQ 18.109375 37.203125 18.109375 27.296875 \nQ 18.109375 17.390625 22.1875 11.75 \nQ 26.265625 6.109375 33.40625 6.109375 \nQ 40.53125 6.109375 44.609375 11.75 \nQ 48.6875 17.390625 48.6875 27.296875 \nz\nM 18.109375 46.390625 \nQ 20.953125 51.265625 25.265625 53.625 \nQ 29.59375 56 35.59375 56 \nQ 45.5625 56 51.78125 48.09375 \nQ 58.015625 40.1875 58.015625 27.296875 \nQ 58.015625 14.40625 51.78125 6.484375 \nQ 45.5625 -1.421875 35.59375 -1.421875 \nQ 29.59375 -1.421875 25.265625 0.953125 \nQ 20.953125 3.328125 18.109375 8.203125 \nL 18.109375 0 \nL 9.078125 0 \nL 9.078125 75.984375 \nL 18.109375 75.984375 \nz\n\" id=\"DejaVuSans-98\"/>\n     <path d=\"M 8.5 21.578125 \nL 8.5 54.6875 \nL 17.484375 54.6875 \nL 17.484375 21.921875 \nQ 17.484375 14.15625 20.5 10.265625 \nQ 23.53125 6.390625 29.59375 6.390625 \nQ 36.859375 6.390625 41.078125 11.03125 \nQ 45.3125 15.671875 45.3125 23.6875 \nL 45.3125 54.6875 \nL 54.296875 54.6875 \nL 54.296875 0 \nL 45.3125 0 \nL 45.3125 8.40625 \nQ 42.046875 3.421875 37.71875 1 \nQ 33.40625 -1.421875 27.6875 -1.421875 \nQ 18.265625 -1.421875 13.375 4.4375 \nQ 8.5 10.296875 8.5 21.578125 \nz\nM 31.109375 56 \nz\n\" id=\"DejaVuSans-117\"/>\n     <path d=\"M 9.421875 75.984375 \nL 18.40625 75.984375 \nL 18.40625 0 \nL 9.421875 0 \nz\n\" id=\"DejaVuSans-108\"/>\n     <path d=\"M 45.40625 27.984375 \nQ 45.40625 37.75 41.375 43.109375 \nQ 37.359375 48.484375 30.078125 48.484375 \nQ 22.859375 48.484375 18.828125 43.109375 \nQ 14.796875 37.75 14.796875 27.984375 \nQ 14.796875 18.265625 18.828125 12.890625 \nQ 22.859375 7.515625 30.078125 7.515625 \nQ 37.359375 7.515625 41.375 12.890625 \nQ 45.40625 18.265625 45.40625 27.984375 \nz\nM 54.390625 6.78125 \nQ 54.390625 -7.171875 48.1875 -13.984375 \nQ 42 -20.796875 29.203125 -20.796875 \nQ 24.46875 -20.796875 20.265625 -20.09375 \nQ 16.0625 -19.390625 12.109375 -17.921875 \nL 12.109375 -9.1875 \nQ 16.0625 -11.328125 19.921875 -12.34375 \nQ 23.78125 -13.375 27.78125 -13.375 \nQ 36.625 -13.375 41.015625 -8.765625 \nQ 45.40625 -4.15625 45.40625 5.171875 \nL 45.40625 9.625 \nQ 42.625 4.78125 38.28125 2.390625 \nQ 33.9375 0 27.875 0 \nQ 17.828125 0 11.671875 7.65625 \nQ 5.515625 15.328125 5.515625 27.984375 \nQ 5.515625 40.671875 11.671875 48.328125 \nQ 17.828125 56 27.875 56 \nQ 33.9375 56 38.28125 53.609375 \nQ 42.625 51.21875 45.40625 46.390625 \nL 45.40625 54.6875 \nL 54.390625 54.6875 \nz\n\" id=\"DejaVuSans-103\"/>\n    </defs>\n    <g transform=\"translate(149.415313 16.318125)scale(0.12 -0.12)\">\n     <use xlink:href=\"#DejaVuSans-80\"/>\n     <use x=\"56.677734\" xlink:href=\"#DejaVuSans-101\"/>\n     <use x=\"118.201172\" xlink:href=\"#DejaVuSans-114\"/>\n     <use x=\"159.314453\" xlink:href=\"#DejaVuSans-102\"/>\n     <use x=\"194.519531\" xlink:href=\"#DejaVuSans-111\"/>\n     <use x=\"255.701172\" xlink:href=\"#DejaVuSans-114\"/>\n     <use x=\"295.064453\" xlink:href=\"#DejaVuSans-109\"/>\n     <use x=\"392.476562\" xlink:href=\"#DejaVuSans-97\"/>\n     <use x=\"453.755859\" xlink:href=\"#DejaVuSans-110\"/>\n     <use x=\"517.134766\" xlink:href=\"#DejaVuSans-99\"/>\n     <use x=\"572.115234\" xlink:href=\"#DejaVuSans-101\"/>\n     <use x=\"633.638672\" xlink:href=\"#DejaVuSans-32\"/>\n     <use x=\"665.425781\" xlink:href=\"#DejaVuSans-111\"/>\n     <use x=\"726.607422\" xlink:href=\"#DejaVuSans-102\"/>\n     <use x=\"761.8125\" xlink:href=\"#DejaVuSans-32\"/>\n     <use x=\"793.599609\" xlink:href=\"#DejaVuSans-112\"/>\n     <use x=\"857.076172\" xlink:href=\"#DejaVuSans-114\"/>\n     <use x=\"895.939453\" xlink:href=\"#DejaVuSans-101\"/>\n     <use x=\"957.462891\" xlink:href=\"#DejaVuSans-45\"/>\n     <use x=\"993.546875\" xlink:href=\"#DejaVuSans-98\"/>\n     <use x=\"1057.023438\" xlink:href=\"#DejaVuSans-117\"/>\n     <use x=\"1120.402344\" xlink:href=\"#DejaVuSans-105\"/>\n     <use x=\"1148.185547\" xlink:href=\"#DejaVuSans-108\"/>\n     <use x=\"1175.96875\" xlink:href=\"#DejaVuSans-116\"/>\n     <use x=\"1215.177734\" xlink:href=\"#DejaVuSans-32\"/>\n     <use x=\"1246.964844\" xlink:href=\"#DejaVuSans-103\"/>\n     <use x=\"1310.441406\" xlink:href=\"#DejaVuSans-114\"/>\n     <use x=\"1351.554688\" xlink:href=\"#DejaVuSans-105\"/>\n     <use x=\"1379.337891\" xlink:href=\"#DejaVuSans-100\"/>\n     <use x=\"1442.814453\" xlink:href=\"#DejaVuSans-50\"/>\n     <use x=\"1506.4375\" xlink:href=\"#DejaVuSans-111\"/>\n     <use x=\"1567.619141\" xlink:href=\"#DejaVuSans-112\"/>\n     <use x=\"1631.095703\" xlink:href=\"#DejaVuSans-32\"/>\n     <use x=\"1662.882812\" xlink:href=\"#DejaVuSans-97\"/>\n     <use x=\"1724.162109\" xlink:href=\"#DejaVuSans-103\"/>\n     <use x=\"1787.638672\" xlink:href=\"#DejaVuSans-101\"/>\n     <use x=\"1849.162109\" xlink:href=\"#DejaVuSans-110\"/>\n     <use x=\"1912.541016\" xlink:href=\"#DejaVuSans-116\"/>\n     <use x=\"1951.75\" xlink:href=\"#DejaVuSans-115\"/>\n    </g>\n    <!-- (Only actions available are pwline switch and topology set action) -->\n    <defs>\n     <path d=\"M 31 75.875 \nQ 24.46875 64.65625 21.28125 53.65625 \nQ 18.109375 42.671875 18.109375 31.390625 \nQ 18.109375 20.125 21.3125 9.0625 \nQ 24.515625 -2 31 -13.1875 \nL 23.1875 -13.1875 \nQ 15.875 -1.703125 12.234375 9.375 \nQ 8.59375 20.453125 8.59375 31.390625 \nQ 8.59375 42.28125 12.203125 53.3125 \nQ 15.828125 64.359375 23.1875 75.875 \nz\n\" id=\"DejaVuSans-40\"/>\n     <path d=\"M 39.40625 66.21875 \nQ 28.65625 66.21875 22.328125 58.203125 \nQ 16.015625 50.203125 16.015625 36.375 \nQ 16.015625 22.609375 22.328125 14.59375 \nQ 28.65625 6.59375 39.40625 6.59375 \nQ 50.140625 6.59375 56.421875 14.59375 \nQ 62.703125 22.609375 62.703125 36.375 \nQ 62.703125 50.203125 56.421875 58.203125 \nQ 50.140625 66.21875 39.40625 66.21875 \nz\nM 39.40625 74.21875 \nQ 54.734375 74.21875 63.90625 63.9375 \nQ 73.09375 53.65625 73.09375 36.375 \nQ 73.09375 19.140625 63.90625 8.859375 \nQ 54.734375 -1.421875 39.40625 -1.421875 \nQ 24.03125 -1.421875 14.8125 8.828125 \nQ 5.609375 19.09375 5.609375 36.375 \nQ 5.609375 53.65625 14.8125 63.9375 \nQ 24.03125 74.21875 39.40625 74.21875 \nz\n\" id=\"DejaVuSans-79\"/>\n     <path d=\"M 32.171875 -5.078125 \nQ 28.375 -14.84375 24.75 -17.8125 \nQ 21.140625 -20.796875 15.09375 -20.796875 \nL 7.90625 -20.796875 \nL 7.90625 -13.28125 \nL 13.1875 -13.28125 \nQ 16.890625 -13.28125 18.9375 -11.515625 \nQ 21 -9.765625 23.484375 -3.21875 \nL 25.09375 0.875 \nL 2.984375 54.6875 \nL 12.5 54.6875 \nL 29.59375 11.921875 \nL 46.6875 54.6875 \nL 56.203125 54.6875 \nz\n\" id=\"DejaVuSans-121\"/>\n     <path d=\"M 2.984375 54.6875 \nL 12.5 54.6875 \nL 29.59375 8.796875 \nL 46.6875 54.6875 \nL 56.203125 54.6875 \nL 35.6875 0 \nL 23.484375 0 \nz\n\" id=\"DejaVuSans-118\"/>\n     <path d=\"M 54.890625 33.015625 \nL 54.890625 0 \nL 45.90625 0 \nL 45.90625 32.71875 \nQ 45.90625 40.484375 42.875 44.328125 \nQ 39.84375 48.1875 33.796875 48.1875 \nQ 26.515625 48.1875 22.3125 43.546875 \nQ 18.109375 38.921875 18.109375 30.90625 \nL 18.109375 0 \nL 9.078125 0 \nL 9.078125 75.984375 \nL 18.109375 75.984375 \nL 18.109375 46.1875 \nQ 21.34375 51.125 25.703125 53.5625 \nQ 30.078125 56 35.796875 56 \nQ 45.21875 56 50.046875 50.171875 \nQ 54.890625 44.34375 54.890625 33.015625 \nz\n\" id=\"DejaVuSans-104\"/>\n     <path d=\"M 8.015625 75.875 \nL 15.828125 75.875 \nQ 23.140625 64.359375 26.78125 53.3125 \nQ 30.421875 42.28125 30.421875 31.390625 \nQ 30.421875 20.453125 26.78125 9.375 \nQ 23.140625 -1.703125 15.828125 -13.1875 \nL 8.015625 -13.1875 \nQ 14.5 -2 17.703125 9.0625 \nQ 20.90625 20.125 20.90625 31.390625 \nQ 20.90625 42.671875 17.703125 53.65625 \nQ 14.5 64.65625 8.015625 75.875 \nz\n\" id=\"DejaVuSans-41\"/>\n    </defs>\n    <g transform=\"translate(71.855 29.7555)scale(0.12 -0.12)\">\n     <use xlink:href=\"#DejaVuSans-40\"/>\n     <use x=\"39.013672\" xlink:href=\"#DejaVuSans-79\"/>\n     <use x=\"117.724609\" xlink:href=\"#DejaVuSans-110\"/>\n     <use x=\"181.103516\" xlink:href=\"#DejaVuSans-108\"/>\n     <use x=\"208.886719\" xlink:href=\"#DejaVuSans-121\"/>\n     <use x=\"268.066406\" xlink:href=\"#DejaVuSans-32\"/>\n     <use x=\"299.853516\" xlink:href=\"#DejaVuSans-97\"/>\n     <use x=\"361.132812\" xlink:href=\"#DejaVuSans-99\"/>\n     <use x=\"416.113281\" xlink:href=\"#DejaVuSans-116\"/>\n     <use x=\"455.322266\" xlink:href=\"#DejaVuSans-105\"/>\n     <use x=\"483.105469\" xlink:href=\"#DejaVuSans-111\"/>\n     <use x=\"544.287109\" xlink:href=\"#DejaVuSans-110\"/>\n     <use x=\"607.666016\" xlink:href=\"#DejaVuSans-115\"/>\n     <use x=\"659.765625\" xlink:href=\"#DejaVuSans-32\"/>\n     <use x=\"691.552734\" xlink:href=\"#DejaVuSans-97\"/>\n     <use x=\"752.832031\" xlink:href=\"#DejaVuSans-118\"/>\n     <use x=\"812.011719\" xlink:href=\"#DejaVuSans-97\"/>\n     <use x=\"873.291016\" xlink:href=\"#DejaVuSans-105\"/>\n     <use x=\"901.074219\" xlink:href=\"#DejaVuSans-108\"/>\n     <use x=\"928.857422\" xlink:href=\"#DejaVuSans-97\"/>\n     <use x=\"990.136719\" xlink:href=\"#DejaVuSans-98\"/>\n     <use x=\"1053.613281\" xlink:href=\"#DejaVuSans-108\"/>\n     <use x=\"1081.396484\" xlink:href=\"#DejaVuSans-101\"/>\n     <use x=\"1142.919922\" xlink:href=\"#DejaVuSans-32\"/>\n     <use x=\"1174.707031\" xlink:href=\"#DejaVuSans-97\"/>\n     <use x=\"1235.986328\" xlink:href=\"#DejaVuSans-114\"/>\n     <use x=\"1274.849609\" xlink:href=\"#DejaVuSans-101\"/>\n     <use x=\"1336.373047\" xlink:href=\"#DejaVuSans-32\"/>\n     <use x=\"1368.160156\" xlink:href=\"#DejaVuSans-112\"/>\n     <use x=\"1431.636719\" xlink:href=\"#DejaVuSans-119\"/>\n     <use x=\"1513.423828\" xlink:href=\"#DejaVuSans-108\"/>\n     <use x=\"1541.207031\" xlink:href=\"#DejaVuSans-105\"/>\n     <use x=\"1568.990234\" xlink:href=\"#DejaVuSans-110\"/>\n     <use x=\"1632.369141\" xlink:href=\"#DejaVuSans-101\"/>\n     <use x=\"1693.892578\" xlink:href=\"#DejaVuSans-32\"/>\n     <use x=\"1725.679688\" xlink:href=\"#DejaVuSans-115\"/>\n     <use x=\"1777.779297\" xlink:href=\"#DejaVuSans-119\"/>\n     <use x=\"1859.566406\" xlink:href=\"#DejaVuSans-105\"/>\n     <use x=\"1887.349609\" xlink:href=\"#DejaVuSans-116\"/>\n     <use x=\"1926.558594\" xlink:href=\"#DejaVuSans-99\"/>\n     <use x=\"1981.539062\" xlink:href=\"#DejaVuSans-104\"/>\n     <use x=\"2044.917969\" xlink:href=\"#DejaVuSans-32\"/>\n     <use x=\"2076.705078\" xlink:href=\"#DejaVuSans-97\"/>\n     <use x=\"2137.984375\" xlink:href=\"#DejaVuSans-110\"/>\n     <use x=\"2201.363281\" xlink:href=\"#DejaVuSans-100\"/>\n     <use x=\"2264.839844\" xlink:href=\"#DejaVuSans-32\"/>\n     <use x=\"2296.626953\" xlink:href=\"#DejaVuSans-116\"/>\n     <use x=\"2335.835938\" xlink:href=\"#DejaVuSans-111\"/>\n     <use x=\"2397.017578\" xlink:href=\"#DejaVuSans-112\"/>\n     <use x=\"2460.494141\" xlink:href=\"#DejaVuSans-111\"/>\n     <use x=\"2521.675781\" xlink:href=\"#DejaVuSans-108\"/>\n     <use x=\"2549.458984\" xlink:href=\"#DejaVuSans-111\"/>\n     <use x=\"2610.640625\" xlink:href=\"#DejaVuSans-103\"/>\n     <use x=\"2674.117188\" xlink:href=\"#DejaVuSans-121\"/>\n     <use x=\"2733.296875\" xlink:href=\"#DejaVuSans-32\"/>\n     <use x=\"2765.083984\" xlink:href=\"#DejaVuSans-115\"/>\n     <use x=\"2817.183594\" xlink:href=\"#DejaVuSans-101\"/>\n     <use x=\"2878.707031\" xlink:href=\"#DejaVuSans-116\"/>\n     <use x=\"2917.916016\" xlink:href=\"#DejaVuSans-32\"/>\n     <use x=\"2949.703125\" xlink:href=\"#DejaVuSans-97\"/>\n     <use x=\"3010.982422\" xlink:href=\"#DejaVuSans-99\"/>\n     <use x=\"3065.962891\" xlink:href=\"#DejaVuSans-116\"/>\n     <use x=\"3105.171875\" xlink:href=\"#DejaVuSans-105\"/>\n     <use x=\"3132.955078\" xlink:href=\"#DejaVuSans-111\"/>\n     <use x=\"3194.136719\" xlink:href=\"#DejaVuSans-110\"/>\n     <use x=\"3257.515625\" xlink:href=\"#DejaVuSans-41\"/>\n    </g>\n   </g>\n   <g id=\"legend_1\">\n    <g id=\"patch_7\">\n     <path d=\"M 324.414062 87.789875 \nL 478.965625 87.789875 \nQ 480.965625 87.789875 480.965625 85.789875 \nL 480.965625 42.7555 \nQ 480.965625 40.7555 478.965625 40.7555 \nL 324.414062 40.7555 \nQ 322.414062 40.7555 322.414062 42.7555 \nL 322.414062 85.789875 \nQ 322.414062 87.789875 324.414062 87.789875 \nz\n\" style=\"fill:#ffffff;opacity:0.8;stroke:#cccccc;stroke-linejoin:miter;\"/>\n    </g>\n    <g id=\"line2d_24\">\n     <path d=\"M 326.414062 48.853937 \nL 346.414062 48.853937 \n\" style=\"fill:none;stroke:#1f77b4;stroke-linecap:square;stroke-width:1.5;\"/>\n    </g>\n    <g id=\"line2d_25\"/>\n    <g id=\"text_20\">\n     <!-- Do nothing agent -->\n     <defs>\n      <path d=\"M 19.671875 64.796875 \nL 19.671875 8.109375 \nL 31.59375 8.109375 \nQ 46.6875 8.109375 53.6875 14.9375 \nQ 60.6875 21.78125 60.6875 36.53125 \nQ 60.6875 51.171875 53.6875 57.984375 \nQ 46.6875 64.796875 31.59375 64.796875 \nz\nM 9.8125 72.90625 \nL 30.078125 72.90625 \nQ 51.265625 72.90625 61.171875 64.09375 \nQ 71.09375 55.28125 71.09375 36.53125 \nQ 71.09375 17.671875 61.125 8.828125 \nQ 51.171875 0 30.078125 0 \nL 9.8125 0 \nz\n\" id=\"DejaVuSans-68\"/>\n     </defs>\n     <g transform=\"translate(354.414062 52.353937)scale(0.1 -0.1)\">\n      <use xlink:href=\"#DejaVuSans-68\"/>\n      <use x=\"77.001953\" xlink:href=\"#DejaVuSans-111\"/>\n      <use x=\"138.183594\" xlink:href=\"#DejaVuSans-32\"/>\n      <use x=\"169.970703\" xlink:href=\"#DejaVuSans-110\"/>\n      <use x=\"233.349609\" xlink:href=\"#DejaVuSans-111\"/>\n      <use x=\"294.53125\" xlink:href=\"#DejaVuSans-116\"/>\n      <use x=\"333.740234\" xlink:href=\"#DejaVuSans-104\"/>\n      <use x=\"397.119141\" xlink:href=\"#DejaVuSans-105\"/>\n      <use x=\"424.902344\" xlink:href=\"#DejaVuSans-110\"/>\n      <use x=\"488.28125\" xlink:href=\"#DejaVuSans-103\"/>\n      <use x=\"551.757812\" xlink:href=\"#DejaVuSans-32\"/>\n      <use x=\"583.544922\" xlink:href=\"#DejaVuSans-97\"/>\n      <use x=\"644.824219\" xlink:href=\"#DejaVuSans-103\"/>\n      <use x=\"708.300781\" xlink:href=\"#DejaVuSans-101\"/>\n      <use x=\"769.824219\" xlink:href=\"#DejaVuSans-110\"/>\n      <use x=\"833.203125\" xlink:href=\"#DejaVuSans-116\"/>\n     </g>\n    </g>\n    <g id=\"line2d_26\">\n     <path d=\"M 326.414062 63.532062 \nL 346.414062 63.532062 \n\" style=\"fill:none;stroke:#ff7f0e;stroke-linecap:square;stroke-width:1.5;\"/>\n    </g>\n    <g id=\"line2d_27\"/>\n    <g id=\"text_21\">\n     <!-- Random actions agent -->\n     <g transform=\"translate(354.414062 67.032062)scale(0.1 -0.1)\">\n      <use xlink:href=\"#DejaVuSans-82\"/>\n      <use x=\"67.232422\" xlink:href=\"#DejaVuSans-97\"/>\n      <use x=\"128.511719\" xlink:href=\"#DejaVuSans-110\"/>\n      <use x=\"191.890625\" xlink:href=\"#DejaVuSans-100\"/>\n      <use x=\"255.367188\" xlink:href=\"#DejaVuSans-111\"/>\n      <use x=\"316.548828\" xlink:href=\"#DejaVuSans-109\"/>\n      <use x=\"413.960938\" xlink:href=\"#DejaVuSans-32\"/>\n      <use x=\"445.748047\" xlink:href=\"#DejaVuSans-97\"/>\n      <use x=\"507.027344\" xlink:href=\"#DejaVuSans-99\"/>\n      <use x=\"562.007812\" xlink:href=\"#DejaVuSans-116\"/>\n      <use x=\"601.216797\" xlink:href=\"#DejaVuSans-105\"/>\n      <use x=\"629\" xlink:href=\"#DejaVuSans-111\"/>\n      <use x=\"690.181641\" xlink:href=\"#DejaVuSans-110\"/>\n      <use x=\"753.560547\" xlink:href=\"#DejaVuSans-115\"/>\n      <use x=\"805.660156\" xlink:href=\"#DejaVuSans-32\"/>\n      <use x=\"837.447266\" xlink:href=\"#DejaVuSans-97\"/>\n      <use x=\"898.726562\" xlink:href=\"#DejaVuSans-103\"/>\n      <use x=\"962.203125\" xlink:href=\"#DejaVuSans-101\"/>\n      <use x=\"1023.726562\" xlink:href=\"#DejaVuSans-110\"/>\n      <use x=\"1087.105469\" xlink:href=\"#DejaVuSans-116\"/>\n     </g>\n    </g>\n    <g id=\"line2d_28\">\n     <path d=\"M 326.414062 78.210187 \nL 346.414062 78.210187 \n\" style=\"fill:none;stroke:#2ca02c;stroke-linecap:square;stroke-width:1.5;\"/>\n    </g>\n    <g id=\"line2d_29\"/>\n    <g id=\"text_22\">\n     <!-- Switch Power Line agent -->\n     <defs>\n      <path d=\"M 53.515625 70.515625 \nL 53.515625 60.890625 \nQ 47.90625 63.578125 42.921875 64.890625 \nQ 37.9375 66.21875 33.296875 66.21875 \nQ 25.25 66.21875 20.875 63.09375 \nQ 16.5 59.96875 16.5 54.203125 \nQ 16.5 49.359375 19.40625 46.890625 \nQ 22.3125 44.4375 30.421875 42.921875 \nL 36.375 41.703125 \nQ 47.40625 39.59375 52.65625 34.296875 \nQ 57.90625 29 57.90625 20.125 \nQ 57.90625 9.515625 50.796875 4.046875 \nQ 43.703125 -1.421875 29.984375 -1.421875 \nQ 24.8125 -1.421875 18.96875 -0.25 \nQ 13.140625 0.921875 6.890625 3.21875 \nL 6.890625 13.375 \nQ 12.890625 10.015625 18.65625 8.296875 \nQ 24.421875 6.59375 29.984375 6.59375 \nQ 38.421875 6.59375 43.015625 9.90625 \nQ 47.609375 13.234375 47.609375 19.390625 \nQ 47.609375 24.75 44.3125 27.78125 \nQ 41.015625 30.8125 33.5 32.328125 \nL 27.484375 33.5 \nQ 16.453125 35.6875 11.515625 40.375 \nQ 6.59375 45.0625 6.59375 53.421875 \nQ 6.59375 63.09375 13.40625 68.65625 \nQ 20.21875 74.21875 32.171875 74.21875 \nQ 37.3125 74.21875 42.625 73.28125 \nQ 47.953125 72.359375 53.515625 70.515625 \nz\n\" id=\"DejaVuSans-83\"/>\n      <path d=\"M 9.8125 72.90625 \nL 19.671875 72.90625 \nL 19.671875 8.296875 \nL 55.171875 8.296875 \nL 55.171875 0 \nL 9.8125 0 \nz\n\" id=\"DejaVuSans-76\"/>\n     </defs>\n     <g transform=\"translate(354.414062 81.710187)scale(0.1 -0.1)\">\n      <use xlink:href=\"#DejaVuSans-83\"/>\n      <use x=\"63.476562\" xlink:href=\"#DejaVuSans-119\"/>\n      <use x=\"145.263672\" xlink:href=\"#DejaVuSans-105\"/>\n      <use x=\"173.046875\" xlink:href=\"#DejaVuSans-116\"/>\n      <use x=\"212.255859\" xlink:href=\"#DejaVuSans-99\"/>\n      <use x=\"267.236328\" xlink:href=\"#DejaVuSans-104\"/>\n      <use x=\"330.615234\" xlink:href=\"#DejaVuSans-32\"/>\n      <use x=\"362.402344\" xlink:href=\"#DejaVuSans-80\"/>\n      <use x=\"419.080078\" xlink:href=\"#DejaVuSans-111\"/>\n      <use x=\"480.261719\" xlink:href=\"#DejaVuSans-119\"/>\n      <use x=\"562.048828\" xlink:href=\"#DejaVuSans-101\"/>\n      <use x=\"623.572266\" xlink:href=\"#DejaVuSans-114\"/>\n      <use x=\"664.685547\" xlink:href=\"#DejaVuSans-32\"/>\n      <use x=\"696.472656\" xlink:href=\"#DejaVuSans-76\"/>\n      <use x=\"752.185547\" xlink:href=\"#DejaVuSans-105\"/>\n      <use x=\"779.96875\" xlink:href=\"#DejaVuSans-110\"/>\n      <use x=\"843.347656\" xlink:href=\"#DejaVuSans-101\"/>\n      <use x=\"904.871094\" xlink:href=\"#DejaVuSans-32\"/>\n      <use x=\"936.658203\" xlink:href=\"#DejaVuSans-97\"/>\n      <use x=\"997.9375\" xlink:href=\"#DejaVuSans-103\"/>\n      <use x=\"1061.414062\" xlink:href=\"#DejaVuSans-101\"/>\n      <use x=\"1122.9375\" xlink:href=\"#DejaVuSans-110\"/>\n      <use x=\"1186.316406\" xlink:href=\"#DejaVuSans-116\"/>\n     </g>\n    </g>\n   </g>\n  </g>\n </g>\n <defs>\n  <clipPath id=\"pce649b037c\">\n   <rect height=\"276.4\" width=\"432.6375\" x=\"53.328125\" y=\"35.7555\"/>\n  </clipPath>\n </defs>\n</svg>\n",
            "image/png": "[encoded data removed]"
          },
          "metadata": {
            "needs_background": "light"
          }
        }
      ]
    },
    {
      "cell_type": "markdown",
      "metadata": {
        "id": "GgPG0z_DYbL0"
      },
      "source": [
        "# SIMPLE DQN"
      ]
    },
    {
      "cell_type": "code",
      "metadata": {
        "colab": {
          "base_uri": "https://localhost:8080/",
          "height": 1000,
          "referenced_widgets": [
            "22dda315639f42e4bbefbfe4975598c1",
            "6cc6c6ea50fe4785a1a3a7f2dd9a0d36",
            "ef8008c8827349f6af33b3bc26459195",
            "6cc79644397d4ac3b0f33e7960cd7b85",
            "c64ea066b3eb4abc9c53bcbc3297ec3c",
            "fc887f7e0e6841cabe13dbf919384386",
            "f26e372bd5094feca93aa867435ed724",
            "414dea96c3134349bfbe4eb21ac18b60",
            "4173433057d04302bd728b24d12111a7",
            "fe0f9aa9f6cb4b8caebdb41aa2f7870a",
            "f35e680798da42cb9f8f1f23bfce7e7c"
          ]
        },
        "id": "BOD9Rbwea7aQ",
        "outputId": "0bf6063f-7023-45f0-b718-4eb5903e1463"
      },
      "source": [
        "import torch \n",
        "\n",
        "load_qdn_from_network = True\n",
        "prefix_NN_weight_files = 'dec_2_'\n",
        "\n",
        "def act_vect_to_act_obj(env, Q_est):\n",
        "  \"\"\"\n",
        "  This function returns a grid2op action object based on the estimated Q-value vector.\n",
        "  It operates as follows:\n",
        "  1. Identifies whether a' (action that maximizes Q function is positive).\n",
        "  2. if a' is non-positive, do nothing action is returned\n",
        "  3. if a' positive a grid2op action with line change of a' is returned.   \n",
        "\n",
        "  Arguments:\n",
        "\n",
        "  env: grid2op enviroment\n",
        "\n",
        "  Q_est: torch array\n",
        "  - Estimated Q-value function \n",
        "\n",
        "  Returns\n",
        "  a: grid2op action object\n",
        "  \"\"\"\n",
        "\n",
        "  ## Fix potential nan values\n",
        "  Q_est[Q_est!=Q_est] = -1\n",
        "  a_argmax = Q_est.argmax()\n",
        "\n",
        "  # Check if a' is above zero\n",
        "  if Q_est.max()>0:\n",
        "    line_id = Q_est.argmax().item()\n",
        "    a = env.action_space({'change_line_status': [line_id]}) # Change line status of line with line_id\n",
        "  else:\n",
        "    a = env.action_space({}) # Do nothing\n",
        "\n",
        "  return a\n",
        "\n",
        "if torch.cuda.is_available(): \n",
        " dev = \"cuda:0\" \n",
        "else: \n",
        " dev = \"cpu\"\n",
        "\n",
        "# num_episodes = 2000\n",
        "# episode_limit = 100\n",
        "# batch_size = 64\n",
        "# learning_rate = 0.005\n",
        "# gamma = 0.99 # discount rate\n",
        "# tau = 0.01 # target network update rate\n",
        "# replay_memory_capacity = 10000\n",
        "# prefill_memory = True\n",
        "# double_dqn = False\n",
        "# val_freq = 100 # validation frequency\n",
        "\n",
        "one_hot_encoding_act_conv,env_act_dict_list = create_one_hot_converter(n_powerlines,n_substations,total_bus_actions)\n",
        "\n",
        "TRAINING_PARAMS = {\n",
        "    'num_episodes':2500,\n",
        "    'episode_limit':env.chronics_handler.max_timestep(),\n",
        "    'batch_size':64,\n",
        "    'replay_memory_capacity':20000,\n",
        "    'prefil_memory':True,\n",
        "    'val_freq':100,\n",
        "    'tau':0.01,\n",
        "    'gamma':0.99,\n",
        "    'episilon_decay':'Linear' # 'Linear' or 'Exponential'\n",
        "}\n",
        "\n",
        "NN_PARAMS = {\n",
        "    'n_inputs':env.observation_space.n,\n",
        "    'n_outputs':len(one_hot_encoding_act_conv),\n",
        "    'n_hidden_layers':3,\n",
        "    'n_hidden_units':[300,300,300],\n",
        "    'relu':True,\n",
        "    'optimizer':'SGD',\n",
        "    'learning_rate':0.005,\n",
        "    'weight_decay':0.001\n",
        "}\n",
        "\n",
        "# n_inputs = env.observation_space.n\n",
        "# n_outputs = env.action_space.n\n",
        "\n",
        "# initialize DQN and replay memory\n",
        "\n",
        "  \n",
        "policy_dqn = agent.DQN(NN_PARAMS)\n",
        "target_dqn = agent.DQN(NN_PARAMS)\n",
        "\n",
        "if load_qdn_from_network:\n",
        "  target_dqn.load_state_dict(torch.load('checkpoint_target_dqn.pth'))\n",
        "  policy_dqn.load_state_dict(torch.load('checkpoint_policy_dqn.pth'))\n",
        "\n",
        "# set to cuda if available\n",
        "policy_dqn = policy_dqn.to(dev)\n",
        "target_dqn = target_dqn.to(dev)\n",
        "\n",
        "replay_memory = agent.ReplayMemory(TRAINING_PARAMS['replay_memory_capacity'])\n",
        "\n",
        "# prefill replay memory with random actions\n",
        "if TRAINING_PARAMS['prefil_memory']:\n",
        "    print('prefill replay memory')\n",
        "    s = env.reset()\n",
        "    with tqdm(total=TRAINING_PARAMS['replay_memory_capacity']) as pbar:\n",
        "      while replay_memory.count() < TRAINING_PARAMS['replay_memory_capacity']:\n",
        "          a = env.action_space.sample()\n",
        "          s1, r, d, _ = env.step(a)\n",
        "          a_one_hot = convert_env_act_to_one_hot_encoding_act(one_hot_encoding_act_conv,env_act=a.to_vect())\n",
        "          replay_memory.add(s.to_vect(), a_one_hot, r, s1.to_vect(), d)\n",
        "          s = s1 if not d else env.reset()\n",
        "          pbar.update(1)\n",
        "\n",
        "# Fix issue with replay_memory not saving states and actions as vectors in some cases (legacy)\n",
        "# for i,sample_ in enumerate(replay_memory.memory):\n",
        "#   for j in [0,1,3]:\n",
        "#     try:\n",
        "#       ss_ = sample_[j].to_vect()\n",
        "#       replay_memory[i][j] = ss_\n",
        "#     except:\n",
        "#       pass\n",
        "\n",
        "# training loop\n",
        "try:\n",
        "    print('start training')\n",
        "    epsilon = 1.0\n",
        "    rewards, lengths, losses, epsilons, game_overs, action_ids = [], [], [], [], [], []\n",
        "    for i in range(TRAINING_PARAMS['num_episodes']):\n",
        "        # init new episode\n",
        "        s, ep_reward, ep_loss,ep_game_over = env.reset(), 0, 0, False\n",
        "        action_ids_episode = []\n",
        "        for j in range(TRAINING_PARAMS['episode_limit']):\n",
        "            # select action with epsilon-greedy strategy\n",
        "            if np.random.rand() < epsilon:\n",
        "                a = env.action_space.sample()\n",
        "            else:\n",
        "                with torch.no_grad():\n",
        "                    Q_est = policy_dqn(torch.from_numpy(np.array(s.to_vect(),dtype='float32')).to(dev).float())\n",
        "                    Q_est[Q_est!=Q_est] = -1 ## Fix potentional na value\n",
        "                    a = env.action_space(env_act_dict_list[Q_est.argmax().item()])                  \n",
        "            # perform action\n",
        "            s1, r, d, _ = env.step(a)\n",
        "            # store experience in replay memory\n",
        "            a_one_hot = convert_env_act_to_one_hot_encoding_act(one_hot_encoding_act_conv,env_act=a.to_vect())\n",
        "            replay_memory.add(s.to_vect(), a_one_hot, r, s1.to_vect(), d)\n",
        "            # batch update\n",
        "            if replay_memory.count() >= TRAINING_PARAMS['batch_size']:\n",
        "                # sample batch from replay memory\n",
        "                batch = np.array(replay_memory.sample(TRAINING_PARAMS['batch_size']))\n",
        "                ss, aa, rr, ss1, dd = batch[:,0], batch[:,1], batch[:,2], batch[:,3], batch[:,4]\n",
        "                # do forward pass of batch\n",
        "                policy_dqn.optimizer.zero_grad()\n",
        "                #Q = policy_dqn(torch.from_numpy(one_hot(ss, n_inputs)).float())\n",
        "                Q = policy_dqn(torch.from_numpy(np.array(ss.tolist(),dtype='float32')).to(dev).float())\n",
        "                # use target network to compute target Q-values\n",
        "                with torch.no_grad():\n",
        "                      # TODO: use target net\n",
        "                      Q1 = target_dqn(torch.from_numpy(np.array(ss1.tolist(),dtype='float32')).to(dev).float())\n",
        "                # compute target for each sampled experience\n",
        "                q_targets = Q.clone()\n",
        "                for k in range(TRAINING_PARAMS['batch_size']):\n",
        "                    q_targets[k, aa[k]] = rr[k] + TRAINING_PARAMS['gamma'] * Q1[k].max().item() * (not dd[k])\n",
        "                # update network weights\n",
        "                loss = policy_dqn.loss(Q, q_targets)\n",
        "                loss.backward()\n",
        "                policy_dqn.optimizer.step()\n",
        "                # update target network parameters from policy network parameters\n",
        "                target_dqn.update_params(policy_dqn.state_dict(), TRAINING_PARAMS['tau'])\n",
        "            else:\n",
        "                loss = 0\n",
        "            # bookkeeping\n",
        "            s = s1\n",
        "            ep_reward += r\n",
        "            action_ids_episode.append(a_one_hot.argmax().item())\n",
        "            try: ep_loss += loss.item()\n",
        "            except: ep_loss += loss\n",
        "            if r==-10:\n",
        "              ep_game_over = True\n",
        "            if d: break\n",
        "\n",
        "        # Update epsilon\n",
        "        if TRAINING_PARAMS['episilon_decay']=='Linear':\n",
        "          epsilon = 1 - i / TRAINING_PARAMS['num_episodes'] \n",
        "        elif TRAINING_PARAMS['episilon_decay']=='Exponential':\n",
        "          epsilon *= TRAINING_PARAMS['num_episodes']/(i/(TRAINING_PARAMS['num_episodes']/20)+TRAINING_PARAMS['num_episodes']) # decrease epsilon\n",
        "        \n",
        "        # bookkeeping\n",
        "        epsilons.append(epsilon); rewards.append(ep_reward); lengths.append(j+1); losses.append(ep_loss);game_overs.append(ep_game_over);action_ids.append(action_ids_episode)\n",
        "        if (i+1) % TRAINING_PARAMS['val_freq'] == 0:\n",
        "          print('%5d mean training reward: %5.2f' % (i+1, np.mean(rewards[-TRAINING_PARAMS['val_freq']:])))\n",
        "          print(f\"{i+1} mean survival length: {np.mean(lengths[-TRAINING_PARAMS['val_freq']:])}\")\n",
        "          print(f\"{i+1} Best survival length: {np.max(lengths[-TRAINING_PARAMS['val_freq']:])}\")\n",
        "          torch.save(policy_dqn.state_dict(), prefix_NN_weight_files+'checkpoint_policy_dqn.pth')\n",
        "          torch.save(target_dqn.state_dict(), prefix_NN_weight_files+'checkpoint_target_dqn.pth')\n",
        "          #print(f\"{i+1} mean survival rate (not game over): {1-np.mean(game_overs[-TRAINING_PARAMS['val_freq']:])}%\")\n",
        "    print('done')\n",
        "except KeyboardInterrupt:\n",
        "    print('interrupt')\n",
        "\n"
      ],
      "execution_count": null,
      "outputs": [
        {
          "output_type": "stream",
          "text": [
            "prefill replay memory\n"
          ],
          "name": "stdout"
        },
        {
          "output_type": "display_data",
          "data": {
            "application/vnd.jupyter.widget-view+json": {
              "model_id": "22dda315639f42e4bbefbfe4975598c1",
              "version_minor": 0,
              "version_major": 2
            },
            "text/plain": [
              "HBox(children=(HTML(value=''), FloatProgress(value=0.0, max=20000.0), HTML(value='')))"
            ]
          },
          "metadata": {
            "tags": []
          }
        },
        {
          "output_type": "stream",
          "text": [
            "\n",
            "start training\n",
            "  100 mean training reward:  1.28\n",
            "100 mean survival length: 2.28\n",
            "100 Best survival length: 6\n",
            "  200 mean training reward:  1.55\n",
            "200 mean survival length: 2.55\n",
            "200 Best survival length: 7\n",
            "  300 mean training reward:  1.25\n",
            "300 mean survival length: 2.25\n",
            "300 Best survival length: 7\n",
            "  400 mean training reward:  1.40\n",
            "400 mean survival length: 2.4\n",
            "400 Best survival length: 6\n",
            "  500 mean training reward:  1.81\n",
            "500 mean survival length: 2.81\n",
            "500 Best survival length: 8\n",
            "  600 mean training reward:  1.55\n",
            "600 mean survival length: 2.55\n",
            "600 Best survival length: 8\n",
            "  700 mean training reward:  1.62\n",
            "700 mean survival length: 2.62\n",
            "700 Best survival length: 10\n",
            "  800 mean training reward:  1.79\n",
            "800 mean survival length: 2.79\n",
            "800 Best survival length: 10\n",
            "  900 mean training reward:  2.09\n",
            "900 mean survival length: 3.09\n",
            "900 Best survival length: 10\n",
            " 1000 mean training reward:  2.32\n",
            "1000 mean survival length: 3.32\n",
            "1000 Best survival length: 10\n",
            " 1100 mean training reward:  3.01\n",
            "1100 mean survival length: 4.01\n",
            "1100 Best survival length: 11\n",
            " 1200 mean training reward:  2.47\n",
            "1200 mean survival length: 3.47\n",
            "1200 Best survival length: 12\n",
            " 1300 mean training reward:  2.92\n",
            "1300 mean survival length: 3.92\n",
            "1300 Best survival length: 15\n",
            " 1400 mean training reward:  2.47\n",
            "1400 mean survival length: 3.47\n",
            "1400 Best survival length: 11\n",
            " 1500 mean training reward:  3.24\n",
            "1500 mean survival length: 4.24\n",
            "1500 Best survival length: 22\n",
            " 1600 mean training reward:  3.65\n",
            "1600 mean survival length: 4.65\n",
            "1600 Best survival length: 18\n",
            " 1700 mean training reward:  4.18\n",
            "1700 mean survival length: 5.18\n",
            "1700 Best survival length: 35\n",
            " 1800 mean training reward:  4.51\n",
            "1800 mean survival length: 5.51\n",
            "1800 Best survival length: 22\n",
            " 1900 mean training reward:  5.07\n",
            "1900 mean survival length: 6.07\n",
            "1900 Best survival length: 36\n",
            " 2000 mean training reward:  6.97\n",
            "2000 mean survival length: 7.97\n",
            "2000 Best survival length: 32\n",
            " 2100 mean training reward:  8.63\n",
            "2100 mean survival length: 9.63\n",
            "2100 Best survival length: 38\n",
            " 2200 mean training reward: 11.63\n",
            "2200 mean survival length: 12.63\n",
            "2200 Best survival length: 45\n",
            " 2300 mean training reward: 15.05\n",
            "2300 mean survival length: 16.05\n",
            "2300 Best survival length: 124\n",
            " 2400 mean training reward: 31.41\n",
            "2400 mean survival length: 32.41\n",
            "2400 Best survival length: 137\n",
            " 2500 mean training reward: 119.02\n",
            "2500 mean survival length: 120.02\n",
            "2500 Best survival length: 658\n",
            "done\n"
          ],
          "name": "stdout"
        }
      ]
    },
    {
      "cell_type": "code",
      "metadata": {
        "colab": {
          "base_uri": "https://localhost:8080/",
          "height": 640
        },
        "id": "faSoVvbjYroB",
        "outputId": "dc68ab7d-fee7-49ea-8cbe-90ba36b12d1e"
      },
      "source": [
        "# plot results\n",
        "def moving_average(a, n=10) :\n",
        "    ret = np.cumsum(a, dtype=float)\n",
        "    ret[n:] = ret[n:] - ret[:-n]\n",
        "    return ret / n\n",
        "\n",
        "shr_play_nothing = [(np.array(action_ids_eps)==0).mean() for action_ids_eps in action_ids]\n",
        "\n",
        "plt.figure(figsize=(16, 9))\n",
        "plt.subplot(411)\n",
        "plt.title('training rewards')\n",
        "plt.plot(range(1, len(rewards)+1), rewards)\n",
        "plt.plot(moving_average(rewards))\n",
        "plt.xlim([0, len(rewards)])\n",
        "plt.subplot(412)\n",
        "plt.title('training lengths')\n",
        "plt.plot(range(1, len(rewards)+1), lengths)\n",
        "plt.plot(range(1, len(rewards)+1), moving_average(lengths))\n",
        "plt.xlim([0, len(rewards)])\n",
        "#plt.subplot(413)\n",
        "# plt.title('training loss')\n",
        "# plt.plot(range(1, len(rewards)+1), losses)\n",
        "# plt.plot(range(1, len(rewards)+1), moving_average(losses))\n",
        "# plt.xlim([0, len(rewards)])\n",
        "plt.subplot(413)\n",
        "plt.title('Share of actions is do nothing')\n",
        "plt.plot(range(1, len(shr_play_nothing)+1), moving_average(shr_play_nothing,n=10))\n",
        "plt.xlim([0, len(shr_play_nothing)])\n",
        "plt.tight_layout()\n",
        "plt.subplot(414)\n",
        "plt.title('epsilon')\n",
        "plt.plot(range(1, len(rewards)+1), epsilons)\n",
        "plt.xlim([0, len(rewards)])\n",
        "plt.tight_layout()\n",
        "plt.savefig('double_dqn_training.pdf',dpi=600)\n",
        "plt.show()"
      ],
      "execution_count": null,
      "outputs": [
        {
          "output_type": "display_data",
          "data": {
            "image/png": "[encoded data removed]",
            "text/plain": [
              "<Figure size 1152x648 with 4 Axes>"
            ]
          },
          "metadata": {
            "tags": [],
            "needs_background": "light"
          }
        }
      ]
    },
    {
      "cell_type": "markdown",
      "metadata": {
        "id": "rNnxDUSYvI5d"
      },
      "source": [
        "# VERY SIMPLE DQN AGENT"
      ]
    },
    {
      "cell_type": "code",
      "metadata": {
        "colab": {
          "base_uri": "https://localhost:8080/",
          "height": 82,
          "referenced_widgets": [
            "330b8ab2166e4fc98c2dca56813819f3",
            "baaa4a27007042189e260c9349af18f0",
            "bde7a8dfb5e542fc81dd50fce2feda33",
            "c830b597422a4caeaa0235dddf96760c",
            "fb83a4d3c0844462851dde56d98237f2",
            "7072757db5144731a1042f7131cf5d26",
            "2a8c01cf229d4baf96fd44be0d6376d0",
            "38db3f17530e492aa56e6f02198dcff8",
            "f7a9810600ce4df5ac6a4aa6c909e0c2",
            "602fd06af7d6439f900c3e943dac0283",
            "451697b21421435c842b9e3fb42a8e16"
          ]
        },
        "id": "lnY920uosmCe",
        "outputId": "7e53c14d-a93a-4c76-bc74-fc9efbd5239e"
      },
      "source": [
        "import torch\n",
        "\n",
        "NN_PARAMS = {\n",
        "    'n_inputs':env.observation_space.n,\n",
        "    'n_outputs':len(one_hot_encoding_act_conv),\n",
        "    'n_hidden_layers':3,\n",
        "    'n_hidden_units':[300,300,300],\n",
        "    'relu':True,\n",
        "    'optimizer':'SGD',\n",
        "    'learning_rate':0.005,\n",
        "    'weight_decay':0.001\n",
        "}\n",
        "\n",
        "if torch.cuda.is_available(): \n",
        "    dev = \"cuda:0\" \n",
        "else: \n",
        "    dev = \"cpu\"\n",
        "\n",
        "policy_dqn = agent.DQN(NN_PARAMS)\n",
        "target_dqn = agent.DQN(NN_PARAMS)\n",
        "\n",
        "# Load from drive\n",
        "target_dqn.load_state_dict(torch.load('checkpoint_target_dqn.pth', map_location=torch.device('cpu')))\n",
        "policy_dqn.load_state_dict(torch.load('checkpoint_policy_dqn.pth', map_location=torch.device('cpu')))\n",
        "\n",
        "all_obs = []\n",
        "obs = env.reset()\n",
        "all_obs.append(obs)\n",
        "reward = env.reward_range[0]\n",
        "reward_list = []\n",
        "done = False\n",
        "nb_step = 0\n",
        "print(\"DQN Simulation\")\n",
        "with tqdm(total=env.chronics_handler.max_timestep()) as pbar:\n",
        "    while True:\n",
        "        #action = act_vect_to_act_obj(env,target_dqn(torch.from_numpy(np.array(obs.to_vect(),dtype='float32')).to(dev).float()))\n",
        "        #action = my_agent.act(obs, reward, done)\n",
        "        Q_est = policy_dqn(torch.from_numpy(np.array(obs.to_vect(),dtype='float32')).to(dev).float())\n",
        "        #Q_est[Q_est!=Q_est] = -1 ## Fix potentional na value\n",
        "        action = env.action_space(env_act_dict_list[Q_est.argmax().item()])            \n",
        "        obs, reward, done, _ = env.step(action)\n",
        "        reward_list.append(reward)\n",
        "        pbar.update(1)\n",
        "        if done:\n",
        "            break\n",
        "        all_obs.append(obs)\n",
        "        nb_step += 1\n",
        "\n",
        "reward_list_simple_DQN = np.copy(reward_list)\n"
      ],
      "execution_count": 15,
      "outputs": [
        {
          "output_type": "stream",
          "name": "stdout",
          "text": [
            "DQN Simulation\n"
          ]
        },
        {
          "output_type": "display_data",
          "data": {
            "text/plain": "HBox(children=(FloatProgress(value=0.0, max=8064.0), HTML(value='')))",
            "application/vnd.jupyter.widget-view+json": {
              "version_major": 2,
              "version_minor": 0,
              "model_id": "9ee4b67402bb4d9a9737dca42c015157"
            }
          },
          "metadata": {}
        },
        {
          "output_type": "stream",
          "name": "stdout",
          "text": [
            "\n"
          ]
        }
      ]
    },
    {
      "cell_type": "code",
      "metadata": {
        "colab": {
          "base_uri": "https://localhost:8080/",
          "height": 369
        },
        "id": "qY5Z838vtRCp",
        "outputId": "d2b8fd8f-a527-439f-de20-1f21c7aa4025"
      },
      "source": [
        "import seaborn as sns\n",
        "import matplotlib.pyplot as plt\n",
        "\n",
        "nested_lists = [reward_list_do_nothing_agent,reward_list_random_agent,reward_power_line_switch_agent,reward_list_simple_DQN]\n",
        "lists_to_df  = []\n",
        "\n",
        "for nested_list in  nested_lists:\n",
        "  len_list = len(nested_list)\n",
        "  final_value = nested_list[-1]\n",
        "  list_ = np.repeat(final_value,env.chronics_handler.max_timestep())\n",
        "  list_[:len_list] = nested_list\n",
        "  lists_to_df.append(list_)\n",
        "\n",
        "df_pre_built_agents = pd.DataFrame(lists_to_df)\\\n",
        ".transpose()\\\n",
        ".rename(columns={0:'do_nothing_agent',1:'random_agent',2:'switch_power_line_agent',3:'Very Simple DQN agent'})\\\n",
        ".stack()\\\n",
        ".reset_index()\\\n",
        ".rename(columns={'level_0':'iteration','level_1':'agent_type',0:'reward'})\n",
        "\n",
        "\n",
        "fig,ax = plt.subplots(1,1,figsize=(7,5))\n",
        "sns.lineplot(x='iteration',y='reward',hue='agent_type',ax=ax,data=df_pre_built_agents)\n",
        "ax.set_xlabel(\"# of iterations\")\n",
        "ax.set_ylabel(\"Reward\")\n",
        "ax.set_title(\"Performance of pre-built grid2op agents\\n(Only actions available are powerline and topology change)\")\n",
        "ax.legend(['Do nothing agent','Random actions agent','Switch Power Line agent','Double DQN Agent'])\n",
        "ax.set_xlim(0,2000)\n",
        "plt.tight_layout()\n",
        "plt.show()\n",
        "\n",
        "# df_pre_built_agents = pd.DataFrame({'random_agent':reward_list_random_agent,\n",
        "#                                     'power_line_switch_agent':reward_power_line_switch_agent\n",
        "#                                     })\n",
        "# df_pre_built_agents"
      ],
      "execution_count": 14,
      "outputs": [
        {
          "output_type": "display_data",
          "data": {
            "text/plain": "<Figure size 504x360 with 1 Axes>",
            "image/svg+xml": "<?xml version=\"1.0\" encoding=\"utf-8\" standalone=\"no\"?>\n<!DOCTYPE svg PUBLIC \"-//W3C//DTD SVG 1.1//EN\"\n  \"http://www.w3.org/Graphics/SVG/1.1/DTD/svg11.dtd\">\n<!-- Created with matplotlib (https://matplotlib.org/) -->\n<svg height=\"349.71175pt\" version=\"1.1\" viewBox=\"0 0 496.840625 349.71175\" width=\"496.840625pt\" xmlns=\"http://www.w3.org/2000/svg\" xmlns:xlink=\"http://www.w3.org/1999/xlink\">\n <defs>\n  <style type=\"text/css\">\n*{stroke-linecap:butt;stroke-linejoin:round;}\n  </style>\n </defs>\n <g id=\"figure_1\">\n  <g id=\"patch_1\">\n   <path d=\"M 0 349.71175 \nL 496.840625 349.71175 \nL 496.840625 0 \nL 0 0 \nz\n\" style=\"fill:none;\"/>\n  </g>\n  <g id=\"axes_1\">\n   <g id=\"patch_2\">\n    <path d=\"M 53.328125 312.1555 \nL 476.915625 312.1555 \nL 476.915625 35.7555 \nL 53.328125 35.7555 \nz\n\" style=\"fill:#ffffff;\"/>\n   </g>\n   <g id=\"matplotlib.axis_1\">\n    <g id=\"xtick_1\">\n     <g id=\"line2d_1\">\n      <defs>\n       <path d=\"M 0 0 \nL 0 3.5 \n\" id=\"md1ebf68490\" style=\"stroke:#000000;stroke-width:0.8;\"/>\n      </defs>\n      <g>\n       <use style=\"stroke:#000000;stroke-width:0.8;\" x=\"53.328125\" xlink:href=\"#md1ebf68490\" y=\"312.1555\"/>\n      </g>\n     </g>\n     <g id=\"text_1\">\n      <!-- 0 -->\n      <defs>\n       <path d=\"M 31.78125 66.40625 \nQ 24.171875 66.40625 20.328125 58.90625 \nQ 16.5 51.421875 16.5 36.375 \nQ 16.5 21.390625 20.328125 13.890625 \nQ 24.171875 6.390625 31.78125 6.390625 \nQ 39.453125 6.390625 43.28125 13.890625 \nQ 47.125 21.390625 47.125 36.375 \nQ 47.125 51.421875 43.28125 58.90625 \nQ 39.453125 66.40625 31.78125 66.40625 \nz\nM 31.78125 74.21875 \nQ 44.046875 74.21875 50.515625 64.515625 \nQ 56.984375 54.828125 56.984375 36.375 \nQ 56.984375 17.96875 50.515625 8.265625 \nQ 44.046875 -1.421875 31.78125 -1.421875 \nQ 19.53125 -1.421875 13.0625 8.265625 \nQ 6.59375 17.96875 6.59375 36.375 \nQ 6.59375 54.828125 13.0625 64.515625 \nQ 19.53125 74.21875 31.78125 74.21875 \nz\n\" id=\"DejaVuSans-48\"/>\n      </defs>\n      <g transform=\"translate(50.146875 326.753937)scale(0.1 -0.1)\">\n       <use xlink:href=\"#DejaVuSans-48\"/>\n      </g>\n     </g>\n    </g>\n    <g id=\"xtick_2\">\n     <g id=\"line2d_2\">\n      <g>\n       <use style=\"stroke:#000000;stroke-width:0.8;\" x=\"106.276563\" xlink:href=\"#md1ebf68490\" y=\"312.1555\"/>\n      </g>\n     </g>\n     <g id=\"text_2\">\n      <!-- 250 -->\n      <defs>\n       <path d=\"M 19.1875 8.296875 \nL 53.609375 8.296875 \nL 53.609375 0 \nL 7.328125 0 \nL 7.328125 8.296875 \nQ 12.9375 14.109375 22.625 23.890625 \nQ 32.328125 33.6875 34.8125 36.53125 \nQ 39.546875 41.84375 41.421875 45.53125 \nQ 43.3125 49.21875 43.3125 52.78125 \nQ 43.3125 58.59375 39.234375 62.25 \nQ 35.15625 65.921875 28.609375 65.921875 \nQ 23.96875 65.921875 18.8125 64.3125 \nQ 13.671875 62.703125 7.8125 59.421875 \nL 7.8125 69.390625 \nQ 13.765625 71.78125 18.9375 73 \nQ 24.125 74.21875 28.421875 74.21875 \nQ 39.75 74.21875 46.484375 68.546875 \nQ 53.21875 62.890625 53.21875 53.421875 \nQ 53.21875 48.921875 51.53125 44.890625 \nQ 49.859375 40.875 45.40625 35.40625 \nQ 44.1875 33.984375 37.640625 27.21875 \nQ 31.109375 20.453125 19.1875 8.296875 \nz\n\" id=\"DejaVuSans-50\"/>\n       <path d=\"M 10.796875 72.90625 \nL 49.515625 72.90625 \nL 49.515625 64.59375 \nL 19.828125 64.59375 \nL 19.828125 46.734375 \nQ 21.96875 47.46875 24.109375 47.828125 \nQ 26.265625 48.1875 28.421875 48.1875 \nQ 40.625 48.1875 47.75 41.5 \nQ 54.890625 34.8125 54.890625 23.390625 \nQ 54.890625 11.625 47.5625 5.09375 \nQ 40.234375 -1.421875 26.90625 -1.421875 \nQ 22.3125 -1.421875 17.546875 -0.640625 \nQ 12.796875 0.140625 7.71875 1.703125 \nL 7.71875 11.625 \nQ 12.109375 9.234375 16.796875 8.0625 \nQ 21.484375 6.890625 26.703125 6.890625 \nQ 35.15625 6.890625 40.078125 11.328125 \nQ 45.015625 15.765625 45.015625 23.390625 \nQ 45.015625 31 40.078125 35.4375 \nQ 35.15625 39.890625 26.703125 39.890625 \nQ 22.75 39.890625 18.8125 39.015625 \nQ 14.890625 38.140625 10.796875 36.28125 \nz\n\" id=\"DejaVuSans-53\"/>\n      </defs>\n      <g transform=\"translate(96.732813 326.753937)scale(0.1 -0.1)\">\n       <use xlink:href=\"#DejaVuSans-50\"/>\n       <use x=\"63.623047\" xlink:href=\"#DejaVuSans-53\"/>\n       <use x=\"127.246094\" xlink:href=\"#DejaVuSans-48\"/>\n      </g>\n     </g>\n    </g>\n    <g id=\"xtick_3\">\n     <g id=\"line2d_3\">\n      <g>\n       <use style=\"stroke:#000000;stroke-width:0.8;\" x=\"159.225\" xlink:href=\"#md1ebf68490\" y=\"312.1555\"/>\n      </g>\n     </g>\n     <g id=\"text_3\">\n      <!-- 500 -->\n      <g transform=\"translate(149.68125 326.753937)scale(0.1 -0.1)\">\n       <use xlink:href=\"#DejaVuSans-53\"/>\n       <use x=\"63.623047\" xlink:href=\"#DejaVuSans-48\"/>\n       <use x=\"127.246094\" xlink:href=\"#DejaVuSans-48\"/>\n      </g>\n     </g>\n    </g>\n    <g id=\"xtick_4\">\n     <g id=\"line2d_4\">\n      <g>\n       <use style=\"stroke:#000000;stroke-width:0.8;\" x=\"212.173437\" xlink:href=\"#md1ebf68490\" y=\"312.1555\"/>\n      </g>\n     </g>\n     <g id=\"text_4\">\n      <!-- 750 -->\n      <defs>\n       <path d=\"M 8.203125 72.90625 \nL 55.078125 72.90625 \nL 55.078125 68.703125 \nL 28.609375 0 \nL 18.3125 0 \nL 43.21875 64.59375 \nL 8.203125 64.59375 \nz\n\" id=\"DejaVuSans-55\"/>\n      </defs>\n      <g transform=\"translate(202.629687 326.753937)scale(0.1 -0.1)\">\n       <use xlink:href=\"#DejaVuSans-55\"/>\n       <use x=\"63.623047\" xlink:href=\"#DejaVuSans-53\"/>\n       <use x=\"127.246094\" xlink:href=\"#DejaVuSans-48\"/>\n      </g>\n     </g>\n    </g>\n    <g id=\"xtick_5\">\n     <g id=\"line2d_5\">\n      <g>\n       <use style=\"stroke:#000000;stroke-width:0.8;\" x=\"265.121875\" xlink:href=\"#md1ebf68490\" y=\"312.1555\"/>\n      </g>\n     </g>\n     <g id=\"text_5\">\n      <!-- 1000 -->\n      <defs>\n       <path d=\"M 12.40625 8.296875 \nL 28.515625 8.296875 \nL 28.515625 63.921875 \nL 10.984375 60.40625 \nL 10.984375 69.390625 \nL 28.421875 72.90625 \nL 38.28125 72.90625 \nL 38.28125 8.296875 \nL 54.390625 8.296875 \nL 54.390625 0 \nL 12.40625 0 \nz\n\" id=\"DejaVuSans-49\"/>\n      </defs>\n      <g transform=\"translate(252.396875 326.753937)scale(0.1 -0.1)\">\n       <use xlink:href=\"#DejaVuSans-49\"/>\n       <use x=\"63.623047\" xlink:href=\"#DejaVuSans-48\"/>\n       <use x=\"127.246094\" xlink:href=\"#DejaVuSans-48\"/>\n       <use x=\"190.869141\" xlink:href=\"#DejaVuSans-48\"/>\n      </g>\n     </g>\n    </g>\n    <g id=\"xtick_6\">\n     <g id=\"line2d_6\">\n      <g>\n       <use style=\"stroke:#000000;stroke-width:0.8;\" x=\"318.070312\" xlink:href=\"#md1ebf68490\" y=\"312.1555\"/>\n      </g>\n     </g>\n     <g id=\"text_6\">\n      <!-- 1250 -->\n      <g transform=\"translate(305.345312 326.753937)scale(0.1 -0.1)\">\n       <use xlink:href=\"#DejaVuSans-49\"/>\n       <use x=\"63.623047\" xlink:href=\"#DejaVuSans-50\"/>\n       <use x=\"127.246094\" xlink:href=\"#DejaVuSans-53\"/>\n       <use x=\"190.869141\" xlink:href=\"#DejaVuSans-48\"/>\n      </g>\n     </g>\n    </g>\n    <g id=\"xtick_7\">\n     <g id=\"line2d_7\">\n      <g>\n       <use style=\"stroke:#000000;stroke-width:0.8;\" x=\"371.01875\" xlink:href=\"#md1ebf68490\" y=\"312.1555\"/>\n      </g>\n     </g>\n     <g id=\"text_7\">\n      <!-- 1500 -->\n      <g transform=\"translate(358.29375 326.753937)scale(0.1 -0.1)\">\n       <use xlink:href=\"#DejaVuSans-49\"/>\n       <use x=\"63.623047\" xlink:href=\"#DejaVuSans-53\"/>\n       <use x=\"127.246094\" xlink:href=\"#DejaVuSans-48\"/>\n       <use x=\"190.869141\" xlink:href=\"#DejaVuSans-48\"/>\n      </g>\n     </g>\n    </g>\n    <g id=\"xtick_8\">\n     <g id=\"line2d_8\">\n      <g>\n       <use style=\"stroke:#000000;stroke-width:0.8;\" x=\"423.967187\" xlink:href=\"#md1ebf68490\" y=\"312.1555\"/>\n      </g>\n     </g>\n     <g id=\"text_8\">\n      <!-- 1750 -->\n      <g transform=\"translate(411.242187 326.753937)scale(0.1 -0.1)\">\n       <use xlink:href=\"#DejaVuSans-49\"/>\n       <use x=\"63.623047\" xlink:href=\"#DejaVuSans-55\"/>\n       <use x=\"127.246094\" xlink:href=\"#DejaVuSans-53\"/>\n       <use x=\"190.869141\" xlink:href=\"#DejaVuSans-48\"/>\n      </g>\n     </g>\n    </g>\n    <g id=\"xtick_9\">\n     <g id=\"line2d_9\">\n      <g>\n       <use style=\"stroke:#000000;stroke-width:0.8;\" x=\"476.915625\" xlink:href=\"#md1ebf68490\" y=\"312.1555\"/>\n      </g>\n     </g>\n     <g id=\"text_9\">\n      <!-- 2000 -->\n      <g transform=\"translate(464.190625 326.753937)scale(0.1 -0.1)\">\n       <use xlink:href=\"#DejaVuSans-50\"/>\n       <use x=\"63.623047\" xlink:href=\"#DejaVuSans-48\"/>\n       <use x=\"127.246094\" xlink:href=\"#DejaVuSans-48\"/>\n       <use x=\"190.869141\" xlink:href=\"#DejaVuSans-48\"/>\n      </g>\n     </g>\n    </g>\n    <g id=\"text_10\">\n     <!-- # of iterations -->\n     <defs>\n      <path d=\"M 51.125 44 \nL 36.921875 44 \nL 32.8125 27.6875 \nL 47.125 27.6875 \nz\nM 43.796875 71.78125 \nL 38.71875 51.515625 \nL 52.984375 51.515625 \nL 58.109375 71.78125 \nL 65.921875 71.78125 \nL 60.890625 51.515625 \nL 76.125 51.515625 \nL 76.125 44 \nL 58.984375 44 \nL 54.984375 27.6875 \nL 70.515625 27.6875 \nL 70.515625 20.21875 \nL 53.078125 20.21875 \nL 48 0 \nL 40.1875 0 \nL 45.21875 20.21875 \nL 30.90625 20.21875 \nL 25.875 0 \nL 18.015625 0 \nL 23.09375 20.21875 \nL 7.71875 20.21875 \nL 7.71875 27.6875 \nL 24.90625 27.6875 \nL 29 44 \nL 13.28125 44 \nL 13.28125 51.515625 \nL 30.90625 51.515625 \nL 35.890625 71.78125 \nz\n\" id=\"DejaVuSans-35\"/>\n      <path id=\"DejaVuSans-32\"/>\n      <path d=\"M 30.609375 48.390625 \nQ 23.390625 48.390625 19.1875 42.75 \nQ 14.984375 37.109375 14.984375 27.296875 \nQ 14.984375 17.484375 19.15625 11.84375 \nQ 23.34375 6.203125 30.609375 6.203125 \nQ 37.796875 6.203125 41.984375 11.859375 \nQ 46.1875 17.53125 46.1875 27.296875 \nQ 46.1875 37.015625 41.984375 42.703125 \nQ 37.796875 48.390625 30.609375 48.390625 \nz\nM 30.609375 56 \nQ 42.328125 56 49.015625 48.375 \nQ 55.71875 40.765625 55.71875 27.296875 \nQ 55.71875 13.875 49.015625 6.21875 \nQ 42.328125 -1.421875 30.609375 -1.421875 \nQ 18.84375 -1.421875 12.171875 6.21875 \nQ 5.515625 13.875 5.515625 27.296875 \nQ 5.515625 40.765625 12.171875 48.375 \nQ 18.84375 56 30.609375 56 \nz\n\" id=\"DejaVuSans-111\"/>\n      <path d=\"M 37.109375 75.984375 \nL 37.109375 68.5 \nL 28.515625 68.5 \nQ 23.6875 68.5 21.796875 66.546875 \nQ 19.921875 64.59375 19.921875 59.515625 \nL 19.921875 54.6875 \nL 34.71875 54.6875 \nL 34.71875 47.703125 \nL 19.921875 47.703125 \nL 19.921875 0 \nL 10.890625 0 \nL 10.890625 47.703125 \nL 2.296875 47.703125 \nL 2.296875 54.6875 \nL 10.890625 54.6875 \nL 10.890625 58.5 \nQ 10.890625 67.625 15.140625 71.796875 \nQ 19.390625 75.984375 28.609375 75.984375 \nz\n\" id=\"DejaVuSans-102\"/>\n      <path d=\"M 9.421875 54.6875 \nL 18.40625 54.6875 \nL 18.40625 0 \nL 9.421875 0 \nz\nM 9.421875 75.984375 \nL 18.40625 75.984375 \nL 18.40625 64.59375 \nL 9.421875 64.59375 \nz\n\" id=\"DejaVuSans-105\"/>\n      <path d=\"M 18.3125 70.21875 \nL 18.3125 54.6875 \nL 36.8125 54.6875 \nL 36.8125 47.703125 \nL 18.3125 47.703125 \nL 18.3125 18.015625 \nQ 18.3125 11.328125 20.140625 9.421875 \nQ 21.96875 7.515625 27.59375 7.515625 \nL 36.8125 7.515625 \nL 36.8125 0 \nL 27.59375 0 \nQ 17.1875 0 13.234375 3.875 \nQ 9.28125 7.765625 9.28125 18.015625 \nL 9.28125 47.703125 \nL 2.6875 47.703125 \nL 2.6875 54.6875 \nL 9.28125 54.6875 \nL 9.28125 70.21875 \nz\n\" id=\"DejaVuSans-116\"/>\n      <path d=\"M 56.203125 29.59375 \nL 56.203125 25.203125 \nL 14.890625 25.203125 \nQ 15.484375 15.921875 20.484375 11.0625 \nQ 25.484375 6.203125 34.421875 6.203125 \nQ 39.59375 6.203125 44.453125 7.46875 \nQ 49.3125 8.734375 54.109375 11.28125 \nL 54.109375 2.78125 \nQ 49.265625 0.734375 44.1875 -0.34375 \nQ 39.109375 -1.421875 33.890625 -1.421875 \nQ 20.796875 -1.421875 13.15625 6.1875 \nQ 5.515625 13.8125 5.515625 26.8125 \nQ 5.515625 40.234375 12.765625 48.109375 \nQ 20.015625 56 32.328125 56 \nQ 43.359375 56 49.78125 48.890625 \nQ 56.203125 41.796875 56.203125 29.59375 \nz\nM 47.21875 32.234375 \nQ 47.125 39.59375 43.09375 43.984375 \nQ 39.0625 48.390625 32.421875 48.390625 \nQ 24.90625 48.390625 20.390625 44.140625 \nQ 15.875 39.890625 15.1875 32.171875 \nz\n\" id=\"DejaVuSans-101\"/>\n      <path d=\"M 41.109375 46.296875 \nQ 39.59375 47.171875 37.8125 47.578125 \nQ 36.03125 48 33.890625 48 \nQ 26.265625 48 22.1875 43.046875 \nQ 18.109375 38.09375 18.109375 28.8125 \nL 18.109375 0 \nL 9.078125 0 \nL 9.078125 54.6875 \nL 18.109375 54.6875 \nL 18.109375 46.1875 \nQ 20.953125 51.171875 25.484375 53.578125 \nQ 30.03125 56 36.53125 56 \nQ 37.453125 56 38.578125 55.875 \nQ 39.703125 55.765625 41.0625 55.515625 \nz\n\" id=\"DejaVuSans-114\"/>\n      <path d=\"M 34.28125 27.484375 \nQ 23.390625 27.484375 19.1875 25 \nQ 14.984375 22.515625 14.984375 16.5 \nQ 14.984375 11.71875 18.140625 8.90625 \nQ 21.296875 6.109375 26.703125 6.109375 \nQ 34.1875 6.109375 38.703125 11.40625 \nQ 43.21875 16.703125 43.21875 25.484375 \nL 43.21875 27.484375 \nz\nM 52.203125 31.203125 \nL 52.203125 0 \nL 43.21875 0 \nL 43.21875 8.296875 \nQ 40.140625 3.328125 35.546875 0.953125 \nQ 30.953125 -1.421875 24.3125 -1.421875 \nQ 15.921875 -1.421875 10.953125 3.296875 \nQ 6 8.015625 6 15.921875 \nQ 6 25.140625 12.171875 29.828125 \nQ 18.359375 34.515625 30.609375 34.515625 \nL 43.21875 34.515625 \nL 43.21875 35.40625 \nQ 43.21875 41.609375 39.140625 45 \nQ 35.0625 48.390625 27.6875 48.390625 \nQ 23 48.390625 18.546875 47.265625 \nQ 14.109375 46.140625 10.015625 43.890625 \nL 10.015625 52.203125 \nQ 14.9375 54.109375 19.578125 55.046875 \nQ 24.21875 56 28.609375 56 \nQ 40.484375 56 46.34375 49.84375 \nQ 52.203125 43.703125 52.203125 31.203125 \nz\n\" id=\"DejaVuSans-97\"/>\n      <path d=\"M 54.890625 33.015625 \nL 54.890625 0 \nL 45.90625 0 \nL 45.90625 32.71875 \nQ 45.90625 40.484375 42.875 44.328125 \nQ 39.84375 48.1875 33.796875 48.1875 \nQ 26.515625 48.1875 22.3125 43.546875 \nQ 18.109375 38.921875 18.109375 30.90625 \nL 18.109375 0 \nL 9.078125 0 \nL 9.078125 54.6875 \nL 18.109375 54.6875 \nL 18.109375 46.1875 \nQ 21.34375 51.125 25.703125 53.5625 \nQ 30.078125 56 35.796875 56 \nQ 45.21875 56 50.046875 50.171875 \nQ 54.890625 44.34375 54.890625 33.015625 \nz\n\" id=\"DejaVuSans-110\"/>\n      <path d=\"M 44.28125 53.078125 \nL 44.28125 44.578125 \nQ 40.484375 46.53125 36.375 47.5 \nQ 32.28125 48.484375 27.875 48.484375 \nQ 21.1875 48.484375 17.84375 46.4375 \nQ 14.5 44.390625 14.5 40.28125 \nQ 14.5 37.15625 16.890625 35.375 \nQ 19.28125 33.59375 26.515625 31.984375 \nL 29.59375 31.296875 \nQ 39.15625 29.25 43.1875 25.515625 \nQ 47.21875 21.78125 47.21875 15.09375 \nQ 47.21875 7.46875 41.1875 3.015625 \nQ 35.15625 -1.421875 24.609375 -1.421875 \nQ 20.21875 -1.421875 15.453125 -0.5625 \nQ 10.6875 0.296875 5.421875 2 \nL 5.421875 11.28125 \nQ 10.40625 8.6875 15.234375 7.390625 \nQ 20.0625 6.109375 24.8125 6.109375 \nQ 31.15625 6.109375 34.5625 8.28125 \nQ 37.984375 10.453125 37.984375 14.40625 \nQ 37.984375 18.0625 35.515625 20.015625 \nQ 33.0625 21.96875 24.703125 23.78125 \nL 21.578125 24.515625 \nQ 13.234375 26.265625 9.515625 29.90625 \nQ 5.8125 33.546875 5.8125 39.890625 \nQ 5.8125 47.609375 11.28125 51.796875 \nQ 16.75 56 26.8125 56 \nQ 31.78125 56 36.171875 55.265625 \nQ 40.578125 54.546875 44.28125 53.078125 \nz\n\" id=\"DejaVuSans-115\"/>\n     </defs>\n     <g transform=\"translate(229.207031 340.432062)scale(0.1 -0.1)\">\n      <use xlink:href=\"#DejaVuSans-35\"/>\n      <use x=\"83.789062\" xlink:href=\"#DejaVuSans-32\"/>\n      <use x=\"115.576172\" xlink:href=\"#DejaVuSans-111\"/>\n      <use x=\"176.757812\" xlink:href=\"#DejaVuSans-102\"/>\n      <use x=\"211.962891\" xlink:href=\"#DejaVuSans-32\"/>\n      <use x=\"243.75\" xlink:href=\"#DejaVuSans-105\"/>\n      <use x=\"271.533203\" xlink:href=\"#DejaVuSans-116\"/>\n      <use x=\"310.742188\" xlink:href=\"#DejaVuSans-101\"/>\n      <use x=\"372.265625\" xlink:href=\"#DejaVuSans-114\"/>\n      <use x=\"413.378906\" xlink:href=\"#DejaVuSans-97\"/>\n      <use x=\"474.658203\" xlink:href=\"#DejaVuSans-116\"/>\n      <use x=\"513.867188\" xlink:href=\"#DejaVuSans-105\"/>\n      <use x=\"541.650391\" xlink:href=\"#DejaVuSans-111\"/>\n      <use x=\"602.832031\" xlink:href=\"#DejaVuSans-110\"/>\n      <use x=\"666.210938\" xlink:href=\"#DejaVuSans-115\"/>\n     </g>\n    </g>\n   </g>\n   <g id=\"matplotlib.axis_2\">\n    <g id=\"ytick_1\">\n     <g id=\"line2d_10\">\n      <defs>\n       <path d=\"M 0 0 \nL -3.5 0 \n\" id=\"mb5a520dd08\" style=\"stroke:#000000;stroke-width:0.8;\"/>\n      </defs>\n      <g>\n       <use style=\"stroke:#000000;stroke-width:0.8;\" x=\"53.328125\" xlink:href=\"#mb5a520dd08\" y=\"297.742372\"/>\n      </g>\n     </g>\n     <g id=\"text_11\">\n      <!-- 0 -->\n      <g transform=\"translate(39.965625 301.541591)scale(0.1 -0.1)\">\n       <use xlink:href=\"#DejaVuSans-48\"/>\n      </g>\n     </g>\n    </g>\n    <g id=\"ytick_2\">\n     <g id=\"line2d_11\">\n      <g>\n       <use style=\"stroke:#000000;stroke-width:0.8;\" x=\"53.328125\" xlink:href=\"#mb5a520dd08\" y=\"260.752542\"/>\n      </g>\n     </g>\n     <g id=\"text_12\">\n      <!-- 200 -->\n      <g transform=\"translate(27.240625 264.55176)scale(0.1 -0.1)\">\n       <use xlink:href=\"#DejaVuSans-50\"/>\n       <use x=\"63.623047\" xlink:href=\"#DejaVuSans-48\"/>\n       <use x=\"127.246094\" xlink:href=\"#DejaVuSans-48\"/>\n      </g>\n     </g>\n    </g>\n    <g id=\"ytick_3\">\n     <g id=\"line2d_12\">\n      <g>\n       <use style=\"stroke:#000000;stroke-width:0.8;\" x=\"53.328125\" xlink:href=\"#mb5a520dd08\" y=\"223.762711\"/>\n      </g>\n     </g>\n     <g id=\"text_13\">\n      <!-- 400 -->\n      <defs>\n       <path d=\"M 37.796875 64.3125 \nL 12.890625 25.390625 \nL 37.796875 25.390625 \nz\nM 35.203125 72.90625 \nL 47.609375 72.90625 \nL 47.609375 25.390625 \nL 58.015625 25.390625 \nL 58.015625 17.1875 \nL 47.609375 17.1875 \nL 47.609375 0 \nL 37.796875 0 \nL 37.796875 17.1875 \nL 4.890625 17.1875 \nL 4.890625 26.703125 \nz\n\" id=\"DejaVuSans-52\"/>\n      </defs>\n      <g transform=\"translate(27.240625 227.56193)scale(0.1 -0.1)\">\n       <use xlink:href=\"#DejaVuSans-52\"/>\n       <use x=\"63.623047\" xlink:href=\"#DejaVuSans-48\"/>\n       <use x=\"127.246094\" xlink:href=\"#DejaVuSans-48\"/>\n      </g>\n     </g>\n    </g>\n    <g id=\"ytick_4\">\n     <g id=\"line2d_13\">\n      <g>\n       <use style=\"stroke:#000000;stroke-width:0.8;\" x=\"53.328125\" xlink:href=\"#mb5a520dd08\" y=\"186.77288\"/>\n      </g>\n     </g>\n     <g id=\"text_14\">\n      <!-- 600 -->\n      <defs>\n       <path d=\"M 33.015625 40.375 \nQ 26.375 40.375 22.484375 35.828125 \nQ 18.609375 31.296875 18.609375 23.390625 \nQ 18.609375 15.53125 22.484375 10.953125 \nQ 26.375 6.390625 33.015625 6.390625 \nQ 39.65625 6.390625 43.53125 10.953125 \nQ 47.40625 15.53125 47.40625 23.390625 \nQ 47.40625 31.296875 43.53125 35.828125 \nQ 39.65625 40.375 33.015625 40.375 \nz\nM 52.59375 71.296875 \nL 52.59375 62.3125 \nQ 48.875 64.0625 45.09375 64.984375 \nQ 41.3125 65.921875 37.59375 65.921875 \nQ 27.828125 65.921875 22.671875 59.328125 \nQ 17.53125 52.734375 16.796875 39.40625 \nQ 19.671875 43.65625 24.015625 45.921875 \nQ 28.375 48.1875 33.59375 48.1875 \nQ 44.578125 48.1875 50.953125 41.515625 \nQ 57.328125 34.859375 57.328125 23.390625 \nQ 57.328125 12.15625 50.6875 5.359375 \nQ 44.046875 -1.421875 33.015625 -1.421875 \nQ 20.359375 -1.421875 13.671875 8.265625 \nQ 6.984375 17.96875 6.984375 36.375 \nQ 6.984375 53.65625 15.1875 63.9375 \nQ 23.390625 74.21875 37.203125 74.21875 \nQ 40.921875 74.21875 44.703125 73.484375 \nQ 48.484375 72.75 52.59375 71.296875 \nz\n\" id=\"DejaVuSans-54\"/>\n      </defs>\n      <g transform=\"translate(27.240625 190.572099)scale(0.1 -0.1)\">\n       <use xlink:href=\"#DejaVuSans-54\"/>\n       <use x=\"63.623047\" xlink:href=\"#DejaVuSans-48\"/>\n       <use x=\"127.246094\" xlink:href=\"#DejaVuSans-48\"/>\n      </g>\n     </g>\n    </g>\n    <g id=\"ytick_5\">\n     <g id=\"line2d_14\">\n      <g>\n       <use style=\"stroke:#000000;stroke-width:0.8;\" x=\"53.328125\" xlink:href=\"#mb5a520dd08\" y=\"149.78305\"/>\n      </g>\n     </g>\n     <g id=\"text_15\">\n      <!-- 800 -->\n      <defs>\n       <path d=\"M 31.78125 34.625 \nQ 24.75 34.625 20.71875 30.859375 \nQ 16.703125 27.09375 16.703125 20.515625 \nQ 16.703125 13.921875 20.71875 10.15625 \nQ 24.75 6.390625 31.78125 6.390625 \nQ 38.8125 6.390625 42.859375 10.171875 \nQ 46.921875 13.96875 46.921875 20.515625 \nQ 46.921875 27.09375 42.890625 30.859375 \nQ 38.875 34.625 31.78125 34.625 \nz\nM 21.921875 38.8125 \nQ 15.578125 40.375 12.03125 44.71875 \nQ 8.5 49.078125 8.5 55.328125 \nQ 8.5 64.0625 14.71875 69.140625 \nQ 20.953125 74.21875 31.78125 74.21875 \nQ 42.671875 74.21875 48.875 69.140625 \nQ 55.078125 64.0625 55.078125 55.328125 \nQ 55.078125 49.078125 51.53125 44.71875 \nQ 48 40.375 41.703125 38.8125 \nQ 48.828125 37.15625 52.796875 32.3125 \nQ 56.78125 27.484375 56.78125 20.515625 \nQ 56.78125 9.90625 50.3125 4.234375 \nQ 43.84375 -1.421875 31.78125 -1.421875 \nQ 19.734375 -1.421875 13.25 4.234375 \nQ 6.78125 9.90625 6.78125 20.515625 \nQ 6.78125 27.484375 10.78125 32.3125 \nQ 14.796875 37.15625 21.921875 38.8125 \nz\nM 18.3125 54.390625 \nQ 18.3125 48.734375 21.84375 45.5625 \nQ 25.390625 42.390625 31.78125 42.390625 \nQ 38.140625 42.390625 41.71875 45.5625 \nQ 45.3125 48.734375 45.3125 54.390625 \nQ 45.3125 60.0625 41.71875 63.234375 \nQ 38.140625 66.40625 31.78125 66.40625 \nQ 25.390625 66.40625 21.84375 63.234375 \nQ 18.3125 60.0625 18.3125 54.390625 \nz\n\" id=\"DejaVuSans-56\"/>\n      </defs>\n      <g transform=\"translate(27.240625 153.582269)scale(0.1 -0.1)\">\n       <use xlink:href=\"#DejaVuSans-56\"/>\n       <use x=\"63.623047\" xlink:href=\"#DejaVuSans-48\"/>\n       <use x=\"127.246094\" xlink:href=\"#DejaVuSans-48\"/>\n      </g>\n     </g>\n    </g>\n    <g id=\"ytick_6\">\n     <g id=\"line2d_15\">\n      <g>\n       <use style=\"stroke:#000000;stroke-width:0.8;\" x=\"53.328125\" xlink:href=\"#mb5a520dd08\" y=\"112.793219\"/>\n      </g>\n     </g>\n     <g id=\"text_16\">\n      <!-- 1000 -->\n      <g transform=\"translate(20.878125 116.592438)scale(0.1 -0.1)\">\n       <use xlink:href=\"#DejaVuSans-49\"/>\n       <use x=\"63.623047\" xlink:href=\"#DejaVuSans-48\"/>\n       <use x=\"127.246094\" xlink:href=\"#DejaVuSans-48\"/>\n       <use x=\"190.869141\" xlink:href=\"#DejaVuSans-48\"/>\n      </g>\n     </g>\n    </g>\n    <g id=\"ytick_7\">\n     <g id=\"line2d_16\">\n      <g>\n       <use style=\"stroke:#000000;stroke-width:0.8;\" x=\"53.328125\" xlink:href=\"#mb5a520dd08\" y=\"75.803389\"/>\n      </g>\n     </g>\n     <g id=\"text_17\">\n      <!-- 1200 -->\n      <g transform=\"translate(20.878125 79.602607)scale(0.1 -0.1)\">\n       <use xlink:href=\"#DejaVuSans-49\"/>\n       <use x=\"63.623047\" xlink:href=\"#DejaVuSans-50\"/>\n       <use x=\"127.246094\" xlink:href=\"#DejaVuSans-48\"/>\n       <use x=\"190.869141\" xlink:href=\"#DejaVuSans-48\"/>\n      </g>\n     </g>\n    </g>\n    <g id=\"ytick_8\">\n     <g id=\"line2d_17\">\n      <g>\n       <use style=\"stroke:#000000;stroke-width:0.8;\" x=\"53.328125\" xlink:href=\"#mb5a520dd08\" y=\"38.813558\"/>\n      </g>\n     </g>\n     <g id=\"text_18\">\n      <!-- 1400 -->\n      <g transform=\"translate(20.878125 42.612777)scale(0.1 -0.1)\">\n       <use xlink:href=\"#DejaVuSans-49\"/>\n       <use x=\"63.623047\" xlink:href=\"#DejaVuSans-52\"/>\n       <use x=\"127.246094\" xlink:href=\"#DejaVuSans-48\"/>\n       <use x=\"190.869141\" xlink:href=\"#DejaVuSans-48\"/>\n      </g>\n     </g>\n    </g>\n    <g id=\"text_19\">\n     <!-- Reward -->\n     <defs>\n      <path d=\"M 44.390625 34.1875 \nQ 47.5625 33.109375 50.5625 29.59375 \nQ 53.5625 26.078125 56.59375 19.921875 \nL 66.609375 0 \nL 56 0 \nL 46.6875 18.703125 \nQ 43.0625 26.03125 39.671875 28.421875 \nQ 36.28125 30.8125 30.421875 30.8125 \nL 19.671875 30.8125 \nL 19.671875 0 \nL 9.8125 0 \nL 9.8125 72.90625 \nL 32.078125 72.90625 \nQ 44.578125 72.90625 50.734375 67.671875 \nQ 56.890625 62.453125 56.890625 51.90625 \nQ 56.890625 45.015625 53.6875 40.46875 \nQ 50.484375 35.9375 44.390625 34.1875 \nz\nM 19.671875 64.796875 \nL 19.671875 38.921875 \nL 32.078125 38.921875 \nQ 39.203125 38.921875 42.84375 42.21875 \nQ 46.484375 45.515625 46.484375 51.90625 \nQ 46.484375 58.296875 42.84375 61.546875 \nQ 39.203125 64.796875 32.078125 64.796875 \nz\n\" id=\"DejaVuSans-82\"/>\n      <path d=\"M 4.203125 54.6875 \nL 13.1875 54.6875 \nL 24.421875 12.015625 \nL 35.59375 54.6875 \nL 46.1875 54.6875 \nL 57.421875 12.015625 \nL 68.609375 54.6875 \nL 77.59375 54.6875 \nL 63.28125 0 \nL 52.6875 0 \nL 40.921875 44.828125 \nL 29.109375 0 \nL 18.5 0 \nz\n\" id=\"DejaVuSans-119\"/>\n      <path d=\"M 45.40625 46.390625 \nL 45.40625 75.984375 \nL 54.390625 75.984375 \nL 54.390625 0 \nL 45.40625 0 \nL 45.40625 8.203125 \nQ 42.578125 3.328125 38.25 0.953125 \nQ 33.9375 -1.421875 27.875 -1.421875 \nQ 17.96875 -1.421875 11.734375 6.484375 \nQ 5.515625 14.40625 5.515625 27.296875 \nQ 5.515625 40.1875 11.734375 48.09375 \nQ 17.96875 56 27.875 56 \nQ 33.9375 56 38.25 53.625 \nQ 42.578125 51.265625 45.40625 46.390625 \nz\nM 14.796875 27.296875 \nQ 14.796875 17.390625 18.875 11.75 \nQ 22.953125 6.109375 30.078125 6.109375 \nQ 37.203125 6.109375 41.296875 11.75 \nQ 45.40625 17.390625 45.40625 27.296875 \nQ 45.40625 37.203125 41.296875 42.84375 \nQ 37.203125 48.484375 30.078125 48.484375 \nQ 22.953125 48.484375 18.875 42.84375 \nQ 14.796875 37.203125 14.796875 27.296875 \nz\n\" id=\"DejaVuSans-100\"/>\n     </defs>\n     <g transform=\"translate(14.798438 192.576594)rotate(-90)scale(0.1 -0.1)\">\n      <use xlink:href=\"#DejaVuSans-82\"/>\n      <use x=\"64.982422\" xlink:href=\"#DejaVuSans-101\"/>\n      <use x=\"126.505859\" xlink:href=\"#DejaVuSans-119\"/>\n      <use x=\"208.292969\" xlink:href=\"#DejaVuSans-97\"/>\n      <use x=\"269.572266\" xlink:href=\"#DejaVuSans-114\"/>\n      <use x=\"308.935547\" xlink:href=\"#DejaVuSans-100\"/>\n     </g>\n    </g>\n   </g>\n   <g id=\"line2d_18\">\n    <path clip-path=\"url(#pd2da442dea)\" d=\"M 53.328125 95.836868 \nL 53.539919 96.405916 \nL 53.751713 95.022116 \nL 53.963506 94.940185 \nL 54.1753 94.527188 \nL 54.387094 93.53356 \nL 54.598888 90.583991 \nL 55.022475 88.247608 \nL 55.234269 88.773129 \nL 55.446063 84.694178 \nL 55.657856 85.772423 \nL 55.86965 84.420908 \nL 56.081444 84.05688 \nL 56.293238 82.589411 \nL 56.505031 83.600242 \nL 56.716825 82.503167 \nL 56.928619 82.870785 \nL 57.140413 83.51287 \nL 57.564 80.167597 \nL 57.775794 81.854107 \nL 57.987588 82.226421 \nL 58.411175 78.456908 \nL 58.622969 79.982445 \nL 58.834763 82.411212 \nL 59.046556 78.264012 \nL 59.470144 79.410733 \nL 59.681938 78.556991 \nL 59.893731 76.331889 \nL 60.105525 76.036404 \nL 60.317319 77.01425 \nL 60.529113 74.263854 \nL 60.740906 72.964514 \nL 60.9527 72.563302 \nL 61.588081 67.715182 \nL 61.799875 66.865978 \nL 62.011669 68.554881 \nL 62.223463 64.400298 \nL 62.435256 66.01402 \nL 62.64705 65.375029 \nL 62.858844 66.020861 \nL 63.070638 62.653486 \nL 63.282431 62.213554 \nL 63.494225 60.209818 \nL 63.706019 62.324226 \nL 64.129606 59.870195 \nL 64.3414 59.533146 \nL 64.553194 58.054998 \nL 64.764988 59.306272 \nL 64.976781 58.167792 \nL 65.188575 60.096008 \nL 65.400369 57.251648 \nL 65.823956 57.368595 \nL 66.03575 59.30713 \nL 66.247544 57.138899 \nL 66.459338 58.169101 \nL 66.671131 56.209096 \nL 67.094719 59.98466 \nL 67.306513 59.191311 \nL 67.518306 57.365931 \nL 67.7301 58.170253 \nL 67.941894 60.993075 \nL 68.153688 58.964662 \nL 68.365481 58.395908 \nL 68.577275 61.440096 \nL 69.000863 59.193704 \nL 69.212656 59.758237 \nL 69.42445 62.543988 \nL 69.636244 63.201493 \nL 69.848038 63.424032 \nL 70.059831 63.09335 \nL 70.271625 61.656743 \nL 70.483419 63.747896 \nL 70.695212 62.653102 \nL 70.907006 64.183606 \nL 71.1188 64.510857 \nL 71.330594 62.871578 \nL 71.542388 63.201493 \nL 71.754181 65.049652 \nL 71.965975 64.401201 \nL 72.177769 65.369769 \nL 72.389563 67.0768 \nL 72.601356 64.722763 \nL 72.81315 66.970035 \nL 73.236738 68.23411 \nL 73.448531 70.52044 \nL 73.660325 68.025952 \nL 73.872119 68.127954 \nL 74.083912 71.132407 \nL 74.295706 71.84712 \nL 74.5075 69.792632 \nL 74.719294 70.100873 \nL 74.931088 69.891247 \nL 75.354675 71.839648 \nL 75.566469 74.65292 \nL 75.778263 74.747178 \nL 75.990056 75.337358 \nL 76.413644 76.806837 \nL 76.625438 77.481726 \nL 76.837231 77.671009 \nL 77.049025 78.151986 \nL 77.260819 80.902382 \nL 77.472612 81.276547 \nL 77.684406 82.943754 \nL 77.8962 83.127596 \nL 78.319788 81.92335 \nL 78.531581 85.037503 \nL 78.743375 84.307754 \nL 78.955169 86.639982 \nL 79.166963 85.120902 \nL 79.378756 86.284059 \nL 79.59055 85.659269 \nL 79.802344 84.396954 \nL 80.225931 88.311885 \nL 80.437725 87.612975 \nL 80.649519 86.368812 \nL 80.861312 86.905011 \nL 81.073106 89.955769 \nL 81.496694 88.745608 \nL 81.708488 89.095254 \nL 81.920281 89.006595 \nL 82.132075 90.213754 \nL 82.555663 89.957056 \nL 82.767456 90.297492 \nL 82.97925 88.397744 \nL 83.191044 91.236709 \nL 83.402838 91.913787 \nL 83.614631 91.661808 \nL 83.826425 91.236213 \nL 84.038219 93.256543 \nL 84.250012 92.67309 \nL 84.461806 91.486251 \nL 84.6736 94.084299 \nL 84.885394 92.500197 \nL 85.097188 93.918314 \nL 85.308981 94.331673 \nL 85.732569 93.41905 \nL 85.944363 94.741532 \nL 86.156156 93.084146 \nL 86.36795 92.917078 \nL 86.579744 92.586396 \nL 86.791538 91.743333 \nL 87.426919 87.78133 \nL 87.850506 86.185647 \nL 88.274094 82.656893 \nL 88.485888 82.660234 \nL 88.909475 79.954066 \nL 89.121269 81.082409 \nL 89.333063 80.424431 \nL 89.544856 78.245363 \nL 89.75665 78.723404 \nL 89.968444 76.112443 \nL 90.180238 76.114339 \nL 90.392031 76.799297 \nL 90.603825 74.045717 \nL 90.815619 74.93863 \nL 91.027412 73.648162 \nL 91.239206 71.423783 \nL 91.451 71.424934 \nL 91.662794 70.916843 \nL 91.874588 69.786874 \nL 92.086381 70.919349 \nL 92.298175 70.40645 \nL 92.721763 68.752541 \nL 92.933556 69.169015 \nL 93.14535 68.961715 \nL 93.357144 69.481456 \nL 93.568938 66.331495 \nL 93.780731 66.11399 \nL 93.992525 66.222472 \nL 94.204319 65.69063 \nL 94.416112 66.006908 \nL 94.627906 65.687876 \nL 94.8397 65.580455 \nL 95.051494 66.756323 \nL 95.475081 66.225678 \nL 95.686875 65.475428 \nL 95.898669 65.687695 \nL 96.110463 66.969719 \nL 96.322256 66.436229 \nL 96.53405 68.54856 \nL 96.957638 64.608885 \nL 97.169431 68.75744 \nL 97.593019 70.516353 \nL 97.804812 70.516015 \nL 98.016606 70.000112 \nL 98.440194 75.146855 \nL 99.075575 82.033028 \nL 99.287369 81.475652 \nL 99.92275 87.009813 \nL 100.346338 88.937668 \nL 100.769925 94.189371 \nL 100.981719 93.606212 \nL 101.193512 96.311613 \nL 101.405306 96.14827 \nL 101.6171 98.232086 \nL 101.828894 96.879058 \nL 102.040688 98.631221 \nL 102.252481 99.339455 \nL 102.676069 99.728318 \nL 102.887863 99.337604 \nL 103.099656 99.418226 \nL 103.31145 99.100728 \nL 103.523244 99.809753 \nL 103.735038 97.516085 \nL 103.946831 98.468758 \nL 104.158625 97.116679 \nL 104.370419 98.077028 \nL 104.582212 96.878178 \nL 104.794006 96.395915 \nL 105.0058 96.235123 \nL 105.217594 92.10262 \nL 105.429388 94.768014 \nL 105.852975 91.681721 \nL 106.064769 92.94575 \nL 106.276563 92.02035 \nL 106.488356 92.6935 \nL 106.70015 92.106706 \nL 107.335531 88.854112 \nL 107.547325 86.480138 \nL 107.759119 87.18966 \nL 108.182706 85.233064 \nL 108.606294 86.749954 \nL 108.818087 83.508399 \nL 109.029881 83.321712 \nL 109.241675 83.966031 \nL 109.453469 81.010547 \nL 109.665262 83.329456 \nL 110.08885 81.759962 \nL 110.724231 85.771588 \nL 110.936025 87.719921 \nL 111.147819 87.895749 \nL 111.571406 92.274136 \nL 111.994994 92.862758 \nL 112.206787 94.195738 \nL 112.418581 92.188683 \nL 113.053962 90.580876 \nL 113.265756 92.443755 \nL 113.47755 90.8357 \nL 113.689344 91.179567 \nL 114.112931 93.03073 \nL 114.536519 90.919437 \nL 114.748312 91.009451 \nL 114.960106 90.151826 \nL 115.1719 90.922779 \nL 115.383694 89.379248 \nL 115.595487 86.659556 \nL 115.807281 86.662198 \nL 116.442662 80.920398 \nL 116.654456 81.107966 \nL 116.86625 79.21743 \nL 117.078044 79.313675 \nL 117.289838 78.650933 \nL 117.501631 79.792867 \nL 117.713425 79.319906 \nL 117.925219 78.265615 \nL 118.137012 78.361182 \nL 118.348806 76.913264 \nL 118.5606 77.783555 \nL 118.772394 77.68801 \nL 118.984187 77.39993 \nL 119.195981 77.40002 \nL 119.619569 76.0383 \nL 119.831363 76.815371 \nL 120.043156 74.357503 \nL 120.25495 75.841137 \nL 120.466744 74.856021 \nL 120.678538 75.745773 \nL 120.890331 74.162507 \nL 121.102125 71.645216 \nL 121.313919 72.862625 \nL 121.525712 71.749069 \nL 121.737506 70.008646 \nL 121.9493 69.282215 \nL 122.161094 68.133666 \nL 122.372887 68.133011 \nL 123.220063 63.965537 \nL 123.431856 64.72502 \nL 123.64365 63.089692 \nL 123.855444 63.96504 \nL 124.279031 59.980506 \nL 124.490825 59.643253 \nL 124.702619 61.324977 \nL 125.126206 60.878814 \nL 125.338 61.661055 \nL 125.549794 59.302637 \nL 125.761587 60.764914 \nL 125.973381 60.766133 \nL 126.185175 61.990631 \nL 126.396969 59.75537 \nL 126.608763 61.323938 \nL 126.820556 61.435896 \nL 127.03235 63.421233 \nL 127.244144 62.871916 \nL 127.455938 66.117941 \nL 127.667731 66.761944 \nL 128.303112 71.747715 \nL 128.514906 70.109226 \nL 128.7267 75.453584 \nL 128.938494 73.663131 \nL 129.150287 75.842401 \nL 129.362081 75.940588 \nL 129.785669 80.731024 \nL 130.209256 82.958316 \nL 130.844638 89.9832 \nL 131.480019 95.913087 \nL 131.691812 95.910852 \nL 132.1154 100.820764 \nL 132.327194 100.743326 \nL 132.750781 104.539186 \nL 132.962575 104.833542 \nL 133.174369 106.156994 \nL 133.386163 108.900956 \nL 133.597956 109.115616 \nL 133.80975 109.606504 \nL 134.021544 109.040673 \nL 134.233338 109.463615 \nL 134.445131 111.146795 \nL 134.868719 112.383179 \nL 135.080512 111.898106 \nL 135.292306 112.587172 \nL 135.5041 112.857225 \nL 135.715894 113.740271 \nL 135.927687 113.739424 \nL 136.139481 111.895238 \nL 136.351275 112.649958 \nL 136.563069 114.004713 \nL 136.774862 112.026613 \nL 136.986656 112.098779 \nL 137.19845 114.872023 \nL 137.410244 113.253651 \nL 137.622038 114.337382 \nL 137.833831 113.528422 \nL 138.045625 114.667929 \nL 138.257419 115.001592 \nL 138.469212 114.331162 \nL 138.8928 114.530154 \nL 139.104594 113.858901 \nL 139.316387 113.718925 \nL 139.528181 115.463208 \nL 139.739975 115.193799 \nL 139.951769 114.460076 \nL 140.163562 114.596282 \nL 140.375356 114.323949 \nL 140.58715 115.656025 \nL 141.010738 113.243254 \nL 141.222531 115.45297 \nL 141.434325 113.918571 \nL 141.646119 113.508328 \nL 141.857912 113.648609 \nL 142.2815 114.858703 \nL 142.493294 114.455685 \nL 142.916881 113.035288 \nL 143.340469 115.120571 \nL 143.552262 114.386024 \nL 143.764056 115.714793 \nL 143.97585 114.452535 \nL 144.399438 116.308213 \nL 144.823025 114.719427 \nL 145.034819 115.71959 \nL 145.246612 114.78858 \nL 145.458406 115.188494 \nL 146.093787 113.378613 \nL 146.305581 115.921574 \nL 146.517375 114.657634 \nL 146.729169 111.872966 \nL 146.940962 114.188985 \nL 147.152756 114.188816 \nL 147.36455 112.425353 \nL 147.576344 112.974263 \nL 147.788138 114.391736 \nL 147.999931 112.224419 \nL 148.211725 111.67429 \nL 148.423519 112.088801 \nL 148.635312 111.81412 \nL 148.847106 110.776072 \nL 149.0589 111.124297 \nL 149.270694 110.987674 \nL 149.482487 109.300837 \nL 149.906075 110.569054 \nL 150.117869 109.730371 \nL 150.329662 110.991252 \nL 150.541456 110.716537 \nL 150.75325 109.806421 \nL 150.965044 108.027595 \nL 151.176838 109.527372 \nL 151.388631 107.600939 \nL 151.600425 108.319852 \nL 151.812219 106.950321 \nL 152.024012 107.751707 \nL 152.235806 105.420675 \nL 152.4476 105.86309 \nL 152.871187 103.710279 \nL 153.082981 103.564026 \nL 153.294775 104.389186 \nL 153.506569 103.866262 \nL 153.718362 102.811609 \nL 153.930156 102.435412 \nL 154.353744 100.592242 \nL 154.565538 102.89038 \nL 154.777331 101.368116 \nL 155.200919 100.669906 \nL 155.624506 101.363894 \nL 155.8363 100.671848 \nL 156.048094 101.900997 \nL 156.259887 100.907301 \nL 156.683475 101.594178 \nL 156.895269 102.508854 \nL 157.107062 99.816729 \nL 157.318856 100.670629 \nL 157.53065 100.592535 \nL 157.742444 98.87408 \nL 157.954238 102.053232 \nL 158.166031 103.194399 \nL 158.377825 100.665775 \nL 158.801412 102.202894 \nL 159.013206 104.610822 \nL 159.225 104.611229 \nL 159.436794 106.894375 \nL 159.648587 106.450854 \nL 159.860381 108.973112 \nL 160.072175 109.468548 \nL 160.707556 113.20984 \nL 160.91935 113.822439 \nL 161.131144 112.937745 \nL 161.342938 116.220141 \nL 161.978319 117.90928 \nL 162.401906 121.022892 \nL 162.6137 121.211442 \nL 162.825494 121.207503 \nL 163.037287 121.520112 \nL 163.249081 121.51983 \nL 163.460875 120.963876 \nL 163.672669 120.837977 \nL 163.884462 120.273963 \nL 164.096256 120.529826 \nL 164.519844 117.792536 \nL 164.731638 118.177572 \nL 164.943431 116.097436 \nL 165.155225 117.922014 \nL 165.578812 114.170415 \nL 165.790606 114.036749 \nL 166.214194 110.886575 \nL 166.849575 108.345183 \nL 167.061369 106.537662 \nL 167.273162 105.732641 \nL 167.484956 105.515565 \nL 167.908544 102.750697 \nL 168.120338 102.672649 \nL 168.332131 100.837629 \nL 168.967512 98.64768 \nL 169.179306 99.044738 \nL 169.3911 98.092968 \nL 169.602894 97.859794 \nL 169.814687 96.331119 \nL 170.238275 95.353182 \nL 170.450069 93.624477 \nL 170.661862 93.874899 \nL 170.873656 93.625583 \nL 171.08545 94.130107 \nL 171.297244 92.708333 \nL 171.509038 94.699607 \nL 171.720831 93.958117 \nL 172.144419 100.217535 \nL 172.356212 102.145165 \nL 172.568006 101.988256 \nL 172.7798 101.299912 \nL 172.991594 104.327822 \nL 173.203387 101.835185 \nL 173.415181 101.068296 \nL 173.626975 102.37468 \nL 174.050562 100.760146 \nL 174.262356 99.042141 \nL 174.47415 102.377593 \nL 174.685944 99.593535 \nL 174.897738 101.071051 \nL 175.109531 100.759559 \nL 175.321325 99.278272 \nL 175.533119 99.677069 \nL 175.956706 98.72873 \nL 176.1685 99.124118 \nL 176.380294 96.410748 \nL 176.592087 95.843754 \nL 177.015675 91.786657 \nL 177.227469 90.594986 \nL 177.439262 87.997796 \nL 177.651056 87.470583 \nL 177.86285 88.262509 \nL 178.074644 86.942827 \nL 178.286438 86.852407 \nL 178.498231 86.942624 \nL 178.710025 85.692366 \nL 179.133612 87.470312 \nL 179.345406 85.959856 \nL 179.5572 87.204899 \nL 179.768994 87.557391 \nL 179.980787 84.883462 \nL 180.192581 86.228362 \nL 180.404375 83.429448 \nL 180.616169 84.615475 \nL 180.827962 84.342183 \nL 181.039756 86.140448 \nL 181.25155 84.154299 \nL 181.463344 84.066995 \nL 181.675137 84.250408 \nL 181.886931 83.976168 \nL 182.098725 80.647715 \nL 182.310519 82.04847 \nL 182.734106 79.801108 \nL 182.9459 79.326498 \nL 183.157694 75.161643 \nL 183.369487 77.116568 \nL 183.581281 75.554502 \nL 183.793075 76.339859 \nL 184.216662 72.867772 \nL 184.428456 73.171069 \nL 184.64025 74.07378 \nL 184.852044 72.262895 \nL 185.063837 73.771228 \nL 185.487425 70.734513 \nL 185.699219 70.222494 \nL 185.911012 73.477933 \nL 186.122806 69.805162 \nL 186.3346 71.147194 \nL 186.546394 70.737019 \nL 186.758187 72.468592 \nL 186.969981 70.63504 \nL 187.393569 73.673606 \nL 187.605362 73.072183 \nL 187.817156 72.974945 \nL 188.240744 73.773983 \nL 188.452537 74.47287 \nL 189.087919 79.900062 \nL 189.299712 80.087743 \nL 189.511506 79.522984 \nL 189.7233 82.702656 \nL 190.146887 82.32971 \nL 190.358681 84.79907 \nL 190.570475 85.608922 \nL 190.782269 88.786855 \nL 190.994062 89.740229 \nL 191.205856 94.046844 \nL 191.41765 92.125513 \nL 191.629444 96.658054 \nL 191.841237 97.860156 \nL 192.053031 101.768651 \nL 192.264825 101.30524 \nL 192.476619 104.479109 \nL 192.688412 103.66149 \nL 192.900206 104.106095 \nL 193.112 107.487829 \nL 193.323794 108.92438 \nL 193.535587 109.199613 \nL 193.747381 112.411005 \nL 193.959175 113.904393 \nL 194.170969 112.268636 \nL 194.382762 115.240499 \nL 194.594556 116.364813 \nL 195.018144 116.885016 \nL 195.229937 116.753258 \nL 195.441731 117.730427 \nL 195.653525 117.594379 \nL 195.865319 119.265604 \nL 196.077112 118.114842 \nL 196.288906 119.956432 \nL 196.5007 117.914586 \nL 196.712494 118.874597 \nL 196.924287 118.554898 \nL 197.347875 119.889435 \nL 197.559669 120.452072 \nL 197.771462 118.164511 \nL 197.983256 119.94748 \nL 198.19505 119.375305 \nL 198.406844 118.28778 \nL 198.618637 120.949303 \nL 198.830431 120.699717 \nL 199.254019 120.883842 \nL 199.465812 120.06716 \nL 199.677606 118.733672 \nL 199.8894 119.559509 \nL 200.101194 119.563787 \nL 200.524781 120.194312 \nL 200.948369 119.493427 \nL 201.160162 119.806556 \nL 201.371956 118.341175 \nL 201.58375 120.121897 \nL 201.795544 118.215309 \nL 202.007337 119.489781 \nL 202.219131 119.739819 \nL 202.430925 118.982051 \nL 202.642719 116.981306 \nL 202.854512 119.42573 \nL 203.066306 120.435455 \nL 203.2781 118.729123 \nL 203.489894 118.723761 \nL 203.701687 118.080977 \nL 203.913481 118.977761 \nL 204.125275 119.10865 \nL 204.337069 117.761346 \nL 204.548862 119.423823 \nL 204.760656 118.851602 \nL 204.97245 117.569262 \nL 205.396037 118.534082 \nL 205.607831 119.489521 \nL 205.819625 118.596654 \nL 206.031419 119.111879 \nL 206.243212 117.891456 \nL 206.455006 118.855406 \nL 206.6668 116.857834 \nL 206.878594 117.704802 \nL 207.090387 117.960315 \nL 207.302181 116.071755 \nL 207.513975 116.988553 \nL 207.725769 115.344353 \nL 207.937562 116.660445 \nL 208.149356 116.599928 \nL 208.36115 116.007862 \nL 208.572944 116.794427 \nL 208.784737 116.922347 \nL 209.208325 115.412162 \nL 209.420119 113.606921 \nL 209.631912 113.673884 \nL 209.843706 112.583808 \nL 210.0555 113.40478 \nL 210.267294 113.208869 \nL 210.479087 111.631496 \nL 210.690881 111.492513 \nL 210.902675 113.683389 \nL 211.114469 111.35922 \nL 211.326262 111.98164 \nL 211.538056 111.705683 \nL 211.74985 111.704521 \nL 212.173437 109.897158 \nL 212.385231 110.035915 \nL 212.597025 110.673032 \nL 213.020612 106.899162 \nL 213.232406 106.605912 \nL 213.4442 104.773556 \nL 213.655994 106.393599 \nL 213.867787 106.613678 \nL 214.079581 107.051081 \nL 214.291375 105.218228 \nL 214.503169 105.515588 \nL 214.714962 105.000724 \nL 214.926756 106.107055 \nL 215.13855 106.179978 \nL 215.350344 104.186491 \nL 215.562137 104.114629 \nL 215.773931 102.528767 \nL 216.197519 103.737552 \nL 216.409312 103.739809 \nL 216.621106 102.454828 \nL 216.8329 103.211557 \nL 217.044694 101.304517 \nL 217.468281 103.28737 \nL 217.680075 102.151938 \nL 217.891869 104.186491 \nL 218.103662 103.590848 \nL 218.315456 102.606454 \nL 218.52725 102.53256 \nL 218.739044 105.010499 \nL 218.950837 102.836692 \nL 219.162631 103.890871 \nL 219.374425 105.890566 \nL 219.586219 105.742936 \nL 219.798012 105.079449 \nL 220.856981 110.892636 \nL 221.068775 109.770965 \nL 221.492362 115.773131 \nL 221.704156 115.774226 \nL 221.91595 115.313558 \nL 222.339537 119.020262 \nL 222.551331 119.46305 \nL 222.974919 122.088788 \nL 223.186712 124.58515 \nL 223.6103 125.762 \nL 223.822094 125.283609 \nL 224.033887 124.274742 \nL 224.669269 124.691893 \nL 224.881062 122.326477 \nL 225.092856 122.633566 \nL 225.30465 122.569663 \nL 225.728237 122.019985 \nL 226.151825 120.460989 \nL 226.787206 116.024208 \nL 226.999 117.002167 \nL 227.210794 115.364017 \nL 227.422587 115.557624 \nL 227.846175 112.327336 \nL 228.057969 112.318508 \nL 228.69335 109.674483 \nL 228.905144 106.735864 \nL 229.116937 106.66714 \nL 229.328731 105.639647 \nL 229.540525 106.369668 \nL 229.752319 105.419297 \nL 229.964112 102.266741 \nL 230.175906 102.264664 \nL 230.3877 101.196194 \nL 230.599494 101.96674 \nL 231.023081 99.874345 \nL 231.234875 100.882693 \nL 231.446669 100.42041 \nL 231.658462 98.459344 \nL 231.870256 98.302841 \nL 232.08205 98.383328 \nL 232.293844 98.063573 \nL 232.505637 98.856041 \nL 232.717431 101.348113 \nL 232.929225 101.88578 \nL 233.141019 104.67695 \nL 233.352812 105.19949 \nL 233.564606 106.740898 \nL 233.7764 106.299273 \nL 233.988194 108.04455 \nL 234.199987 106.153743 \nL 234.411781 106.296655 \nL 234.623575 107.245377 \nL 234.835369 105.196081 \nL 235.047162 106.523348 \nL 235.47075 104.527153 \nL 235.682544 104.079048 \nL 235.894337 105.199038 \nL 236.106131 105.41923 \nL 236.317925 105.127357 \nL 236.529719 105.202154 \nL 236.741512 105.935719 \nL 236.953306 104.23011 \nL 237.1651 104.007638 \nL 237.376894 99.876219 \nL 237.800481 99.801693 \nL 238.224069 95.32442 \nL 238.435862 93.514799 \nL 238.647656 92.672978 \nL 238.85945 91.153356 \nL 239.071244 93.179353 \nL 239.283037 91.581863 \nL 239.494831 91.834159 \nL 239.706625 92.424204 \nL 239.918419 92.173014 \nL 240.130212 93.427426 \nL 240.342006 92.676003 \nL 240.5538 91.323291 \nL 240.765594 91.238831 \nL 240.977387 92.000866 \nL 241.189181 90.472507 \nL 241.400975 91.745319 \nL 241.612769 90.213009 \nL 241.824562 89.692321 \nL 242.036356 92.088058 \nL 242.24815 92.170711 \nL 242.459944 90.641901 \nL 242.671737 91.067722 \nL 242.883531 90.037746 \nL 243.095325 88.30615 \nL 243.307119 87.866535 \nL 243.518912 85.104399 \nL 243.730706 85.912693 \nL 243.9425 84.65153 \nL 244.154294 85.286842 \nL 244.366087 83.562132 \nL 244.577881 80.779835 \nL 244.789675 82.087438 \nL 245.001469 79.931444 \nL 245.213262 79.645373 \nL 245.425056 78.791541 \nL 245.63685 79.645531 \nL 245.848644 78.115863 \nL 246.060437 77.924321 \nL 246.484025 77.921928 \nL 246.695819 75.982174 \nL 246.907612 76.955867 \nL 247.119406 77.345542 \nL 247.3312 74.898082 \nL 247.754787 77.729122 \nL 248.178375 77.150253 \nL 248.390169 78.403265 \nL 248.601962 78.693039 \nL 249.02555 77.341795 \nL 249.237344 81.152284 \nL 249.449137 81.24345 \nL 249.660931 78.403514 \nL 249.872725 84.645051 \nL 250.084519 84.642093 \nL 250.296312 85.632786 \nL 250.508106 85.453549 \nL 250.7199 87.857617 \nL 250.931694 87.504222 \nL 251.567075 91.901754 \nL 251.778869 94.074568 \nL 251.990662 94.489688 \nL 252.626044 100.9546 \nL 252.837837 102.788897 \nL 253.049631 105.700875 \nL 253.261425 104.141721 \nL 253.896806 109.027341 \nL 255.80295 119.94292 \nL 256.014744 118.98774 \nL 256.226538 120.254728 \nL 256.438331 120.250461 \nL 256.650125 120.878062 \nL 256.861919 120.122992 \nL 257.073712 122.118533 \nL 257.285506 122.78999 \nL 257.4973 122.115688 \nL 257.920887 121.98498 \nL 258.132681 122.598143 \nL 258.344475 121.609505 \nL 258.556269 123.269939 \nL 258.768062 121.915816 \nL 259.19165 123.078171 \nL 259.403444 123.384121 \nL 259.615237 122.589587 \nL 259.827031 123.559994 \nL 260.250619 123.61989 \nL 260.462412 121.905916 \nL 260.886 123.854802 \nL 261.097794 122.144711 \nL 261.309587 123.854542 \nL 261.521381 121.78057 \nL 261.944969 123.306919 \nL 262.368556 122.326702 \nL 262.58035 123.183379 \nL 262.792144 120.397255 \nL 263.215731 122.568726 \nL 263.427525 122.937473 \nL 263.639319 120.710723 \nL 263.851112 119.832937 \nL 264.062906 120.333205 \nL 264.486494 119.449278 \nL 264.698287 119.639047 \nL 264.910081 120.523019 \nL 265.121875 119.892517 \nL 265.333669 121.705558 \nL 265.545462 120.266908 \nL 265.96905 120.832897 \nL 266.180844 122.442262 \nL 266.392637 120.710339 \nL 266.604431 120.085063 \nL 267.028019 122.137385 \nL 267.239812 120.583672 \nL 267.451606 119.890745 \nL 267.6634 119.703041 \nL 267.875194 119.256438 \nL 268.086987 120.022492 \nL 268.298781 119.955653 \nL 268.510575 117.850242 \nL 268.722369 118.87848 \nL 268.934163 120.526112 \nL 269.145956 118.493658 \nL 269.35775 118.365377 \nL 269.569544 117.719917 \nL 269.781338 117.724986 \nL 269.993131 117.142143 \nL 270.204925 115.828478 \nL 270.416719 116.682559 \nL 270.628512 115.965124 \nL 270.840306 116.421345 \nL 271.0521 114.16318 \nL 271.263894 114.841195 \nL 271.475687 114.237897 \nL 271.687481 115.17138 \nL 271.899275 114.505715 \nL 272.111069 114.506132 \nL 272.534656 112.544039 \nL 272.74645 114.446236 \nL 272.958244 112.484278 \nL 273.170037 114.182065 \nL 273.381831 112.279067 \nL 273.593625 112.280624 \nL 273.805419 109.567435 \nL 274.017212 109.286116 \nL 274.229006 108.146394 \nL 274.4408 108.432826 \nL 274.652594 107.720777 \nL 274.864387 107.644354 \nL 275.076181 107.792864 \nL 275.287975 108.299217 \nL 275.499769 107.148342 \nL 275.711563 107.727617 \nL 275.923356 106.125297 \nL 276.13515 106.202351 \nL 276.346944 106.132024 \nL 276.558738 104.656811 \nL 276.982325 105.911449 \nL 277.194119 103.00744 \nL 277.405912 103.155341 \nL 277.617706 103.763696 \nL 277.8295 105.911562 \nL 278.253087 102.929189 \nL 278.464881 105.910794 \nL 278.676675 104.954306 \nL 278.888469 103.384473 \nL 279.312056 105.018808 \nL 279.52385 105.390851 \nL 279.735644 103.90699 \nL 279.947437 105.470208 \nL 280.159231 103.453377 \nL 280.371025 105.250784 \nL 280.582819 105.467725 \nL 281.006406 108.011092 \nL 281.2182 108.657251 \nL 281.429994 108.583933 \nL 281.641787 108.292421 \nL 282.065375 113.790075 \nL 282.277169 113.455961 \nL 282.700756 116.521383 \nL 283.124344 118.27393 \nL 283.336138 119.989258 \nL 283.547931 119.865786 \nL 283.759725 122.601202 \nL 283.971519 123.458071 \nL 284.183312 123.579816 \nL 284.6069 125.765048 \nL 284.818694 124.990347 \nL 285.030487 299.591864 \nL 477.127419 299.591864 \nL 477.127419 299.591864 \n\" style=\"fill:none;stroke:#1f77b4;stroke-linecap:square;stroke-width:1.5;\"/>\n   </g>\n   <g id=\"line2d_19\">\n    <path clip-path=\"url(#pd2da442dea)\" d=\"M 53.328125 91.661243 \nL 53.539919 92.422059 \nL 53.751713 299.591864 \nL 477.127419 299.591864 \nL 477.127419 299.591864 \n\" style=\"fill:none;stroke:#ff7f0e;stroke-linecap:square;stroke-width:1.5;\"/>\n   </g>\n   <g id=\"line2d_20\">\n    <path clip-path=\"url(#pd2da442dea)\" d=\"M 53.328125 297.557423 \nL 345.815294 297.557423 \nL 346.027087 297.742372 \nL 477.127419 297.742372 \nL 477.127419 297.742372 \n\" style=\"fill:none;stroke:#2ca02c;stroke-linecap:square;stroke-width:1.5;\"/>\n   </g>\n   <g id=\"line2d_21\">\n    <path clip-path=\"url(#pd2da442dea)\" d=\"M 53.328125 89.752939 \nL 53.539919 90.783773 \nL 53.963506 87.398021 \nL 54.387094 86.779665 \nL 54.598888 85.891968 \nL 54.810681 82.432502 \nL 55.234269 81.039355 \nL 55.446063 77.811866 \nL 55.657856 76.452743 \nL 55.86965 76.063135 \nL 56.081444 76.552984 \nL 56.293238 75.868274 \nL 56.505031 74.586996 \nL 56.716825 76.649725 \nL 56.928619 75.965851 \nL 57.140413 73.985956 \nL 57.352206 73.787642 \nL 57.564 74.881713 \nL 57.775794 75.080976 \nL 57.987588 75.472797 \nL 58.622969 71.366754 \nL 58.834763 73.388642 \nL 59.046556 73.086113 \nL 59.25835 70.956172 \nL 59.470144 72.283507 \nL 59.681938 70.960394 \nL 59.893731 70.442731 \nL 60.105525 66.997172 \nL 60.317319 68.161096 \nL 60.529113 66.039532 \nL 60.740906 65.933602 \nL 60.9527 65.61125 \nL 61.164494 61.569054 \nL 61.376288 61.239614 \nL 61.588081 61.124291 \nL 62.011669 59.672129 \nL 62.223463 59.894352 \nL 62.435256 57.160437 \nL 62.64705 57.965662 \nL 62.858844 53.533249 \nL 63.070638 53.775114 \nL 63.282431 54.360011 \nL 63.706019 51.50014 \nL 63.917813 52.702625 \nL 64.129606 52.220362 \nL 64.3414 52.343158 \nL 64.764988 51.260961 \nL 65.188575 51.259403 \nL 65.400369 48.690886 \nL 65.823956 49.676995 \nL 66.03575 48.319136 \nL 66.247544 49.309287 \nL 66.459338 51.015755 \nL 66.671131 48.694137 \nL 66.882925 51.382131 \nL 67.094719 50.288646 \nL 67.306513 50.651568 \nL 67.518306 51.743766 \nL 67.7301 50.778066 \nL 67.941894 52.223862 \nL 68.153688 52.706892 \nL 68.365481 51.260329 \nL 68.577275 51.98457 \nL 68.789069 53.539299 \nL 69.000863 51.140266 \nL 69.212656 53.658685 \nL 69.42445 53.77552 \nL 69.636244 52.105085 \nL 69.848038 55.072941 \nL 70.059831 55.423356 \nL 70.271625 55.190476 \nL 70.483419 55.892976 \nL 70.695212 54.369109 \nL 70.907006 55.655829 \nL 71.1188 55.307672 \nL 71.542388 58.19967 \nL 71.754181 54.835817 \nL 71.965975 56.817676 \nL 72.177769 56.934556 \nL 72.389563 57.279959 \nL 72.81315 59.897197 \nL 73.024944 58.990423 \nL 73.236738 61.685325 \nL 73.448531 59.441846 \nL 73.872119 63.225289 \nL 74.083912 61.791481 \nL 74.295706 62.672631 \nL 74.5075 62.119454 \nL 74.719294 64.420391 \nL 74.931088 65.284947 \nL 75.142881 63.545179 \nL 75.354675 64.197762 \nL 75.778263 67.089918 \nL 75.990056 65.05796 \nL 76.20185 68.459991 \nL 76.413644 69.291698 \nL 76.625438 71.249422 \nL 76.837231 70.32506 \nL 77.049025 72.669232 \nL 77.260819 72.060765 \nL 77.472612 72.263843 \nL 78.107994 75.845088 \nL 78.319788 74.463252 \nL 78.531581 78.080237 \nL 78.743375 77.20753 \nL 78.955169 78.556539 \nL 79.166963 78.74203 \nL 79.378756 77.690042 \nL 79.59055 80.073226 \nL 79.802344 79.695584 \nL 80.225931 81.667306 \nL 80.437725 78.932059 \nL 80.649519 82.033028 \nL 80.861312 82.220235 \nL 81.073106 81.662159 \nL 81.496694 82.587785 \nL 81.708488 82.49671 \nL 81.920281 82.586205 \nL 82.132075 83.690481 \nL 82.343869 82.122703 \nL 82.555663 83.503861 \nL 82.767456 82.674819 \nL 82.97925 84.95932 \nL 83.191044 83.594485 \nL 83.402838 83.68872 \nL 83.614631 86.392879 \nL 83.826425 83.869741 \nL 84.038219 85.676856 \nL 84.250012 84.958281 \nL 84.461806 87.103507 \nL 84.6736 85.856341 \nL 84.885394 86.2152 \nL 85.097188 88.156985 \nL 85.520775 86.036866 \nL 85.944363 88.681241 \nL 86.156156 86.840284 \nL 86.36795 87.813569 \nL 86.579744 85.595038 \nL 86.791538 84.872399 \nL 87.003331 85.32529 \nL 87.426919 81.76231 \nL 87.638712 81.018765 \nL 87.850506 78.368294 \nL 88.0623 78.943393 \nL 88.274094 76.045096 \nL 88.485888 76.14414 \nL 88.697681 72.668171 \nL 88.909475 73.968753 \nL 89.121269 74.371455 \nL 89.333063 72.063542 \nL 89.544856 72.366703 \nL 89.75665 71.758597 \nL 90.180238 69.08661 \nL 90.815619 68.045458 \nL 91.239206 63.871301 \nL 91.451 65.38993 \nL 91.662794 63.329164 \nL 91.874588 62.672225 \nL 92.086381 64.631801 \nL 92.298175 63.109515 \nL 92.509969 60.673139 \nL 92.721763 59.662218 \nL 92.933556 62.451807 \nL 93.14535 61.676159 \nL 93.357144 59.889589 \nL 93.568938 60.787107 \nL 93.780731 59.324559 \nL 93.992525 59.439814 \nL 94.204319 58.873768 \nL 94.416112 58.873384 \nL 94.627906 60.229641 \nL 94.8397 57.731247 \nL 95.051494 59.212014 \nL 95.263288 57.270702 \nL 95.475081 57.388847 \nL 95.686875 59.440265 \nL 95.898669 58.077214 \nL 96.110463 59.101907 \nL 96.322256 58.870969 \nL 96.53405 59.328623 \nL 96.745844 59.101094 \nL 96.957638 59.890085 \nL 97.381225 61.902107 \nL 97.593019 64.422604 \nL 97.804812 63.113646 \nL 98.016606 63.877103 \nL 99.287369 76.45193 \nL 99.499163 75.762705 \nL 100.134544 83.261251 \nL 100.346338 81.97189 \nL 100.558131 85.347393 \nL 100.769925 85.975434 \nL 100.981719 89.403902 \nL 101.405306 89.143591 \nL 101.828894 92.053944 \nL 102.040688 92.477192 \nL 102.252481 92.221938 \nL 102.464275 93.889574 \nL 102.887863 92.474889 \nL 103.099656 93.39381 \nL 103.31145 91.79842 \nL 103.523244 93.06464 \nL 103.735038 92.476605 \nL 103.946831 93.062947 \nL 104.370419 91.883738 \nL 104.582212 91.884776 \nL 105.0058 89.836248 \nL 105.217594 87.752928 \nL 105.429388 88.714045 \nL 105.641181 88.449197 \nL 105.852975 86.244979 \nL 106.064769 85.266026 \nL 106.276563 85.529836 \nL 106.488356 84.539662 \nL 106.70015 84.721473 \nL 106.911944 83.17564 \nL 107.123738 83.081991 \nL 107.335531 82.61797 \nL 107.759119 80.949567 \nL 107.970912 81.882373 \nL 108.182706 78.291014 \nL 108.3945 76.749424 \nL 108.606294 77.721311 \nL 108.818087 77.234013 \nL 109.029881 77.526089 \nL 109.241675 77.62344 \nL 109.453469 77.430499 \nL 109.665262 76.655889 \nL 109.877056 75.182527 \nL 110.08885 75.675604 \nL 110.300644 77.040078 \nL 110.512438 75.673256 \nL 110.724231 79.061605 \nL 110.936025 79.252943 \nL 111.147819 84.000009 \nL 111.359612 83.450625 \nL 111.571406 84.632634 \nL 111.7832 87.580464 \nL 111.994994 87.137823 \nL 112.206787 84.991244 \nL 112.418581 86.695544 \nL 112.630375 84.903871 \nL 112.842169 82.066735 \nL 113.053962 85.173303 \nL 113.47755 83.358173 \nL 113.689344 85.802496 \nL 113.901138 83.355645 \nL 114.112931 85.618111 \nL 114.324725 83.263464 \nL 114.536519 86.068473 \nL 114.748312 85.351479 \nL 114.960106 85.533696 \nL 115.383694 82.343278 \nL 115.595487 81.508321 \nL 115.807281 79.343725 \nL 116.019075 75.279155 \nL 116.230869 77.037369 \nL 116.442662 74.088568 \nL 116.654456 74.287131 \nL 116.86625 72.077246 \nL 117.078044 72.986594 \nL 117.713425 71.669328 \nL 117.925219 72.884908 \nL 118.348806 70.444559 \nL 118.5606 70.339148 \nL 118.984187 71.361922 \nL 119.619569 68.784555 \nL 119.831363 70.752575 \nL 120.043156 66.993402 \nL 120.25495 70.545794 \nL 120.466744 70.54103 \nL 120.678538 69.613552 \nL 120.890331 66.672766 \nL 121.102125 67.417033 \nL 121.313919 65.604206 \nL 121.525712 65.928183 \nL 121.737506 62.343439 \nL 121.9493 61.123275 \nL 122.161094 61.00863 \nL 122.372887 62.34091 \nL 122.584681 58.640437 \nL 122.796475 58.413134 \nL 123.008269 57.726754 \nL 123.220063 58.07324 \nL 123.431856 58.755172 \nL 123.64365 56.807517 \nL 123.855444 57.385167 \nL 124.067238 52.932322 \nL 124.279031 54.235613 \nL 124.490825 52.811694 \nL 124.702619 52.451842 \nL 124.914412 53.169469 \nL 125.126206 54.589617 \nL 125.338 55.17693 \nL 125.549794 54.473843 \nL 125.761587 53.289735 \nL 125.973381 54.47373 \nL 126.185175 54.827351 \nL 126.396969 53.407812 \nL 126.608763 54.474859 \nL 126.820556 53.999369 \nL 127.03235 55.176817 \nL 127.244144 58.415391 \nL 127.455938 57.727499 \nL 128.091319 62.335266 \nL 128.303112 63.545766 \nL 128.514906 63.326658 \nL 128.938494 68.04521 \nL 129.150287 68.358215 \nL 129.573875 72.58116 \nL 129.785669 71.868772 \nL 129.997463 74.38184 \nL 130.209256 79.435386 \nL 130.42105 78.288778 \nL 130.844638 84.985667 \nL 131.056431 85.614318 \nL 131.268225 86.776188 \nL 131.691812 90.945943 \nL 131.903606 92.219839 \nL 132.327194 95.367045 \nL 132.750781 98.819715 \nL 132.962575 99.915164 \nL 133.174369 102.989853 \nL 133.386163 102.530235 \nL 133.597956 101.768268 \nL 134.021544 105.594358 \nL 134.233338 105.004381 \nL 134.445131 106.694638 \nL 134.656925 106.178668 \nL 134.868719 107.270302 \nL 135.080512 107.26994 \nL 135.292306 107.484352 \nL 135.5041 105.811479 \nL 135.715894 107.266057 \nL 135.927687 106.756386 \nL 136.139481 108.487169 \nL 136.351275 107.118631 \nL 136.563069 109.691822 \nL 136.774862 107.334036 \nL 136.986656 108.054168 \nL 137.19845 108.338749 \nL 137.410244 109.262987 \nL 137.622038 108.265306 \nL 137.833831 110.038737 \nL 138.045625 109.756165 \nL 138.257419 110.248453 \nL 138.469212 110.387029 \nL 138.8928 108.759276 \nL 139.104594 109.401269 \nL 139.316387 108.832752 \nL 139.528181 109.963037 \nL 140.163562 108.39816 \nL 140.58715 109.678095 \nL 140.798944 109.394891 \nL 141.010738 110.171533 \nL 141.434325 109.392747 \nL 141.646119 109.180626 \nL 141.857912 109.745204 \nL 142.069706 108.752457 \nL 142.2815 109.81517 \nL 142.493294 110.307006 \nL 142.705087 108.250902 \nL 142.916881 108.252189 \nL 143.340469 110.163575 \nL 143.552262 109.529449 \nL 143.764056 110.793648 \nL 143.97585 110.864732 \nL 144.187644 109.388288 \nL 144.399438 110.024434 \nL 144.611231 110.305007 \nL 144.823025 109.742269 \nL 145.034819 110.094377 \nL 145.246612 109.808792 \nL 145.458406 109.104971 \nL 145.6702 109.384326 \nL 145.881994 108.177415 \nL 146.093787 108.395067 \nL 146.305581 108.398092 \nL 146.517375 109.036394 \nL 146.729169 111.351679 \nL 146.940962 109.883453 \nL 147.152756 110.236984 \nL 147.36455 107.893918 \nL 147.576344 107.317149 \nL 147.788138 108.465247 \nL 147.999931 108.755584 \nL 148.211725 106.66434 \nL 148.423519 106.885457 \nL 148.635312 106.081769 \nL 148.847106 105.86248 \nL 149.0589 105.937187 \nL 149.270694 106.815876 \nL 149.482487 106.084478 \nL 149.694281 105.941747 \nL 149.906075 104.908339 \nL 150.117869 104.982323 \nL 150.329662 104.907414 \nL 150.541456 106.088812 \nL 150.75325 104.763532 \nL 150.965044 104.314886 \nL 151.176838 103.565878 \nL 151.600425 103.34528 \nL 151.812219 100.904615 \nL 152.024012 101.055044 \nL 152.235806 98.641471 \nL 152.4476 100.444951 \nL 152.871187 98.17167 \nL 153.082981 98.248296 \nL 153.294775 97.931995 \nL 153.506569 97.299664 \nL 153.718362 97.614091 \nL 153.930156 95.271319 \nL 154.14195 97.38076 \nL 154.353744 96.974761 \nL 154.565538 95.681381 \nL 154.777331 97.136276 \nL 154.989125 97.137246 \nL 155.200919 96.088215 \nL 155.412712 95.849217 \nL 155.624506 96.256525 \nL 155.8363 95.522102 \nL 156.048094 96.977516 \nL 156.259887 96.498978 \nL 156.471681 95.359323 \nL 156.683475 95.438794 \nL 156.895269 95.681517 \nL 157.107062 95.437078 \nL 157.318856 97.858982 \nL 157.53065 95.684587 \nL 157.742444 95.113214 \nL 157.954238 95.844679 \nL 158.166031 97.295848 \nL 158.377825 97.140136 \nL 158.801412 98.731123 \nL 159.013206 98.331627 \nL 159.225 101.220419 \nL 159.436794 101.144516 \nL 159.648587 101.295938 \nL 160.072175 105.368748 \nL 160.283969 105.363984 \nL 160.495762 104.844402 \nL 160.707556 107.626293 \nL 161.131144 109.266452 \nL 161.342938 109.552297 \nL 162.190112 115.635955 \nL 162.401906 116.362544 \nL 162.6137 115.702771 \nL 162.825494 117.60113 \nL 163.037287 115.63635 \nL 163.249081 116.230887 \nL 163.460875 117.277423 \nL 163.672669 116.495702 \nL 164.096256 116.230932 \nL 164.519844 113.972327 \nL 164.731638 112.680866 \nL 164.943431 110.608033 \nL 165.155225 110.186231 \nL 165.367019 110.747039 \nL 165.790606 108.418174 \nL 166.0024 107.702422 \nL 166.425987 103.580665 \nL 166.637781 104.996976 \nL 166.849575 104.925204 \nL 167.061369 101.066174 \nL 167.273162 100.757346 \nL 167.69675 101.068184 \nL 168.332131 95.030628 \nL 168.543925 97.139188 \nL 168.755719 95.765028 \nL 168.967512 93.132099 \nL 169.179306 93.378367 \nL 169.3911 93.044479 \nL 169.814687 89.648296 \nL 170.026481 90.083554 \nL 170.238275 88.609898 \nL 170.450069 88.783266 \nL 170.661862 89.825569 \nL 171.08545 87.559174 \nL 171.297244 89.21735 \nL 171.509038 89.563497 \nL 171.720831 91.615661 \nL 171.932625 91.190043 \nL 172.356212 96.977854 \nL 172.7798 95.277708 \nL 172.991594 97.855753 \nL 173.203387 97.617342 \nL 173.415181 96.978125 \nL 173.626975 97.297655 \nL 173.838769 96.251897 \nL 174.050562 94.128391 \nL 174.262356 95.033427 \nL 174.47415 93.298219 \nL 174.685944 95.851046 \nL 174.897738 95.436581 \nL 175.109531 92.630781 \nL 175.321325 95.850098 \nL 175.533119 95.442993 \nL 175.744912 93.712346 \nL 175.956706 93.794638 \nL 176.380294 91.110098 \nL 176.592087 91.448841 \nL 177.015675 86.409721 \nL 177.227469 85.520083 \nL 177.439262 82.242202 \nL 177.651056 83.707843 \nL 178.074644 78.944612 \nL 178.498231 83.619139 \nL 178.710025 79.519666 \nL 179.133612 81.771543 \nL 179.345406 81.961595 \nL 179.5572 81.493984 \nL 179.980787 79.99721 \nL 180.192581 80.936382 \nL 180.404375 79.139472 \nL 180.616169 80.557024 \nL 181.25155 77.9923 \nL 181.463344 79.617852 \nL 181.675137 79.61783 \nL 181.886931 77.704378 \nL 182.098725 78.280764 \nL 182.310519 77.413837 \nL 182.522312 74.972382 \nL 182.734106 74.172824 \nL 182.9459 72.573868 \nL 183.157694 72.877797 \nL 183.369487 70.945403 \nL 183.581281 71.866401 \nL 184.004869 70.637613 \nL 184.428456 68.250162 \nL 184.64025 68.671039 \nL 184.852044 68.458365 \nL 185.063837 68.042297 \nL 185.275631 66.668228 \nL 185.487425 67.093756 \nL 185.699219 65.707924 \nL 185.911012 65.385256 \nL 186.122806 67.302862 \nL 186.3346 65.27454 \nL 186.546394 65.81189 \nL 186.758187 65.491796 \nL 186.969981 66.558076 \nL 187.181775 65.596553 \nL 187.393569 67.617966 \nL 187.605362 67.62045 \nL 187.817156 67.197473 \nL 188.02895 68.772499 \nL 188.240744 68.563483 \nL 188.452537 67.301462 \nL 188.664331 69.501526 \nL 188.876125 73.077556 \nL 189.087919 72.572468 \nL 189.299712 73.373719 \nL 189.935094 78.280448 \nL 190.146887 81.218028 \nL 190.358681 78.949872 \nL 190.782269 83.892408 \nL 190.994062 83.527996 \nL 191.841237 94.545994 \nL 192.053031 95.849533 \nL 192.264825 95.602182 \nL 192.476619 96.661756 \nL 192.688412 99.836122 \nL 192.900206 100.765293 \nL 193.112 103.211648 \nL 193.323794 102.759841 \nL 193.747381 108.639483 \nL 193.959175 106.547031 \nL 194.382762 109.704577 \nL 194.594556 110.683982 \nL 194.80635 112.890006 \nL 195.018144 112.550067 \nL 195.229937 113.706338 \nL 195.441731 112.822321 \nL 195.653525 114.511551 \nL 195.865319 114.780712 \nL 196.288906 113.018039 \nL 196.924287 115.774847 \nL 197.136081 114.574111 \nL 197.347875 115.170952 \nL 197.559669 114.638715 \nL 197.771462 115.835071 \nL 197.983256 115.37026 \nL 198.19505 115.900374 \nL 198.618637 114.232964 \nL 198.830431 117.080362 \nL 199.254019 114.164342 \nL 199.465812 114.570115 \nL 199.677606 115.362674 \nL 199.8894 114.563647 \nL 200.101194 115.233659 \nL 200.312987 114.834467 \nL 200.524781 116.815434 \nL 201.160162 115.625592 \nL 201.371956 114.364215 \nL 201.58375 114.698938 \nL 201.795544 114.631919 \nL 202.007337 113.554441 \nL 202.219131 113.826898 \nL 202.430925 115.561067 \nL 202.642719 114.89845 \nL 202.854512 113.417727 \nL 203.066306 114.968381 \nL 203.2781 114.494551 \nL 203.489894 113.689812 \nL 203.701687 114.361912 \nL 203.913481 114.364 \nL 204.125275 114.499484 \nL 204.337069 116.684399 \nL 204.760656 113.07999 \nL 204.97245 116.287363 \nL 205.184244 115.828851 \nL 205.396037 114.968133 \nL 205.607831 115.50037 \nL 205.819625 115.164517 \nL 206.031419 114.430568 \nL 206.243212 114.429473 \nL 206.455006 113.558799 \nL 206.878594 112.671384 \nL 207.090387 110.810321 \nL 207.302181 112.122338 \nL 207.513975 111.085442 \nL 207.725769 110.948142 \nL 208.149356 112.874541 \nL 208.36115 112.260599 \nL 208.572944 110.460065 \nL 208.784737 111.361128 \nL 208.996531 111.572176 \nL 209.208325 110.319592 \nL 209.420119 110.53248 \nL 210.0555 108.627145 \nL 210.267294 109.618526 \nL 210.479087 109.9034 \nL 210.690881 108.915213 \nL 210.902675 106.681115 \nL 211.114469 105.804887 \nL 211.326262 108.702913 \nL 211.538056 108.130342 \nL 211.74985 107.198575 \nL 211.961644 107.195911 \nL 212.597025 104.256321 \nL 212.808819 105.368816 \nL 213.020612 102.754287 \nL 213.232406 102.607966 \nL 213.4442 102.834796 \nL 213.655994 102.074793 \nL 213.867787 100.842032 \nL 214.079581 101.6147 \nL 214.291375 100.462245 \nL 214.503169 102.611692 \nL 214.926756 99.606516 \nL 215.13855 100.075369 \nL 215.350344 100.079365 \nL 215.562137 99.608819 \nL 215.773931 99.612115 \nL 215.985725 99.295227 \nL 216.197519 100.081916 \nL 216.409312 98.507681 \nL 216.621106 99.144008 \nL 216.8329 98.826465 \nL 217.044694 97.871331 \nL 217.256487 97.878262 \nL 217.468281 98.830236 \nL 218.103662 96.353719 \nL 218.315456 98.668495 \nL 218.52725 98.827639 \nL 218.739044 99.299698 \nL 218.950837 99.456832 \nL 219.162631 100.391715 \nL 219.798012 101.624995 \nL 220.009806 101.08489 \nL 220.2216 103.374065 \nL 220.645187 105.384507 \nL 220.856981 107.209525 \nL 221.068775 106.485284 \nL 221.280569 109.290169 \nL 221.704156 110.975538 \nL 221.91595 113.172521 \nL 222.127744 113.174011 \nL 222.339537 114.053626 \nL 222.551331 116.184176 \nL 222.763125 299.591864 \nL 477.127419 299.591864 \nL 477.127419 299.591864 \n\" style=\"fill:none;stroke:#d62728;stroke-linecap:square;stroke-width:1.5;\"/>\n   </g>\n   <g id=\"line2d_22\"/>\n   <g id=\"line2d_23\"/>\n   <g id=\"line2d_24\"/>\n   <g id=\"line2d_25\"/>\n   <g id=\"line2d_26\"/>\n   <g id=\"patch_3\">\n    <path d=\"M 53.328125 312.1555 \nL 53.328125 35.7555 \n\" style=\"fill:none;stroke:#000000;stroke-linecap:square;stroke-linejoin:miter;stroke-width:0.8;\"/>\n   </g>\n   <g id=\"patch_4\">\n    <path d=\"M 476.915625 312.1555 \nL 476.915625 35.7555 \n\" style=\"fill:none;stroke:#000000;stroke-linecap:square;stroke-linejoin:miter;stroke-width:0.8;\"/>\n   </g>\n   <g id=\"patch_5\">\n    <path d=\"M 53.328125 312.1555 \nL 476.915625 312.1555 \n\" style=\"fill:none;stroke:#000000;stroke-linecap:square;stroke-linejoin:miter;stroke-width:0.8;\"/>\n   </g>\n   <g id=\"patch_6\">\n    <path d=\"M 53.328125 35.7555 \nL 476.915625 35.7555 \n\" style=\"fill:none;stroke:#000000;stroke-linecap:square;stroke-linejoin:miter;stroke-width:0.8;\"/>\n   </g>\n   <g id=\"text_20\">\n    <!-- Performance of pre-built grid2op agents -->\n    <defs>\n     <path d=\"M 19.671875 64.796875 \nL 19.671875 37.40625 \nL 32.078125 37.40625 \nQ 38.96875 37.40625 42.71875 40.96875 \nQ 46.484375 44.53125 46.484375 51.125 \nQ 46.484375 57.671875 42.71875 61.234375 \nQ 38.96875 64.796875 32.078125 64.796875 \nz\nM 9.8125 72.90625 \nL 32.078125 72.90625 \nQ 44.34375 72.90625 50.609375 67.359375 \nQ 56.890625 61.8125 56.890625 51.125 \nQ 56.890625 40.328125 50.609375 34.8125 \nQ 44.34375 29.296875 32.078125 29.296875 \nL 19.671875 29.296875 \nL 19.671875 0 \nL 9.8125 0 \nz\n\" id=\"DejaVuSans-80\"/>\n     <path d=\"M 52 44.1875 \nQ 55.375 50.25 60.0625 53.125 \nQ 64.75 56 71.09375 56 \nQ 79.640625 56 84.28125 50.015625 \nQ 88.921875 44.046875 88.921875 33.015625 \nL 88.921875 0 \nL 79.890625 0 \nL 79.890625 32.71875 \nQ 79.890625 40.578125 77.09375 44.375 \nQ 74.3125 48.1875 68.609375 48.1875 \nQ 61.625 48.1875 57.5625 43.546875 \nQ 53.515625 38.921875 53.515625 30.90625 \nL 53.515625 0 \nL 44.484375 0 \nL 44.484375 32.71875 \nQ 44.484375 40.625 41.703125 44.40625 \nQ 38.921875 48.1875 33.109375 48.1875 \nQ 26.21875 48.1875 22.15625 43.53125 \nQ 18.109375 38.875 18.109375 30.90625 \nL 18.109375 0 \nL 9.078125 0 \nL 9.078125 54.6875 \nL 18.109375 54.6875 \nL 18.109375 46.1875 \nQ 21.1875 51.21875 25.484375 53.609375 \nQ 29.78125 56 35.6875 56 \nQ 41.65625 56 45.828125 52.96875 \nQ 50 49.953125 52 44.1875 \nz\n\" id=\"DejaVuSans-109\"/>\n     <path d=\"M 48.78125 52.59375 \nL 48.78125 44.1875 \nQ 44.96875 46.296875 41.140625 47.34375 \nQ 37.3125 48.390625 33.40625 48.390625 \nQ 24.65625 48.390625 19.8125 42.84375 \nQ 14.984375 37.3125 14.984375 27.296875 \nQ 14.984375 17.28125 19.8125 11.734375 \nQ 24.65625 6.203125 33.40625 6.203125 \nQ 37.3125 6.203125 41.140625 7.25 \nQ 44.96875 8.296875 48.78125 10.40625 \nL 48.78125 2.09375 \nQ 45.015625 0.34375 40.984375 -0.53125 \nQ 36.96875 -1.421875 32.421875 -1.421875 \nQ 20.0625 -1.421875 12.78125 6.34375 \nQ 5.515625 14.109375 5.515625 27.296875 \nQ 5.515625 40.671875 12.859375 48.328125 \nQ 20.21875 56 33.015625 56 \nQ 37.15625 56 41.109375 55.140625 \nQ 45.0625 54.296875 48.78125 52.59375 \nz\n\" id=\"DejaVuSans-99\"/>\n     <path d=\"M 18.109375 8.203125 \nL 18.109375 -20.796875 \nL 9.078125 -20.796875 \nL 9.078125 54.6875 \nL 18.109375 54.6875 \nL 18.109375 46.390625 \nQ 20.953125 51.265625 25.265625 53.625 \nQ 29.59375 56 35.59375 56 \nQ 45.5625 56 51.78125 48.09375 \nQ 58.015625 40.1875 58.015625 27.296875 \nQ 58.015625 14.40625 51.78125 6.484375 \nQ 45.5625 -1.421875 35.59375 -1.421875 \nQ 29.59375 -1.421875 25.265625 0.953125 \nQ 20.953125 3.328125 18.109375 8.203125 \nz\nM 48.6875 27.296875 \nQ 48.6875 37.203125 44.609375 42.84375 \nQ 40.53125 48.484375 33.40625 48.484375 \nQ 26.265625 48.484375 22.1875 42.84375 \nQ 18.109375 37.203125 18.109375 27.296875 \nQ 18.109375 17.390625 22.1875 11.75 \nQ 26.265625 6.109375 33.40625 6.109375 \nQ 40.53125 6.109375 44.609375 11.75 \nQ 48.6875 17.390625 48.6875 27.296875 \nz\n\" id=\"DejaVuSans-112\"/>\n     <path d=\"M 4.890625 31.390625 \nL 31.203125 31.390625 \nL 31.203125 23.390625 \nL 4.890625 23.390625 \nz\n\" id=\"DejaVuSans-45\"/>\n     <path d=\"M 48.6875 27.296875 \nQ 48.6875 37.203125 44.609375 42.84375 \nQ 40.53125 48.484375 33.40625 48.484375 \nQ 26.265625 48.484375 22.1875 42.84375 \nQ 18.109375 37.203125 18.109375 27.296875 \nQ 18.109375 17.390625 22.1875 11.75 \nQ 26.265625 6.109375 33.40625 6.109375 \nQ 40.53125 6.109375 44.609375 11.75 \nQ 48.6875 17.390625 48.6875 27.296875 \nz\nM 18.109375 46.390625 \nQ 20.953125 51.265625 25.265625 53.625 \nQ 29.59375 56 35.59375 56 \nQ 45.5625 56 51.78125 48.09375 \nQ 58.015625 40.1875 58.015625 27.296875 \nQ 58.015625 14.40625 51.78125 6.484375 \nQ 45.5625 -1.421875 35.59375 -1.421875 \nQ 29.59375 -1.421875 25.265625 0.953125 \nQ 20.953125 3.328125 18.109375 8.203125 \nL 18.109375 0 \nL 9.078125 0 \nL 9.078125 75.984375 \nL 18.109375 75.984375 \nz\n\" id=\"DejaVuSans-98\"/>\n     <path d=\"M 8.5 21.578125 \nL 8.5 54.6875 \nL 17.484375 54.6875 \nL 17.484375 21.921875 \nQ 17.484375 14.15625 20.5 10.265625 \nQ 23.53125 6.390625 29.59375 6.390625 \nQ 36.859375 6.390625 41.078125 11.03125 \nQ 45.3125 15.671875 45.3125 23.6875 \nL 45.3125 54.6875 \nL 54.296875 54.6875 \nL 54.296875 0 \nL 45.3125 0 \nL 45.3125 8.40625 \nQ 42.046875 3.421875 37.71875 1 \nQ 33.40625 -1.421875 27.6875 -1.421875 \nQ 18.265625 -1.421875 13.375 4.4375 \nQ 8.5 10.296875 8.5 21.578125 \nz\nM 31.109375 56 \nz\n\" id=\"DejaVuSans-117\"/>\n     <path d=\"M 9.421875 75.984375 \nL 18.40625 75.984375 \nL 18.40625 0 \nL 9.421875 0 \nz\n\" id=\"DejaVuSans-108\"/>\n     <path d=\"M 45.40625 27.984375 \nQ 45.40625 37.75 41.375 43.109375 \nQ 37.359375 48.484375 30.078125 48.484375 \nQ 22.859375 48.484375 18.828125 43.109375 \nQ 14.796875 37.75 14.796875 27.984375 \nQ 14.796875 18.265625 18.828125 12.890625 \nQ 22.859375 7.515625 30.078125 7.515625 \nQ 37.359375 7.515625 41.375 12.890625 \nQ 45.40625 18.265625 45.40625 27.984375 \nz\nM 54.390625 6.78125 \nQ 54.390625 -7.171875 48.1875 -13.984375 \nQ 42 -20.796875 29.203125 -20.796875 \nQ 24.46875 -20.796875 20.265625 -20.09375 \nQ 16.0625 -19.390625 12.109375 -17.921875 \nL 12.109375 -9.1875 \nQ 16.0625 -11.328125 19.921875 -12.34375 \nQ 23.78125 -13.375 27.78125 -13.375 \nQ 36.625 -13.375 41.015625 -8.765625 \nQ 45.40625 -4.15625 45.40625 5.171875 \nL 45.40625 9.625 \nQ 42.625 4.78125 38.28125 2.390625 \nQ 33.9375 0 27.875 0 \nQ 17.828125 0 11.671875 7.65625 \nQ 5.515625 15.328125 5.515625 27.984375 \nQ 5.515625 40.671875 11.671875 48.328125 \nQ 17.828125 56 27.875 56 \nQ 33.9375 56 38.28125 53.609375 \nQ 42.625 51.21875 45.40625 46.390625 \nL 45.40625 54.6875 \nL 54.390625 54.6875 \nz\n\" id=\"DejaVuSans-103\"/>\n    </defs>\n    <g transform=\"translate(144.890312 16.318125)scale(0.12 -0.12)\">\n     <use xlink:href=\"#DejaVuSans-80\"/>\n     <use x=\"56.677734\" xlink:href=\"#DejaVuSans-101\"/>\n     <use x=\"118.201172\" xlink:href=\"#DejaVuSans-114\"/>\n     <use x=\"159.314453\" xlink:href=\"#DejaVuSans-102\"/>\n     <use x=\"194.519531\" xlink:href=\"#DejaVuSans-111\"/>\n     <use x=\"255.701172\" xlink:href=\"#DejaVuSans-114\"/>\n     <use x=\"295.064453\" xlink:href=\"#DejaVuSans-109\"/>\n     <use x=\"392.476562\" xlink:href=\"#DejaVuSans-97\"/>\n     <use x=\"453.755859\" xlink:href=\"#DejaVuSans-110\"/>\n     <use x=\"517.134766\" xlink:href=\"#DejaVuSans-99\"/>\n     <use x=\"572.115234\" xlink:href=\"#DejaVuSans-101\"/>\n     <use x=\"633.638672\" xlink:href=\"#DejaVuSans-32\"/>\n     <use x=\"665.425781\" xlink:href=\"#DejaVuSans-111\"/>\n     <use x=\"726.607422\" xlink:href=\"#DejaVuSans-102\"/>\n     <use x=\"761.8125\" xlink:href=\"#DejaVuSans-32\"/>\n     <use x=\"793.599609\" xlink:href=\"#DejaVuSans-112\"/>\n     <use x=\"857.076172\" xlink:href=\"#DejaVuSans-114\"/>\n     <use x=\"895.939453\" xlink:href=\"#DejaVuSans-101\"/>\n     <use x=\"957.462891\" xlink:href=\"#DejaVuSans-45\"/>\n     <use x=\"993.546875\" xlink:href=\"#DejaVuSans-98\"/>\n     <use x=\"1057.023438\" xlink:href=\"#DejaVuSans-117\"/>\n     <use x=\"1120.402344\" xlink:href=\"#DejaVuSans-105\"/>\n     <use x=\"1148.185547\" xlink:href=\"#DejaVuSans-108\"/>\n     <use x=\"1175.96875\" xlink:href=\"#DejaVuSans-116\"/>\n     <use x=\"1215.177734\" xlink:href=\"#DejaVuSans-32\"/>\n     <use x=\"1246.964844\" xlink:href=\"#DejaVuSans-103\"/>\n     <use x=\"1310.441406\" xlink:href=\"#DejaVuSans-114\"/>\n     <use x=\"1351.554688\" xlink:href=\"#DejaVuSans-105\"/>\n     <use x=\"1379.337891\" xlink:href=\"#DejaVuSans-100\"/>\n     <use x=\"1442.814453\" xlink:href=\"#DejaVuSans-50\"/>\n     <use x=\"1506.4375\" xlink:href=\"#DejaVuSans-111\"/>\n     <use x=\"1567.619141\" xlink:href=\"#DejaVuSans-112\"/>\n     <use x=\"1631.095703\" xlink:href=\"#DejaVuSans-32\"/>\n     <use x=\"1662.882812\" xlink:href=\"#DejaVuSans-97\"/>\n     <use x=\"1724.162109\" xlink:href=\"#DejaVuSans-103\"/>\n     <use x=\"1787.638672\" xlink:href=\"#DejaVuSans-101\"/>\n     <use x=\"1849.162109\" xlink:href=\"#DejaVuSans-110\"/>\n     <use x=\"1912.541016\" xlink:href=\"#DejaVuSans-116\"/>\n     <use x=\"1951.75\" xlink:href=\"#DejaVuSans-115\"/>\n    </g>\n    <!-- (Only actions available are powerline and topology change) -->\n    <defs>\n     <path d=\"M 31 75.875 \nQ 24.46875 64.65625 21.28125 53.65625 \nQ 18.109375 42.671875 18.109375 31.390625 \nQ 18.109375 20.125 21.3125 9.0625 \nQ 24.515625 -2 31 -13.1875 \nL 23.1875 -13.1875 \nQ 15.875 -1.703125 12.234375 9.375 \nQ 8.59375 20.453125 8.59375 31.390625 \nQ 8.59375 42.28125 12.203125 53.3125 \nQ 15.828125 64.359375 23.1875 75.875 \nz\n\" id=\"DejaVuSans-40\"/>\n     <path d=\"M 39.40625 66.21875 \nQ 28.65625 66.21875 22.328125 58.203125 \nQ 16.015625 50.203125 16.015625 36.375 \nQ 16.015625 22.609375 22.328125 14.59375 \nQ 28.65625 6.59375 39.40625 6.59375 \nQ 50.140625 6.59375 56.421875 14.59375 \nQ 62.703125 22.609375 62.703125 36.375 \nQ 62.703125 50.203125 56.421875 58.203125 \nQ 50.140625 66.21875 39.40625 66.21875 \nz\nM 39.40625 74.21875 \nQ 54.734375 74.21875 63.90625 63.9375 \nQ 73.09375 53.65625 73.09375 36.375 \nQ 73.09375 19.140625 63.90625 8.859375 \nQ 54.734375 -1.421875 39.40625 -1.421875 \nQ 24.03125 -1.421875 14.8125 8.828125 \nQ 5.609375 19.09375 5.609375 36.375 \nQ 5.609375 53.65625 14.8125 63.9375 \nQ 24.03125 74.21875 39.40625 74.21875 \nz\n\" id=\"DejaVuSans-79\"/>\n     <path d=\"M 32.171875 -5.078125 \nQ 28.375 -14.84375 24.75 -17.8125 \nQ 21.140625 -20.796875 15.09375 -20.796875 \nL 7.90625 -20.796875 \nL 7.90625 -13.28125 \nL 13.1875 -13.28125 \nQ 16.890625 -13.28125 18.9375 -11.515625 \nQ 21 -9.765625 23.484375 -3.21875 \nL 25.09375 0.875 \nL 2.984375 54.6875 \nL 12.5 54.6875 \nL 29.59375 11.921875 \nL 46.6875 54.6875 \nL 56.203125 54.6875 \nz\n\" id=\"DejaVuSans-121\"/>\n     <path d=\"M 2.984375 54.6875 \nL 12.5 54.6875 \nL 29.59375 8.796875 \nL 46.6875 54.6875 \nL 56.203125 54.6875 \nL 35.6875 0 \nL 23.484375 0 \nz\n\" id=\"DejaVuSans-118\"/>\n     <path d=\"M 54.890625 33.015625 \nL 54.890625 0 \nL 45.90625 0 \nL 45.90625 32.71875 \nQ 45.90625 40.484375 42.875 44.328125 \nQ 39.84375 48.1875 33.796875 48.1875 \nQ 26.515625 48.1875 22.3125 43.546875 \nQ 18.109375 38.921875 18.109375 30.90625 \nL 18.109375 0 \nL 9.078125 0 \nL 9.078125 75.984375 \nL 18.109375 75.984375 \nL 18.109375 46.1875 \nQ 21.34375 51.125 25.703125 53.5625 \nQ 30.078125 56 35.796875 56 \nQ 45.21875 56 50.046875 50.171875 \nQ 54.890625 44.34375 54.890625 33.015625 \nz\n\" id=\"DejaVuSans-104\"/>\n     <path d=\"M 8.015625 75.875 \nL 15.828125 75.875 \nQ 23.140625 64.359375 26.78125 53.3125 \nQ 30.421875 42.28125 30.421875 31.390625 \nQ 30.421875 20.453125 26.78125 9.375 \nQ 23.140625 -1.703125 15.828125 -13.1875 \nL 8.015625 -13.1875 \nQ 14.5 -2 17.703125 9.0625 \nQ 20.90625 20.125 20.90625 31.390625 \nQ 20.90625 42.671875 17.703125 53.65625 \nQ 14.5 64.65625 8.015625 75.875 \nz\n\" id=\"DejaVuSans-41\"/>\n    </defs>\n    <g transform=\"translate(86.02375 29.7555)scale(0.12 -0.12)\">\n     <use xlink:href=\"#DejaVuSans-40\"/>\n     <use x=\"39.013672\" xlink:href=\"#DejaVuSans-79\"/>\n     <use x=\"117.724609\" xlink:href=\"#DejaVuSans-110\"/>\n     <use x=\"181.103516\" xlink:href=\"#DejaVuSans-108\"/>\n     <use x=\"208.886719\" xlink:href=\"#DejaVuSans-121\"/>\n     <use x=\"268.066406\" xlink:href=\"#DejaVuSans-32\"/>\n     <use x=\"299.853516\" xlink:href=\"#DejaVuSans-97\"/>\n     <use x=\"361.132812\" xlink:href=\"#DejaVuSans-99\"/>\n     <use x=\"416.113281\" xlink:href=\"#DejaVuSans-116\"/>\n     <use x=\"455.322266\" xlink:href=\"#DejaVuSans-105\"/>\n     <use x=\"483.105469\" xlink:href=\"#DejaVuSans-111\"/>\n     <use x=\"544.287109\" xlink:href=\"#DejaVuSans-110\"/>\n     <use x=\"607.666016\" xlink:href=\"#DejaVuSans-115\"/>\n     <use x=\"659.765625\" xlink:href=\"#DejaVuSans-32\"/>\n     <use x=\"691.552734\" xlink:href=\"#DejaVuSans-97\"/>\n     <use x=\"752.832031\" xlink:href=\"#DejaVuSans-118\"/>\n     <use x=\"812.011719\" xlink:href=\"#DejaVuSans-97\"/>\n     <use x=\"873.291016\" xlink:href=\"#DejaVuSans-105\"/>\n     <use x=\"901.074219\" xlink:href=\"#DejaVuSans-108\"/>\n     <use x=\"928.857422\" xlink:href=\"#DejaVuSans-97\"/>\n     <use x=\"990.136719\" xlink:href=\"#DejaVuSans-98\"/>\n     <use x=\"1053.613281\" xlink:href=\"#DejaVuSans-108\"/>\n     <use x=\"1081.396484\" xlink:href=\"#DejaVuSans-101\"/>\n     <use x=\"1142.919922\" xlink:href=\"#DejaVuSans-32\"/>\n     <use x=\"1174.707031\" xlink:href=\"#DejaVuSans-97\"/>\n     <use x=\"1235.986328\" xlink:href=\"#DejaVuSans-114\"/>\n     <use x=\"1274.849609\" xlink:href=\"#DejaVuSans-101\"/>\n     <use x=\"1336.373047\" xlink:href=\"#DejaVuSans-32\"/>\n     <use x=\"1368.160156\" xlink:href=\"#DejaVuSans-112\"/>\n     <use x=\"1431.636719\" xlink:href=\"#DejaVuSans-111\"/>\n     <use x=\"1492.818359\" xlink:href=\"#DejaVuSans-119\"/>\n     <use x=\"1574.605469\" xlink:href=\"#DejaVuSans-101\"/>\n     <use x=\"1636.128906\" xlink:href=\"#DejaVuSans-114\"/>\n     <use x=\"1677.242188\" xlink:href=\"#DejaVuSans-108\"/>\n     <use x=\"1705.025391\" xlink:href=\"#DejaVuSans-105\"/>\n     <use x=\"1732.808594\" xlink:href=\"#DejaVuSans-110\"/>\n     <use x=\"1796.1875\" xlink:href=\"#DejaVuSans-101\"/>\n     <use x=\"1857.710938\" xlink:href=\"#DejaVuSans-32\"/>\n     <use x=\"1889.498047\" xlink:href=\"#DejaVuSans-97\"/>\n     <use x=\"1950.777344\" xlink:href=\"#DejaVuSans-110\"/>\n     <use x=\"2014.15625\" xlink:href=\"#DejaVuSans-100\"/>\n     <use x=\"2077.632812\" xlink:href=\"#DejaVuSans-32\"/>\n     <use x=\"2109.419922\" xlink:href=\"#DejaVuSans-116\"/>\n     <use x=\"2148.628906\" xlink:href=\"#DejaVuSans-111\"/>\n     <use x=\"2209.810547\" xlink:href=\"#DejaVuSans-112\"/>\n     <use x=\"2273.287109\" xlink:href=\"#DejaVuSans-111\"/>\n     <use x=\"2334.46875\" xlink:href=\"#DejaVuSans-108\"/>\n     <use x=\"2362.251953\" xlink:href=\"#DejaVuSans-111\"/>\n     <use x=\"2423.433594\" xlink:href=\"#DejaVuSans-103\"/>\n     <use x=\"2486.910156\" xlink:href=\"#DejaVuSans-121\"/>\n     <use x=\"2546.089844\" xlink:href=\"#DejaVuSans-32\"/>\n     <use x=\"2577.876953\" xlink:href=\"#DejaVuSans-99\"/>\n     <use x=\"2632.857422\" xlink:href=\"#DejaVuSans-104\"/>\n     <use x=\"2696.236328\" xlink:href=\"#DejaVuSans-97\"/>\n     <use x=\"2757.515625\" xlink:href=\"#DejaVuSans-110\"/>\n     <use x=\"2820.894531\" xlink:href=\"#DejaVuSans-103\"/>\n     <use x=\"2884.371094\" xlink:href=\"#DejaVuSans-101\"/>\n     <use x=\"2945.894531\" xlink:href=\"#DejaVuSans-41\"/>\n    </g>\n   </g>\n   <g id=\"legend_1\">\n    <g id=\"patch_7\">\n     <path d=\"M 315.364062 102.468 \nL 469.915625 102.468 \nQ 471.915625 102.468 471.915625 100.468 \nL 471.915625 42.7555 \nQ 471.915625 40.7555 469.915625 40.7555 \nL 315.364062 40.7555 \nQ 313.364062 40.7555 313.364062 42.7555 \nL 313.364062 100.468 \nQ 313.364062 102.468 315.364062 102.468 \nz\n\" style=\"fill:#ffffff;opacity:0.8;stroke:#cccccc;stroke-linejoin:miter;\"/>\n    </g>\n    <g id=\"line2d_27\">\n     <path d=\"M 317.364062 48.853937 \nL 337.364062 48.853937 \n\" style=\"fill:none;stroke:#1f77b4;stroke-linecap:square;stroke-width:1.5;\"/>\n    </g>\n    <g id=\"line2d_28\"/>\n    <g id=\"text_21\">\n     <!-- Do nothing agent -->\n     <defs>\n      <path d=\"M 19.671875 64.796875 \nL 19.671875 8.109375 \nL 31.59375 8.109375 \nQ 46.6875 8.109375 53.6875 14.9375 \nQ 60.6875 21.78125 60.6875 36.53125 \nQ 60.6875 51.171875 53.6875 57.984375 \nQ 46.6875 64.796875 31.59375 64.796875 \nz\nM 9.8125 72.90625 \nL 30.078125 72.90625 \nQ 51.265625 72.90625 61.171875 64.09375 \nQ 71.09375 55.28125 71.09375 36.53125 \nQ 71.09375 17.671875 61.125 8.828125 \nQ 51.171875 0 30.078125 0 \nL 9.8125 0 \nz\n\" id=\"DejaVuSans-68\"/>\n     </defs>\n     <g transform=\"translate(345.364062 52.353937)scale(0.1 -0.1)\">\n      <use xlink:href=\"#DejaVuSans-68\"/>\n      <use x=\"77.001953\" xlink:href=\"#DejaVuSans-111\"/>\n      <use x=\"138.183594\" xlink:href=\"#DejaVuSans-32\"/>\n      <use x=\"169.970703\" xlink:href=\"#DejaVuSans-110\"/>\n      <use x=\"233.349609\" xlink:href=\"#DejaVuSans-111\"/>\n      <use x=\"294.53125\" xlink:href=\"#DejaVuSans-116\"/>\n      <use x=\"333.740234\" xlink:href=\"#DejaVuSans-104\"/>\n      <use x=\"397.119141\" xlink:href=\"#DejaVuSans-105\"/>\n      <use x=\"424.902344\" xlink:href=\"#DejaVuSans-110\"/>\n      <use x=\"488.28125\" xlink:href=\"#DejaVuSans-103\"/>\n      <use x=\"551.757812\" xlink:href=\"#DejaVuSans-32\"/>\n      <use x=\"583.544922\" xlink:href=\"#DejaVuSans-97\"/>\n      <use x=\"644.824219\" xlink:href=\"#DejaVuSans-103\"/>\n      <use x=\"708.300781\" xlink:href=\"#DejaVuSans-101\"/>\n      <use x=\"769.824219\" xlink:href=\"#DejaVuSans-110\"/>\n      <use x=\"833.203125\" xlink:href=\"#DejaVuSans-116\"/>\n     </g>\n    </g>\n    <g id=\"line2d_29\">\n     <path d=\"M 317.364062 63.532062 \nL 337.364062 63.532062 \n\" style=\"fill:none;stroke:#ff7f0e;stroke-linecap:square;stroke-width:1.5;\"/>\n    </g>\n    <g id=\"line2d_30\"/>\n    <g id=\"text_22\">\n     <!-- Random actions agent -->\n     <g transform=\"translate(345.364062 67.032062)scale(0.1 -0.1)\">\n      <use xlink:href=\"#DejaVuSans-82\"/>\n      <use x=\"67.232422\" xlink:href=\"#DejaVuSans-97\"/>\n      <use x=\"128.511719\" xlink:href=\"#DejaVuSans-110\"/>\n      <use x=\"191.890625\" xlink:href=\"#DejaVuSans-100\"/>\n      <use x=\"255.367188\" xlink:href=\"#DejaVuSans-111\"/>\n      <use x=\"316.548828\" xlink:href=\"#DejaVuSans-109\"/>\n      <use x=\"413.960938\" xlink:href=\"#DejaVuSans-32\"/>\n      <use x=\"445.748047\" xlink:href=\"#DejaVuSans-97\"/>\n      <use x=\"507.027344\" xlink:href=\"#DejaVuSans-99\"/>\n      <use x=\"562.007812\" xlink:href=\"#DejaVuSans-116\"/>\n      <use x=\"601.216797\" xlink:href=\"#DejaVuSans-105\"/>\n      <use x=\"629\" xlink:href=\"#DejaVuSans-111\"/>\n      <use x=\"690.181641\" xlink:href=\"#DejaVuSans-110\"/>\n      <use x=\"753.560547\" xlink:href=\"#DejaVuSans-115\"/>\n      <use x=\"805.660156\" xlink:href=\"#DejaVuSans-32\"/>\n      <use x=\"837.447266\" xlink:href=\"#DejaVuSans-97\"/>\n      <use x=\"898.726562\" xlink:href=\"#DejaVuSans-103\"/>\n      <use x=\"962.203125\" xlink:href=\"#DejaVuSans-101\"/>\n      <use x=\"1023.726562\" xlink:href=\"#DejaVuSans-110\"/>\n      <use x=\"1087.105469\" xlink:href=\"#DejaVuSans-116\"/>\n     </g>\n    </g>\n    <g id=\"line2d_31\">\n     <path d=\"M 317.364062 78.210187 \nL 337.364062 78.210187 \n\" style=\"fill:none;stroke:#2ca02c;stroke-linecap:square;stroke-width:1.5;\"/>\n    </g>\n    <g id=\"line2d_32\"/>\n    <g id=\"text_23\">\n     <!-- Switch Power Line agent -->\n     <defs>\n      <path d=\"M 53.515625 70.515625 \nL 53.515625 60.890625 \nQ 47.90625 63.578125 42.921875 64.890625 \nQ 37.9375 66.21875 33.296875 66.21875 \nQ 25.25 66.21875 20.875 63.09375 \nQ 16.5 59.96875 16.5 54.203125 \nQ 16.5 49.359375 19.40625 46.890625 \nQ 22.3125 44.4375 30.421875 42.921875 \nL 36.375 41.703125 \nQ 47.40625 39.59375 52.65625 34.296875 \nQ 57.90625 29 57.90625 20.125 \nQ 57.90625 9.515625 50.796875 4.046875 \nQ 43.703125 -1.421875 29.984375 -1.421875 \nQ 24.8125 -1.421875 18.96875 -0.25 \nQ 13.140625 0.921875 6.890625 3.21875 \nL 6.890625 13.375 \nQ 12.890625 10.015625 18.65625 8.296875 \nQ 24.421875 6.59375 29.984375 6.59375 \nQ 38.421875 6.59375 43.015625 9.90625 \nQ 47.609375 13.234375 47.609375 19.390625 \nQ 47.609375 24.75 44.3125 27.78125 \nQ 41.015625 30.8125 33.5 32.328125 \nL 27.484375 33.5 \nQ 16.453125 35.6875 11.515625 40.375 \nQ 6.59375 45.0625 6.59375 53.421875 \nQ 6.59375 63.09375 13.40625 68.65625 \nQ 20.21875 74.21875 32.171875 74.21875 \nQ 37.3125 74.21875 42.625 73.28125 \nQ 47.953125 72.359375 53.515625 70.515625 \nz\n\" id=\"DejaVuSans-83\"/>\n      <path d=\"M 9.8125 72.90625 \nL 19.671875 72.90625 \nL 19.671875 8.296875 \nL 55.171875 8.296875 \nL 55.171875 0 \nL 9.8125 0 \nz\n\" id=\"DejaVuSans-76\"/>\n     </defs>\n     <g transform=\"translate(345.364062 81.710187)scale(0.1 -0.1)\">\n      <use xlink:href=\"#DejaVuSans-83\"/>\n      <use x=\"63.476562\" xlink:href=\"#DejaVuSans-119\"/>\n      <use x=\"145.263672\" xlink:href=\"#DejaVuSans-105\"/>\n      <use x=\"173.046875\" xlink:href=\"#DejaVuSans-116\"/>\n      <use x=\"212.255859\" xlink:href=\"#DejaVuSans-99\"/>\n      <use x=\"267.236328\" xlink:href=\"#DejaVuSans-104\"/>\n      <use x=\"330.615234\" xlink:href=\"#DejaVuSans-32\"/>\n      <use x=\"362.402344\" xlink:href=\"#DejaVuSans-80\"/>\n      <use x=\"419.080078\" xlink:href=\"#DejaVuSans-111\"/>\n      <use x=\"480.261719\" xlink:href=\"#DejaVuSans-119\"/>\n      <use x=\"562.048828\" xlink:href=\"#DejaVuSans-101\"/>\n      <use x=\"623.572266\" xlink:href=\"#DejaVuSans-114\"/>\n      <use x=\"664.685547\" xlink:href=\"#DejaVuSans-32\"/>\n      <use x=\"696.472656\" xlink:href=\"#DejaVuSans-76\"/>\n      <use x=\"752.185547\" xlink:href=\"#DejaVuSans-105\"/>\n      <use x=\"779.96875\" xlink:href=\"#DejaVuSans-110\"/>\n      <use x=\"843.347656\" xlink:href=\"#DejaVuSans-101\"/>\n      <use x=\"904.871094\" xlink:href=\"#DejaVuSans-32\"/>\n      <use x=\"936.658203\" xlink:href=\"#DejaVuSans-97\"/>\n      <use x=\"997.9375\" xlink:href=\"#DejaVuSans-103\"/>\n      <use x=\"1061.414062\" xlink:href=\"#DejaVuSans-101\"/>\n      <use x=\"1122.9375\" xlink:href=\"#DejaVuSans-110\"/>\n      <use x=\"1186.316406\" xlink:href=\"#DejaVuSans-116\"/>\n     </g>\n    </g>\n    <g id=\"line2d_33\">\n     <path d=\"M 317.364062 92.888312 \nL 337.364062 92.888312 \n\" style=\"fill:none;stroke:#d62728;stroke-linecap:square;stroke-width:1.5;\"/>\n    </g>\n    <g id=\"line2d_34\"/>\n    <g id=\"text_24\">\n     <!-- Double DQN Agent -->\n     <defs>\n      <path d=\"M 39.40625 66.21875 \nQ 28.65625 66.21875 22.328125 58.203125 \nQ 16.015625 50.203125 16.015625 36.375 \nQ 16.015625 22.609375 22.328125 14.59375 \nQ 28.65625 6.59375 39.40625 6.59375 \nQ 50.140625 6.59375 56.421875 14.59375 \nQ 62.703125 22.609375 62.703125 36.375 \nQ 62.703125 50.203125 56.421875 58.203125 \nQ 50.140625 66.21875 39.40625 66.21875 \nz\nM 53.21875 1.3125 \nL 66.21875 -12.890625 \nL 54.296875 -12.890625 \nL 43.5 -1.21875 \nQ 41.890625 -1.3125 41.03125 -1.359375 \nQ 40.1875 -1.421875 39.40625 -1.421875 \nQ 24.03125 -1.421875 14.8125 8.859375 \nQ 5.609375 19.140625 5.609375 36.375 \nQ 5.609375 53.65625 14.8125 63.9375 \nQ 24.03125 74.21875 39.40625 74.21875 \nQ 54.734375 74.21875 63.90625 63.9375 \nQ 73.09375 53.65625 73.09375 36.375 \nQ 73.09375 23.6875 67.984375 14.640625 \nQ 62.890625 5.609375 53.21875 1.3125 \nz\n\" id=\"DejaVuSans-81\"/>\n      <path d=\"M 9.8125 72.90625 \nL 23.09375 72.90625 \nL 55.421875 11.921875 \nL 55.421875 72.90625 \nL 64.984375 72.90625 \nL 64.984375 0 \nL 51.703125 0 \nL 19.390625 60.984375 \nL 19.390625 0 \nL 9.8125 0 \nz\n\" id=\"DejaVuSans-78\"/>\n      <path d=\"M 34.1875 63.1875 \nL 20.796875 26.90625 \nL 47.609375 26.90625 \nz\nM 28.609375 72.90625 \nL 39.796875 72.90625 \nL 67.578125 0 \nL 57.328125 0 \nL 50.6875 18.703125 \nL 17.828125 18.703125 \nL 11.1875 0 \nL 0.78125 0 \nz\n\" id=\"DejaVuSans-65\"/>\n     </defs>\n     <g transform=\"translate(345.364062 96.388312)scale(0.1 -0.1)\">\n      <use xlink:href=\"#DejaVuSans-68\"/>\n      <use x=\"77.001953\" xlink:href=\"#DejaVuSans-111\"/>\n      <use x=\"138.183594\" xlink:href=\"#DejaVuSans-117\"/>\n      <use x=\"201.5625\" xlink:href=\"#DejaVuSans-98\"/>\n      <use x=\"265.039062\" xlink:href=\"#DejaVuSans-108\"/>\n      <use x=\"292.822266\" xlink:href=\"#DejaVuSans-101\"/>\n      <use x=\"354.345703\" xlink:href=\"#DejaVuSans-32\"/>\n      <use x=\"386.132812\" xlink:href=\"#DejaVuSans-68\"/>\n      <use x=\"463.134766\" xlink:href=\"#DejaVuSans-81\"/>\n      <use x=\"541.845703\" xlink:href=\"#DejaVuSans-78\"/>\n      <use x=\"616.650391\" xlink:href=\"#DejaVuSans-32\"/>\n      <use x=\"648.4375\" xlink:href=\"#DejaVuSans-65\"/>\n      <use x=\"716.845703\" xlink:href=\"#DejaVuSans-103\"/>\n      <use x=\"780.322266\" xlink:href=\"#DejaVuSans-101\"/>\n      <use x=\"841.845703\" xlink:href=\"#DejaVuSans-110\"/>\n      <use x=\"905.224609\" xlink:href=\"#DejaVuSans-116\"/>\n     </g>\n    </g>\n   </g>\n  </g>\n </g>\n <defs>\n  <clipPath id=\"pd2da442dea\">\n   <rect height=\"276.4\" width=\"423.5875\" x=\"53.328125\" y=\"35.7555\"/>\n  </clipPath>\n </defs>\n</svg>\n",
            "image/png": "[encoded data removed]"
          },
          "metadata": {
            "needs_background": "light"
          }
        }
      ]
    },
    {
      "cell_type": "code",
      "metadata": {
        "id": "eiApUCyMg6yB"
      },
      "source": [
        "from grid2op.Runner import Runner\n",
        "\n",
        "NB_EPISODE = 1  # assess the performance for 10 episodes, for example\n",
        "NB_CORE = 1  # do it on 2 cores, for example\n",
        "PATH_SAVE = \"ddqn\"  # and store the results in the \"agents_log\" folder\n",
        "runner = Runner(**env.get_params_for_runner(), agentClass=DoNothingAgent)"
      ],
      "execution_count": 17,
      "outputs": []
    },
    {
      "cell_type": "code",
      "execution_count": 18,
      "metadata": {},
      "outputs": [
        {
          "output_type": "execute_result",
          "data": {
            "text/plain": [
              "[('/home/jorge/data_grid2op/rte_case14_realistic/chronics/000',\n",
              "  '000',\n",
              "  888427.5,\n",
              "  799,\n",
              "  8064)]"
            ]
          },
          "metadata": {},
          "execution_count": 18
        }
      ],
      "source": [
        "runner.run(nb_episode=NB_EPISODE, nb_process=NB_CORE, path_save=PATH_SAVE)"
      ]
    }
  ]
}