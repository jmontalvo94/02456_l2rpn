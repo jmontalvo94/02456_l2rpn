{
  "nbformat": 4,
  "nbformat_minor": 0,
  "metadata": {
    "colab": {
      "name": "DQN_playground_emil_",
      "provenance": [],
      "collapsed_sections": [],
      "mount_file_id": "1Dnb-IWdWxjr8BS3piNxJrv6rltWoflzo",
      "authorship_tag": "ABX9TyMerIMmYW4etfwquj3yBEz3",
      "include_colab_link": true
    },
    "kernelspec": {
      "name": "python3",
      "display_name": "Python 3"
    },
    "widgets": {
      "application/vnd.jupyter.widget-state+json": {
        "8cfc47727b2b410ab085903030aeaee8": {
          "model_module": "@jupyter-widgets/controls",
          "model_name": "HBoxModel",
          "state": {
            "_view_name": "HBoxView",
            "_dom_classes": [],
            "_model_name": "HBoxModel",
            "_view_module": "@jupyter-widgets/controls",
            "_model_module_version": "1.5.0",
            "_view_count": null,
            "_view_module_version": "1.5.0",
            "box_style": "",
            "layout": "IPY_MODEL_50ffab9370f444148ed04d88408dc142",
            "_model_module": "@jupyter-widgets/controls",
            "children": [
              "IPY_MODEL_5a8f5fa572394b0fa23e15f44a1231e3",
              "IPY_MODEL_39e963e67df84380836165d4bbd1363a",
              "IPY_MODEL_86b8086e02094e8586758c026085e7fd"
            ]
          }
        },
        "50ffab9370f444148ed04d88408dc142": {
          "model_module": "@jupyter-widgets/base",
          "model_name": "LayoutModel",
          "state": {
            "_view_name": "LayoutView",
            "grid_template_rows": null,
            "right": null,
            "justify_content": null,
            "_view_module": "@jupyter-widgets/base",
            "overflow": null,
            "_model_module_version": "1.2.0",
            "_view_count": null,
            "flex_flow": null,
            "width": null,
            "min_width": null,
            "border": null,
            "align_items": null,
            "bottom": null,
            "_model_module": "@jupyter-widgets/base",
            "top": null,
            "grid_column": null,
            "overflow_y": null,
            "overflow_x": null,
            "grid_auto_flow": null,
            "grid_area": null,
            "grid_template_columns": null,
            "flex": null,
            "_model_name": "LayoutModel",
            "justify_items": null,
            "grid_row": null,
            "max_height": null,
            "align_content": null,
            "visibility": null,
            "align_self": null,
            "height": null,
            "min_height": null,
            "padding": null,
            "grid_auto_rows": null,
            "grid_gap": null,
            "max_width": null,
            "order": null,
            "_view_module_version": "1.2.0",
            "grid_template_areas": null,
            "object_position": null,
            "object_fit": null,
            "grid_auto_columns": null,
            "margin": null,
            "display": null,
            "left": null
          }
        },
        "5a8f5fa572394b0fa23e15f44a1231e3": {
          "model_module": "@jupyter-widgets/controls",
          "model_name": "HTMLModel",
          "state": {
            "_view_name": "HTMLView",
            "style": "IPY_MODEL_4a5d8a8e6cd34dd29abcd32974345d98",
            "_dom_classes": [],
            "description": "",
            "_model_name": "HTMLModel",
            "placeholder": "​",
            "_view_module": "@jupyter-widgets/controls",
            "_model_module_version": "1.5.0",
            "value": " 14%",
            "_view_count": null,
            "_view_module_version": "1.5.0",
            "description_tooltip": null,
            "_model_module": "@jupyter-widgets/controls",
            "layout": "IPY_MODEL_256fec60890c4500bdd35fedf4548d23"
          }
        },
        "39e963e67df84380836165d4bbd1363a": {
          "model_module": "@jupyter-widgets/controls",
          "model_name": "FloatProgressModel",
          "state": {
            "_view_name": "ProgressView",
            "style": "IPY_MODEL_147f2cf9007f4cbda242577811bf7283",
            "_dom_classes": [],
            "description": "",
            "_model_name": "FloatProgressModel",
            "bar_style": "danger",
            "max": 8064,
            "_view_module": "@jupyter-widgets/controls",
            "_model_module_version": "1.5.0",
            "value": 1095,
            "_view_count": null,
            "_view_module_version": "1.5.0",
            "orientation": "horizontal",
            "min": 0,
            "description_tooltip": null,
            "_model_module": "@jupyter-widgets/controls",
            "layout": "IPY_MODEL_9303e5d985ac418793fce4036ef80aba"
          }
        },
        "86b8086e02094e8586758c026085e7fd": {
          "model_module": "@jupyter-widgets/controls",
          "model_name": "HTMLModel",
          "state": {
            "_view_name": "HTMLView",
            "style": "IPY_MODEL_d2a34af606f8429abf2d893e7e390e29",
            "_dom_classes": [],
            "description": "",
            "_model_name": "HTMLModel",
            "placeholder": "​",
            "_view_module": "@jupyter-widgets/controls",
            "_model_module_version": "1.5.0",
            "value": " 1095/8064 [04:20&lt;27:39,  4.20it/s]",
            "_view_count": null,
            "_view_module_version": "1.5.0",
            "description_tooltip": null,
            "_model_module": "@jupyter-widgets/controls",
            "layout": "IPY_MODEL_dcbe29ba5a7643ffb92ab02eb66e329a"
          }
        },
        "4a5d8a8e6cd34dd29abcd32974345d98": {
          "model_module": "@jupyter-widgets/controls",
          "model_name": "DescriptionStyleModel",
          "state": {
            "_view_name": "StyleView",
            "_model_name": "DescriptionStyleModel",
            "description_width": "",
            "_view_module": "@jupyter-widgets/base",
            "_model_module_version": "1.5.0",
            "_view_count": null,
            "_view_module_version": "1.2.0",
            "_model_module": "@jupyter-widgets/controls"
          }
        },
        "256fec60890c4500bdd35fedf4548d23": {
          "model_module": "@jupyter-widgets/base",
          "model_name": "LayoutModel",
          "state": {
            "_view_name": "LayoutView",
            "grid_template_rows": null,
            "right": null,
            "justify_content": null,
            "_view_module": "@jupyter-widgets/base",
            "overflow": null,
            "_model_module_version": "1.2.0",
            "_view_count": null,
            "flex_flow": null,
            "width": null,
            "min_width": null,
            "border": null,
            "align_items": null,
            "bottom": null,
            "_model_module": "@jupyter-widgets/base",
            "top": null,
            "grid_column": null,
            "overflow_y": null,
            "overflow_x": null,
            "grid_auto_flow": null,
            "grid_area": null,
            "grid_template_columns": null,
            "flex": null,
            "_model_name": "LayoutModel",
            "justify_items": null,
            "grid_row": null,
            "max_height": null,
            "align_content": null,
            "visibility": null,
            "align_self": null,
            "height": null,
            "min_height": null,
            "padding": null,
            "grid_auto_rows": null,
            "grid_gap": null,
            "max_width": null,
            "order": null,
            "_view_module_version": "1.2.0",
            "grid_template_areas": null,
            "object_position": null,
            "object_fit": null,
            "grid_auto_columns": null,
            "margin": null,
            "display": null,
            "left": null
          }
        },
        "147f2cf9007f4cbda242577811bf7283": {
          "model_module": "@jupyter-widgets/controls",
          "model_name": "ProgressStyleModel",
          "state": {
            "_view_name": "StyleView",
            "_model_name": "ProgressStyleModel",
            "description_width": "",
            "_view_module": "@jupyter-widgets/base",
            "_model_module_version": "1.5.0",
            "_view_count": null,
            "_view_module_version": "1.2.0",
            "bar_color": null,
            "_model_module": "@jupyter-widgets/controls"
          }
        },
        "9303e5d985ac418793fce4036ef80aba": {
          "model_module": "@jupyter-widgets/base",
          "model_name": "LayoutModel",
          "state": {
            "_view_name": "LayoutView",
            "grid_template_rows": null,
            "right": null,
            "justify_content": null,
            "_view_module": "@jupyter-widgets/base",
            "overflow": null,
            "_model_module_version": "1.2.0",
            "_view_count": null,
            "flex_flow": null,
            "width": null,
            "min_width": null,
            "border": null,
            "align_items": null,
            "bottom": null,
            "_model_module": "@jupyter-widgets/base",
            "top": null,
            "grid_column": null,
            "overflow_y": null,
            "overflow_x": null,
            "grid_auto_flow": null,
            "grid_area": null,
            "grid_template_columns": null,
            "flex": null,
            "_model_name": "LayoutModel",
            "justify_items": null,
            "grid_row": null,
            "max_height": null,
            "align_content": null,
            "visibility": null,
            "align_self": null,
            "height": null,
            "min_height": null,
            "padding": null,
            "grid_auto_rows": null,
            "grid_gap": null,
            "max_width": null,
            "order": null,
            "_view_module_version": "1.2.0",
            "grid_template_areas": null,
            "object_position": null,
            "object_fit": null,
            "grid_auto_columns": null,
            "margin": null,
            "display": null,
            "left": null
          }
        },
        "d2a34af606f8429abf2d893e7e390e29": {
          "model_module": "@jupyter-widgets/controls",
          "model_name": "DescriptionStyleModel",
          "state": {
            "_view_name": "StyleView",
            "_model_name": "DescriptionStyleModel",
            "description_width": "",
            "_view_module": "@jupyter-widgets/base",
            "_model_module_version": "1.5.0",
            "_view_count": null,
            "_view_module_version": "1.2.0",
            "_model_module": "@jupyter-widgets/controls"
          }
        },
        "dcbe29ba5a7643ffb92ab02eb66e329a": {
          "model_module": "@jupyter-widgets/base",
          "model_name": "LayoutModel",
          "state": {
            "_view_name": "LayoutView",
            "grid_template_rows": null,
            "right": null,
            "justify_content": null,
            "_view_module": "@jupyter-widgets/base",
            "overflow": null,
            "_model_module_version": "1.2.0",
            "_view_count": null,
            "flex_flow": null,
            "width": null,
            "min_width": null,
            "border": null,
            "align_items": null,
            "bottom": null,
            "_model_module": "@jupyter-widgets/base",
            "top": null,
            "grid_column": null,
            "overflow_y": null,
            "overflow_x": null,
            "grid_auto_flow": null,
            "grid_area": null,
            "grid_template_columns": null,
            "flex": null,
            "_model_name": "LayoutModel",
            "justify_items": null,
            "grid_row": null,
            "max_height": null,
            "align_content": null,
            "visibility": null,
            "align_self": null,
            "height": null,
            "min_height": null,
            "padding": null,
            "grid_auto_rows": null,
            "grid_gap": null,
            "max_width": null,
            "order": null,
            "_view_module_version": "1.2.0",
            "grid_template_areas": null,
            "object_position": null,
            "object_fit": null,
            "grid_auto_columns": null,
            "margin": null,
            "display": null,
            "left": null
          }
        },
        "b87281f99e35492aa335e9bad0dba23c": {
          "model_module": "@jupyter-widgets/controls",
          "model_name": "HBoxModel",
          "state": {
            "_view_name": "HBoxView",
            "_dom_classes": [],
            "_model_name": "HBoxModel",
            "_view_module": "@jupyter-widgets/controls",
            "_model_module_version": "1.5.0",
            "_view_count": null,
            "_view_module_version": "1.5.0",
            "box_style": "",
            "layout": "IPY_MODEL_407adceb7de7436b8c7369ac0d459936",
            "_model_module": "@jupyter-widgets/controls",
            "children": [
              "IPY_MODEL_2d1b7045963e48d1974eaa6387fe0e8e",
              "IPY_MODEL_93a4aeab7af449ad85f23b335b9c1e9f",
              "IPY_MODEL_eedc49d89ac24c37a627af602020c13b"
            ]
          }
        },
        "407adceb7de7436b8c7369ac0d459936": {
          "model_module": "@jupyter-widgets/base",
          "model_name": "LayoutModel",
          "state": {
            "_view_name": "LayoutView",
            "grid_template_rows": null,
            "right": null,
            "justify_content": null,
            "_view_module": "@jupyter-widgets/base",
            "overflow": null,
            "_model_module_version": "1.2.0",
            "_view_count": null,
            "flex_flow": null,
            "width": null,
            "min_width": null,
            "border": null,
            "align_items": null,
            "bottom": null,
            "_model_module": "@jupyter-widgets/base",
            "top": null,
            "grid_column": null,
            "overflow_y": null,
            "overflow_x": null,
            "grid_auto_flow": null,
            "grid_area": null,
            "grid_template_columns": null,
            "flex": null,
            "_model_name": "LayoutModel",
            "justify_items": null,
            "grid_row": null,
            "max_height": null,
            "align_content": null,
            "visibility": null,
            "align_self": null,
            "height": null,
            "min_height": null,
            "padding": null,
            "grid_auto_rows": null,
            "grid_gap": null,
            "max_width": null,
            "order": null,
            "_view_module_version": "1.2.0",
            "grid_template_areas": null,
            "object_position": null,
            "object_fit": null,
            "grid_auto_columns": null,
            "margin": null,
            "display": null,
            "left": null
          }
        },
        "2d1b7045963e48d1974eaa6387fe0e8e": {
          "model_module": "@jupyter-widgets/controls",
          "model_name": "HTMLModel",
          "state": {
            "_view_name": "HTMLView",
            "style": "IPY_MODEL_1affb8ea39d9457a83bb3330d4008155",
            "_dom_classes": [],
            "description": "",
            "_model_name": "HTMLModel",
            "placeholder": "​",
            "_view_module": "@jupyter-widgets/controls",
            "_model_module_version": "1.5.0",
            "value": "  0%",
            "_view_count": null,
            "_view_module_version": "1.5.0",
            "description_tooltip": null,
            "_model_module": "@jupyter-widgets/controls",
            "layout": "IPY_MODEL_335fec99f444485fa927b62c3ca86dc2"
          }
        },
        "93a4aeab7af449ad85f23b335b9c1e9f": {
          "model_module": "@jupyter-widgets/controls",
          "model_name": "FloatProgressModel",
          "state": {
            "_view_name": "ProgressView",
            "style": "IPY_MODEL_f16c57e9d51d429f9ab79ede73046e78",
            "_dom_classes": [],
            "description": "",
            "_model_name": "FloatProgressModel",
            "bar_style": "danger",
            "max": 8064,
            "_view_module": "@jupyter-widgets/controls",
            "_model_module_version": "1.5.0",
            "value": 4,
            "_view_count": null,
            "_view_module_version": "1.5.0",
            "orientation": "horizontal",
            "min": 0,
            "description_tooltip": null,
            "_model_module": "@jupyter-widgets/controls",
            "layout": "IPY_MODEL_76d2df8f2a5e40e18b6253a4dd58fcf9"
          }
        },
        "eedc49d89ac24c37a627af602020c13b": {
          "model_module": "@jupyter-widgets/controls",
          "model_name": "HTMLModel",
          "state": {
            "_view_name": "HTMLView",
            "style": "IPY_MODEL_bc4aa1168b1542399e00cb9086699946",
            "_dom_classes": [],
            "description": "",
            "_model_name": "HTMLModel",
            "placeholder": "​",
            "_view_module": "@jupyter-widgets/controls",
            "_model_module_version": "1.5.0",
            "value": " 4/8064 [03:14&lt;108:36:48, 48.51s/it]",
            "_view_count": null,
            "_view_module_version": "1.5.0",
            "description_tooltip": null,
            "_model_module": "@jupyter-widgets/controls",
            "layout": "IPY_MODEL_7968aae88cb94414b011d87757e7b7f3"
          }
        },
        "1affb8ea39d9457a83bb3330d4008155": {
          "model_module": "@jupyter-widgets/controls",
          "model_name": "DescriptionStyleModel",
          "state": {
            "_view_name": "StyleView",
            "_model_name": "DescriptionStyleModel",
            "description_width": "",
            "_view_module": "@jupyter-widgets/base",
            "_model_module_version": "1.5.0",
            "_view_count": null,
            "_view_module_version": "1.2.0",
            "_model_module": "@jupyter-widgets/controls"
          }
        },
        "335fec99f444485fa927b62c3ca86dc2": {
          "model_module": "@jupyter-widgets/base",
          "model_name": "LayoutModel",
          "state": {
            "_view_name": "LayoutView",
            "grid_template_rows": null,
            "right": null,
            "justify_content": null,
            "_view_module": "@jupyter-widgets/base",
            "overflow": null,
            "_model_module_version": "1.2.0",
            "_view_count": null,
            "flex_flow": null,
            "width": null,
            "min_width": null,
            "border": null,
            "align_items": null,
            "bottom": null,
            "_model_module": "@jupyter-widgets/base",
            "top": null,
            "grid_column": null,
            "overflow_y": null,
            "overflow_x": null,
            "grid_auto_flow": null,
            "grid_area": null,
            "grid_template_columns": null,
            "flex": null,
            "_model_name": "LayoutModel",
            "justify_items": null,
            "grid_row": null,
            "max_height": null,
            "align_content": null,
            "visibility": null,
            "align_self": null,
            "height": null,
            "min_height": null,
            "padding": null,
            "grid_auto_rows": null,
            "grid_gap": null,
            "max_width": null,
            "order": null,
            "_view_module_version": "1.2.0",
            "grid_template_areas": null,
            "object_position": null,
            "object_fit": null,
            "grid_auto_columns": null,
            "margin": null,
            "display": null,
            "left": null
          }
        },
        "f16c57e9d51d429f9ab79ede73046e78": {
          "model_module": "@jupyter-widgets/controls",
          "model_name": "ProgressStyleModel",
          "state": {
            "_view_name": "StyleView",
            "_model_name": "ProgressStyleModel",
            "description_width": "",
            "_view_module": "@jupyter-widgets/base",
            "_model_module_version": "1.5.0",
            "_view_count": null,
            "_view_module_version": "1.2.0",
            "bar_color": null,
            "_model_module": "@jupyter-widgets/controls"
          }
        },
        "76d2df8f2a5e40e18b6253a4dd58fcf9": {
          "model_module": "@jupyter-widgets/base",
          "model_name": "LayoutModel",
          "state": {
            "_view_name": "LayoutView",
            "grid_template_rows": null,
            "right": null,
            "justify_content": null,
            "_view_module": "@jupyter-widgets/base",
            "overflow": null,
            "_model_module_version": "1.2.0",
            "_view_count": null,
            "flex_flow": null,
            "width": null,
            "min_width": null,
            "border": null,
            "align_items": null,
            "bottom": null,
            "_model_module": "@jupyter-widgets/base",
            "top": null,
            "grid_column": null,
            "overflow_y": null,
            "overflow_x": null,
            "grid_auto_flow": null,
            "grid_area": null,
            "grid_template_columns": null,
            "flex": null,
            "_model_name": "LayoutModel",
            "justify_items": null,
            "grid_row": null,
            "max_height": null,
            "align_content": null,
            "visibility": null,
            "align_self": null,
            "height": null,
            "min_height": null,
            "padding": null,
            "grid_auto_rows": null,
            "grid_gap": null,
            "max_width": null,
            "order": null,
            "_view_module_version": "1.2.0",
            "grid_template_areas": null,
            "object_position": null,
            "object_fit": null,
            "grid_auto_columns": null,
            "margin": null,
            "display": null,
            "left": null
          }
        },
        "bc4aa1168b1542399e00cb9086699946": {
          "model_module": "@jupyter-widgets/controls",
          "model_name": "DescriptionStyleModel",
          "state": {
            "_view_name": "StyleView",
            "_model_name": "DescriptionStyleModel",
            "description_width": "",
            "_view_module": "@jupyter-widgets/base",
            "_model_module_version": "1.5.0",
            "_view_count": null,
            "_view_module_version": "1.2.0",
            "_model_module": "@jupyter-widgets/controls"
          }
        },
        "7968aae88cb94414b011d87757e7b7f3": {
          "model_module": "@jupyter-widgets/base",
          "model_name": "LayoutModel",
          "state": {
            "_view_name": "LayoutView",
            "grid_template_rows": null,
            "right": null,
            "justify_content": null,
            "_view_module": "@jupyter-widgets/base",
            "overflow": null,
            "_model_module_version": "1.2.0",
            "_view_count": null,
            "flex_flow": null,
            "width": null,
            "min_width": null,
            "border": null,
            "align_items": null,
            "bottom": null,
            "_model_module": "@jupyter-widgets/base",
            "top": null,
            "grid_column": null,
            "overflow_y": null,
            "overflow_x": null,
            "grid_auto_flow": null,
            "grid_area": null,
            "grid_template_columns": null,
            "flex": null,
            "_model_name": "LayoutModel",
            "justify_items": null,
            "grid_row": null,
            "max_height": null,
            "align_content": null,
            "visibility": null,
            "align_self": null,
            "height": null,
            "min_height": null,
            "padding": null,
            "grid_auto_rows": null,
            "grid_gap": null,
            "max_width": null,
            "order": null,
            "_view_module_version": "1.2.0",
            "grid_template_areas": null,
            "object_position": null,
            "object_fit": null,
            "grid_auto_columns": null,
            "margin": null,
            "display": null,
            "left": null
          }
        },
        "32159d0cf0264b239f773f59606528bc": {
          "model_module": "@jupyter-widgets/controls",
          "model_name": "HBoxModel",
          "state": {
            "_view_name": "HBoxView",
            "_dom_classes": [],
            "_model_name": "HBoxModel",
            "_view_module": "@jupyter-widgets/controls",
            "_model_module_version": "1.5.0",
            "_view_count": null,
            "_view_module_version": "1.5.0",
            "box_style": "",
            "layout": "IPY_MODEL_360fb3b44bee4207b337fe638078e429",
            "_model_module": "@jupyter-widgets/controls",
            "children": [
              "IPY_MODEL_cb7058cc89a34abba82ac8ddf492322b",
              "IPY_MODEL_acaf65ad599848afba55df629175d180",
              "IPY_MODEL_24b59764501d435ebaee4fc3bfb53e01"
            ]
          }
        },
        "360fb3b44bee4207b337fe638078e429": {
          "model_module": "@jupyter-widgets/base",
          "model_name": "LayoutModel",
          "state": {
            "_view_name": "LayoutView",
            "grid_template_rows": null,
            "right": null,
            "justify_content": null,
            "_view_module": "@jupyter-widgets/base",
            "overflow": null,
            "_model_module_version": "1.2.0",
            "_view_count": null,
            "flex_flow": null,
            "width": null,
            "min_width": null,
            "border": null,
            "align_items": null,
            "bottom": null,
            "_model_module": "@jupyter-widgets/base",
            "top": null,
            "grid_column": null,
            "overflow_y": null,
            "overflow_x": null,
            "grid_auto_flow": null,
            "grid_area": null,
            "grid_template_columns": null,
            "flex": null,
            "_model_name": "LayoutModel",
            "justify_items": null,
            "grid_row": null,
            "max_height": null,
            "align_content": null,
            "visibility": null,
            "align_self": null,
            "height": null,
            "min_height": null,
            "padding": null,
            "grid_auto_rows": null,
            "grid_gap": null,
            "max_width": null,
            "order": null,
            "_view_module_version": "1.2.0",
            "grid_template_areas": null,
            "object_position": null,
            "object_fit": null,
            "grid_auto_columns": null,
            "margin": null,
            "display": null,
            "left": null
          }
        },
        "cb7058cc89a34abba82ac8ddf492322b": {
          "model_module": "@jupyter-widgets/controls",
          "model_name": "HTMLModel",
          "state": {
            "_view_name": "HTMLView",
            "style": "IPY_MODEL_fa5083ef8517463ba375328beb206f4c",
            "_dom_classes": [],
            "description": "",
            "_model_name": "HTMLModel",
            "placeholder": "​",
            "_view_module": "@jupyter-widgets/controls",
            "_model_module_version": "1.5.0",
            "value": "  3%",
            "_view_count": null,
            "_view_module_version": "1.5.0",
            "description_tooltip": null,
            "_model_module": "@jupyter-widgets/controls",
            "layout": "IPY_MODEL_db4b761bdf9f4f61ad256e16f2560cc0"
          }
        },
        "acaf65ad599848afba55df629175d180": {
          "model_module": "@jupyter-widgets/controls",
          "model_name": "FloatProgressModel",
          "state": {
            "_view_name": "ProgressView",
            "style": "IPY_MODEL_4c4274e294004722a95c0e00f71b682d",
            "_dom_classes": [],
            "description": "",
            "_model_name": "FloatProgressModel",
            "bar_style": "danger",
            "max": 8064,
            "_view_module": "@jupyter-widgets/controls",
            "_model_module_version": "1.5.0",
            "value": 274,
            "_view_count": null,
            "_view_module_version": "1.5.0",
            "orientation": "horizontal",
            "min": 0,
            "description_tooltip": null,
            "_model_module": "@jupyter-widgets/controls",
            "layout": "IPY_MODEL_07d663824b9b446a97a590130b148a76"
          }
        },
        "24b59764501d435ebaee4fc3bfb53e01": {
          "model_module": "@jupyter-widgets/controls",
          "model_name": "HTMLModel",
          "state": {
            "_view_name": "HTMLView",
            "style": "IPY_MODEL_2cac021aff7b444d91416aeb25ac8c70",
            "_dom_classes": [],
            "description": "",
            "_model_name": "HTMLModel",
            "placeholder": "​",
            "_view_module": "@jupyter-widgets/controls",
            "_model_module_version": "1.5.0",
            "value": " 274/8064 [02:38&lt;1:15:00,  1.73it/s]",
            "_view_count": null,
            "_view_module_version": "1.5.0",
            "description_tooltip": null,
            "_model_module": "@jupyter-widgets/controls",
            "layout": "IPY_MODEL_b04d25664f76421085a8dc7e32e69657"
          }
        },
        "fa5083ef8517463ba375328beb206f4c": {
          "model_module": "@jupyter-widgets/controls",
          "model_name": "DescriptionStyleModel",
          "state": {
            "_view_name": "StyleView",
            "_model_name": "DescriptionStyleModel",
            "description_width": "",
            "_view_module": "@jupyter-widgets/base",
            "_model_module_version": "1.5.0",
            "_view_count": null,
            "_view_module_version": "1.2.0",
            "_model_module": "@jupyter-widgets/controls"
          }
        },
        "db4b761bdf9f4f61ad256e16f2560cc0": {
          "model_module": "@jupyter-widgets/base",
          "model_name": "LayoutModel",
          "state": {
            "_view_name": "LayoutView",
            "grid_template_rows": null,
            "right": null,
            "justify_content": null,
            "_view_module": "@jupyter-widgets/base",
            "overflow": null,
            "_model_module_version": "1.2.0",
            "_view_count": null,
            "flex_flow": null,
            "width": null,
            "min_width": null,
            "border": null,
            "align_items": null,
            "bottom": null,
            "_model_module": "@jupyter-widgets/base",
            "top": null,
            "grid_column": null,
            "overflow_y": null,
            "overflow_x": null,
            "grid_auto_flow": null,
            "grid_area": null,
            "grid_template_columns": null,
            "flex": null,
            "_model_name": "LayoutModel",
            "justify_items": null,
            "grid_row": null,
            "max_height": null,
            "align_content": null,
            "visibility": null,
            "align_self": null,
            "height": null,
            "min_height": null,
            "padding": null,
            "grid_auto_rows": null,
            "grid_gap": null,
            "max_width": null,
            "order": null,
            "_view_module_version": "1.2.0",
            "grid_template_areas": null,
            "object_position": null,
            "object_fit": null,
            "grid_auto_columns": null,
            "margin": null,
            "display": null,
            "left": null
          }
        },
        "4c4274e294004722a95c0e00f71b682d": {
          "model_module": "@jupyter-widgets/controls",
          "model_name": "ProgressStyleModel",
          "state": {
            "_view_name": "StyleView",
            "_model_name": "ProgressStyleModel",
            "description_width": "",
            "_view_module": "@jupyter-widgets/base",
            "_model_module_version": "1.5.0",
            "_view_count": null,
            "_view_module_version": "1.2.0",
            "bar_color": null,
            "_model_module": "@jupyter-widgets/controls"
          }
        },
        "07d663824b9b446a97a590130b148a76": {
          "model_module": "@jupyter-widgets/base",
          "model_name": "LayoutModel",
          "state": {
            "_view_name": "LayoutView",
            "grid_template_rows": null,
            "right": null,
            "justify_content": null,
            "_view_module": "@jupyter-widgets/base",
            "overflow": null,
            "_model_module_version": "1.2.0",
            "_view_count": null,
            "flex_flow": null,
            "width": null,
            "min_width": null,
            "border": null,
            "align_items": null,
            "bottom": null,
            "_model_module": "@jupyter-widgets/base",
            "top": null,
            "grid_column": null,
            "overflow_y": null,
            "overflow_x": null,
            "grid_auto_flow": null,
            "grid_area": null,
            "grid_template_columns": null,
            "flex": null,
            "_model_name": "LayoutModel",
            "justify_items": null,
            "grid_row": null,
            "max_height": null,
            "align_content": null,
            "visibility": null,
            "align_self": null,
            "height": null,
            "min_height": null,
            "padding": null,
            "grid_auto_rows": null,
            "grid_gap": null,
            "max_width": null,
            "order": null,
            "_view_module_version": "1.2.0",
            "grid_template_areas": null,
            "object_position": null,
            "object_fit": null,
            "grid_auto_columns": null,
            "margin": null,
            "display": null,
            "left": null
          }
        },
        "2cac021aff7b444d91416aeb25ac8c70": {
          "model_module": "@jupyter-widgets/controls",
          "model_name": "DescriptionStyleModel",
          "state": {
            "_view_name": "StyleView",
            "_model_name": "DescriptionStyleModel",
            "description_width": "",
            "_view_module": "@jupyter-widgets/base",
            "_model_module_version": "1.5.0",
            "_view_count": null,
            "_view_module_version": "1.2.0",
            "_model_module": "@jupyter-widgets/controls"
          }
        },
        "b04d25664f76421085a8dc7e32e69657": {
          "model_module": "@jupyter-widgets/base",
          "model_name": "LayoutModel",
          "state": {
            "_view_name": "LayoutView",
            "grid_template_rows": null,
            "right": null,
            "justify_content": null,
            "_view_module": "@jupyter-widgets/base",
            "overflow": null,
            "_model_module_version": "1.2.0",
            "_view_count": null,
            "flex_flow": null,
            "width": null,
            "min_width": null,
            "border": null,
            "align_items": null,
            "bottom": null,
            "_model_module": "@jupyter-widgets/base",
            "top": null,
            "grid_column": null,
            "overflow_y": null,
            "overflow_x": null,
            "grid_auto_flow": null,
            "grid_area": null,
            "grid_template_columns": null,
            "flex": null,
            "_model_name": "LayoutModel",
            "justify_items": null,
            "grid_row": null,
            "max_height": null,
            "align_content": null,
            "visibility": null,
            "align_self": null,
            "height": null,
            "min_height": null,
            "padding": null,
            "grid_auto_rows": null,
            "grid_gap": null,
            "max_width": null,
            "order": null,
            "_view_module_version": "1.2.0",
            "grid_template_areas": null,
            "object_position": null,
            "object_fit": null,
            "grid_auto_columns": null,
            "margin": null,
            "display": null,
            "left": null
          }
        }
      }
    }
  },
  "cells": [
    {
      "cell_type": "markdown",
      "metadata": {
        "id": "view-in-github",
        "colab_type": "text"
      },
      "source": [
        "<a href=\"https://colab.research.google.com/github/jmontalvo94/02456_l2rpn/blob/main/DQN_playground_emil_.ipynb\" target=\"_parent\"><img src=\"https://colab.research.google.com/assets/colab-badge.svg\" alt=\"Open In Colab\"/></a>"
      ]
    },
    {
      "cell_type": "code",
      "metadata": {
        "id": "12yOFgca_XJ6",
        "outputId": "5d6bc236-98ec-4c2c-aa9b-653b9437bc5d",
        "colab": {
          "base_uri": "https://localhost:8080/"
        }
      },
      "source": [
        "%cd /content/drive/My\\ Drive/Colab\\ Notebooks/DEEP_LEARNING_DTU/project/\\02456_l2rpn/\n",
        "#!git pull\n",
        "!pip install grid2op\n",
        "\n",
        "import agent\n",
        "import grid2op\n",
        "import re\n",
        "import numpy as np\n",
        "import pandas as pd\n",
        "from grid2op.Chronics import GridStateFromFileWithForecasts\n",
        "from grid2op.Agent import DoNothingAgent,RandomAgent,PowerLineSwitch\n",
        "from grid2op.Action import DontAct,PowerlineChangeAction\n",
        "from grid2op.PlotGrid import PlotMatplot\n",
        "from tqdm.notebook import tqdm "
      ],
      "execution_count": 6,
      "outputs": [
        {
          "output_type": "stream",
          "text": [
            "/content/drive/My Drive/Colab Notebooks/DEEP_LEARNING_DTU/project/02456_l2rpn\n",
            "Requirement already satisfied: grid2op in /usr/local/lib/python3.6/dist-packages (1.3.1)\n",
            "Requirement already satisfied: scipy>=1.4.1 in /usr/local/lib/python3.6/dist-packages (from grid2op) (1.4.1)\n",
            "Requirement already satisfied: numpy>=1.18.3 in /usr/local/lib/python3.6/dist-packages (from grid2op) (1.18.5)\n",
            "Requirement already satisfied: pathlib>=1.0.1 in /usr/local/lib/python3.6/dist-packages (from grid2op) (1.0.1)\n",
            "Requirement already satisfied: requests>=2.23.0 in /usr/local/lib/python3.6/dist-packages (from grid2op) (2.23.0)\n",
            "Requirement already satisfied: pandapower>=2.2.2 in /usr/local/lib/python3.6/dist-packages (from grid2op) (2.4.0)\n",
            "Requirement already satisfied: tqdm>=4.45.0 in /usr/local/lib/python3.6/dist-packages (from grid2op) (4.52.0)\n",
            "Requirement already satisfied: pandas>=1.0.3 in /usr/local/lib/python3.6/dist-packages (from grid2op) (1.1.4)\n",
            "Requirement already satisfied: networkx>=2.4 in /usr/local/lib/python3.6/dist-packages (from grid2op) (2.5)\n",
            "Requirement already satisfied: idna<3,>=2.5 in /usr/local/lib/python3.6/dist-packages (from requests>=2.23.0->grid2op) (2.10)\n",
            "Requirement already satisfied: chardet<4,>=3.0.2 in /usr/local/lib/python3.6/dist-packages (from requests>=2.23.0->grid2op) (3.0.4)\n",
            "Requirement already satisfied: urllib3!=1.25.0,!=1.25.1,<1.26,>=1.21.1 in /usr/local/lib/python3.6/dist-packages (from requests>=2.23.0->grid2op) (1.24.3)\n",
            "Requirement already satisfied: certifi>=2017.4.17 in /usr/local/lib/python3.6/dist-packages (from requests>=2.23.0->grid2op) (2020.6.20)\n",
            "Requirement already satisfied: packaging in /usr/local/lib/python3.6/dist-packages (from pandapower>=2.2.2->grid2op) (20.4)\n",
            "Requirement already satisfied: xlsxwriter in /usr/local/lib/python3.6/dist-packages (from pandapower>=2.2.2->grid2op) (1.3.7)\n",
            "Requirement already satisfied: cryptography in /usr/local/lib/python3.6/dist-packages (from pandapower>=2.2.2->grid2op) (3.2.1)\n",
            "Requirement already satisfied: xlrd in /usr/local/lib/python3.6/dist-packages (from pandapower>=2.2.2->grid2op) (1.1.0)\n",
            "Requirement already satisfied: pytz>=2017.2 in /usr/local/lib/python3.6/dist-packages (from pandas>=1.0.3->grid2op) (2018.9)\n",
            "Requirement already satisfied: python-dateutil>=2.7.3 in /usr/local/lib/python3.6/dist-packages (from pandas>=1.0.3->grid2op) (2.8.1)\n",
            "Requirement already satisfied: decorator>=4.3.0 in /usr/local/lib/python3.6/dist-packages (from networkx>=2.4->grid2op) (4.4.2)\n",
            "Requirement already satisfied: six in /usr/local/lib/python3.6/dist-packages (from packaging->pandapower>=2.2.2->grid2op) (1.15.0)\n",
            "Requirement already satisfied: pyparsing>=2.0.2 in /usr/local/lib/python3.6/dist-packages (from packaging->pandapower>=2.2.2->grid2op) (2.4.7)\n",
            "Requirement already satisfied: cffi!=1.11.3,>=1.8 in /usr/local/lib/python3.6/dist-packages (from cryptography->pandapower>=2.2.2->grid2op) (1.14.3)\n",
            "Requirement already satisfied: pycparser in /usr/local/lib/python3.6/dist-packages (from cffi!=1.11.3,>=1.8->cryptography->pandapower>=2.2.2->grid2op) (2.20)\n"
          ],
          "name": "stdout"
        }
      ]
    },
    {
      "cell_type": "markdown",
      "metadata": {
        "id": "4gkYjnRfJHm_"
      },
      "source": [
        "# CREATE ENVIROMENT"
      ]
    },
    {
      "cell_type": "code",
      "metadata": {
        "id": "2aDnlLjJJKwx"
      },
      "source": [
        "env = grid2op.make('rte_case14_realistic',\n",
        "                   action_class=PowerlineChangeAction)"
      ],
      "execution_count": 7,
      "outputs": []
    },
    {
      "cell_type": "markdown",
      "metadata": {
        "id": "-xSw0pzHJOdn"
      },
      "source": [
        "# PRE-BUILT AGENT: DO NOTHING AGENT"
      ]
    },
    {
      "cell_type": "code",
      "metadata": {
        "id": "jrDcuB7_zvuO",
        "outputId": "0d2d76be-345e-4e21-9988-a00aeb55f2bc",
        "colab": {
          "base_uri": "https://localhost:8080/",
          "height": 82,
          "referenced_widgets": [
            "8cfc47727b2b410ab085903030aeaee8",
            "50ffab9370f444148ed04d88408dc142",
            "5a8f5fa572394b0fa23e15f44a1231e3",
            "39e963e67df84380836165d4bbd1363a",
            "86b8086e02094e8586758c026085e7fd",
            "4a5d8a8e6cd34dd29abcd32974345d98",
            "256fec60890c4500bdd35fedf4548d23",
            "147f2cf9007f4cbda242577811bf7283",
            "9303e5d985ac418793fce4036ef80aba",
            "d2a34af606f8429abf2d893e7e390e29",
            "dcbe29ba5a7643ffb92ab02eb66e329a"
          ]
        }
      },
      "source": [
        "my_agent = DoNothingAgent(env.action_space)\n",
        "all_obs = []\n",
        "obs = env.reset()\n",
        "all_obs.append(obs)\n",
        "reward = env.reward_range[0]\n",
        "reward_list = []\n",
        "done = False\n",
        "nb_step = 0\n",
        "print(\"Do Nothing Agent Simulation\")\n",
        "with tqdm(total=env.chronics_handler.max_timestep()) as pbar:\n",
        "    while True:\n",
        "        action = my_agent.act(obs, reward, done)\n",
        "        obs, reward, done, _ = env.step(action)\n",
        "        reward_list.append(reward)\n",
        "        pbar.update(1)\n",
        "        if done:\n",
        "            break\n",
        "        all_obs.append(obs)\n",
        "        nb_step += 1\n",
        "\n",
        "reward_list_do_nothing_agent = np.copy(reward_list)\n"
      ],
      "execution_count": 9,
      "outputs": [
        {
          "output_type": "stream",
          "text": [
            "Do Nothing Agent Simulation\n"
          ],
          "name": "stdout"
        },
        {
          "output_type": "display_data",
          "data": {
            "application/vnd.jupyter.widget-view+json": {
              "model_id": "8cfc47727b2b410ab085903030aeaee8",
              "version_minor": 0,
              "version_major": 2
            },
            "text/plain": [
              "HBox(children=(HTML(value=''), FloatProgress(value=0.0, max=8064.0), HTML(value='')))"
            ]
          },
          "metadata": {
            "tags": []
          }
        },
        {
          "output_type": "stream",
          "text": [
            "\n"
          ],
          "name": "stdout"
        }
      ]
    },
    {
      "cell_type": "markdown",
      "metadata": {
        "id": "Yuzy6V3dLeBh"
      },
      "source": [
        "# PRE-BUILT AGENT: RANDOM ACTION AGENT"
      ]
    },
    {
      "cell_type": "code",
      "metadata": {
        "id": "PdiVQrzC1rf8",
        "outputId": "18d78afa-17b7-484f-c091-5affee4130a3",
        "colab": {
          "base_uri": "https://localhost:8080/",
          "height": 82,
          "referenced_widgets": [
            "b87281f99e35492aa335e9bad0dba23c",
            "407adceb7de7436b8c7369ac0d459936",
            "2d1b7045963e48d1974eaa6387fe0e8e",
            "93a4aeab7af449ad85f23b335b9c1e9f",
            "eedc49d89ac24c37a627af602020c13b",
            "1affb8ea39d9457a83bb3330d4008155",
            "335fec99f444485fa927b62c3ca86dc2",
            "f16c57e9d51d429f9ab79ede73046e78",
            "76d2df8f2a5e40e18b6253a4dd58fcf9",
            "bc4aa1168b1542399e00cb9086699946",
            "7968aae88cb94414b011d87757e7b7f3"
          ]
        }
      },
      "source": [
        "my_agent = RandomAgent(env.action_space)\n",
        "all_obs = []\n",
        "obs = env.reset()\n",
        "all_obs.append(obs)\n",
        "reward = env.reward_range[0]\n",
        "reward_list = []\n",
        "done = False\n",
        "nb_step = 0\n",
        "print(\"Random Agent Simulation\")\n",
        "with tqdm(total=env.chronics_handler.max_timestep()) as pbar:\n",
        "    while True:\n",
        "        action = my_agent.act(obs, reward, done)\n",
        "        obs, reward, done, _ = env.step(action)\n",
        "        reward_list.append(reward)\n",
        "        pbar.update(1)\n",
        "        if done:\n",
        "            break\n",
        "        all_obs.append(obs)\n",
        "        nb_step += 1\n",
        "\n",
        "reward_list_random_agent = np.copy(reward_list)\n"
      ],
      "execution_count": 12,
      "outputs": [
        {
          "output_type": "stream",
          "text": [
            "Random Agent Simulation\n"
          ],
          "name": "stdout"
        },
        {
          "output_type": "display_data",
          "data": {
            "application/vnd.jupyter.widget-view+json": {
              "model_id": "b87281f99e35492aa335e9bad0dba23c",
              "version_minor": 0,
              "version_major": 2
            },
            "text/plain": [
              "HBox(children=(HTML(value=''), FloatProgress(value=0.0, max=8064.0), HTML(value='')))"
            ]
          },
          "metadata": {
            "tags": []
          }
        },
        {
          "output_type": "stream",
          "text": [
            "\n"
          ],
          "name": "stdout"
        }
      ]
    },
    {
      "cell_type": "markdown",
      "metadata": {
        "id": "DkG0bNV2LgDj"
      },
      "source": [
        "# PRE-BUILT AGENT: POWER SWITCH AGENT"
      ]
    },
    {
      "cell_type": "code",
      "metadata": {
        "id": "ODbKAS9y3I4r",
        "outputId": "ed7f6f09-1801-4103-d179-332f6e002d58",
        "colab": {
          "base_uri": "https://localhost:8080/",
          "height": 82,
          "referenced_widgets": [
            "32159d0cf0264b239f773f59606528bc",
            "360fb3b44bee4207b337fe638078e429",
            "cb7058cc89a34abba82ac8ddf492322b",
            "acaf65ad599848afba55df629175d180",
            "24b59764501d435ebaee4fc3bfb53e01",
            "fa5083ef8517463ba375328beb206f4c",
            "db4b761bdf9f4f61ad256e16f2560cc0",
            "4c4274e294004722a95c0e00f71b682d",
            "07d663824b9b446a97a590130b148a76",
            "2cac021aff7b444d91416aeb25ac8c70",
            "b04d25664f76421085a8dc7e32e69657"
          ]
        }
      },
      "source": [
        "env_all_actions_available = grid2op.make('rte_case14_realistic')\n",
        "my_agent = PowerLineSwitch(env_all_actions_available.action_space)\n",
        "all_obs = []\n",
        "obs = env_all_actions_available.reset()\n",
        "all_obs.append(obs)\n",
        "reward = env_all_actions_available.reward_range[0]\n",
        "reward_list = []\n",
        "done = False\n",
        "nb_step = 0\n",
        "print(\"Power Line Switch Agent Simulation\")\n",
        "with tqdm(total=env_all_actions_available.chronics_handler.max_timestep()) as pbar:\n",
        "    while True:\n",
        "        action = my_agent.act(obs, reward, done)\n",
        "        obs, reward, done, _ = env_all_actions_available.step(action)\n",
        "        reward_list.append(reward)\n",
        "        pbar.update(1)\n",
        "        if done:\n",
        "            break\n",
        "        all_obs.append(obs)\n",
        "        nb_step += 1\n",
        "\n",
        "reward_power_line_switch_agent = np.copy(reward_list)\n"
      ],
      "execution_count": 15,
      "outputs": [
        {
          "output_type": "stream",
          "text": [
            "Power Line Switch Agent Simulation\n"
          ],
          "name": "stdout"
        },
        {
          "output_type": "display_data",
          "data": {
            "application/vnd.jupyter.widget-view+json": {
              "model_id": "32159d0cf0264b239f773f59606528bc",
              "version_minor": 0,
              "version_major": 2
            },
            "text/plain": [
              "HBox(children=(HTML(value=''), FloatProgress(value=0.0, max=8064.0), HTML(value='')))"
            ]
          },
          "metadata": {
            "tags": []
          }
        },
        {
          "output_type": "stream",
          "text": [
            "\n"
          ],
          "name": "stdout"
        }
      ]
    },
    {
      "cell_type": "markdown",
      "metadata": {
        "id": "csrcnm9ALjRA"
      },
      "source": [
        "# GRAPHICAL COMPARISON OF PRE-BUILT AGENTS"
      ]
    },
    {
      "cell_type": "code",
      "metadata": {
        "id": "FncvWlavL5bx",
        "outputId": "45640fdc-eb11-4b2e-edf2-e0418c705720",
        "colab": {
          "base_uri": "https://localhost:8080/",
          "height": 369
        }
      },
      "source": [
        "import seaborn as sns\n",
        "import matplotlib.pyplot as plt\n",
        "\n",
        "nested_lists = [reward_list_do_nothing_agent,reward_list_random_agent,reward_power_line_switch_agent]\n",
        "lists_to_df  = []\n",
        "\n",
        "for nested_list in  nested_lists:\n",
        "  len_list = len(nested_list)\n",
        "  final_value = nested_list[-1]\n",
        "  list_ = np.repeat(final_value,env.chronics_handler.max_timestep())\n",
        "  list_[:len_list] = nested_list\n",
        "  lists_to_df.append(list_)\n",
        "\n",
        "df_pre_built_agents = pd.DataFrame(lists_to_df)\\\n",
        ".transpose()\\\n",
        ".rename(columns={0:'do_nothing_agent',1:'random_agent',2:'switch_power_line_agent'})\\\n",
        ".stack()\\\n",
        ".reset_index()\\\n",
        ".rename(columns={'level_0':'iteration','level_1':'agent_type',0:'reward'})\\\n",
        "\n",
        "\n",
        "\n",
        "fig,ax = plt.subplots(1,1,figsize=(7,5))\n",
        "sns.lineplot(x='iteration',y='reward',hue='agent_type',ax=ax,data=df_pre_built_agents)\n",
        "ax.set_xlabel(\"# of iterations\")\n",
        "ax.set_ylabel(\"Reward\")\n",
        "ax.set_title(\"Performance of pre-built grid2op agents\\n(Only action available is powerline switch)\")\n",
        "ax.legend(['Do nothing agent','Random actions agent','Switch Power Line agent'])\n",
        "plt.tight_layout()\n",
        "plt.show()\n",
        "# df_pre_built_agents = pd.DataFrame({'random_agent':reward_list_random_agent,\n",
        "#                                     'power_line_switch_agent':reward_power_line_switch_agent\n",
        "#                                     })\n",
        "# df_pre_built_agents"
      ],
      "execution_count": 64,
      "outputs": [
        {
          "output_type": "display_data",
          "data": {
            "image/png": "[encoded data removed]",
            "text/plain": [
              "<Figure size 504x360 with 1 Axes>"
            ]
          },
          "metadata": {
            "tags": [],
            "needs_background": "light"
          }
        }
      ]
    }
  ]
}