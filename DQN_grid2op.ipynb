{
  "nbformat": 4,
  "nbformat_minor": 0,
  "metadata": {
    "accelerator": "GPU",
    "colab": {
      "name": "DQN_grid2op",
      "provenance": [],
      "collapsed_sections": [],
      "toc_visible": true
    },
    "kernelspec": {
      "display_name": "Python 3",
      "name": "python3"
    },
    "widgets": {
      "application/vnd.jupyter.widget-state+json": {
        "f850c940f17f40298c0729f192bdb6f7": {
          "model_module": "@jupyter-widgets/controls",
          "model_name": "HBoxModel",
          "state": {
            "_view_name": "HBoxView",
            "_dom_classes": [],
            "_model_name": "HBoxModel",
            "_view_module": "@jupyter-widgets/controls",
            "_model_module_version": "1.5.0",
            "_view_count": null,
            "_view_module_version": "1.5.0",
            "box_style": "",
            "layout": "IPY_MODEL_bc57b8b61ecb4ec48cac6bb83998b209",
            "_model_module": "@jupyter-widgets/controls",
            "children": [
              "IPY_MODEL_923fe07baf64462ca791db7e88162060",
              "IPY_MODEL_50e0007c147c4e998ba229583e01d22b",
              "IPY_MODEL_f941b2eb8fdb4415a5ac2a8b37b7f25e"
            ]
          }
        },
        "bc57b8b61ecb4ec48cac6bb83998b209": {
          "model_module": "@jupyter-widgets/base",
          "model_name": "LayoutModel",
          "state": {
            "_view_name": "LayoutView",
            "grid_template_rows": null,
            "right": null,
            "justify_content": null,
            "_view_module": "@jupyter-widgets/base",
            "overflow": null,
            "_model_module_version": "1.2.0",
            "_view_count": null,
            "flex_flow": null,
            "width": null,
            "min_width": null,
            "border": null,
            "align_items": null,
            "bottom": null,
            "_model_module": "@jupyter-widgets/base",
            "top": null,
            "grid_column": null,
            "overflow_y": null,
            "overflow_x": null,
            "grid_auto_flow": null,
            "grid_area": null,
            "grid_template_columns": null,
            "flex": null,
            "_model_name": "LayoutModel",
            "justify_items": null,
            "grid_row": null,
            "max_height": null,
            "align_content": null,
            "visibility": null,
            "align_self": null,
            "height": null,
            "min_height": null,
            "padding": null,
            "grid_auto_rows": null,
            "grid_gap": null,
            "max_width": null,
            "order": null,
            "_view_module_version": "1.2.0",
            "grid_template_areas": null,
            "object_position": null,
            "object_fit": null,
            "grid_auto_columns": null,
            "margin": null,
            "display": null,
            "left": null
          }
        },
        "923fe07baf64462ca791db7e88162060": {
          "model_module": "@jupyter-widgets/controls",
          "model_name": "HTMLModel",
          "state": {
            "_view_name": "HTMLView",
            "style": "IPY_MODEL_8aaf08701f954aef842e7a90fed49b44",
            "_dom_classes": [],
            "description": "",
            "_model_name": "HTMLModel",
            "placeholder": "​",
            "_view_module": "@jupyter-widgets/controls",
            "_model_module_version": "1.5.0",
            "value": " 17%",
            "_view_count": null,
            "_view_module_version": "1.5.0",
            "description_tooltip": null,
            "_model_module": "@jupyter-widgets/controls",
            "layout": "IPY_MODEL_ae363b996e324b90b807b61a1c54e2cb"
          }
        },
        "50e0007c147c4e998ba229583e01d22b": {
          "model_module": "@jupyter-widgets/controls",
          "model_name": "FloatProgressModel",
          "state": {
            "_view_name": "ProgressView",
            "style": "IPY_MODEL_5af14c92cab240638b2ac1da07a8cf11",
            "_dom_classes": [],
            "description": "",
            "_model_name": "FloatProgressModel",
            "bar_style": "danger",
            "max": 8064,
            "_view_module": "@jupyter-widgets/controls",
            "_model_module_version": "1.5.0",
            "value": 1380,
            "_view_count": null,
            "_view_module_version": "1.5.0",
            "orientation": "horizontal",
            "min": 0,
            "description_tooltip": null,
            "_model_module": "@jupyter-widgets/controls",
            "layout": "IPY_MODEL_7d8359c769be43af9dd89cfe717c260d"
          }
        },
        "f941b2eb8fdb4415a5ac2a8b37b7f25e": {
          "model_module": "@jupyter-widgets/controls",
          "model_name": "HTMLModel",
          "state": {
            "_view_name": "HTMLView",
            "style": "IPY_MODEL_fcdb8eb710cb4ccfb5edd7f1ad9ae9e0",
            "_dom_classes": [],
            "description": "",
            "_model_name": "HTMLModel",
            "placeholder": "​",
            "_view_module": "@jupyter-widgets/controls",
            "_model_module_version": "1.5.0",
            "value": " 1380/8064 [02:22&lt;11:28,  9.71it/s]",
            "_view_count": null,
            "_view_module_version": "1.5.0",
            "description_tooltip": null,
            "_model_module": "@jupyter-widgets/controls",
            "layout": "IPY_MODEL_94560a3e8c054b9885d18f6cc7d6c9e1"
          }
        },
        "8aaf08701f954aef842e7a90fed49b44": {
          "model_module": "@jupyter-widgets/controls",
          "model_name": "DescriptionStyleModel",
          "state": {
            "_view_name": "StyleView",
            "_model_name": "DescriptionStyleModel",
            "description_width": "",
            "_view_module": "@jupyter-widgets/base",
            "_model_module_version": "1.5.0",
            "_view_count": null,
            "_view_module_version": "1.2.0",
            "_model_module": "@jupyter-widgets/controls"
          }
        },
        "ae363b996e324b90b807b61a1c54e2cb": {
          "model_module": "@jupyter-widgets/base",
          "model_name": "LayoutModel",
          "state": {
            "_view_name": "LayoutView",
            "grid_template_rows": null,
            "right": null,
            "justify_content": null,
            "_view_module": "@jupyter-widgets/base",
            "overflow": null,
            "_model_module_version": "1.2.0",
            "_view_count": null,
            "flex_flow": null,
            "width": null,
            "min_width": null,
            "border": null,
            "align_items": null,
            "bottom": null,
            "_model_module": "@jupyter-widgets/base",
            "top": null,
            "grid_column": null,
            "overflow_y": null,
            "overflow_x": null,
            "grid_auto_flow": null,
            "grid_area": null,
            "grid_template_columns": null,
            "flex": null,
            "_model_name": "LayoutModel",
            "justify_items": null,
            "grid_row": null,
            "max_height": null,
            "align_content": null,
            "visibility": null,
            "align_self": null,
            "height": null,
            "min_height": null,
            "padding": null,
            "grid_auto_rows": null,
            "grid_gap": null,
            "max_width": null,
            "order": null,
            "_view_module_version": "1.2.0",
            "grid_template_areas": null,
            "object_position": null,
            "object_fit": null,
            "grid_auto_columns": null,
            "margin": null,
            "display": null,
            "left": null
          }
        },
        "5af14c92cab240638b2ac1da07a8cf11": {
          "model_module": "@jupyter-widgets/controls",
          "model_name": "ProgressStyleModel",
          "state": {
            "_view_name": "StyleView",
            "_model_name": "ProgressStyleModel",
            "description_width": "",
            "_view_module": "@jupyter-widgets/base",
            "_model_module_version": "1.5.0",
            "_view_count": null,
            "_view_module_version": "1.2.0",
            "bar_color": null,
            "_model_module": "@jupyter-widgets/controls"
          }
        },
        "7d8359c769be43af9dd89cfe717c260d": {
          "model_module": "@jupyter-widgets/base",
          "model_name": "LayoutModel",
          "state": {
            "_view_name": "LayoutView",
            "grid_template_rows": null,
            "right": null,
            "justify_content": null,
            "_view_module": "@jupyter-widgets/base",
            "overflow": null,
            "_model_module_version": "1.2.0",
            "_view_count": null,
            "flex_flow": null,
            "width": null,
            "min_width": null,
            "border": null,
            "align_items": null,
            "bottom": null,
            "_model_module": "@jupyter-widgets/base",
            "top": null,
            "grid_column": null,
            "overflow_y": null,
            "overflow_x": null,
            "grid_auto_flow": null,
            "grid_area": null,
            "grid_template_columns": null,
            "flex": null,
            "_model_name": "LayoutModel",
            "justify_items": null,
            "grid_row": null,
            "max_height": null,
            "align_content": null,
            "visibility": null,
            "align_self": null,
            "height": null,
            "min_height": null,
            "padding": null,
            "grid_auto_rows": null,
            "grid_gap": null,
            "max_width": null,
            "order": null,
            "_view_module_version": "1.2.0",
            "grid_template_areas": null,
            "object_position": null,
            "object_fit": null,
            "grid_auto_columns": null,
            "margin": null,
            "display": null,
            "left": null
          }
        },
        "fcdb8eb710cb4ccfb5edd7f1ad9ae9e0": {
          "model_module": "@jupyter-widgets/controls",
          "model_name": "DescriptionStyleModel",
          "state": {
            "_view_name": "StyleView",
            "_model_name": "DescriptionStyleModel",
            "description_width": "",
            "_view_module": "@jupyter-widgets/base",
            "_model_module_version": "1.5.0",
            "_view_count": null,
            "_view_module_version": "1.2.0",
            "_model_module": "@jupyter-widgets/controls"
          }
        },
        "94560a3e8c054b9885d18f6cc7d6c9e1": {
          "model_module": "@jupyter-widgets/base",
          "model_name": "LayoutModel",
          "state": {
            "_view_name": "LayoutView",
            "grid_template_rows": null,
            "right": null,
            "justify_content": null,
            "_view_module": "@jupyter-widgets/base",
            "overflow": null,
            "_model_module_version": "1.2.0",
            "_view_count": null,
            "flex_flow": null,
            "width": null,
            "min_width": null,
            "border": null,
            "align_items": null,
            "bottom": null,
            "_model_module": "@jupyter-widgets/base",
            "top": null,
            "grid_column": null,
            "overflow_y": null,
            "overflow_x": null,
            "grid_auto_flow": null,
            "grid_area": null,
            "grid_template_columns": null,
            "flex": null,
            "_model_name": "LayoutModel",
            "justify_items": null,
            "grid_row": null,
            "max_height": null,
            "align_content": null,
            "visibility": null,
            "align_self": null,
            "height": null,
            "min_height": null,
            "padding": null,
            "grid_auto_rows": null,
            "grid_gap": null,
            "max_width": null,
            "order": null,
            "_view_module_version": "1.2.0",
            "grid_template_areas": null,
            "object_position": null,
            "object_fit": null,
            "grid_auto_columns": null,
            "margin": null,
            "display": null,
            "left": null
          }
        },
        "a3504c46a64441b794c9a16b3efae8dd": {
          "model_module": "@jupyter-widgets/controls",
          "model_name": "HBoxModel",
          "state": {
            "_view_name": "HBoxView",
            "_dom_classes": [],
            "_model_name": "HBoxModel",
            "_view_module": "@jupyter-widgets/controls",
            "_model_module_version": "1.5.0",
            "_view_count": null,
            "_view_module_version": "1.5.0",
            "box_style": "",
            "layout": "IPY_MODEL_6015263972aa48e791c75acfdbc24dc2",
            "_model_module": "@jupyter-widgets/controls",
            "children": [
              "IPY_MODEL_ea29bb02dca2430fa7cacc0b9c71e18d",
              "IPY_MODEL_8f4511f4a4eb44cdaef1128f4724fa99",
              "IPY_MODEL_80dfc6d1d76d42a8a52880c53c85c3b1"
            ]
          }
        },
        "6015263972aa48e791c75acfdbc24dc2": {
          "model_module": "@jupyter-widgets/base",
          "model_name": "LayoutModel",
          "state": {
            "_view_name": "LayoutView",
            "grid_template_rows": null,
            "right": null,
            "justify_content": null,
            "_view_module": "@jupyter-widgets/base",
            "overflow": null,
            "_model_module_version": "1.2.0",
            "_view_count": null,
            "flex_flow": null,
            "width": null,
            "min_width": null,
            "border": null,
            "align_items": null,
            "bottom": null,
            "_model_module": "@jupyter-widgets/base",
            "top": null,
            "grid_column": null,
            "overflow_y": null,
            "overflow_x": null,
            "grid_auto_flow": null,
            "grid_area": null,
            "grid_template_columns": null,
            "flex": null,
            "_model_name": "LayoutModel",
            "justify_items": null,
            "grid_row": null,
            "max_height": null,
            "align_content": null,
            "visibility": null,
            "align_self": null,
            "height": null,
            "min_height": null,
            "padding": null,
            "grid_auto_rows": null,
            "grid_gap": null,
            "max_width": null,
            "order": null,
            "_view_module_version": "1.2.0",
            "grid_template_areas": null,
            "object_position": null,
            "object_fit": null,
            "grid_auto_columns": null,
            "margin": null,
            "display": null,
            "left": null
          }
        },
        "ea29bb02dca2430fa7cacc0b9c71e18d": {
          "model_module": "@jupyter-widgets/controls",
          "model_name": "HTMLModel",
          "state": {
            "_view_name": "HTMLView",
            "style": "IPY_MODEL_5b24025df5154dbcb567ebd37904d08b",
            "_dom_classes": [],
            "description": "",
            "_model_name": "HTMLModel",
            "placeholder": "​",
            "_view_module": "@jupyter-widgets/controls",
            "_model_module_version": "1.5.0",
            "value": "  0%",
            "_view_count": null,
            "_view_module_version": "1.5.0",
            "description_tooltip": null,
            "_model_module": "@jupyter-widgets/controls",
            "layout": "IPY_MODEL_0c3dc240230f412eaeb704c560024b17"
          }
        },
        "8f4511f4a4eb44cdaef1128f4724fa99": {
          "model_module": "@jupyter-widgets/controls",
          "model_name": "FloatProgressModel",
          "state": {
            "_view_name": "ProgressView",
            "style": "IPY_MODEL_aee4d4131d10457393816b38cd333047",
            "_dom_classes": [],
            "description": "",
            "_model_name": "FloatProgressModel",
            "bar_style": "danger",
            "max": 8064,
            "_view_module": "@jupyter-widgets/controls",
            "_model_module_version": "1.5.0",
            "value": 2,
            "_view_count": null,
            "_view_module_version": "1.5.0",
            "orientation": "horizontal",
            "min": 0,
            "description_tooltip": null,
            "_model_module": "@jupyter-widgets/controls",
            "layout": "IPY_MODEL_98149fa84a89478cbfa566174db49603"
          }
        },
        "80dfc6d1d76d42a8a52880c53c85c3b1": {
          "model_module": "@jupyter-widgets/controls",
          "model_name": "HTMLModel",
          "state": {
            "_view_name": "HTMLView",
            "style": "IPY_MODEL_2cd587fa3d8f47049d2d5562b8d98634",
            "_dom_classes": [],
            "description": "",
            "_model_name": "HTMLModel",
            "placeholder": "​",
            "_view_module": "@jupyter-widgets/controls",
            "_model_module_version": "1.5.0",
            "value": " 2/8064 [01:03&lt;71:35:34, 31.97s/it]",
            "_view_count": null,
            "_view_module_version": "1.5.0",
            "description_tooltip": null,
            "_model_module": "@jupyter-widgets/controls",
            "layout": "IPY_MODEL_2a6ce2d5631e4f3cbb8ff8c0dc40d005"
          }
        },
        "5b24025df5154dbcb567ebd37904d08b": {
          "model_module": "@jupyter-widgets/controls",
          "model_name": "DescriptionStyleModel",
          "state": {
            "_view_name": "StyleView",
            "_model_name": "DescriptionStyleModel",
            "description_width": "",
            "_view_module": "@jupyter-widgets/base",
            "_model_module_version": "1.5.0",
            "_view_count": null,
            "_view_module_version": "1.2.0",
            "_model_module": "@jupyter-widgets/controls"
          }
        },
        "0c3dc240230f412eaeb704c560024b17": {
          "model_module": "@jupyter-widgets/base",
          "model_name": "LayoutModel",
          "state": {
            "_view_name": "LayoutView",
            "grid_template_rows": null,
            "right": null,
            "justify_content": null,
            "_view_module": "@jupyter-widgets/base",
            "overflow": null,
            "_model_module_version": "1.2.0",
            "_view_count": null,
            "flex_flow": null,
            "width": null,
            "min_width": null,
            "border": null,
            "align_items": null,
            "bottom": null,
            "_model_module": "@jupyter-widgets/base",
            "top": null,
            "grid_column": null,
            "overflow_y": null,
            "overflow_x": null,
            "grid_auto_flow": null,
            "grid_area": null,
            "grid_template_columns": null,
            "flex": null,
            "_model_name": "LayoutModel",
            "justify_items": null,
            "grid_row": null,
            "max_height": null,
            "align_content": null,
            "visibility": null,
            "align_self": null,
            "height": null,
            "min_height": null,
            "padding": null,
            "grid_auto_rows": null,
            "grid_gap": null,
            "max_width": null,
            "order": null,
            "_view_module_version": "1.2.0",
            "grid_template_areas": null,
            "object_position": null,
            "object_fit": null,
            "grid_auto_columns": null,
            "margin": null,
            "display": null,
            "left": null
          }
        },
        "aee4d4131d10457393816b38cd333047": {
          "model_module": "@jupyter-widgets/controls",
          "model_name": "ProgressStyleModel",
          "state": {
            "_view_name": "StyleView",
            "_model_name": "ProgressStyleModel",
            "description_width": "",
            "_view_module": "@jupyter-widgets/base",
            "_model_module_version": "1.5.0",
            "_view_count": null,
            "_view_module_version": "1.2.0",
            "bar_color": null,
            "_model_module": "@jupyter-widgets/controls"
          }
        },
        "98149fa84a89478cbfa566174db49603": {
          "model_module": "@jupyter-widgets/base",
          "model_name": "LayoutModel",
          "state": {
            "_view_name": "LayoutView",
            "grid_template_rows": null,
            "right": null,
            "justify_content": null,
            "_view_module": "@jupyter-widgets/base",
            "overflow": null,
            "_model_module_version": "1.2.0",
            "_view_count": null,
            "flex_flow": null,
            "width": null,
            "min_width": null,
            "border": null,
            "align_items": null,
            "bottom": null,
            "_model_module": "@jupyter-widgets/base",
            "top": null,
            "grid_column": null,
            "overflow_y": null,
            "overflow_x": null,
            "grid_auto_flow": null,
            "grid_area": null,
            "grid_template_columns": null,
            "flex": null,
            "_model_name": "LayoutModel",
            "justify_items": null,
            "grid_row": null,
            "max_height": null,
            "align_content": null,
            "visibility": null,
            "align_self": null,
            "height": null,
            "min_height": null,
            "padding": null,
            "grid_auto_rows": null,
            "grid_gap": null,
            "max_width": null,
            "order": null,
            "_view_module_version": "1.2.0",
            "grid_template_areas": null,
            "object_position": null,
            "object_fit": null,
            "grid_auto_columns": null,
            "margin": null,
            "display": null,
            "left": null
          }
        },
        "2cd587fa3d8f47049d2d5562b8d98634": {
          "model_module": "@jupyter-widgets/controls",
          "model_name": "DescriptionStyleModel",
          "state": {
            "_view_name": "StyleView",
            "_model_name": "DescriptionStyleModel",
            "description_width": "",
            "_view_module": "@jupyter-widgets/base",
            "_model_module_version": "1.5.0",
            "_view_count": null,
            "_view_module_version": "1.2.0",
            "_model_module": "@jupyter-widgets/controls"
          }
        },
        "2a6ce2d5631e4f3cbb8ff8c0dc40d005": {
          "model_module": "@jupyter-widgets/base",
          "model_name": "LayoutModel",
          "state": {
            "_view_name": "LayoutView",
            "grid_template_rows": null,
            "right": null,
            "justify_content": null,
            "_view_module": "@jupyter-widgets/base",
            "overflow": null,
            "_model_module_version": "1.2.0",
            "_view_count": null,
            "flex_flow": null,
            "width": null,
            "min_width": null,
            "border": null,
            "align_items": null,
            "bottom": null,
            "_model_module": "@jupyter-widgets/base",
            "top": null,
            "grid_column": null,
            "overflow_y": null,
            "overflow_x": null,
            "grid_auto_flow": null,
            "grid_area": null,
            "grid_template_columns": null,
            "flex": null,
            "_model_name": "LayoutModel",
            "justify_items": null,
            "grid_row": null,
            "max_height": null,
            "align_content": null,
            "visibility": null,
            "align_self": null,
            "height": null,
            "min_height": null,
            "padding": null,
            "grid_auto_rows": null,
            "grid_gap": null,
            "max_width": null,
            "order": null,
            "_view_module_version": "1.2.0",
            "grid_template_areas": null,
            "object_position": null,
            "object_fit": null,
            "grid_auto_columns": null,
            "margin": null,
            "display": null,
            "left": null
          }
        },
        "5361225a78ca4f4caeeaf12c99bf4373": {
          "model_module": "@jupyter-widgets/controls",
          "model_name": "HBoxModel",
          "state": {
            "_view_name": "HBoxView",
            "_dom_classes": [],
            "_model_name": "HBoxModel",
            "_view_module": "@jupyter-widgets/controls",
            "_model_module_version": "1.5.0",
            "_view_count": null,
            "_view_module_version": "1.5.0",
            "box_style": "",
            "layout": "IPY_MODEL_aec75469212a41c2b04f7cd8a00ea592",
            "_model_module": "@jupyter-widgets/controls",
            "children": [
              "IPY_MODEL_cac76db14fbc43688f55748bcf2b1e40",
              "IPY_MODEL_3b6e3607af8a423da2886cc31d38561d",
              "IPY_MODEL_5f29fd8df1b54293839793fe5970e147"
            ]
          }
        },
        "aec75469212a41c2b04f7cd8a00ea592": {
          "model_module": "@jupyter-widgets/base",
          "model_name": "LayoutModel",
          "state": {
            "_view_name": "LayoutView",
            "grid_template_rows": null,
            "right": null,
            "justify_content": null,
            "_view_module": "@jupyter-widgets/base",
            "overflow": null,
            "_model_module_version": "1.2.0",
            "_view_count": null,
            "flex_flow": null,
            "width": null,
            "min_width": null,
            "border": null,
            "align_items": null,
            "bottom": null,
            "_model_module": "@jupyter-widgets/base",
            "top": null,
            "grid_column": null,
            "overflow_y": null,
            "overflow_x": null,
            "grid_auto_flow": null,
            "grid_area": null,
            "grid_template_columns": null,
            "flex": null,
            "_model_name": "LayoutModel",
            "justify_items": null,
            "grid_row": null,
            "max_height": null,
            "align_content": null,
            "visibility": null,
            "align_self": null,
            "height": null,
            "min_height": null,
            "padding": null,
            "grid_auto_rows": null,
            "grid_gap": null,
            "max_width": null,
            "order": null,
            "_view_module_version": "1.2.0",
            "grid_template_areas": null,
            "object_position": null,
            "object_fit": null,
            "grid_auto_columns": null,
            "margin": null,
            "display": null,
            "left": null
          }
        },
        "cac76db14fbc43688f55748bcf2b1e40": {
          "model_module": "@jupyter-widgets/controls",
          "model_name": "HTMLModel",
          "state": {
            "_view_name": "HTMLView",
            "style": "IPY_MODEL_58a02f2c06484f438997fcae75649368",
            "_dom_classes": [],
            "description": "",
            "_model_name": "HTMLModel",
            "placeholder": "​",
            "_view_module": "@jupyter-widgets/controls",
            "_model_module_version": "1.5.0",
            "value": " 17%",
            "_view_count": null,
            "_view_module_version": "1.5.0",
            "description_tooltip": null,
            "_model_module": "@jupyter-widgets/controls",
            "layout": "IPY_MODEL_9d73ddaca0de4b3c9cfe11e925100a0e"
          }
        },
        "3b6e3607af8a423da2886cc31d38561d": {
          "model_module": "@jupyter-widgets/controls",
          "model_name": "FloatProgressModel",
          "state": {
            "_view_name": "ProgressView",
            "style": "IPY_MODEL_ce6471e788ad4389bc5398500bd02bae",
            "_dom_classes": [],
            "description": "",
            "_model_name": "FloatProgressModel",
            "bar_style": "danger",
            "max": 8064,
            "_view_module": "@jupyter-widgets/controls",
            "_model_module_version": "1.5.0",
            "value": 1381,
            "_view_count": null,
            "_view_module_version": "1.5.0",
            "orientation": "horizontal",
            "min": 0,
            "description_tooltip": null,
            "_model_module": "@jupyter-widgets/controls",
            "layout": "IPY_MODEL_b3b44b7720b94c9f944cf97f0ce40b06"
          }
        },
        "5f29fd8df1b54293839793fe5970e147": {
          "model_module": "@jupyter-widgets/controls",
          "model_name": "HTMLModel",
          "state": {
            "_view_name": "HTMLView",
            "style": "IPY_MODEL_f8b77c3f76654b1794ac9d1cb2dc280c",
            "_dom_classes": [],
            "description": "",
            "_model_name": "HTMLModel",
            "placeholder": "​",
            "_view_module": "@jupyter-widgets/controls",
            "_model_module_version": "1.5.0",
            "value": " 1381/8064 [11:02&lt;53:23,  2.09it/s]",
            "_view_count": null,
            "_view_module_version": "1.5.0",
            "description_tooltip": null,
            "_model_module": "@jupyter-widgets/controls",
            "layout": "IPY_MODEL_77eb5a0c2a6e40d29c44d452cfeb878b"
          }
        },
        "58a02f2c06484f438997fcae75649368": {
          "model_module": "@jupyter-widgets/controls",
          "model_name": "DescriptionStyleModel",
          "state": {
            "_view_name": "StyleView",
            "_model_name": "DescriptionStyleModel",
            "description_width": "",
            "_view_module": "@jupyter-widgets/base",
            "_model_module_version": "1.5.0",
            "_view_count": null,
            "_view_module_version": "1.2.0",
            "_model_module": "@jupyter-widgets/controls"
          }
        },
        "9d73ddaca0de4b3c9cfe11e925100a0e": {
          "model_module": "@jupyter-widgets/base",
          "model_name": "LayoutModel",
          "state": {
            "_view_name": "LayoutView",
            "grid_template_rows": null,
            "right": null,
            "justify_content": null,
            "_view_module": "@jupyter-widgets/base",
            "overflow": null,
            "_model_module_version": "1.2.0",
            "_view_count": null,
            "flex_flow": null,
            "width": null,
            "min_width": null,
            "border": null,
            "align_items": null,
            "bottom": null,
            "_model_module": "@jupyter-widgets/base",
            "top": null,
            "grid_column": null,
            "overflow_y": null,
            "overflow_x": null,
            "grid_auto_flow": null,
            "grid_area": null,
            "grid_template_columns": null,
            "flex": null,
            "_model_name": "LayoutModel",
            "justify_items": null,
            "grid_row": null,
            "max_height": null,
            "align_content": null,
            "visibility": null,
            "align_self": null,
            "height": null,
            "min_height": null,
            "padding": null,
            "grid_auto_rows": null,
            "grid_gap": null,
            "max_width": null,
            "order": null,
            "_view_module_version": "1.2.0",
            "grid_template_areas": null,
            "object_position": null,
            "object_fit": null,
            "grid_auto_columns": null,
            "margin": null,
            "display": null,
            "left": null
          }
        },
        "ce6471e788ad4389bc5398500bd02bae": {
          "model_module": "@jupyter-widgets/controls",
          "model_name": "ProgressStyleModel",
          "state": {
            "_view_name": "StyleView",
            "_model_name": "ProgressStyleModel",
            "description_width": "",
            "_view_module": "@jupyter-widgets/base",
            "_model_module_version": "1.5.0",
            "_view_count": null,
            "_view_module_version": "1.2.0",
            "bar_color": null,
            "_model_module": "@jupyter-widgets/controls"
          }
        },
        "b3b44b7720b94c9f944cf97f0ce40b06": {
          "model_module": "@jupyter-widgets/base",
          "model_name": "LayoutModel",
          "state": {
            "_view_name": "LayoutView",
            "grid_template_rows": null,
            "right": null,
            "justify_content": null,
            "_view_module": "@jupyter-widgets/base",
            "overflow": null,
            "_model_module_version": "1.2.0",
            "_view_count": null,
            "flex_flow": null,
            "width": null,
            "min_width": null,
            "border": null,
            "align_items": null,
            "bottom": null,
            "_model_module": "@jupyter-widgets/base",
            "top": null,
            "grid_column": null,
            "overflow_y": null,
            "overflow_x": null,
            "grid_auto_flow": null,
            "grid_area": null,
            "grid_template_columns": null,
            "flex": null,
            "_model_name": "LayoutModel",
            "justify_items": null,
            "grid_row": null,
            "max_height": null,
            "align_content": null,
            "visibility": null,
            "align_self": null,
            "height": null,
            "min_height": null,
            "padding": null,
            "grid_auto_rows": null,
            "grid_gap": null,
            "max_width": null,
            "order": null,
            "_view_module_version": "1.2.0",
            "grid_template_areas": null,
            "object_position": null,
            "object_fit": null,
            "grid_auto_columns": null,
            "margin": null,
            "display": null,
            "left": null
          }
        },
        "f8b77c3f76654b1794ac9d1cb2dc280c": {
          "model_module": "@jupyter-widgets/controls",
          "model_name": "DescriptionStyleModel",
          "state": {
            "_view_name": "StyleView",
            "_model_name": "DescriptionStyleModel",
            "description_width": "",
            "_view_module": "@jupyter-widgets/base",
            "_model_module_version": "1.5.0",
            "_view_count": null,
            "_view_module_version": "1.2.0",
            "_model_module": "@jupyter-widgets/controls"
          }
        },
        "77eb5a0c2a6e40d29c44d452cfeb878b": {
          "model_module": "@jupyter-widgets/base",
          "model_name": "LayoutModel",
          "state": {
            "_view_name": "LayoutView",
            "grid_template_rows": null,
            "right": null,
            "justify_content": null,
            "_view_module": "@jupyter-widgets/base",
            "overflow": null,
            "_model_module_version": "1.2.0",
            "_view_count": null,
            "flex_flow": null,
            "width": null,
            "min_width": null,
            "border": null,
            "align_items": null,
            "bottom": null,
            "_model_module": "@jupyter-widgets/base",
            "top": null,
            "grid_column": null,
            "overflow_y": null,
            "overflow_x": null,
            "grid_auto_flow": null,
            "grid_area": null,
            "grid_template_columns": null,
            "flex": null,
            "_model_name": "LayoutModel",
            "justify_items": null,
            "grid_row": null,
            "max_height": null,
            "align_content": null,
            "visibility": null,
            "align_self": null,
            "height": null,
            "min_height": null,
            "padding": null,
            "grid_auto_rows": null,
            "grid_gap": null,
            "max_width": null,
            "order": null,
            "_view_module_version": "1.2.0",
            "grid_template_areas": null,
            "object_position": null,
            "object_fit": null,
            "grid_auto_columns": null,
            "margin": null,
            "display": null,
            "left": null
          }
        },
        "22dda315639f42e4bbefbfe4975598c1": {
          "model_module": "@jupyter-widgets/controls",
          "model_name": "HBoxModel",
          "state": {
            "_view_name": "HBoxView",
            "_dom_classes": [],
            "_model_name": "HBoxModel",
            "_view_module": "@jupyter-widgets/controls",
            "_model_module_version": "1.5.0",
            "_view_count": null,
            "_view_module_version": "1.5.0",
            "box_style": "",
            "layout": "IPY_MODEL_6cc6c6ea50fe4785a1a3a7f2dd9a0d36",
            "_model_module": "@jupyter-widgets/controls",
            "children": [
              "IPY_MODEL_ef8008c8827349f6af33b3bc26459195",
              "IPY_MODEL_6cc79644397d4ac3b0f33e7960cd7b85",
              "IPY_MODEL_c64ea066b3eb4abc9c53bcbc3297ec3c"
            ]
          }
        },
        "6cc6c6ea50fe4785a1a3a7f2dd9a0d36": {
          "model_module": "@jupyter-widgets/base",
          "model_name": "LayoutModel",
          "state": {
            "_view_name": "LayoutView",
            "grid_template_rows": null,
            "right": null,
            "justify_content": null,
            "_view_module": "@jupyter-widgets/base",
            "overflow": null,
            "_model_module_version": "1.2.0",
            "_view_count": null,
            "flex_flow": null,
            "width": null,
            "min_width": null,
            "border": null,
            "align_items": null,
            "bottom": null,
            "_model_module": "@jupyter-widgets/base",
            "top": null,
            "grid_column": null,
            "overflow_y": null,
            "overflow_x": null,
            "grid_auto_flow": null,
            "grid_area": null,
            "grid_template_columns": null,
            "flex": null,
            "_model_name": "LayoutModel",
            "justify_items": null,
            "grid_row": null,
            "max_height": null,
            "align_content": null,
            "visibility": null,
            "align_self": null,
            "height": null,
            "min_height": null,
            "padding": null,
            "grid_auto_rows": null,
            "grid_gap": null,
            "max_width": null,
            "order": null,
            "_view_module_version": "1.2.0",
            "grid_template_areas": null,
            "object_position": null,
            "object_fit": null,
            "grid_auto_columns": null,
            "margin": null,
            "display": null,
            "left": null
          }
        },
        "ef8008c8827349f6af33b3bc26459195": {
          "model_module": "@jupyter-widgets/controls",
          "model_name": "HTMLModel",
          "state": {
            "_view_name": "HTMLView",
            "style": "IPY_MODEL_fc887f7e0e6841cabe13dbf919384386",
            "_dom_classes": [],
            "description": "",
            "_model_name": "HTMLModel",
            "placeholder": "​",
            "_view_module": "@jupyter-widgets/controls",
            "_model_module_version": "1.5.0",
            "value": "100%",
            "_view_count": null,
            "_view_module_version": "1.5.0",
            "description_tooltip": null,
            "_model_module": "@jupyter-widgets/controls",
            "layout": "IPY_MODEL_f26e372bd5094feca93aa867435ed724"
          }
        },
        "6cc79644397d4ac3b0f33e7960cd7b85": {
          "model_module": "@jupyter-widgets/controls",
          "model_name": "FloatProgressModel",
          "state": {
            "_view_name": "ProgressView",
            "style": "IPY_MODEL_414dea96c3134349bfbe4eb21ac18b60",
            "_dom_classes": [],
            "description": "",
            "_model_name": "FloatProgressModel",
            "bar_style": "success",
            "max": 20000,
            "_view_module": "@jupyter-widgets/controls",
            "_model_module_version": "1.5.0",
            "value": 20000,
            "_view_count": null,
            "_view_module_version": "1.5.0",
            "orientation": "horizontal",
            "min": 0,
            "description_tooltip": null,
            "_model_module": "@jupyter-widgets/controls",
            "layout": "IPY_MODEL_4173433057d04302bd728b24d12111a7"
          }
        },
        "c64ea066b3eb4abc9c53bcbc3297ec3c": {
          "model_module": "@jupyter-widgets/controls",
          "model_name": "HTMLModel",
          "state": {
            "_view_name": "HTMLView",
            "style": "IPY_MODEL_fe0f9aa9f6cb4b8caebdb41aa2f7870a",
            "_dom_classes": [],
            "description": "",
            "_model_name": "HTMLModel",
            "placeholder": "​",
            "_view_module": "@jupyter-widgets/controls",
            "_model_module_version": "1.5.0",
            "value": " 20000/20000 [32:31&lt;00:00, 10.25it/s]",
            "_view_count": null,
            "_view_module_version": "1.5.0",
            "description_tooltip": null,
            "_model_module": "@jupyter-widgets/controls",
            "layout": "IPY_MODEL_f35e680798da42cb9f8f1f23bfce7e7c"
          }
        },
        "fc887f7e0e6841cabe13dbf919384386": {
          "model_module": "@jupyter-widgets/controls",
          "model_name": "DescriptionStyleModel",
          "state": {
            "_view_name": "StyleView",
            "_model_name": "DescriptionStyleModel",
            "description_width": "",
            "_view_module": "@jupyter-widgets/base",
            "_model_module_version": "1.5.0",
            "_view_count": null,
            "_view_module_version": "1.2.0",
            "_model_module": "@jupyter-widgets/controls"
          }
        },
        "f26e372bd5094feca93aa867435ed724": {
          "model_module": "@jupyter-widgets/base",
          "model_name": "LayoutModel",
          "state": {
            "_view_name": "LayoutView",
            "grid_template_rows": null,
            "right": null,
            "justify_content": null,
            "_view_module": "@jupyter-widgets/base",
            "overflow": null,
            "_model_module_version": "1.2.0",
            "_view_count": null,
            "flex_flow": null,
            "width": null,
            "min_width": null,
            "border": null,
            "align_items": null,
            "bottom": null,
            "_model_module": "@jupyter-widgets/base",
            "top": null,
            "grid_column": null,
            "overflow_y": null,
            "overflow_x": null,
            "grid_auto_flow": null,
            "grid_area": null,
            "grid_template_columns": null,
            "flex": null,
            "_model_name": "LayoutModel",
            "justify_items": null,
            "grid_row": null,
            "max_height": null,
            "align_content": null,
            "visibility": null,
            "align_self": null,
            "height": null,
            "min_height": null,
            "padding": null,
            "grid_auto_rows": null,
            "grid_gap": null,
            "max_width": null,
            "order": null,
            "_view_module_version": "1.2.0",
            "grid_template_areas": null,
            "object_position": null,
            "object_fit": null,
            "grid_auto_columns": null,
            "margin": null,
            "display": null,
            "left": null
          }
        },
        "414dea96c3134349bfbe4eb21ac18b60": {
          "model_module": "@jupyter-widgets/controls",
          "model_name": "ProgressStyleModel",
          "state": {
            "_view_name": "StyleView",
            "_model_name": "ProgressStyleModel",
            "description_width": "",
            "_view_module": "@jupyter-widgets/base",
            "_model_module_version": "1.5.0",
            "_view_count": null,
            "_view_module_version": "1.2.0",
            "bar_color": null,
            "_model_module": "@jupyter-widgets/controls"
          }
        },
        "4173433057d04302bd728b24d12111a7": {
          "model_module": "@jupyter-widgets/base",
          "model_name": "LayoutModel",
          "state": {
            "_view_name": "LayoutView",
            "grid_template_rows": null,
            "right": null,
            "justify_content": null,
            "_view_module": "@jupyter-widgets/base",
            "overflow": null,
            "_model_module_version": "1.2.0",
            "_view_count": null,
            "flex_flow": null,
            "width": null,
            "min_width": null,
            "border": null,
            "align_items": null,
            "bottom": null,
            "_model_module": "@jupyter-widgets/base",
            "top": null,
            "grid_column": null,
            "overflow_y": null,
            "overflow_x": null,
            "grid_auto_flow": null,
            "grid_area": null,
            "grid_template_columns": null,
            "flex": null,
            "_model_name": "LayoutModel",
            "justify_items": null,
            "grid_row": null,
            "max_height": null,
            "align_content": null,
            "visibility": null,
            "align_self": null,
            "height": null,
            "min_height": null,
            "padding": null,
            "grid_auto_rows": null,
            "grid_gap": null,
            "max_width": null,
            "order": null,
            "_view_module_version": "1.2.0",
            "grid_template_areas": null,
            "object_position": null,
            "object_fit": null,
            "grid_auto_columns": null,
            "margin": null,
            "display": null,
            "left": null
          }
        },
        "fe0f9aa9f6cb4b8caebdb41aa2f7870a": {
          "model_module": "@jupyter-widgets/controls",
          "model_name": "DescriptionStyleModel",
          "state": {
            "_view_name": "StyleView",
            "_model_name": "DescriptionStyleModel",
            "description_width": "",
            "_view_module": "@jupyter-widgets/base",
            "_model_module_version": "1.5.0",
            "_view_count": null,
            "_view_module_version": "1.2.0",
            "_model_module": "@jupyter-widgets/controls"
          }
        },
        "f35e680798da42cb9f8f1f23bfce7e7c": {
          "model_module": "@jupyter-widgets/base",
          "model_name": "LayoutModel",
          "state": {
            "_view_name": "LayoutView",
            "grid_template_rows": null,
            "right": null,
            "justify_content": null,
            "_view_module": "@jupyter-widgets/base",
            "overflow": null,
            "_model_module_version": "1.2.0",
            "_view_count": null,
            "flex_flow": null,
            "width": null,
            "min_width": null,
            "border": null,
            "align_items": null,
            "bottom": null,
            "_model_module": "@jupyter-widgets/base",
            "top": null,
            "grid_column": null,
            "overflow_y": null,
            "overflow_x": null,
            "grid_auto_flow": null,
            "grid_area": null,
            "grid_template_columns": null,
            "flex": null,
            "_model_name": "LayoutModel",
            "justify_items": null,
            "grid_row": null,
            "max_height": null,
            "align_content": null,
            "visibility": null,
            "align_self": null,
            "height": null,
            "min_height": null,
            "padding": null,
            "grid_auto_rows": null,
            "grid_gap": null,
            "max_width": null,
            "order": null,
            "_view_module_version": "1.2.0",
            "grid_template_areas": null,
            "object_position": null,
            "object_fit": null,
            "grid_auto_columns": null,
            "margin": null,
            "display": null,
            "left": null
          }
        },
        "330b8ab2166e4fc98c2dca56813819f3": {
          "model_module": "@jupyter-widgets/controls",
          "model_name": "HBoxModel",
          "state": {
            "_dom_classes": [],
            "_model_module": "@jupyter-widgets/controls",
            "_model_module_version": "1.5.0",
            "_model_name": "HBoxModel",
            "_view_count": null,
            "_view_module": "@jupyter-widgets/controls",
            "_view_module_version": "1.5.0",
            "_view_name": "HBoxView",
            "box_style": "",
            "children": [
              "IPY_MODEL_baaa4a27007042189e260c9349af18f0",
              "IPY_MODEL_bde7a8dfb5e542fc81dd50fce2feda33",
              "IPY_MODEL_c830b597422a4caeaa0235dddf96760c"
            ],
            "layout": "IPY_MODEL_fb83a4d3c0844462851dde56d98237f2"
          }
        },
        "baaa4a27007042189e260c9349af18f0": {
          "model_module": "@jupyter-widgets/controls",
          "model_name": "HTMLModel",
          "state": {
            "_dom_classes": [],
            "_model_module": "@jupyter-widgets/controls",
            "_model_module_version": "1.5.0",
            "_model_name": "HTMLModel",
            "_view_count": null,
            "_view_module": "@jupyter-widgets/controls",
            "_view_module_version": "1.5.0",
            "_view_name": "HTMLView",
            "description": "",
            "description_tooltip": null,
            "layout": "IPY_MODEL_7072757db5144731a1042f7131cf5d26",
            "placeholder": "​",
            "style": "IPY_MODEL_2a8c01cf229d4baf96fd44be0d6376d0",
            "value": " 14%"
          }
        },
        "bde7a8dfb5e542fc81dd50fce2feda33": {
          "model_module": "@jupyter-widgets/controls",
          "model_name": "FloatProgressModel",
          "state": {
            "_dom_classes": [],
            "_model_module": "@jupyter-widgets/controls",
            "_model_module_version": "1.5.0",
            "_model_name": "FloatProgressModel",
            "_view_count": null,
            "_view_module": "@jupyter-widgets/controls",
            "_view_module_version": "1.5.0",
            "_view_name": "ProgressView",
            "bar_style": "danger",
            "description": "",
            "description_tooltip": null,
            "layout": "IPY_MODEL_38db3f17530e492aa56e6f02198dcff8",
            "max": 8064,
            "min": 0,
            "orientation": "horizontal",
            "style": "IPY_MODEL_f7a9810600ce4df5ac6a4aa6c909e0c2",
            "value": 1099
          }
        },
        "c830b597422a4caeaa0235dddf96760c": {
          "model_module": "@jupyter-widgets/controls",
          "model_name": "HTMLModel",
          "state": {
            "_dom_classes": [],
            "_model_module": "@jupyter-widgets/controls",
            "_model_module_version": "1.5.0",
            "_model_name": "HTMLModel",
            "_view_count": null,
            "_view_module": "@jupyter-widgets/controls",
            "_view_module_version": "1.5.0",
            "_view_name": "HTMLView",
            "description": "",
            "description_tooltip": null,
            "layout": "IPY_MODEL_602fd06af7d6439f900c3e943dac0283",
            "placeholder": "​",
            "style": "IPY_MODEL_451697b21421435c842b9e3fb42a8e16",
            "value": " 1099/8064 [00:34&lt;03:38, 31.88it/s]"
          }
        },
        "fb83a4d3c0844462851dde56d98237f2": {
          "model_module": "@jupyter-widgets/base",
          "model_name": "LayoutModel",
          "state": {
            "_model_module": "@jupyter-widgets/base",
            "_model_module_version": "1.2.0",
            "_model_name": "LayoutModel",
            "_view_count": null,
            "_view_module": "@jupyter-widgets/base",
            "_view_module_version": "1.2.0",
            "_view_name": "LayoutView",
            "align_content": null,
            "align_items": null,
            "align_self": null,
            "border": null,
            "bottom": null,
            "display": null,
            "flex": null,
            "flex_flow": null,
            "grid_area": null,
            "grid_auto_columns": null,
            "grid_auto_flow": null,
            "grid_auto_rows": null,
            "grid_column": null,
            "grid_gap": null,
            "grid_row": null,
            "grid_template_areas": null,
            "grid_template_columns": null,
            "grid_template_rows": null,
            "height": null,
            "justify_content": null,
            "justify_items": null,
            "left": null,
            "margin": null,
            "max_height": null,
            "max_width": null,
            "min_height": null,
            "min_width": null,
            "object_fit": null,
            "object_position": null,
            "order": null,
            "overflow": null,
            "overflow_x": null,
            "overflow_y": null,
            "padding": null,
            "right": null,
            "top": null,
            "visibility": null,
            "width": null
          }
        },
        "7072757db5144731a1042f7131cf5d26": {
          "model_module": "@jupyter-widgets/base",
          "model_name": "LayoutModel",
          "state": {
            "_model_module": "@jupyter-widgets/base",
            "_model_module_version": "1.2.0",
            "_model_name": "LayoutModel",
            "_view_count": null,
            "_view_module": "@jupyter-widgets/base",
            "_view_module_version": "1.2.0",
            "_view_name": "LayoutView",
            "align_content": null,
            "align_items": null,
            "align_self": null,
            "border": null,
            "bottom": null,
            "display": null,
            "flex": null,
            "flex_flow": null,
            "grid_area": null,
            "grid_auto_columns": null,
            "grid_auto_flow": null,
            "grid_auto_rows": null,
            "grid_column": null,
            "grid_gap": null,
            "grid_row": null,
            "grid_template_areas": null,
            "grid_template_columns": null,
            "grid_template_rows": null,
            "height": null,
            "justify_content": null,
            "justify_items": null,
            "left": null,
            "margin": null,
            "max_height": null,
            "max_width": null,
            "min_height": null,
            "min_width": null,
            "object_fit": null,
            "object_position": null,
            "order": null,
            "overflow": null,
            "overflow_x": null,
            "overflow_y": null,
            "padding": null,
            "right": null,
            "top": null,
            "visibility": null,
            "width": null
          }
        },
        "2a8c01cf229d4baf96fd44be0d6376d0": {
          "model_module": "@jupyter-widgets/controls",
          "model_name": "DescriptionStyleModel",
          "state": {
            "_model_module": "@jupyter-widgets/controls",
            "_model_module_version": "1.5.0",
            "_model_name": "DescriptionStyleModel",
            "_view_count": null,
            "_view_module": "@jupyter-widgets/base",
            "_view_module_version": "1.2.0",
            "_view_name": "StyleView",
            "description_width": ""
          }
        },
        "38db3f17530e492aa56e6f02198dcff8": {
          "model_module": "@jupyter-widgets/base",
          "model_name": "LayoutModel",
          "state": {
            "_model_module": "@jupyter-widgets/base",
            "_model_module_version": "1.2.0",
            "_model_name": "LayoutModel",
            "_view_count": null,
            "_view_module": "@jupyter-widgets/base",
            "_view_module_version": "1.2.0",
            "_view_name": "LayoutView",
            "align_content": null,
            "align_items": null,
            "align_self": null,
            "border": null,
            "bottom": null,
            "display": null,
            "flex": null,
            "flex_flow": null,
            "grid_area": null,
            "grid_auto_columns": null,
            "grid_auto_flow": null,
            "grid_auto_rows": null,
            "grid_column": null,
            "grid_gap": null,
            "grid_row": null,
            "grid_template_areas": null,
            "grid_template_columns": null,
            "grid_template_rows": null,
            "height": null,
            "justify_content": null,
            "justify_items": null,
            "left": null,
            "margin": null,
            "max_height": null,
            "max_width": null,
            "min_height": null,
            "min_width": null,
            "object_fit": null,
            "object_position": null,
            "order": null,
            "overflow": null,
            "overflow_x": null,
            "overflow_y": null,
            "padding": null,
            "right": null,
            "top": null,
            "visibility": null,
            "width": null
          }
        },
        "f7a9810600ce4df5ac6a4aa6c909e0c2": {
          "model_module": "@jupyter-widgets/controls",
          "model_name": "ProgressStyleModel",
          "state": {
            "_model_module": "@jupyter-widgets/controls",
            "_model_module_version": "1.5.0",
            "_model_name": "ProgressStyleModel",
            "_view_count": null,
            "_view_module": "@jupyter-widgets/base",
            "_view_module_version": "1.2.0",
            "_view_name": "StyleView",
            "bar_color": null,
            "description_width": ""
          }
        },
        "602fd06af7d6439f900c3e943dac0283": {
          "model_module": "@jupyter-widgets/base",
          "model_name": "LayoutModel",
          "state": {
            "_model_module": "@jupyter-widgets/base",
            "_model_module_version": "1.2.0",
            "_model_name": "LayoutModel",
            "_view_count": null,
            "_view_module": "@jupyter-widgets/base",
            "_view_module_version": "1.2.0",
            "_view_name": "LayoutView",
            "align_content": null,
            "align_items": null,
            "align_self": null,
            "border": null,
            "bottom": null,
            "display": null,
            "flex": null,
            "flex_flow": null,
            "grid_area": null,
            "grid_auto_columns": null,
            "grid_auto_flow": null,
            "grid_auto_rows": null,
            "grid_column": null,
            "grid_gap": null,
            "grid_row": null,
            "grid_template_areas": null,
            "grid_template_columns": null,
            "grid_template_rows": null,
            "height": null,
            "justify_content": null,
            "justify_items": null,
            "left": null,
            "margin": null,
            "max_height": null,
            "max_width": null,
            "min_height": null,
            "min_width": null,
            "object_fit": null,
            "object_position": null,
            "order": null,
            "overflow": null,
            "overflow_x": null,
            "overflow_y": null,
            "padding": null,
            "right": null,
            "top": null,
            "visibility": null,
            "width": null
          }
        },
        "451697b21421435c842b9e3fb42a8e16": {
          "model_module": "@jupyter-widgets/controls",
          "model_name": "DescriptionStyleModel",
          "state": {
            "_model_module": "@jupyter-widgets/controls",
            "_model_module_version": "1.5.0",
            "_model_name": "DescriptionStyleModel",
            "_view_count": null,
            "_view_module": "@jupyter-widgets/base",
            "_view_module_version": "1.2.0",
            "_view_name": "StyleView",
            "description_width": ""
          }
        }
      }
    }
  },
  "cells": [
    {
      "cell_type": "code",
      "metadata": {
        "colab": {
          "base_uri": "https://localhost:8080/"
        },
        "id": "nokYs8Dam7P1",
        "outputId": "5c9435b6-bafa-403a-8994-b08be773b5ed"
      },
      "source": [
        "# Use this code if pull commands does not work\n",
        "#%rm -rf /content/drive/My\\ Drive/Colab\\ Notebooks/DEEP_LEARNING_DTU/project/\\02456_l2rpn/\n",
        "#%cd /content/drive/My\\ Drive/Colab\\ Notebooks/DEEP_LEARNING_DTU/project/\n",
        "#!git clone https://github.com/jmontalvo94/02456_l2rpn.git\n",
        "#!git pull"
      ],
      "execution_count": null,
      "outputs": [
        {
          "output_type": "stream",
          "text": [
            "/content/drive/My Drive/Colab Notebooks/DEEP_LEARNING_DTU/project/02456_l2rpn\n",
            "remote: Enumerating objects: 5, done.\u001b[K\n",
            "remote: Counting objects: 100% (5/5), done.\u001b[K\n",
            "remote: Compressing objects: 100% (1/1), done.\u001b[K\n",
            "remote: Total 3 (delta 2), reused 3 (delta 2), pack-reused 0\u001b[K\n",
            "Unpacking objects: 100% (3/3), done.\n",
            "From https://github.com/jmontalvo94/02456_l2rpn\n",
            "   5df8195..57fe4f7  main       -> origin/main\n",
            "Updating 5df8195..57fe4f7\n",
            "Fast-forward\n",
            " agent_emil.py | 2 \u001b[32m++\u001b[m\n",
            " 1 file changed, 2 insertions(+)\n"
          ],
          "name": "stdout"
        }
      ]
    },
    {
      "cell_type": "code",
      "metadata": {
        "colab": {
          "base_uri": "https://localhost:8080/"
        },
        "id": "CCzLfGVkpubI",
        "outputId": "324accba-f8a0-4fdb-b347-f22da78a3ef7"
      },
      "source": [
        "!git pull"
      ],
      "execution_count": null,
      "outputs": [
        {
          "output_type": "stream",
          "text": [
            "remote: Enumerating objects: 5, done.\u001b[K\n",
            "remote: Counting objects:  20% (1/5)\u001b[K\rremote: Counting objects:  40% (2/5)\u001b[K\rremote: Counting objects:  60% (3/5)\u001b[K\rremote: Counting objects:  80% (4/5)\u001b[K\rremote: Counting objects: 100% (5/5)\u001b[K\rremote: Counting objects: 100% (5/5), done.\u001b[K\n",
            "remote: Compressing objects: 100% (1/1)\u001b[K\rremote: Compressing objects: 100% (1/1), done.\u001b[K\n",
            "remote: Total 3 (delta 2), reused 3 (delta 2), pack-reused 0\u001b[K\n",
            "Unpacking objects:  33% (1/3)   \rUnpacking objects:  66% (2/3)   \rUnpacking objects: 100% (3/3)   \rUnpacking objects: 100% (3/3), done.\n",
            "From https://github.com/jmontalvo94/02456_l2rpn\n",
            "   e7402c8..5327d3a  main       -> origin/main\n",
            "Updating e7402c8..5327d3a\n",
            "Fast-forward\n",
            " agent_emil.py | 26 \u001b[32m+++++++++++\u001b[m\u001b[31m---------------\u001b[m\n",
            " 1 file changed, 11 insertions(+), 15 deletions(-)\n"
          ],
          "name": "stdout"
        }
      ]
    },
    {
      "cell_type": "code",
      "metadata": {
        "colab": {
          "base_uri": "https://localhost:8080/"
        },
        "id": "12yOFgca_XJ6",
        "outputId": "1170940f-2a06-4e6c-abc7-0fe8c553c771"
      },
      "source": [
        "%cd /content/drive/My\\ Drive/Colab\\ Notebooks/DEEP_LEARNING_DTU/project/\\02456_l2rpn/\n",
        "\n",
        "!pip install grid2op\n",
        "\n",
        "import agent_emil as agent \n",
        "import grid2op\n",
        "import re\n",
        "import numpy as np\n",
        "import pandas as pd\n",
        "import matplotlib.pyplot as plt\n",
        "from grid2op.Chronics import GridStateFromFileWithForecasts\n",
        "from grid2op.Agent import DoNothingAgent,RandomAgent,PowerLineSwitch,AgentWithConverter\n",
        "from grid2op.Action import DontAct,PowerlineChangeAction,TopologySetAction,TopologyChangeAction\n",
        "from grid2op.PlotGrid import PlotMatplot\n",
        "from grid2op.Parameters import Parameters\n",
        "from grid2op.Converter import IdToAct,Converter\n",
        "from grid2op.Reward import FlatReward\n",
        "from itertools import product\n",
        "from tqdm.notebook import tqdm "
      ],
      "execution_count": null,
      "outputs": [
        {
          "output_type": "stream",
          "text": [
            "/content/drive/My Drive/Colab Notebooks/DEEP_LEARNING_DTU/project/02456_l2rpn\n",
            "Requirement already satisfied: grid2op in /usr/local/lib/python3.6/dist-packages (1.3.1)\n",
            "Requirement already satisfied: scipy>=1.4.1 in /usr/local/lib/python3.6/dist-packages (from grid2op) (1.4.1)\n",
            "Requirement already satisfied: networkx>=2.4 in /usr/local/lib/python3.6/dist-packages (from grid2op) (2.5)\n",
            "Requirement already satisfied: tqdm>=4.45.0 in /usr/local/lib/python3.6/dist-packages (from grid2op) (4.54.0)\n",
            "Requirement already satisfied: pandapower>=2.2.2 in /usr/local/lib/python3.6/dist-packages (from grid2op) (2.4.0)\n",
            "Requirement already satisfied: pathlib>=1.0.1 in /usr/local/lib/python3.6/dist-packages (from grid2op) (1.0.1)\n",
            "Requirement already satisfied: requests>=2.23.0 in /usr/local/lib/python3.6/dist-packages (from grid2op) (2.23.0)\n",
            "Requirement already satisfied: pandas>=1.0.3 in /usr/local/lib/python3.6/dist-packages (from grid2op) (1.1.4)\n",
            "Requirement already satisfied: numpy>=1.18.3 in /usr/local/lib/python3.6/dist-packages (from grid2op) (1.18.5)\n",
            "Requirement already satisfied: decorator>=4.3.0 in /usr/local/lib/python3.6/dist-packages (from networkx>=2.4->grid2op) (4.4.2)\n",
            "Requirement already satisfied: xlrd in /usr/local/lib/python3.6/dist-packages (from pandapower>=2.2.2->grid2op) (1.1.0)\n",
            "Requirement already satisfied: xlsxwriter in /usr/local/lib/python3.6/dist-packages (from pandapower>=2.2.2->grid2op) (1.3.7)\n",
            "Requirement already satisfied: packaging in /usr/local/lib/python3.6/dist-packages (from pandapower>=2.2.2->grid2op) (20.4)\n",
            "Requirement already satisfied: cryptography in /usr/local/lib/python3.6/dist-packages (from pandapower>=2.2.2->grid2op) (3.2.1)\n",
            "Requirement already satisfied: idna<3,>=2.5 in /usr/local/lib/python3.6/dist-packages (from requests>=2.23.0->grid2op) (2.10)\n",
            "Requirement already satisfied: chardet<4,>=3.0.2 in /usr/local/lib/python3.6/dist-packages (from requests>=2.23.0->grid2op) (3.0.4)\n",
            "Requirement already satisfied: urllib3!=1.25.0,!=1.25.1,<1.26,>=1.21.1 in /usr/local/lib/python3.6/dist-packages (from requests>=2.23.0->grid2op) (1.24.3)\n",
            "Requirement already satisfied: certifi>=2017.4.17 in /usr/local/lib/python3.6/dist-packages (from requests>=2.23.0->grid2op) (2020.11.8)\n",
            "Requirement already satisfied: pytz>=2017.2 in /usr/local/lib/python3.6/dist-packages (from pandas>=1.0.3->grid2op) (2018.9)\n",
            "Requirement already satisfied: python-dateutil>=2.7.3 in /usr/local/lib/python3.6/dist-packages (from pandas>=1.0.3->grid2op) (2.8.1)\n",
            "Requirement already satisfied: six in /usr/local/lib/python3.6/dist-packages (from packaging->pandapower>=2.2.2->grid2op) (1.15.0)\n",
            "Requirement already satisfied: pyparsing>=2.0.2 in /usr/local/lib/python3.6/dist-packages (from packaging->pandapower>=2.2.2->grid2op) (2.4.7)\n",
            "Requirement already satisfied: cffi!=1.11.3,>=1.8 in /usr/local/lib/python3.6/dist-packages (from cryptography->pandapower>=2.2.2->grid2op) (1.14.3)\n",
            "Requirement already satisfied: pycparser in /usr/local/lib/python3.6/dist-packages (from cffi!=1.11.3,>=1.8->cryptography->pandapower>=2.2.2->grid2op) (2.20)\n"
          ],
          "name": "stdout"
        }
      ]
    },
    {
      "cell_type": "markdown",
      "metadata": {
        "id": "4gkYjnRfJHm_"
      },
      "source": [
        "# CREATE ENVIROMENT"
      ]
    },
    {
      "cell_type": "code",
      "metadata": {
        "id": "2aDnlLjJJKwx"
      },
      "source": [
        "p = Parameters()\n",
        "# Disable lines disconnections due to overflows\n",
        "#p.NO_OVERFLOW_DISCONNECTION = True\n",
        "# Allow many steps with overflow\n",
        "p.NB_TIMESTEP_OVERFLOW_ALLOWED = 1 # Default is 2\n",
        "# No waiting time to reconnect\n",
        "#p.NB_TIMESTEP_RECONNECTION = 0\n",
        "# No authomatic disconnection\n",
        "#p.HARD_OVERFLOW_THRESHOLD = 9999\n",
        "\n",
        "# env = grid2op.make('rte_case14_realistic',\n",
        "#                    action_class=TopologyChangeAction,\n",
        "#                    param=p)\n",
        "\n",
        "\n",
        "env = grid2op.make('rte_case14_realistic',\n",
        "                   action_class=TopologyChangeAction,\n",
        "                   reward_class=FlatReward,\n",
        "                   param=p)"
      ],
      "execution_count": null,
      "outputs": []
    },
    {
      "cell_type": "markdown",
      "metadata": {
        "id": "Taw-_9qXLHu1"
      },
      "source": [
        "##### CUSTOM-MADE FUNCTIONS TO CONVERT GRID2OP ACTION TO ONE HOT ENCODING ACTION"
      ]
    },
    {
      "cell_type": "code",
      "metadata": {
        "id": "34-1ShvF6hpo"
      },
      "source": [
        "n_powerlines = 20\n",
        "n_substations = 14\n",
        "total_bus_actions = 56\n",
        "\n",
        "def create_one_hot_converter(n_powerlines,n_substations,total_bus_actions):\n",
        "  \"\"\"\n",
        "  Creates two 2-d np.arrays used for conversion between grid2op action to one hot encoding action vector used by a neural network\n",
        "  \"\"\"\n",
        "  one_hot_encoding_act_conv = []\n",
        "  env_act_dict_list = []\n",
        "  zero_act = np.zeros((n_powerlines+total_bus_actions,1))\n",
        "\n",
        "  ## Add do nothing action vector (all zeroes)\n",
        "  one_hot_encoding_act_conv.append(zero_act)\n",
        "  env_act_dict_list.append({}) ## {} is the do nothing dictonary for actions in grid2op\n",
        "\n",
        "  ## Powerline change actions\n",
        "  for idx in range(n_powerlines):\n",
        "    one_hot_encoding_act_conv_pwline = zero_act.copy()\n",
        "    one_hot_encoding_act_conv_pwline[total_bus_actions+idx] = 1\n",
        "    one_hot_encoding_act_conv.append(one_hot_encoding_act_conv_pwline)\n",
        "    env_act_dict_list.append({'change_line_status': [idx]}) ## {'change_line_status': [idx]} set an action of changing line status for lineid with id idx\n",
        "\n",
        "\n",
        "  ## Bus change actions\n",
        "  start_slice = 0\n",
        "  for sub_station_id, nb_el in enumerate(env.action_space.sub_info):\n",
        "    one_hot_encoding_act_conv_substation = zero_act.copy()\n",
        "\n",
        "    possible_bus_actions = np.array(list(product('01', repeat=nb_el))).astype(int)\n",
        "    for possible_bus_action in possible_bus_actions:\n",
        "      if possible_bus_action.sum()>0: # Do not include no change action vector\n",
        "        one_hot_encoding_act_conv_substation[start_slice:(start_slice+nb_el)] = possible_bus_action.reshape(-1,1)\n",
        "        one_hot_encoding_act_conv.append(one_hot_encoding_act_conv_substation.copy())\n",
        "        env_act_dict_list.append({\"change_bus\": {\"substations_id\": [(sub_station_id, possible_bus_action.astype(bool))]}})\n",
        "    start_slice += nb_el\n",
        "\n",
        "  one_hot_encoding_act_conv = np.array(one_hot_encoding_act_conv).reshape(len(one_hot_encoding_act_conv),n_powerlines+total_bus_actions)\n",
        "\n",
        "  return one_hot_encoding_act_conv,env_act_dict_list\n",
        "\n",
        "def convert_env_act_to_one_hot_encoding_act(one_hot_encoding_act_conv,env_act):\n",
        "  \"\"\"\n",
        "  Converts an grid2op action (in numpy format) to a one hot encoding vector\n",
        "  \"\"\"\n",
        "  one_hot_encoding_act = np.zeros(len(one_hot_encoding_act_conv))\n",
        "  env_act = env_act.reshape(-1,)\n",
        "  action_idx = (one_hot_encoding_act_conv[:, None] == env_act).all(-1).any(-1)\n",
        "  one_hot_encoding_act[action_idx] = 1\n",
        "  return one_hot_encoding_act\n",
        "\n",
        "def convert_one_hot_encoding_act_to_env_act(env_act_dict_list,one_hot_encoding_act,env=env):\n",
        "  \"\"\"\n",
        "  Converts a one hot encoding action to a grid2op action\n",
        "  \"\"\"\n",
        "  return env.action_space(env_act_dict_list[tmp_.argmax().item()])"
      ],
      "execution_count": null,
      "outputs": []
    },
    {
      "cell_type": "markdown",
      "metadata": {
        "id": "bxUTlkF-LTbJ"
      },
      "source": [
        "##### SANITY CHECKS OF WHETHER CUSTOM MADE CONVERSIONS WORK"
      ]
    },
    {
      "cell_type": "code",
      "metadata": {
        "colab": {
          "base_uri": "https://localhost:8080/"
        },
        "id": "CDvSVUuhkDTz",
        "outputId": "947f083a-c347-49b3-b0e5-e5f89006daf0"
      },
      "source": [
        "one_hot_encoding_act_conv,env_act_dict_list = create_one_hot_converter(n_powerlines,n_substations,total_bus_actions)\n",
        "\n",
        "my_agent = RandomAgent(env.action_space)\n",
        "all_obs = []\n",
        "obs = env.reset()\n",
        "reward = env.reward_range[0]\n",
        "reward_list = []\n",
        "done = False\n",
        "nb_step = 0\n",
        "action = my_agent.act(obs, reward, done)\n",
        "#print(action.to_vect()[:56])\n",
        "#print(action.to_vect()[-20:])\n",
        "print(\"Action directly from grid2op\")\n",
        "print(action)\n",
        "#print(action.to_dict())\n",
        "tmp_ = convert_env_act_to_one_hot_encoding_act(one_hot_encoding_act_conv,env_act=action.to_vect())\n",
        "my_action = convert_one_hot_encoding_act_to_env_act(env_act_dict_list,tmp_)\n",
        "print(\"Action converted to one hot encoding and back to grid2op action. Should be the same as above\")\n",
        "print(my_action)"
      ],
      "execution_count": null,
      "outputs": [
        {
          "output_type": "stream",
          "text": [
            "Action directly from grid2op\n",
            "This action will:\n",
            "\t - NOT change anything to the injections\n",
            "\t - NOT perform any redispatching action\n",
            "\t - NOT force any line status\n",
            "\t - NOT switch any line status\n",
            "\t - Change the bus of the following element:\n",
            "\t \t - switch bus of line (origin) 2 [on substation 1]\n",
            "\t \t - switch bus of line (origin) 3 [on substation 1]\n",
            "\t \t - switch bus of line (origin) 4 [on substation 1]\n",
            "\t \t - switch bus of generator 0 [on substation 1]\n",
            "\t \t - switch bus of load 0 [on substation 1]\n",
            "\t - NOT force any particular bus configuration\n",
            "Action converted to one hot encoding and back to grid2op action. Should be the same as above\n",
            "This action will:\n",
            "\t - NOT change anything to the injections\n",
            "\t - NOT perform any redispatching action\n",
            "\t - NOT force any line status\n",
            "\t - NOT switch any line status\n",
            "\t - Change the bus of the following element:\n",
            "\t \t - switch bus of line (origin) 2 [on substation 1]\n",
            "\t \t - switch bus of line (origin) 3 [on substation 1]\n",
            "\t \t - switch bus of line (origin) 4 [on substation 1]\n",
            "\t \t - switch bus of generator 0 [on substation 1]\n",
            "\t \t - switch bus of load 0 [on substation 1]\n",
            "\t - NOT force any particular bus configuration\n"
          ],
          "name": "stdout"
        }
      ]
    },
    {
      "cell_type": "markdown",
      "metadata": {
        "id": "-xSw0pzHJOdn"
      },
      "source": [
        "# PRE-BUILT AGENT: DO NOTHING AGENT"
      ]
    },
    {
      "cell_type": "code",
      "metadata": {
        "colab": {
          "base_uri": "https://localhost:8080/",
          "height": 82,
          "referenced_widgets": [
            "f850c940f17f40298c0729f192bdb6f7",
            "bc57b8b61ecb4ec48cac6bb83998b209",
            "923fe07baf64462ca791db7e88162060",
            "50e0007c147c4e998ba229583e01d22b",
            "f941b2eb8fdb4415a5ac2a8b37b7f25e",
            "8aaf08701f954aef842e7a90fed49b44",
            "ae363b996e324b90b807b61a1c54e2cb",
            "5af14c92cab240638b2ac1da07a8cf11",
            "7d8359c769be43af9dd89cfe717c260d",
            "fcdb8eb710cb4ccfb5edd7f1ad9ae9e0",
            "94560a3e8c054b9885d18f6cc7d6c9e1"
          ]
        },
        "id": "jrDcuB7_zvuO",
        "outputId": "76383d79-b702-47de-d092-6dfc05fa2971"
      },
      "source": [
        "my_agent = DoNothingAgent(env.action_space)\n",
        "all_obs = []\n",
        "obs = env.reset()\n",
        "all_obs.append(obs)\n",
        "reward = env.reward_range[0]\n",
        "reward_list = []\n",
        "done = False\n",
        "nb_step = 0\n",
        "print(\"Do Nothing Agent Simulation\")\n",
        "with tqdm(total=env.chronics_handler.max_timestep()) as pbar:\n",
        "    while True:\n",
        "        action = my_agent.act(obs, reward, done)\n",
        "        obs, reward, done, _ = env.step(action)\n",
        "        reward_list.append(reward)\n",
        "        pbar.update(1)\n",
        "        if done:\n",
        "            break\n",
        "        all_obs.append(obs)\n",
        "        nb_step += 1\n",
        "\n",
        "reward_list_do_nothing_agent = np.copy(reward_list)\n"
      ],
      "execution_count": null,
      "outputs": [
        {
          "output_type": "stream",
          "text": [
            "Do Nothing Agent Simulation\n"
          ],
          "name": "stdout"
        },
        {
          "output_type": "display_data",
          "data": {
            "application/vnd.jupyter.widget-view+json": {
              "model_id": "f850c940f17f40298c0729f192bdb6f7",
              "version_minor": 0,
              "version_major": 2
            },
            "text/plain": [
              "HBox(children=(HTML(value=''), FloatProgress(value=0.0, max=8064.0), HTML(value='')))"
            ]
          },
          "metadata": {
            "tags": []
          }
        },
        {
          "output_type": "stream",
          "text": [
            "\n"
          ],
          "name": "stdout"
        }
      ]
    },
    {
      "cell_type": "code",
      "metadata": {
        "colab": {
          "base_uri": "https://localhost:8080/"
        },
        "id": "jJXzN3yur7UU",
        "outputId": "7915fb01-0b34-415d-843e-1c7d2feaf5d2"
      },
      "source": [
        "reward_list_do_nothing_agent"
      ],
      "execution_count": null,
      "outputs": [
        {
          "output_type": "execute_result",
          "data": {
            "text/plain": [
              "array([1., 1., 1., ..., 1., 1., 0.], dtype=float32)"
            ]
          },
          "metadata": {
            "tags": []
          },
          "execution_count": 23
        }
      ]
    },
    {
      "cell_type": "markdown",
      "metadata": {
        "id": "Yuzy6V3dLeBh"
      },
      "source": [
        "# PRE-BUILT AGENT: RANDOM ACTION AGENT"
      ]
    },
    {
      "cell_type": "code",
      "metadata": {
        "colab": {
          "base_uri": "https://localhost:8080/",
          "height": 82,
          "referenced_widgets": [
            "a3504c46a64441b794c9a16b3efae8dd",
            "6015263972aa48e791c75acfdbc24dc2",
            "ea29bb02dca2430fa7cacc0b9c71e18d",
            "8f4511f4a4eb44cdaef1128f4724fa99",
            "80dfc6d1d76d42a8a52880c53c85c3b1",
            "5b24025df5154dbcb567ebd37904d08b",
            "0c3dc240230f412eaeb704c560024b17",
            "aee4d4131d10457393816b38cd333047",
            "98149fa84a89478cbfa566174db49603",
            "2cd587fa3d8f47049d2d5562b8d98634",
            "2a6ce2d5631e4f3cbb8ff8c0dc40d005"
          ]
        },
        "id": "PdiVQrzC1rf8",
        "outputId": "f98db777-cc05-4b9e-afa8-184368ea6685"
      },
      "source": [
        "my_agent = RandomAgent(env.action_space)\n",
        "all_obs = []\n",
        "obs = env.reset()\n",
        "all_obs.append(obs)\n",
        "reward = env.reward_range[0]\n",
        "reward_list = []\n",
        "done = False\n",
        "nb_step = 0\n",
        "print(\"Random Agent Simulation\")\n",
        "with tqdm(total=env.chronics_handler.max_timestep()) as pbar:\n",
        "    while True:\n",
        "        action = my_agent.act(obs, reward, done)\n",
        "        obs, reward, done, _ = env.step(action)\n",
        "        reward_list.append(reward)\n",
        "        pbar.update(1)\n",
        "        if done:\n",
        "            break\n",
        "        all_obs.append(obs)\n",
        "        nb_step += 1\n",
        "\n",
        "reward_list_random_agent = np.copy(reward_list)\n"
      ],
      "execution_count": null,
      "outputs": [
        {
          "output_type": "stream",
          "text": [
            "Random Agent Simulation\n"
          ],
          "name": "stdout"
        },
        {
          "output_type": "display_data",
          "data": {
            "application/vnd.jupyter.widget-view+json": {
              "model_id": "a3504c46a64441b794c9a16b3efae8dd",
              "version_minor": 0,
              "version_major": 2
            },
            "text/plain": [
              "HBox(children=(HTML(value=''), FloatProgress(value=0.0, max=8064.0), HTML(value='')))"
            ]
          },
          "metadata": {
            "tags": []
          }
        },
        {
          "output_type": "stream",
          "text": [
            "\n"
          ],
          "name": "stdout"
        }
      ]
    },
    {
      "cell_type": "markdown",
      "metadata": {
        "id": "DkG0bNV2LgDj"
      },
      "source": [
        "# PRE-BUILT AGENT: POWER SWITCH AGENT"
      ]
    },
    {
      "cell_type": "code",
      "metadata": {
        "colab": {
          "base_uri": "https://localhost:8080/",
          "height": 82,
          "referenced_widgets": [
            "5361225a78ca4f4caeeaf12c99bf4373",
            "aec75469212a41c2b04f7cd8a00ea592",
            "cac76db14fbc43688f55748bcf2b1e40",
            "3b6e3607af8a423da2886cc31d38561d",
            "5f29fd8df1b54293839793fe5970e147",
            "58a02f2c06484f438997fcae75649368",
            "9d73ddaca0de4b3c9cfe11e925100a0e",
            "ce6471e788ad4389bc5398500bd02bae",
            "b3b44b7720b94c9f944cf97f0ce40b06",
            "f8b77c3f76654b1794ac9d1cb2dc280c",
            "77eb5a0c2a6e40d29c44d452cfeb878b"
          ]
        },
        "id": "ODbKAS9y3I4r",
        "outputId": "6d795dea-849c-4cc5-fada-c4e32fb0b1a4"
      },
      "source": [
        "env_all_actions_available = grid2op.make('rte_case14_realistic',\n",
        "                   reward_class=FlatReward,\n",
        "                   param=p)\n",
        "my_agent = PowerLineSwitch(env_all_actions_available.action_space)\n",
        "all_obs = []\n",
        "obs = env_all_actions_available.reset()\n",
        "all_obs.append(obs)\n",
        "reward = env_all_actions_available.reward_range[0]\n",
        "reward_list = []\n",
        "done = False\n",
        "nb_step = 0\n",
        "print(\"Power Line Switch Agent Simulation\")\n",
        "with tqdm(total=env_all_actions_available.chronics_handler.max_timestep()) as pbar:\n",
        "    while True:\n",
        "        action = my_agent.act(obs, reward, done)\n",
        "        obs, reward, done, _ = env_all_actions_available.step(action)\n",
        "        reward_list.append(reward)\n",
        "        pbar.update(1)\n",
        "        if done:\n",
        "            break\n",
        "        all_obs.append(obs)\n",
        "        nb_step += 1\n",
        "\n",
        "reward_power_line_switch_agent = np.copy(reward_list)\n"
      ],
      "execution_count": null,
      "outputs": [
        {
          "output_type": "stream",
          "text": [
            "Power Line Switch Agent Simulation\n"
          ],
          "name": "stdout"
        },
        {
          "output_type": "display_data",
          "data": {
            "application/vnd.jupyter.widget-view+json": {
              "model_id": "5361225a78ca4f4caeeaf12c99bf4373",
              "version_minor": 0,
              "version_major": 2
            },
            "text/plain": [
              "HBox(children=(HTML(value=''), FloatProgress(value=0.0, max=8064.0), HTML(value='')))"
            ]
          },
          "metadata": {
            "tags": []
          }
        },
        {
          "output_type": "stream",
          "text": [
            "\n"
          ],
          "name": "stdout"
        }
      ]
    },
    {
      "cell_type": "markdown",
      "metadata": {
        "id": "csrcnm9ALjRA"
      },
      "source": [
        "# GRAPHICAL COMPARISON OF PRE-BUILT AGENTS"
      ]
    },
    {
      "cell_type": "code",
      "metadata": {
        "colab": {
          "base_uri": "https://localhost:8080/",
          "height": 369
        },
        "id": "FncvWlavL5bx",
        "outputId": "342a6781-91a5-4105-a405-086a5e9f53c0"
      },
      "source": [
        "import seaborn as sns\n",
        "import matplotlib.pyplot as plt\n",
        "\n",
        "nested_lists = [reward_list_do_nothing_agent,reward_list_random_agent,reward_power_line_switch_agent]\n",
        "lists_to_df  = []\n",
        "\n",
        "for nested_list in  nested_lists:\n",
        "  len_list = len(nested_list)\n",
        "  final_value = nested_list[-1]\n",
        "  list_ = np.repeat(final_value,env.chronics_handler.max_timestep())\n",
        "  list_[:len_list] = nested_list\n",
        "  lists_to_df.append(list_)\n",
        "\n",
        "df_pre_built_agents = pd.DataFrame(lists_to_df)\\\n",
        ".transpose()\\\n",
        ".rename(columns={0:'do_nothing_agent',1:'random_agent',2:'switch_power_line_agent'})\\\n",
        ".stack()\\\n",
        ".reset_index()\\\n",
        ".rename(columns={'level_0':'iteration','level_1':'agent_type',0:'reward'})\n",
        "\n",
        "\n",
        "fig,ax = plt.subplots(1,1,figsize=(7,5))\n",
        "sns.lineplot(x='iteration',y='reward',hue='agent_type',ax=ax,data=df_pre_built_agents)\n",
        "ax.set_xlabel(\"# of iterations\")\n",
        "ax.set_ylabel(\"Reward\")\n",
        "ax.set_title(\"Performance of pre-built grid2op agents\\n(Only actions available are pwline switch and topology set action)\")\n",
        "ax.legend(['Do nothing agent','Random actions agent','Switch Power Line agent'])\n",
        "plt.tight_layout()\n",
        "plt.show()\n",
        "# df_pre_built_agents = pd.DataFrame({'random_agent':reward_list_random_agent,\n",
        "#                                     'power_line_switch_agent':reward_power_line_switch_agent\n",
        "#                                     })\n",
        "# df_pre_built_agents"
      ],
      "execution_count": null,
      "outputs": [
        {
          "output_type": "display_data",
          "data": {
            "image/png": "[encoded data removed]",
            "text/plain": [
              "<Figure size 504x360 with 1 Axes>"
            ]
          },
          "metadata": {
            "tags": [],
            "needs_background": "light"
          }
        }
      ]
    },
    {
      "cell_type": "markdown",
      "metadata": {
        "id": "GgPG0z_DYbL0"
      },
      "source": [
        "# SIMPLE DQN"
      ]
    },
    {
      "cell_type": "code",
      "metadata": {
        "colab": {
          "base_uri": "https://localhost:8080/",
          "height": 1000,
          "referenced_widgets": [
            "22dda315639f42e4bbefbfe4975598c1",
            "6cc6c6ea50fe4785a1a3a7f2dd9a0d36",
            "ef8008c8827349f6af33b3bc26459195",
            "6cc79644397d4ac3b0f33e7960cd7b85",
            "c64ea066b3eb4abc9c53bcbc3297ec3c",
            "fc887f7e0e6841cabe13dbf919384386",
            "f26e372bd5094feca93aa867435ed724",
            "414dea96c3134349bfbe4eb21ac18b60",
            "4173433057d04302bd728b24d12111a7",
            "fe0f9aa9f6cb4b8caebdb41aa2f7870a",
            "f35e680798da42cb9f8f1f23bfce7e7c"
          ]
        },
        "id": "BOD9Rbwea7aQ",
        "outputId": "0bf6063f-7023-45f0-b718-4eb5903e1463"
      },
      "source": [
        "import torch \n",
        "\n",
        "load_qdn_from_network = False\n",
        "prefix_NN_weight_files = 'dec_2_'\n",
        "\n",
        "def act_vect_to_act_obj(env, Q_est):\n",
        "  \"\"\"\n",
        "  This function returns a grid2op action object based on the estimated Q-value vector.\n",
        "  It operates as follows:\n",
        "  1. Identifies whether a' (action that maximizes Q function is positive).\n",
        "  2. if a' is non-positive, do nothing action is returned\n",
        "  3. if a' positive a grid2op action with line change of a' is returned.   \n",
        "\n",
        "  Arguments:\n",
        "\n",
        "  env: grid2op enviroment\n",
        "\n",
        "  Q_est: torch array\n",
        "  - Estimated Q-value function \n",
        "\n",
        "  Returns\n",
        "  a: grid2op action object\n",
        "  \"\"\"\n",
        "\n",
        "  ## Fix potential nan values\n",
        "  Q_est[Q_est!=Q_est] = -1\n",
        "  a_argmax = Q_est.argmax()\n",
        "\n",
        "  # Check if a' is above zero\n",
        "  if Q_est.max()>0:\n",
        "    line_id = Q_est.argmax().item()\n",
        "    a = env.action_space({'change_line_status': [line_id]}) # Change line status of line with line_id\n",
        "  else:\n",
        "    a = env.action_space({}) # Do nothing\n",
        "\n",
        "  return a\n",
        "\n",
        "if torch.cuda.is_available(): \n",
        " dev = \"cuda:0\" \n",
        "else: \n",
        " dev = \"cpu\"\n",
        "\n",
        "# num_episodes = 2000\n",
        "# episode_limit = 100\n",
        "# batch_size = 64\n",
        "# learning_rate = 0.005\n",
        "# gamma = 0.99 # discount rate\n",
        "# tau = 0.01 # target network update rate\n",
        "# replay_memory_capacity = 10000\n",
        "# prefill_memory = True\n",
        "# double_dqn = False\n",
        "# val_freq = 100 # validation frequency\n",
        "\n",
        "one_hot_encoding_act_conv,env_act_dict_list = create_one_hot_converter(n_powerlines,n_substations,total_bus_actions)\n",
        "\n",
        "TRAINING_PARAMS = {\n",
        "    'num_episodes':2500,\n",
        "    'episode_limit':env.chronics_handler.max_timestep(),\n",
        "    'batch_size':64,\n",
        "    'replay_memory_capacity':20000,\n",
        "    'prefil_memory':True,\n",
        "    'val_freq':100,\n",
        "    'tau':0.01,\n",
        "    'gamma':0.99,\n",
        "    'episilon_decay':'Linear' # 'Linear' or 'Exponential'\n",
        "}\n",
        "\n",
        "NN_PARAMS = {\n",
        "    'n_inputs':env.observation_space.n,\n",
        "    'n_outputs':len(one_hot_encoding_act_conv),\n",
        "    'n_hidden_layers':3,\n",
        "    'n_hidden_units':[300,300,300],\n",
        "    'relu':True,\n",
        "    'optimizer':'SGD',\n",
        "    'learning_rate':0.005,\n",
        "    'weight_decay':0.001\n",
        "}\n",
        "\n",
        "# n_inputs = env.observation_space.n\n",
        "# n_outputs = env.action_space.n\n",
        "\n",
        "# initialize DQN and replay memory\n",
        "\n",
        "  \n",
        "policy_dqn = agent.DQN(NN_PARAMS)\n",
        "target_dqn = agent.DQN(NN_PARAMS)\n",
        "\n",
        "if load_qdn_from_network:\n",
        "  target_dqn.load_state_dict(torch.load('checkpoint_target_dqn.pth'))\n",
        "  policy_dqn.load_state_dict(torch.load('checkpoint_policy_dqn.pth'))\n",
        "\n",
        "# set to cuda if available\n",
        "policy_dqn = policy_dqn.to(dev)\n",
        "target_dqn = target_dqn.to(dev)\n",
        "\n",
        "replay_memory = agent.ReplayMemory(TRAINING_PARAMS['replay_memory_capacity'])\n",
        "\n",
        "# prefill replay memory with random actions\n",
        "if TRAINING_PARAMS['prefil_memory']:\n",
        "    print('prefill replay memory')\n",
        "    s = env.reset()\n",
        "    with tqdm(total=TRAINING_PARAMS['replay_memory_capacity']) as pbar:\n",
        "      while replay_memory.count() < TRAINING_PARAMS['replay_memory_capacity']:\n",
        "          a = env.action_space.sample()\n",
        "          s1, r, d, _ = env.step(a)\n",
        "          a_one_hot = convert_env_act_to_one_hot_encoding_act(one_hot_encoding_act_conv,env_act=a.to_vect())\n",
        "          replay_memory.add(s.to_vect(), a_one_hot, r, s1.to_vect(), d)\n",
        "          s = s1 if not d else env.reset()\n",
        "          pbar.update(1)\n",
        "\n",
        "# Fix issue with replay_memory not saving states and actions as vectors in some cases (legacy)\n",
        "# for i,sample_ in enumerate(replay_memory.memory):\n",
        "#   for j in [0,1,3]:\n",
        "#     try:\n",
        "#       ss_ = sample_[j].to_vect()\n",
        "#       replay_memory[i][j] = ss_\n",
        "#     except:\n",
        "#       pass\n",
        "\n",
        "# training loop\n",
        "try:\n",
        "    print('start training')\n",
        "    epsilon = 1.0\n",
        "    rewards, lengths, losses, epsilons, game_overs, action_ids = [], [], [], [], [], []\n",
        "    for i in range(TRAINING_PARAMS['num_episodes']):\n",
        "        # init new episode\n",
        "        s, ep_reward, ep_loss,ep_game_over = env.reset(), 0, 0, False\n",
        "        action_ids_episode = []\n",
        "        for j in range(TRAINING_PARAMS['episode_limit']):\n",
        "            # select action with epsilon-greedy strategy\n",
        "            if np.random.rand() < epsilon:\n",
        "                a = env.action_space.sample()\n",
        "            else:\n",
        "                with torch.no_grad():\n",
        "                    Q_est = policy_dqn(torch.from_numpy(np.array(s.to_vect(),dtype='float32')).to(dev).float())\n",
        "                    Q_est[Q_est!=Q_est] = -1 ## Fix potentional na value\n",
        "                    a = env.action_space(env_act_dict_list[Q_est.argmax().item()])                  \n",
        "            # perform action\n",
        "            s1, r, d, _ = env.step(a)\n",
        "            # store experience in replay memory\n",
        "            a_one_hot = convert_env_act_to_one_hot_encoding_act(one_hot_encoding_act_conv,env_act=a.to_vect())\n",
        "            replay_memory.add(s.to_vect(), a_one_hot, r, s1.to_vect(), d)\n",
        "            # batch update\n",
        "            if replay_memory.count() >= TRAINING_PARAMS['batch_size']:\n",
        "                # sample batch from replay memory\n",
        "                batch = np.array(replay_memory.sample(TRAINING_PARAMS['batch_size']))\n",
        "                ss, aa, rr, ss1, dd = batch[:,0], batch[:,1], batch[:,2], batch[:,3], batch[:,4]\n",
        "                # do forward pass of batch\n",
        "                policy_dqn.optimizer.zero_grad()\n",
        "                #Q = policy_dqn(torch.from_numpy(one_hot(ss, n_inputs)).float())\n",
        "                Q = policy_dqn(torch.from_numpy(np.array(ss.tolist(),dtype='float32')).to(dev).float())\n",
        "                # use target network to compute target Q-values\n",
        "                with torch.no_grad():\n",
        "                      # TODO: use target net\n",
        "                      Q1 = target_dqn(torch.from_numpy(np.array(ss1.tolist(),dtype='float32')).to(dev).float())\n",
        "                # compute target for each sampled experience\n",
        "                q_targets = Q.clone()\n",
        "                for k in range(TRAINING_PARAMS['batch_size']):\n",
        "                    q_targets[k, aa[k]] = rr[k] + TRAINING_PARAMS['gamma'] * Q1[k].max().item() * (not dd[k])\n",
        "                # update network weights\n",
        "                loss = policy_dqn.loss(Q, q_targets)\n",
        "                loss.backward()\n",
        "                policy_dqn.optimizer.step()\n",
        "                # update target network parameters from policy network parameters\n",
        "                target_dqn.update_params(policy_dqn.state_dict(), TRAINING_PARAMS['tau'])\n",
        "            else:\n",
        "                loss = 0\n",
        "            # bookkeeping\n",
        "            s = s1\n",
        "            ep_reward += r\n",
        "            action_ids_episode.append(a_one_hot.argmax().item())\n",
        "            try: ep_loss += loss.item()\n",
        "            except: ep_loss += loss\n",
        "            if r==-10:\n",
        "              ep_game_over = True\n",
        "            if d: break\n",
        "\n",
        "        # Update epsilon\n",
        "        if TRAINING_PARAMS['episilon_decay']=='Linear':\n",
        "          epsilon = 1 - i / TRAINING_PARAMS['num_episodes'] \n",
        "        elif TRAINING_PARAMS['episilon_decay']=='Exponential':\n",
        "          epsilon *= TRAINING_PARAMS['num_episodes']/(i/(TRAINING_PARAMS['num_episodes']/20)+TRAINING_PARAMS['num_episodes']) # decrease epsilon\n",
        "        \n",
        "        # bookkeeping\n",
        "        epsilons.append(epsilon); rewards.append(ep_reward); lengths.append(j+1); losses.append(ep_loss);game_overs.append(ep_game_over);action_ids.append(action_ids_episode)\n",
        "        if (i+1) % TRAINING_PARAMS['val_freq'] == 0:\n",
        "          print('%5d mean training reward: %5.2f' % (i+1, np.mean(rewards[-TRAINING_PARAMS['val_freq']:])))\n",
        "          print(f\"{i+1} mean survival length: {np.mean(lengths[-TRAINING_PARAMS['val_freq']:])}\")\n",
        "          print(f\"{i+1} Best survival length: {np.max(lengths[-TRAINING_PARAMS['val_freq']:])}\")\n",
        "          torch.save(policy_dqn.state_dict(), prefix_NN_weight_files+'checkpoint_policy_dqn.pth')\n",
        "          torch.save(target_dqn.state_dict(), prefix_NN_weight_files+'checkpoint_target_dqn.pth')\n",
        "          #print(f\"{i+1} mean survival rate (not game over): {1-np.mean(game_overs[-TRAINING_PARAMS['val_freq']:])}%\")\n",
        "    print('done')\n",
        "except KeyboardInterrupt:\n",
        "    print('interrupt')\n",
        "\n"
      ],
      "execution_count": null,
      "outputs": [
        {
          "output_type": "stream",
          "text": [
            "prefill replay memory\n"
          ],
          "name": "stdout"
        },
        {
          "output_type": "display_data",
          "data": {
            "application/vnd.jupyter.widget-view+json": {
              "model_id": "22dda315639f42e4bbefbfe4975598c1",
              "version_minor": 0,
              "version_major": 2
            },
            "text/plain": [
              "HBox(children=(HTML(value=''), FloatProgress(value=0.0, max=20000.0), HTML(value='')))"
            ]
          },
          "metadata": {
            "tags": []
          }
        },
        {
          "output_type": "stream",
          "text": [
            "\n",
            "start training\n",
            "  100 mean training reward:  1.28\n",
            "100 mean survival length: 2.28\n",
            "100 Best survival length: 6\n",
            "  200 mean training reward:  1.55\n",
            "200 mean survival length: 2.55\n",
            "200 Best survival length: 7\n",
            "  300 mean training reward:  1.25\n",
            "300 mean survival length: 2.25\n",
            "300 Best survival length: 7\n",
            "  400 mean training reward:  1.40\n",
            "400 mean survival length: 2.4\n",
            "400 Best survival length: 6\n",
            "  500 mean training reward:  1.81\n",
            "500 mean survival length: 2.81\n",
            "500 Best survival length: 8\n",
            "  600 mean training reward:  1.55\n",
            "600 mean survival length: 2.55\n",
            "600 Best survival length: 8\n",
            "  700 mean training reward:  1.62\n",
            "700 mean survival length: 2.62\n",
            "700 Best survival length: 10\n",
            "  800 mean training reward:  1.79\n",
            "800 mean survival length: 2.79\n",
            "800 Best survival length: 10\n",
            "  900 mean training reward:  2.09\n",
            "900 mean survival length: 3.09\n",
            "900 Best survival length: 10\n",
            " 1000 mean training reward:  2.32\n",
            "1000 mean survival length: 3.32\n",
            "1000 Best survival length: 10\n",
            " 1100 mean training reward:  3.01\n",
            "1100 mean survival length: 4.01\n",
            "1100 Best survival length: 11\n",
            " 1200 mean training reward:  2.47\n",
            "1200 mean survival length: 3.47\n",
            "1200 Best survival length: 12\n",
            " 1300 mean training reward:  2.92\n",
            "1300 mean survival length: 3.92\n",
            "1300 Best survival length: 15\n",
            " 1400 mean training reward:  2.47\n",
            "1400 mean survival length: 3.47\n",
            "1400 Best survival length: 11\n",
            " 1500 mean training reward:  3.24\n",
            "1500 mean survival length: 4.24\n",
            "1500 Best survival length: 22\n",
            " 1600 mean training reward:  3.65\n",
            "1600 mean survival length: 4.65\n",
            "1600 Best survival length: 18\n",
            " 1700 mean training reward:  4.18\n",
            "1700 mean survival length: 5.18\n",
            "1700 Best survival length: 35\n",
            " 1800 mean training reward:  4.51\n",
            "1800 mean survival length: 5.51\n",
            "1800 Best survival length: 22\n",
            " 1900 mean training reward:  5.07\n",
            "1900 mean survival length: 6.07\n",
            "1900 Best survival length: 36\n",
            " 2000 mean training reward:  6.97\n",
            "2000 mean survival length: 7.97\n",
            "2000 Best survival length: 32\n",
            " 2100 mean training reward:  8.63\n",
            "2100 mean survival length: 9.63\n",
            "2100 Best survival length: 38\n",
            " 2200 mean training reward: 11.63\n",
            "2200 mean survival length: 12.63\n",
            "2200 Best survival length: 45\n",
            " 2300 mean training reward: 15.05\n",
            "2300 mean survival length: 16.05\n",
            "2300 Best survival length: 124\n",
            " 2400 mean training reward: 31.41\n",
            "2400 mean survival length: 32.41\n",
            "2400 Best survival length: 137\n",
            " 2500 mean training reward: 119.02\n",
            "2500 mean survival length: 120.02\n",
            "2500 Best survival length: 658\n",
            "done\n"
          ],
          "name": "stdout"
        }
      ]
    },
    {
      "cell_type": "code",
      "metadata": {
        "colab": {
          "base_uri": "https://localhost:8080/",
          "height": 640
        },
        "id": "faSoVvbjYroB",
        "outputId": "dc68ab7d-fee7-49ea-8cbe-90ba36b12d1e"
      },
      "source": [
        "# plot results\n",
        "def moving_average(a, n=10) :\n",
        "    ret = np.cumsum(a, dtype=float)\n",
        "    ret[n:] = ret[n:] - ret[:-n]\n",
        "    return ret / n\n",
        "\n",
        "shr_play_nothing = [(np.array(action_ids_eps)==0).mean() for action_ids_eps in action_ids]\n",
        "\n",
        "plt.figure(figsize=(16, 9))\n",
        "plt.subplot(411)\n",
        "plt.title('training rewards')\n",
        "plt.plot(range(1, len(rewards)+1), rewards)\n",
        "plt.plot(moving_average(rewards))\n",
        "plt.xlim([0, len(rewards)])\n",
        "plt.subplot(412)\n",
        "plt.title('training lengths')\n",
        "plt.plot(range(1, len(rewards)+1), lengths)\n",
        "plt.plot(range(1, len(rewards)+1), moving_average(lengths))\n",
        "plt.xlim([0, len(rewards)])\n",
        "#plt.subplot(413)\n",
        "# plt.title('training loss')\n",
        "# plt.plot(range(1, len(rewards)+1), losses)\n",
        "# plt.plot(range(1, len(rewards)+1), moving_average(losses))\n",
        "# plt.xlim([0, len(rewards)])\n",
        "plt.subplot(413)\n",
        "plt.title('Share of actions is do nothing')\n",
        "plt.plot(range(1, len(shr_play_nothing)+1), moving_average(shr_play_nothing,n=10))\n",
        "plt.xlim([0, len(shr_play_nothing)])\n",
        "plt.tight_layout()\n",
        "plt.subplot(414)\n",
        "plt.title('epsilon')\n",
        "plt.plot(range(1, len(rewards)+1), epsilons)\n",
        "plt.xlim([0, len(rewards)])\n",
        "plt.tight_layout()\n",
        "plt.savefig('double_dqn_training.pdf',dpi=600)\n",
        "plt.show()"
      ],
      "execution_count": null,
      "outputs": [
        {
          "output_type": "display_data",
          "data": {
            "image/png": "[encoded data removed]",
            "text/plain": [
              "<Figure size 1152x648 with 4 Axes>"
            ]
          },
          "metadata": {
            "tags": [],
            "needs_background": "light"
          }
        }
      ]
    },
    {
      "cell_type": "markdown",
      "metadata": {
        "id": "rNnxDUSYvI5d"
      },
      "source": [
        "# VERY SIMPLE DQN AGENT"
      ]
    },
    {
      "cell_type": "code",
      "metadata": {
        "colab": {
          "base_uri": "https://localhost:8080/",
          "height": 82,
          "referenced_widgets": [
            "330b8ab2166e4fc98c2dca56813819f3",
            "baaa4a27007042189e260c9349af18f0",
            "bde7a8dfb5e542fc81dd50fce2feda33",
            "c830b597422a4caeaa0235dddf96760c",
            "fb83a4d3c0844462851dde56d98237f2",
            "7072757db5144731a1042f7131cf5d26",
            "2a8c01cf229d4baf96fd44be0d6376d0",
            "38db3f17530e492aa56e6f02198dcff8",
            "f7a9810600ce4df5ac6a4aa6c909e0c2",
            "602fd06af7d6439f900c3e943dac0283",
            "451697b21421435c842b9e3fb42a8e16"
          ]
        },
        "id": "lnY920uosmCe",
        "outputId": "7e53c14d-a93a-4c76-bc74-fc9efbd5239e"
      },
      "source": [
        "import torch\n",
        "\n",
        "NN_PARAMS = {\n",
        "    'n_inputs':env.observation_space.n,\n",
        "    'n_outputs':len(one_hot_encoding_act_conv),\n",
        "    'n_hidden_layers':3,\n",
        "    'n_hidden_units':[300,300,300],\n",
        "    'relu':True,\n",
        "    'optimizer':'SGD',\n",
        "    'learning_rate':0.005,\n",
        "    'weight_decay':0.001\n",
        "}\n",
        "\n",
        "if torch.cuda.is_available(): \n",
        " dev = \"cuda:0\" \n",
        "else: \n",
        " dev = \"cpu\"\n",
        "\n",
        "policy_dqn = agent.DQN(NN_PARAMS)\n",
        "target_dqn = agent.DQN(NN_PARAMS)\n",
        "\n",
        "# Load from drive\n",
        "target_dqn.load_state_dict(torch.load('checkpoint_target_dqn.pth'))\n",
        "policy_dqn.load_state_dict(torch.load('checkpoint_policy_dqn.pth'))\n",
        "\n",
        "all_obs = []\n",
        "obs = env.reset()\n",
        "all_obs.append(obs)\n",
        "reward = env.reward_range[0]\n",
        "reward_list = []\n",
        "done = False\n",
        "nb_step = 0\n",
        "print(\"DQN Simulation\")\n",
        "with tqdm(total=env.chronics_handler.max_timestep()) as pbar:\n",
        "    while True:\n",
        "        #action = act_vect_to_act_obj(env,target_dqn(torch.from_numpy(np.array(obs.to_vect(),dtype='float32')).to(dev).float()))\n",
        "        #action = my_agent.act(obs, reward, done)\n",
        "        Q_est = target_dqn(torch.from_numpy(np.array(obs.to_vect(),dtype='float32')).to(dev).float())\n",
        "        #Q_est[Q_est!=Q_est] = -1 ## Fix potentional na value\n",
        "        action = env.action_space(env_act_dict_list[Q_est.argmax().item()])            \n",
        "        obs, reward, done, _ = env.step(action)\n",
        "        reward_list.append(reward)\n",
        "        pbar.update(1)\n",
        "        if done:\n",
        "            break\n",
        "        all_obs.append(obs)\n",
        "        nb_step += 1\n",
        "\n",
        "reward_list_simple_DQN = np.copy(reward_list)\n"
      ],
      "execution_count": null,
      "outputs": [
        {
          "output_type": "stream",
          "text": [
            "DQN Simulation\n"
          ],
          "name": "stdout"
        },
        {
          "output_type": "display_data",
          "data": {
            "application/vnd.jupyter.widget-view+json": {
              "model_id": "330b8ab2166e4fc98c2dca56813819f3",
              "version_major": 2,
              "version_minor": 0
            },
            "text/plain": [
              "HBox(children=(HTML(value=''), FloatProgress(value=0.0, max=8064.0), HTML(value='')))"
            ]
          },
          "metadata": {
            "tags": []
          }
        },
        {
          "output_type": "stream",
          "text": [
            "\n"
          ],
          "name": "stdout"
        }
      ]
    },
    {
      "cell_type": "code",
      "metadata": {
        "colab": {
          "base_uri": "https://localhost:8080/",
          "height": 369
        },
        "id": "qY5Z838vtRCp",
        "outputId": "d2b8fd8f-a527-439f-de20-1f21c7aa4025"
      },
      "source": [
        "import seaborn as sns\n",
        "import matplotlib.pyplot as plt\n",
        "\n",
        "nested_lists = [reward_list_do_nothing_agent,reward_list_random_agent,reward_power_line_switch_agent,reward_list_simple_DQN]\n",
        "lists_to_df  = []\n",
        "\n",
        "for nested_list in  nested_lists:\n",
        "  len_list = len(nested_list)\n",
        "  final_value = nested_list[-1]\n",
        "  list_ = np.repeat(final_value,env.chronics_handler.max_timestep())\n",
        "  list_[:len_list] = nested_list\n",
        "  lists_to_df.append(list_)\n",
        "\n",
        "df_pre_built_agents = pd.DataFrame(lists_to_df)\\\n",
        ".transpose()\\\n",
        ".rename(columns={0:'do_nothing_agent',1:'random_agent',2:'switch_power_line_agent',3:'Very Simple DQN agent'})\\\n",
        ".stack()\\\n",
        ".reset_index()\\\n",
        ".rename(columns={'level_0':'iteration','level_1':'agent_type',0:'reward'})\n",
        "\n",
        "\n",
        "fig,ax = plt.subplots(1,1,figsize=(7,5))\n",
        "sns.lineplot(x='iteration',y='reward',hue='agent_type',ax=ax,data=df_pre_built_agents)\n",
        "ax.set_xlabel(\"# of iterations\")\n",
        "ax.set_ylabel(\"Reward\")\n",
        "ax.set_title(\"Performance of pre-built grid2op agents\\n(Only actions available are powerline and topology change)\")\n",
        "ax.legend(['Do nothing agent','Random actions agent','Switch Power Line agent','Double DQN Agent'])\n",
        "ax.set_xlim(0,2000)\n",
        "plt.tight_layout()\n",
        "plt.show()\n",
        "\n",
        "# df_pre_built_agents = pd.DataFrame({'random_agent':reward_list_random_agent,\n",
        "#                                     'power_line_switch_agent':reward_power_line_switch_agent\n",
        "#                                     })\n",
        "# df_pre_built_agents"
      ],
      "execution_count": null,
      "outputs": [
        {
          "output_type": "display_data",
          "data": {
            "image/png": "[encoded data removed]",
            "text/plain": [
              "<Figure size 504x360 with 1 Axes>"
            ]
          },
          "metadata": {
            "tags": []
          }
        }
      ]
    },
    {
      "cell_type": "code",
      "metadata": {
        "id": "eiApUCyMg6yB"
      },
      "source": [
        ""
      ],
      "execution_count": null,
      "outputs": []
    }
  ]
}