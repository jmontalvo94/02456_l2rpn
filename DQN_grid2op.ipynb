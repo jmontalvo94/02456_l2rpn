{
  "nbformat": 4,
  "nbformat_minor": 0,
  "metadata": {
    "colab": {
      "name": "DQN_grid2op",
      "provenance": [],
      "collapsed_sections": [],
      "toc_visible": true,
      "mount_file_id": "1PRHKIPMYXOPlmV7Fn2f6Tyojz-I6FKpG",
      "authorship_tag": "ABX9TyM9RWSEC+rQs7ol3l90BSOz",
      "include_colab_link": true
    },
    "kernelspec": {
      "name": "python3",
      "display_name": "Python 3"
    },
    "widgets": {
      "application/vnd.jupyter.widget-state+json": {
        "65beedd515094800a1d77f4d3c321085": {
          "model_module": "@jupyter-widgets/controls",
          "model_name": "HBoxModel",
          "state": {
            "_view_name": "HBoxView",
            "_dom_classes": [],
            "_model_name": "HBoxModel",
            "_view_module": "@jupyter-widgets/controls",
            "_model_module_version": "1.5.0",
            "_view_count": null,
            "_view_module_version": "1.5.0",
            "box_style": "",
            "layout": "IPY_MODEL_aefc5b646d7c490fab6fc1ffd56b1087",
            "_model_module": "@jupyter-widgets/controls",
            "children": [
              "IPY_MODEL_0d21c885d3714f9da405a2c29ec78b4d",
              "IPY_MODEL_90866a0170df4304868ac044beae74ac",
              "IPY_MODEL_2906d58e4a944d6fa4d0013476cea243"
            ]
          }
        },
        "aefc5b646d7c490fab6fc1ffd56b1087": {
          "model_module": "@jupyter-widgets/base",
          "model_name": "LayoutModel",
          "state": {
            "_view_name": "LayoutView",
            "grid_template_rows": null,
            "right": null,
            "justify_content": null,
            "_view_module": "@jupyter-widgets/base",
            "overflow": null,
            "_model_module_version": "1.2.0",
            "_view_count": null,
            "flex_flow": null,
            "width": null,
            "min_width": null,
            "border": null,
            "align_items": null,
            "bottom": null,
            "_model_module": "@jupyter-widgets/base",
            "top": null,
            "grid_column": null,
            "overflow_y": null,
            "overflow_x": null,
            "grid_auto_flow": null,
            "grid_area": null,
            "grid_template_columns": null,
            "flex": null,
            "_model_name": "LayoutModel",
            "justify_items": null,
            "grid_row": null,
            "max_height": null,
            "align_content": null,
            "visibility": null,
            "align_self": null,
            "height": null,
            "min_height": null,
            "padding": null,
            "grid_auto_rows": null,
            "grid_gap": null,
            "max_width": null,
            "order": null,
            "_view_module_version": "1.2.0",
            "grid_template_areas": null,
            "object_position": null,
            "object_fit": null,
            "grid_auto_columns": null,
            "margin": null,
            "display": null,
            "left": null
          }
        },
        "0d21c885d3714f9da405a2c29ec78b4d": {
          "model_module": "@jupyter-widgets/controls",
          "model_name": "HTMLModel",
          "state": {
            "_view_name": "HTMLView",
            "style": "IPY_MODEL_e9c6aaa69adc41b1a484091b7d7efc63",
            "_dom_classes": [],
            "description": "",
            "_model_name": "HTMLModel",
            "placeholder": "​",
            "_view_module": "@jupyter-widgets/controls",
            "_model_module_version": "1.5.0",
            "value": "100%",
            "_view_count": null,
            "_view_module_version": "1.5.0",
            "description_tooltip": null,
            "_model_module": "@jupyter-widgets/controls",
            "layout": "IPY_MODEL_f588428caaa241c4925c1bb5d61bac34"
          }
        },
        "90866a0170df4304868ac044beae74ac": {
          "model_module": "@jupyter-widgets/controls",
          "model_name": "FloatProgressModel",
          "state": {
            "_view_name": "ProgressView",
            "style": "IPY_MODEL_508860c343cb462cb6d87f890e0bfb51",
            "_dom_classes": [],
            "description": "",
            "_model_name": "FloatProgressModel",
            "bar_style": "success",
            "max": 8064,
            "_view_module": "@jupyter-widgets/controls",
            "_model_module_version": "1.5.0",
            "value": 8064,
            "_view_count": null,
            "_view_module_version": "1.5.0",
            "orientation": "horizontal",
            "min": 0,
            "description_tooltip": null,
            "_model_module": "@jupyter-widgets/controls",
            "layout": "IPY_MODEL_9a7b5e5c40af4a849c3a10b1d3722b96"
          }
        },
        "2906d58e4a944d6fa4d0013476cea243": {
          "model_module": "@jupyter-widgets/controls",
          "model_name": "HTMLModel",
          "state": {
            "_view_name": "HTMLView",
            "style": "IPY_MODEL_49b82e20f6ea49c49c8380019f678424",
            "_dom_classes": [],
            "description": "",
            "_model_name": "HTMLModel",
            "placeholder": "​",
            "_view_module": "@jupyter-widgets/controls",
            "_model_module_version": "1.5.0",
            "value": " 8064/8064 [02:57&lt;00:00, 45.35it/s]",
            "_view_count": null,
            "_view_module_version": "1.5.0",
            "description_tooltip": null,
            "_model_module": "@jupyter-widgets/controls",
            "layout": "IPY_MODEL_841a12c401f94b3ebad5d18333b06c84"
          }
        },
        "e9c6aaa69adc41b1a484091b7d7efc63": {
          "model_module": "@jupyter-widgets/controls",
          "model_name": "DescriptionStyleModel",
          "state": {
            "_view_name": "StyleView",
            "_model_name": "DescriptionStyleModel",
            "description_width": "",
            "_view_module": "@jupyter-widgets/base",
            "_model_module_version": "1.5.0",
            "_view_count": null,
            "_view_module_version": "1.2.0",
            "_model_module": "@jupyter-widgets/controls"
          }
        },
        "f588428caaa241c4925c1bb5d61bac34": {
          "model_module": "@jupyter-widgets/base",
          "model_name": "LayoutModel",
          "state": {
            "_view_name": "LayoutView",
            "grid_template_rows": null,
            "right": null,
            "justify_content": null,
            "_view_module": "@jupyter-widgets/base",
            "overflow": null,
            "_model_module_version": "1.2.0",
            "_view_count": null,
            "flex_flow": null,
            "width": null,
            "min_width": null,
            "border": null,
            "align_items": null,
            "bottom": null,
            "_model_module": "@jupyter-widgets/base",
            "top": null,
            "grid_column": null,
            "overflow_y": null,
            "overflow_x": null,
            "grid_auto_flow": null,
            "grid_area": null,
            "grid_template_columns": null,
            "flex": null,
            "_model_name": "LayoutModel",
            "justify_items": null,
            "grid_row": null,
            "max_height": null,
            "align_content": null,
            "visibility": null,
            "align_self": null,
            "height": null,
            "min_height": null,
            "padding": null,
            "grid_auto_rows": null,
            "grid_gap": null,
            "max_width": null,
            "order": null,
            "_view_module_version": "1.2.0",
            "grid_template_areas": null,
            "object_position": null,
            "object_fit": null,
            "grid_auto_columns": null,
            "margin": null,
            "display": null,
            "left": null
          }
        },
        "508860c343cb462cb6d87f890e0bfb51": {
          "model_module": "@jupyter-widgets/controls",
          "model_name": "ProgressStyleModel",
          "state": {
            "_view_name": "StyleView",
            "_model_name": "ProgressStyleModel",
            "description_width": "",
            "_view_module": "@jupyter-widgets/base",
            "_model_module_version": "1.5.0",
            "_view_count": null,
            "_view_module_version": "1.2.0",
            "bar_color": null,
            "_model_module": "@jupyter-widgets/controls"
          }
        },
        "9a7b5e5c40af4a849c3a10b1d3722b96": {
          "model_module": "@jupyter-widgets/base",
          "model_name": "LayoutModel",
          "state": {
            "_view_name": "LayoutView",
            "grid_template_rows": null,
            "right": null,
            "justify_content": null,
            "_view_module": "@jupyter-widgets/base",
            "overflow": null,
            "_model_module_version": "1.2.0",
            "_view_count": null,
            "flex_flow": null,
            "width": null,
            "min_width": null,
            "border": null,
            "align_items": null,
            "bottom": null,
            "_model_module": "@jupyter-widgets/base",
            "top": null,
            "grid_column": null,
            "overflow_y": null,
            "overflow_x": null,
            "grid_auto_flow": null,
            "grid_area": null,
            "grid_template_columns": null,
            "flex": null,
            "_model_name": "LayoutModel",
            "justify_items": null,
            "grid_row": null,
            "max_height": null,
            "align_content": null,
            "visibility": null,
            "align_self": null,
            "height": null,
            "min_height": null,
            "padding": null,
            "grid_auto_rows": null,
            "grid_gap": null,
            "max_width": null,
            "order": null,
            "_view_module_version": "1.2.0",
            "grid_template_areas": null,
            "object_position": null,
            "object_fit": null,
            "grid_auto_columns": null,
            "margin": null,
            "display": null,
            "left": null
          }
        },
        "49b82e20f6ea49c49c8380019f678424": {
          "model_module": "@jupyter-widgets/controls",
          "model_name": "DescriptionStyleModel",
          "state": {
            "_view_name": "StyleView",
            "_model_name": "DescriptionStyleModel",
            "description_width": "",
            "_view_module": "@jupyter-widgets/base",
            "_model_module_version": "1.5.0",
            "_view_count": null,
            "_view_module_version": "1.2.0",
            "_model_module": "@jupyter-widgets/controls"
          }
        },
        "841a12c401f94b3ebad5d18333b06c84": {
          "model_module": "@jupyter-widgets/base",
          "model_name": "LayoutModel",
          "state": {
            "_view_name": "LayoutView",
            "grid_template_rows": null,
            "right": null,
            "justify_content": null,
            "_view_module": "@jupyter-widgets/base",
            "overflow": null,
            "_model_module_version": "1.2.0",
            "_view_count": null,
            "flex_flow": null,
            "width": null,
            "min_width": null,
            "border": null,
            "align_items": null,
            "bottom": null,
            "_model_module": "@jupyter-widgets/base",
            "top": null,
            "grid_column": null,
            "overflow_y": null,
            "overflow_x": null,
            "grid_auto_flow": null,
            "grid_area": null,
            "grid_template_columns": null,
            "flex": null,
            "_model_name": "LayoutModel",
            "justify_items": null,
            "grid_row": null,
            "max_height": null,
            "align_content": null,
            "visibility": null,
            "align_self": null,
            "height": null,
            "min_height": null,
            "padding": null,
            "grid_auto_rows": null,
            "grid_gap": null,
            "max_width": null,
            "order": null,
            "_view_module_version": "1.2.0",
            "grid_template_areas": null,
            "object_position": null,
            "object_fit": null,
            "grid_auto_columns": null,
            "margin": null,
            "display": null,
            "left": null
          }
        },
        "8b9fa9f35447442a96f436ec2fd9a3dd": {
          "model_module": "@jupyter-widgets/controls",
          "model_name": "HBoxModel",
          "state": {
            "_view_name": "HBoxView",
            "_dom_classes": [],
            "_model_name": "HBoxModel",
            "_view_module": "@jupyter-widgets/controls",
            "_model_module_version": "1.5.0",
            "_view_count": null,
            "_view_module_version": "1.5.0",
            "box_style": "",
            "layout": "IPY_MODEL_a1c62c937d774507ae63c2bb32f1a601",
            "_model_module": "@jupyter-widgets/controls",
            "children": [
              "IPY_MODEL_55d949a524214262aaa082ae3ca17285",
              "IPY_MODEL_6a8befd7ee2e43c38cb0f58157e14856",
              "IPY_MODEL_b7fbd89cae91433796f0518bd814e485"
            ]
          }
        },
        "a1c62c937d774507ae63c2bb32f1a601": {
          "model_module": "@jupyter-widgets/base",
          "model_name": "LayoutModel",
          "state": {
            "_view_name": "LayoutView",
            "grid_template_rows": null,
            "right": null,
            "justify_content": null,
            "_view_module": "@jupyter-widgets/base",
            "overflow": null,
            "_model_module_version": "1.2.0",
            "_view_count": null,
            "flex_flow": null,
            "width": null,
            "min_width": null,
            "border": null,
            "align_items": null,
            "bottom": null,
            "_model_module": "@jupyter-widgets/base",
            "top": null,
            "grid_column": null,
            "overflow_y": null,
            "overflow_x": null,
            "grid_auto_flow": null,
            "grid_area": null,
            "grid_template_columns": null,
            "flex": null,
            "_model_name": "LayoutModel",
            "justify_items": null,
            "grid_row": null,
            "max_height": null,
            "align_content": null,
            "visibility": null,
            "align_self": null,
            "height": null,
            "min_height": null,
            "padding": null,
            "grid_auto_rows": null,
            "grid_gap": null,
            "max_width": null,
            "order": null,
            "_view_module_version": "1.2.0",
            "grid_template_areas": null,
            "object_position": null,
            "object_fit": null,
            "grid_auto_columns": null,
            "margin": null,
            "display": null,
            "left": null
          }
        },
        "55d949a524214262aaa082ae3ca17285": {
          "model_module": "@jupyter-widgets/controls",
          "model_name": "HTMLModel",
          "state": {
            "_view_name": "HTMLView",
            "style": "IPY_MODEL_07e48a4d5dbf4b9798bd3056965fe008",
            "_dom_classes": [],
            "description": "",
            "_model_name": "HTMLModel",
            "placeholder": "​",
            "_view_module": "@jupyter-widgets/controls",
            "_model_module_version": "1.5.0",
            "value": "  0%",
            "_view_count": null,
            "_view_module_version": "1.5.0",
            "description_tooltip": null,
            "_model_module": "@jupyter-widgets/controls",
            "layout": "IPY_MODEL_fc9117b7e1f84bf5ab43cd0f58c3d901"
          }
        },
        "6a8befd7ee2e43c38cb0f58157e14856": {
          "model_module": "@jupyter-widgets/controls",
          "model_name": "FloatProgressModel",
          "state": {
            "_view_name": "ProgressView",
            "style": "IPY_MODEL_212f61d149f44a35847bc533596f23b4",
            "_dom_classes": [],
            "description": "",
            "_model_name": "FloatProgressModel",
            "bar_style": "danger",
            "max": 8064,
            "_view_module": "@jupyter-widgets/controls",
            "_model_module_version": "1.5.0",
            "value": 3,
            "_view_count": null,
            "_view_module_version": "1.5.0",
            "orientation": "horizontal",
            "min": 0,
            "description_tooltip": null,
            "_model_module": "@jupyter-widgets/controls",
            "layout": "IPY_MODEL_c8d05c4ebf0744a9826730240fbbdb4a"
          }
        },
        "b7fbd89cae91433796f0518bd814e485": {
          "model_module": "@jupyter-widgets/controls",
          "model_name": "HTMLModel",
          "state": {
            "_view_name": "HTMLView",
            "style": "IPY_MODEL_ffe4756ba96c4a2082dcc5d828ca8d39",
            "_dom_classes": [],
            "description": "",
            "_model_name": "HTMLModel",
            "placeholder": "​",
            "_view_module": "@jupyter-widgets/controls",
            "_model_module_version": "1.5.0",
            "value": " 3/8064 [01:59&lt;89:10:17, 39.82s/it]",
            "_view_count": null,
            "_view_module_version": "1.5.0",
            "description_tooltip": null,
            "_model_module": "@jupyter-widgets/controls",
            "layout": "IPY_MODEL_098fc59858e94f909b24ff231f3ea8dd"
          }
        },
        "07e48a4d5dbf4b9798bd3056965fe008": {
          "model_module": "@jupyter-widgets/controls",
          "model_name": "DescriptionStyleModel",
          "state": {
            "_view_name": "StyleView",
            "_model_name": "DescriptionStyleModel",
            "description_width": "",
            "_view_module": "@jupyter-widgets/base",
            "_model_module_version": "1.5.0",
            "_view_count": null,
            "_view_module_version": "1.2.0",
            "_model_module": "@jupyter-widgets/controls"
          }
        },
        "fc9117b7e1f84bf5ab43cd0f58c3d901": {
          "model_module": "@jupyter-widgets/base",
          "model_name": "LayoutModel",
          "state": {
            "_view_name": "LayoutView",
            "grid_template_rows": null,
            "right": null,
            "justify_content": null,
            "_view_module": "@jupyter-widgets/base",
            "overflow": null,
            "_model_module_version": "1.2.0",
            "_view_count": null,
            "flex_flow": null,
            "width": null,
            "min_width": null,
            "border": null,
            "align_items": null,
            "bottom": null,
            "_model_module": "@jupyter-widgets/base",
            "top": null,
            "grid_column": null,
            "overflow_y": null,
            "overflow_x": null,
            "grid_auto_flow": null,
            "grid_area": null,
            "grid_template_columns": null,
            "flex": null,
            "_model_name": "LayoutModel",
            "justify_items": null,
            "grid_row": null,
            "max_height": null,
            "align_content": null,
            "visibility": null,
            "align_self": null,
            "height": null,
            "min_height": null,
            "padding": null,
            "grid_auto_rows": null,
            "grid_gap": null,
            "max_width": null,
            "order": null,
            "_view_module_version": "1.2.0",
            "grid_template_areas": null,
            "object_position": null,
            "object_fit": null,
            "grid_auto_columns": null,
            "margin": null,
            "display": null,
            "left": null
          }
        },
        "212f61d149f44a35847bc533596f23b4": {
          "model_module": "@jupyter-widgets/controls",
          "model_name": "ProgressStyleModel",
          "state": {
            "_view_name": "StyleView",
            "_model_name": "ProgressStyleModel",
            "description_width": "",
            "_view_module": "@jupyter-widgets/base",
            "_model_module_version": "1.5.0",
            "_view_count": null,
            "_view_module_version": "1.2.0",
            "bar_color": null,
            "_model_module": "@jupyter-widgets/controls"
          }
        },
        "c8d05c4ebf0744a9826730240fbbdb4a": {
          "model_module": "@jupyter-widgets/base",
          "model_name": "LayoutModel",
          "state": {
            "_view_name": "LayoutView",
            "grid_template_rows": null,
            "right": null,
            "justify_content": null,
            "_view_module": "@jupyter-widgets/base",
            "overflow": null,
            "_model_module_version": "1.2.0",
            "_view_count": null,
            "flex_flow": null,
            "width": null,
            "min_width": null,
            "border": null,
            "align_items": null,
            "bottom": null,
            "_model_module": "@jupyter-widgets/base",
            "top": null,
            "grid_column": null,
            "overflow_y": null,
            "overflow_x": null,
            "grid_auto_flow": null,
            "grid_area": null,
            "grid_template_columns": null,
            "flex": null,
            "_model_name": "LayoutModel",
            "justify_items": null,
            "grid_row": null,
            "max_height": null,
            "align_content": null,
            "visibility": null,
            "align_self": null,
            "height": null,
            "min_height": null,
            "padding": null,
            "grid_auto_rows": null,
            "grid_gap": null,
            "max_width": null,
            "order": null,
            "_view_module_version": "1.2.0",
            "grid_template_areas": null,
            "object_position": null,
            "object_fit": null,
            "grid_auto_columns": null,
            "margin": null,
            "display": null,
            "left": null
          }
        },
        "ffe4756ba96c4a2082dcc5d828ca8d39": {
          "model_module": "@jupyter-widgets/controls",
          "model_name": "DescriptionStyleModel",
          "state": {
            "_view_name": "StyleView",
            "_model_name": "DescriptionStyleModel",
            "description_width": "",
            "_view_module": "@jupyter-widgets/base",
            "_model_module_version": "1.5.0",
            "_view_count": null,
            "_view_module_version": "1.2.0",
            "_model_module": "@jupyter-widgets/controls"
          }
        },
        "098fc59858e94f909b24ff231f3ea8dd": {
          "model_module": "@jupyter-widgets/base",
          "model_name": "LayoutModel",
          "state": {
            "_view_name": "LayoutView",
            "grid_template_rows": null,
            "right": null,
            "justify_content": null,
            "_view_module": "@jupyter-widgets/base",
            "overflow": null,
            "_model_module_version": "1.2.0",
            "_view_count": null,
            "flex_flow": null,
            "width": null,
            "min_width": null,
            "border": null,
            "align_items": null,
            "bottom": null,
            "_model_module": "@jupyter-widgets/base",
            "top": null,
            "grid_column": null,
            "overflow_y": null,
            "overflow_x": null,
            "grid_auto_flow": null,
            "grid_area": null,
            "grid_template_columns": null,
            "flex": null,
            "_model_name": "LayoutModel",
            "justify_items": null,
            "grid_row": null,
            "max_height": null,
            "align_content": null,
            "visibility": null,
            "align_self": null,
            "height": null,
            "min_height": null,
            "padding": null,
            "grid_auto_rows": null,
            "grid_gap": null,
            "max_width": null,
            "order": null,
            "_view_module_version": "1.2.0",
            "grid_template_areas": null,
            "object_position": null,
            "object_fit": null,
            "grid_auto_columns": null,
            "margin": null,
            "display": null,
            "left": null
          }
        },
        "a2b386c368a04db88aea5f982f5da588": {
          "model_module": "@jupyter-widgets/controls",
          "model_name": "HBoxModel",
          "state": {
            "_view_name": "HBoxView",
            "_dom_classes": [],
            "_model_name": "HBoxModel",
            "_view_module": "@jupyter-widgets/controls",
            "_model_module_version": "1.5.0",
            "_view_count": null,
            "_view_module_version": "1.5.0",
            "box_style": "",
            "layout": "IPY_MODEL_c6a6b6dae4d044fea6541085a4a36ac8",
            "_model_module": "@jupyter-widgets/controls",
            "children": [
              "IPY_MODEL_cc40c538e20a41ada08cfa2a26c6bdf5",
              "IPY_MODEL_2c6157f03f534452ab75247683af6a69",
              "IPY_MODEL_456ba16ea8074848b28b857b9fa73951"
            ]
          }
        },
        "c6a6b6dae4d044fea6541085a4a36ac8": {
          "model_module": "@jupyter-widgets/base",
          "model_name": "LayoutModel",
          "state": {
            "_view_name": "LayoutView",
            "grid_template_rows": null,
            "right": null,
            "justify_content": null,
            "_view_module": "@jupyter-widgets/base",
            "overflow": null,
            "_model_module_version": "1.2.0",
            "_view_count": null,
            "flex_flow": null,
            "width": null,
            "min_width": null,
            "border": null,
            "align_items": null,
            "bottom": null,
            "_model_module": "@jupyter-widgets/base",
            "top": null,
            "grid_column": null,
            "overflow_y": null,
            "overflow_x": null,
            "grid_auto_flow": null,
            "grid_area": null,
            "grid_template_columns": null,
            "flex": null,
            "_model_name": "LayoutModel",
            "justify_items": null,
            "grid_row": null,
            "max_height": null,
            "align_content": null,
            "visibility": null,
            "align_self": null,
            "height": null,
            "min_height": null,
            "padding": null,
            "grid_auto_rows": null,
            "grid_gap": null,
            "max_width": null,
            "order": null,
            "_view_module_version": "1.2.0",
            "grid_template_areas": null,
            "object_position": null,
            "object_fit": null,
            "grid_auto_columns": null,
            "margin": null,
            "display": null,
            "left": null
          }
        },
        "cc40c538e20a41ada08cfa2a26c6bdf5": {
          "model_module": "@jupyter-widgets/controls",
          "model_name": "HTMLModel",
          "state": {
            "_view_name": "HTMLView",
            "style": "IPY_MODEL_d238c6f99bb241ccb21dd3045ae36e6a",
            "_dom_classes": [],
            "description": "",
            "_model_name": "HTMLModel",
            "placeholder": "​",
            "_view_module": "@jupyter-widgets/controls",
            "_model_module_version": "1.5.0",
            "value": "  3%",
            "_view_count": null,
            "_view_module_version": "1.5.0",
            "description_tooltip": null,
            "_model_module": "@jupyter-widgets/controls",
            "layout": "IPY_MODEL_9f68614c60dd488db0e953edfda666ad"
          }
        },
        "2c6157f03f534452ab75247683af6a69": {
          "model_module": "@jupyter-widgets/controls",
          "model_name": "FloatProgressModel",
          "state": {
            "_view_name": "ProgressView",
            "style": "IPY_MODEL_fd8bd89263f7421094890382e01eb450",
            "_dom_classes": [],
            "description": "",
            "_model_name": "FloatProgressModel",
            "bar_style": "danger",
            "max": 8064,
            "_view_module": "@jupyter-widgets/controls",
            "_model_module_version": "1.5.0",
            "value": 274,
            "_view_count": null,
            "_view_module_version": "1.5.0",
            "orientation": "horizontal",
            "min": 0,
            "description_tooltip": null,
            "_model_module": "@jupyter-widgets/controls",
            "layout": "IPY_MODEL_61db90d2e5df4f1c8d2e35b3f4af6604"
          }
        },
        "456ba16ea8074848b28b857b9fa73951": {
          "model_module": "@jupyter-widgets/controls",
          "model_name": "HTMLModel",
          "state": {
            "_view_name": "HTMLView",
            "style": "IPY_MODEL_443a57da905945e296e8a16f83a0ccb2",
            "_dom_classes": [],
            "description": "",
            "_model_name": "HTMLModel",
            "placeholder": "​",
            "_view_module": "@jupyter-widgets/controls",
            "_model_module_version": "1.5.0",
            "value": " 274/8064 [02:17&lt;1:05:05,  1.99it/s]",
            "_view_count": null,
            "_view_module_version": "1.5.0",
            "description_tooltip": null,
            "_model_module": "@jupyter-widgets/controls",
            "layout": "IPY_MODEL_6e7601c7016c4ec3979b5cb0a09e5bbc"
          }
        },
        "d238c6f99bb241ccb21dd3045ae36e6a": {
          "model_module": "@jupyter-widgets/controls",
          "model_name": "DescriptionStyleModel",
          "state": {
            "_view_name": "StyleView",
            "_model_name": "DescriptionStyleModel",
            "description_width": "",
            "_view_module": "@jupyter-widgets/base",
            "_model_module_version": "1.5.0",
            "_view_count": null,
            "_view_module_version": "1.2.0",
            "_model_module": "@jupyter-widgets/controls"
          }
        },
        "9f68614c60dd488db0e953edfda666ad": {
          "model_module": "@jupyter-widgets/base",
          "model_name": "LayoutModel",
          "state": {
            "_view_name": "LayoutView",
            "grid_template_rows": null,
            "right": null,
            "justify_content": null,
            "_view_module": "@jupyter-widgets/base",
            "overflow": null,
            "_model_module_version": "1.2.0",
            "_view_count": null,
            "flex_flow": null,
            "width": null,
            "min_width": null,
            "border": null,
            "align_items": null,
            "bottom": null,
            "_model_module": "@jupyter-widgets/base",
            "top": null,
            "grid_column": null,
            "overflow_y": null,
            "overflow_x": null,
            "grid_auto_flow": null,
            "grid_area": null,
            "grid_template_columns": null,
            "flex": null,
            "_model_name": "LayoutModel",
            "justify_items": null,
            "grid_row": null,
            "max_height": null,
            "align_content": null,
            "visibility": null,
            "align_self": null,
            "height": null,
            "min_height": null,
            "padding": null,
            "grid_auto_rows": null,
            "grid_gap": null,
            "max_width": null,
            "order": null,
            "_view_module_version": "1.2.0",
            "grid_template_areas": null,
            "object_position": null,
            "object_fit": null,
            "grid_auto_columns": null,
            "margin": null,
            "display": null,
            "left": null
          }
        },
        "fd8bd89263f7421094890382e01eb450": {
          "model_module": "@jupyter-widgets/controls",
          "model_name": "ProgressStyleModel",
          "state": {
            "_view_name": "StyleView",
            "_model_name": "ProgressStyleModel",
            "description_width": "",
            "_view_module": "@jupyter-widgets/base",
            "_model_module_version": "1.5.0",
            "_view_count": null,
            "_view_module_version": "1.2.0",
            "bar_color": null,
            "_model_module": "@jupyter-widgets/controls"
          }
        },
        "61db90d2e5df4f1c8d2e35b3f4af6604": {
          "model_module": "@jupyter-widgets/base",
          "model_name": "LayoutModel",
          "state": {
            "_view_name": "LayoutView",
            "grid_template_rows": null,
            "right": null,
            "justify_content": null,
            "_view_module": "@jupyter-widgets/base",
            "overflow": null,
            "_model_module_version": "1.2.0",
            "_view_count": null,
            "flex_flow": null,
            "width": null,
            "min_width": null,
            "border": null,
            "align_items": null,
            "bottom": null,
            "_model_module": "@jupyter-widgets/base",
            "top": null,
            "grid_column": null,
            "overflow_y": null,
            "overflow_x": null,
            "grid_auto_flow": null,
            "grid_area": null,
            "grid_template_columns": null,
            "flex": null,
            "_model_name": "LayoutModel",
            "justify_items": null,
            "grid_row": null,
            "max_height": null,
            "align_content": null,
            "visibility": null,
            "align_self": null,
            "height": null,
            "min_height": null,
            "padding": null,
            "grid_auto_rows": null,
            "grid_gap": null,
            "max_width": null,
            "order": null,
            "_view_module_version": "1.2.0",
            "grid_template_areas": null,
            "object_position": null,
            "object_fit": null,
            "grid_auto_columns": null,
            "margin": null,
            "display": null,
            "left": null
          }
        },
        "443a57da905945e296e8a16f83a0ccb2": {
          "model_module": "@jupyter-widgets/controls",
          "model_name": "DescriptionStyleModel",
          "state": {
            "_view_name": "StyleView",
            "_model_name": "DescriptionStyleModel",
            "description_width": "",
            "_view_module": "@jupyter-widgets/base",
            "_model_module_version": "1.5.0",
            "_view_count": null,
            "_view_module_version": "1.2.0",
            "_model_module": "@jupyter-widgets/controls"
          }
        },
        "6e7601c7016c4ec3979b5cb0a09e5bbc": {
          "model_module": "@jupyter-widgets/base",
          "model_name": "LayoutModel",
          "state": {
            "_view_name": "LayoutView",
            "grid_template_rows": null,
            "right": null,
            "justify_content": null,
            "_view_module": "@jupyter-widgets/base",
            "overflow": null,
            "_model_module_version": "1.2.0",
            "_view_count": null,
            "flex_flow": null,
            "width": null,
            "min_width": null,
            "border": null,
            "align_items": null,
            "bottom": null,
            "_model_module": "@jupyter-widgets/base",
            "top": null,
            "grid_column": null,
            "overflow_y": null,
            "overflow_x": null,
            "grid_auto_flow": null,
            "grid_area": null,
            "grid_template_columns": null,
            "flex": null,
            "_model_name": "LayoutModel",
            "justify_items": null,
            "grid_row": null,
            "max_height": null,
            "align_content": null,
            "visibility": null,
            "align_self": null,
            "height": null,
            "min_height": null,
            "padding": null,
            "grid_auto_rows": null,
            "grid_gap": null,
            "max_width": null,
            "order": null,
            "_view_module_version": "1.2.0",
            "grid_template_areas": null,
            "object_position": null,
            "object_fit": null,
            "grid_auto_columns": null,
            "margin": null,
            "display": null,
            "left": null
          }
        },
        "1fa4a1c033564ad08b4bc839f6ec886c": {
          "model_module": "@jupyter-widgets/controls",
          "model_name": "HBoxModel",
          "state": {
            "_view_name": "HBoxView",
            "_dom_classes": [],
            "_model_name": "HBoxModel",
            "_view_module": "@jupyter-widgets/controls",
            "_model_module_version": "1.5.0",
            "_view_count": null,
            "_view_module_version": "1.5.0",
            "box_style": "",
            "layout": "IPY_MODEL_d72ad6d7e51c4b7787903552bfebfcc6",
            "_model_module": "@jupyter-widgets/controls",
            "children": [
              "IPY_MODEL_d8aecd8c335c481ab2c236682bf667c6",
              "IPY_MODEL_48433e6870aa422bac36b95487226b16",
              "IPY_MODEL_c8c855a9e2b94d55888d1db6054c656e"
            ]
          }
        },
        "d72ad6d7e51c4b7787903552bfebfcc6": {
          "model_module": "@jupyter-widgets/base",
          "model_name": "LayoutModel",
          "state": {
            "_view_name": "LayoutView",
            "grid_template_rows": null,
            "right": null,
            "justify_content": null,
            "_view_module": "@jupyter-widgets/base",
            "overflow": null,
            "_model_module_version": "1.2.0",
            "_view_count": null,
            "flex_flow": null,
            "width": null,
            "min_width": null,
            "border": null,
            "align_items": null,
            "bottom": null,
            "_model_module": "@jupyter-widgets/base",
            "top": null,
            "grid_column": null,
            "overflow_y": null,
            "overflow_x": null,
            "grid_auto_flow": null,
            "grid_area": null,
            "grid_template_columns": null,
            "flex": null,
            "_model_name": "LayoutModel",
            "justify_items": null,
            "grid_row": null,
            "max_height": null,
            "align_content": null,
            "visibility": null,
            "align_self": null,
            "height": null,
            "min_height": null,
            "padding": null,
            "grid_auto_rows": null,
            "grid_gap": null,
            "max_width": null,
            "order": null,
            "_view_module_version": "1.2.0",
            "grid_template_areas": null,
            "object_position": null,
            "object_fit": null,
            "grid_auto_columns": null,
            "margin": null,
            "display": null,
            "left": null
          }
        },
        "d8aecd8c335c481ab2c236682bf667c6": {
          "model_module": "@jupyter-widgets/controls",
          "model_name": "HTMLModel",
          "state": {
            "_view_name": "HTMLView",
            "style": "IPY_MODEL_d0bdf51d0fe24cb0b1338f4b3d4bc35f",
            "_dom_classes": [],
            "description": "",
            "_model_name": "HTMLModel",
            "placeholder": "​",
            "_view_module": "@jupyter-widgets/controls",
            "_model_module_version": "1.5.0",
            "value": "100%",
            "_view_count": null,
            "_view_module_version": "1.5.0",
            "description_tooltip": null,
            "_model_module": "@jupyter-widgets/controls",
            "layout": "IPY_MODEL_eedf9606923042de82d233c7242c5fb2"
          }
        },
        "48433e6870aa422bac36b95487226b16": {
          "model_module": "@jupyter-widgets/controls",
          "model_name": "FloatProgressModel",
          "state": {
            "_view_name": "ProgressView",
            "style": "IPY_MODEL_5f1e84cdaaf942d399638ea8f7977646",
            "_dom_classes": [],
            "description": "",
            "_model_name": "FloatProgressModel",
            "bar_style": "success",
            "max": 8064,
            "_view_module": "@jupyter-widgets/controls",
            "_model_module_version": "1.5.0",
            "value": 8064,
            "_view_count": null,
            "_view_module_version": "1.5.0",
            "orientation": "horizontal",
            "min": 0,
            "description_tooltip": null,
            "_model_module": "@jupyter-widgets/controls",
            "layout": "IPY_MODEL_656e095ff05d42cf8857d95138870f4a"
          }
        },
        "c8c855a9e2b94d55888d1db6054c656e": {
          "model_module": "@jupyter-widgets/controls",
          "model_name": "HTMLModel",
          "state": {
            "_view_name": "HTMLView",
            "style": "IPY_MODEL_581c09aaf0ca4ea5b73c4b2335ee1f04",
            "_dom_classes": [],
            "description": "",
            "_model_name": "HTMLModel",
            "placeholder": "​",
            "_view_module": "@jupyter-widgets/controls",
            "_model_module_version": "1.5.0",
            "value": " 8064/8064 [05:56&lt;00:00, 22.60it/s]",
            "_view_count": null,
            "_view_module_version": "1.5.0",
            "description_tooltip": null,
            "_model_module": "@jupyter-widgets/controls",
            "layout": "IPY_MODEL_979e9fd801c74a38804b6feaefc5a172"
          }
        },
        "d0bdf51d0fe24cb0b1338f4b3d4bc35f": {
          "model_module": "@jupyter-widgets/controls",
          "model_name": "DescriptionStyleModel",
          "state": {
            "_view_name": "StyleView",
            "_model_name": "DescriptionStyleModel",
            "description_width": "",
            "_view_module": "@jupyter-widgets/base",
            "_model_module_version": "1.5.0",
            "_view_count": null,
            "_view_module_version": "1.2.0",
            "_model_module": "@jupyter-widgets/controls"
          }
        },
        "eedf9606923042de82d233c7242c5fb2": {
          "model_module": "@jupyter-widgets/base",
          "model_name": "LayoutModel",
          "state": {
            "_view_name": "LayoutView",
            "grid_template_rows": null,
            "right": null,
            "justify_content": null,
            "_view_module": "@jupyter-widgets/base",
            "overflow": null,
            "_model_module_version": "1.2.0",
            "_view_count": null,
            "flex_flow": null,
            "width": null,
            "min_width": null,
            "border": null,
            "align_items": null,
            "bottom": null,
            "_model_module": "@jupyter-widgets/base",
            "top": null,
            "grid_column": null,
            "overflow_y": null,
            "overflow_x": null,
            "grid_auto_flow": null,
            "grid_area": null,
            "grid_template_columns": null,
            "flex": null,
            "_model_name": "LayoutModel",
            "justify_items": null,
            "grid_row": null,
            "max_height": null,
            "align_content": null,
            "visibility": null,
            "align_self": null,
            "height": null,
            "min_height": null,
            "padding": null,
            "grid_auto_rows": null,
            "grid_gap": null,
            "max_width": null,
            "order": null,
            "_view_module_version": "1.2.0",
            "grid_template_areas": null,
            "object_position": null,
            "object_fit": null,
            "grid_auto_columns": null,
            "margin": null,
            "display": null,
            "left": null
          }
        },
        "5f1e84cdaaf942d399638ea8f7977646": {
          "model_module": "@jupyter-widgets/controls",
          "model_name": "ProgressStyleModel",
          "state": {
            "_view_name": "StyleView",
            "_model_name": "ProgressStyleModel",
            "description_width": "",
            "_view_module": "@jupyter-widgets/base",
            "_model_module_version": "1.5.0",
            "_view_count": null,
            "_view_module_version": "1.2.0",
            "bar_color": null,
            "_model_module": "@jupyter-widgets/controls"
          }
        },
        "656e095ff05d42cf8857d95138870f4a": {
          "model_module": "@jupyter-widgets/base",
          "model_name": "LayoutModel",
          "state": {
            "_view_name": "LayoutView",
            "grid_template_rows": null,
            "right": null,
            "justify_content": null,
            "_view_module": "@jupyter-widgets/base",
            "overflow": null,
            "_model_module_version": "1.2.0",
            "_view_count": null,
            "flex_flow": null,
            "width": null,
            "min_width": null,
            "border": null,
            "align_items": null,
            "bottom": null,
            "_model_module": "@jupyter-widgets/base",
            "top": null,
            "grid_column": null,
            "overflow_y": null,
            "overflow_x": null,
            "grid_auto_flow": null,
            "grid_area": null,
            "grid_template_columns": null,
            "flex": null,
            "_model_name": "LayoutModel",
            "justify_items": null,
            "grid_row": null,
            "max_height": null,
            "align_content": null,
            "visibility": null,
            "align_self": null,
            "height": null,
            "min_height": null,
            "padding": null,
            "grid_auto_rows": null,
            "grid_gap": null,
            "max_width": null,
            "order": null,
            "_view_module_version": "1.2.0",
            "grid_template_areas": null,
            "object_position": null,
            "object_fit": null,
            "grid_auto_columns": null,
            "margin": null,
            "display": null,
            "left": null
          }
        },
        "581c09aaf0ca4ea5b73c4b2335ee1f04": {
          "model_module": "@jupyter-widgets/controls",
          "model_name": "DescriptionStyleModel",
          "state": {
            "_view_name": "StyleView",
            "_model_name": "DescriptionStyleModel",
            "description_width": "",
            "_view_module": "@jupyter-widgets/base",
            "_model_module_version": "1.5.0",
            "_view_count": null,
            "_view_module_version": "1.2.0",
            "_model_module": "@jupyter-widgets/controls"
          }
        },
        "979e9fd801c74a38804b6feaefc5a172": {
          "model_module": "@jupyter-widgets/base",
          "model_name": "LayoutModel",
          "state": {
            "_view_name": "LayoutView",
            "grid_template_rows": null,
            "right": null,
            "justify_content": null,
            "_view_module": "@jupyter-widgets/base",
            "overflow": null,
            "_model_module_version": "1.2.0",
            "_view_count": null,
            "flex_flow": null,
            "width": null,
            "min_width": null,
            "border": null,
            "align_items": null,
            "bottom": null,
            "_model_module": "@jupyter-widgets/base",
            "top": null,
            "grid_column": null,
            "overflow_y": null,
            "overflow_x": null,
            "grid_auto_flow": null,
            "grid_area": null,
            "grid_template_columns": null,
            "flex": null,
            "_model_name": "LayoutModel",
            "justify_items": null,
            "grid_row": null,
            "max_height": null,
            "align_content": null,
            "visibility": null,
            "align_self": null,
            "height": null,
            "min_height": null,
            "padding": null,
            "grid_auto_rows": null,
            "grid_gap": null,
            "max_width": null,
            "order": null,
            "_view_module_version": "1.2.0",
            "grid_template_areas": null,
            "object_position": null,
            "object_fit": null,
            "grid_auto_columns": null,
            "margin": null,
            "display": null,
            "left": null
          }
        }
      }
    },
    "accelerator": "GPU"
  },
  "cells": [
    {
      "cell_type": "markdown",
      "metadata": {
        "id": "view-in-github",
        "colab_type": "text"
      },
      "source": [
        "<a href=\"https://colab.research.google.com/github/jmontalvo94/02456_l2rpn/blob/main/DQN_grid2op.ipynb\" target=\"_parent\"><img src=\"https://colab.research.google.com/assets/colab-badge.svg\" alt=\"Open In Colab\"/></a>"
      ]
    },
    {
      "cell_type": "code",
      "metadata": {
        "colab": {
          "base_uri": "https://localhost:8080/"
        },
        "id": "nokYs8Dam7P1",
        "outputId": "5c9435b6-bafa-403a-8994-b08be773b5ed"
      },
      "source": [
        "# Use this code if pull commands does not work\n",
        "#%rm -rf /content/drive/My\\ Drive/Colab\\ Notebooks/DEEP_LEARNING_DTU/project/\\02456_l2rpn/\n",
        "#%cd /content/drive/My\\ Drive/Colab\\ Notebooks/DEEP_LEARNING_DTU/project/\n",
        "#!git clone https://github.com/jmontalvo94/02456_l2rpn.git\n",
        "#!git pull"
      ],
      "execution_count": null,
      "outputs": [
        {
          "output_type": "stream",
          "text": [
            "/content/drive/My Drive/Colab Notebooks/DEEP_LEARNING_DTU/project/02456_l2rpn\n",
            "remote: Enumerating objects: 5, done.\u001b[K\n",
            "remote: Counting objects: 100% (5/5), done.\u001b[K\n",
            "remote: Compressing objects: 100% (1/1), done.\u001b[K\n",
            "remote: Total 3 (delta 2), reused 3 (delta 2), pack-reused 0\u001b[K\n",
            "Unpacking objects: 100% (3/3), done.\n",
            "From https://github.com/jmontalvo94/02456_l2rpn\n",
            "   5df8195..57fe4f7  main       -> origin/main\n",
            "Updating 5df8195..57fe4f7\n",
            "Fast-forward\n",
            " agent_emil.py | 2 \u001b[32m++\u001b[m\n",
            " 1 file changed, 2 insertions(+)\n"
          ],
          "name": "stdout"
        }
      ]
    },
    {
      "cell_type": "code",
      "metadata": {
        "colab": {
          "base_uri": "https://localhost:8080/"
        },
        "id": "CCzLfGVkpubI",
        "outputId": "5da68672-c345-4e41-cc50-d76283c70ac1"
      },
      "source": [
        "#!git pull"
      ],
      "execution_count": null,
      "outputs": [
        {
          "output_type": "stream",
          "text": [
            "remote: Enumerating objects: 5, done.\u001b[K\n",
            "remote: Counting objects:  20% (1/5)\u001b[K\rremote: Counting objects:  40% (2/5)\u001b[K\rremote: Counting objects:  60% (3/5)\u001b[K\rremote: Counting objects:  80% (4/5)\u001b[K\rremote: Counting objects: 100% (5/5)\u001b[K\rremote: Counting objects: 100% (5/5), done.\u001b[K\n",
            "remote: Compressing objects: 100% (1/1)\u001b[K\rremote: Compressing objects: 100% (1/1), done.\u001b[K\n",
            "remote: Total 3 (delta 2), reused 3 (delta 2), pack-reused 0\u001b[K\n",
            "Unpacking objects:  33% (1/3)   \rUnpacking objects:  66% (2/3)   \rUnpacking objects: 100% (3/3)   \rUnpacking objects: 100% (3/3), done.\n",
            "From https://github.com/jmontalvo94/02456_l2rpn\n",
            "   57fe4f7..b85e4f7  main       -> origin/main\n",
            "Updating 57fe4f7..b85e4f7\n",
            "Fast-forward\n",
            " agent_emil.py | 2 \u001b[32m+\u001b[m\u001b[31m-\u001b[m\n",
            " 1 file changed, 1 insertion(+), 1 deletion(-)\n"
          ],
          "name": "stdout"
        }
      ]
    },
    {
      "cell_type": "code",
      "metadata": {
        "id": "12yOFgca_XJ6",
        "colab": {
          "base_uri": "https://localhost:8080/"
        },
        "outputId": "ba2ace56-0001-4afc-8e20-588b87a56068"
      },
      "source": [
        "%cd /content/drive/My\\ Drive/Colab\\ Notebooks/DEEP_LEARNING_DTU/project/\\02456_l2rpn/\n",
        "\n",
        "!pip install grid2op\n",
        "\n",
        "import agent_emil as agent \n",
        "import grid2op\n",
        "import re\n",
        "import numpy as np\n",
        "import pandas as pd\n",
        "import matplotlib.pyplot as plt\n",
        "from grid2op.Chronics import GridStateFromFileWithForecasts\n",
        "from grid2op.Agent import DoNothingAgent,RandomAgent,PowerLineSwitch,AgentWithConverter\n",
        "from grid2op.Action import DontAct,PowerlineChangeAction,TopologySetAction,TopologyChangeAction\n",
        "from grid2op.PlotGrid import PlotMatplot\n",
        "from grid2op.Parameters import Parameters\n",
        "from grid2op.Converter import IdToAct,Converter\n",
        "from itertools import product\n",
        "from tqdm.notebook import tqdm "
      ],
      "execution_count": 8,
      "outputs": [
        {
          "output_type": "stream",
          "text": [
            "/content/drive/My Drive/Colab Notebooks/DEEP_LEARNING_DTU/project/02456_l2rpn\n",
            "Requirement already satisfied: grid2op in /usr/local/lib/python3.6/dist-packages (1.3.1)\n",
            "Requirement already satisfied: pandas>=1.0.3 in /usr/local/lib/python3.6/dist-packages (from grid2op) (1.1.4)\n",
            "Requirement already satisfied: pathlib>=1.0.1 in /usr/local/lib/python3.6/dist-packages (from grid2op) (1.0.1)\n",
            "Requirement already satisfied: networkx>=2.4 in /usr/local/lib/python3.6/dist-packages (from grid2op) (2.5)\n",
            "Requirement already satisfied: numpy>=1.18.3 in /usr/local/lib/python3.6/dist-packages (from grid2op) (1.18.5)\n",
            "Requirement already satisfied: scipy>=1.4.1 in /usr/local/lib/python3.6/dist-packages (from grid2op) (1.4.1)\n",
            "Requirement already satisfied: tqdm>=4.45.0 in /usr/local/lib/python3.6/dist-packages (from grid2op) (4.53.0)\n",
            "Requirement already satisfied: requests>=2.23.0 in /usr/local/lib/python3.6/dist-packages (from grid2op) (2.23.0)\n",
            "Requirement already satisfied: pandapower>=2.2.2 in /usr/local/lib/python3.6/dist-packages (from grid2op) (2.4.0)\n",
            "Requirement already satisfied: pytz>=2017.2 in /usr/local/lib/python3.6/dist-packages (from pandas>=1.0.3->grid2op) (2018.9)\n",
            "Requirement already satisfied: python-dateutil>=2.7.3 in /usr/local/lib/python3.6/dist-packages (from pandas>=1.0.3->grid2op) (2.8.1)\n",
            "Requirement already satisfied: decorator>=4.3.0 in /usr/local/lib/python3.6/dist-packages (from networkx>=2.4->grid2op) (4.4.2)\n",
            "Requirement already satisfied: chardet<4,>=3.0.2 in /usr/local/lib/python3.6/dist-packages (from requests>=2.23.0->grid2op) (3.0.4)\n",
            "Requirement already satisfied: certifi>=2017.4.17 in /usr/local/lib/python3.6/dist-packages (from requests>=2.23.0->grid2op) (2020.11.8)\n",
            "Requirement already satisfied: idna<3,>=2.5 in /usr/local/lib/python3.6/dist-packages (from requests>=2.23.0->grid2op) (2.10)\n",
            "Requirement already satisfied: urllib3!=1.25.0,!=1.25.1,<1.26,>=1.21.1 in /usr/local/lib/python3.6/dist-packages (from requests>=2.23.0->grid2op) (1.24.3)\n",
            "Requirement already satisfied: xlrd in /usr/local/lib/python3.6/dist-packages (from pandapower>=2.2.2->grid2op) (1.1.0)\n",
            "Requirement already satisfied: packaging in /usr/local/lib/python3.6/dist-packages (from pandapower>=2.2.2->grid2op) (20.4)\n",
            "Requirement already satisfied: cryptography in /usr/local/lib/python3.6/dist-packages (from pandapower>=2.2.2->grid2op) (3.2.1)\n",
            "Requirement already satisfied: xlsxwriter in /usr/local/lib/python3.6/dist-packages (from pandapower>=2.2.2->grid2op) (1.3.7)\n",
            "Requirement already satisfied: six>=1.5 in /usr/local/lib/python3.6/dist-packages (from python-dateutil>=2.7.3->pandas>=1.0.3->grid2op) (1.15.0)\n",
            "Requirement already satisfied: pyparsing>=2.0.2 in /usr/local/lib/python3.6/dist-packages (from packaging->pandapower>=2.2.2->grid2op) (2.4.7)\n",
            "Requirement already satisfied: cffi!=1.11.3,>=1.8 in /usr/local/lib/python3.6/dist-packages (from cryptography->pandapower>=2.2.2->grid2op) (1.14.3)\n",
            "Requirement already satisfied: pycparser in /usr/local/lib/python3.6/dist-packages (from cffi!=1.11.3,>=1.8->cryptography->pandapower>=2.2.2->grid2op) (2.20)\n"
          ],
          "name": "stdout"
        }
      ]
    },
    {
      "cell_type": "markdown",
      "metadata": {
        "id": "4gkYjnRfJHm_"
      },
      "source": [
        "# CREATE ENVIROMENT"
      ]
    },
    {
      "cell_type": "code",
      "metadata": {
        "id": "2aDnlLjJJKwx"
      },
      "source": [
        "p = Parameters()\n",
        "# Disable lines disconnections due to overflows\n",
        "p.NO_OVERFLOW_DISCONNECTION = True\n",
        "# Allow many steps with overflow\n",
        "p.NB_TIMESTEP_OVERFLOW_ALLOWED = 9999\n",
        "# No waiting time to reconnect\n",
        "p.NB_TIMESTEP_RECONNECTION = 0\n",
        "# No authomatic disconnection\n",
        "p.HARD_OVERFLOW_THRESHOLD = 9999\n",
        "\n",
        "env = grid2op.make('rte_case14_realistic',\n",
        "                   action_class=TopologyChangeAction,\n",
        "                   param=p)"
      ],
      "execution_count": 2,
      "outputs": []
    },
    {
      "cell_type": "markdown",
      "metadata": {
        "id": "Taw-_9qXLHu1"
      },
      "source": [
        "##### CUSTOM-MADE FUNCTIONS TO CONVERT GRID2OP ACTION TO ONE HOT ENCODING ACTION"
      ]
    },
    {
      "cell_type": "code",
      "metadata": {
        "id": "34-1ShvF6hpo"
      },
      "source": [
        "n_powerlines = 20\n",
        "n_substations = 14\n",
        "total_bus_actions = 56\n",
        "\n",
        "def create_one_hot_converter(n_powerlines,n_substations,total_bus_actions):\n",
        "  \"\"\"\n",
        "  Creates two 2-d np.arrays used for conversion between grid2op action to one hot encoding action vector used by a neural network\n",
        "  \"\"\"\n",
        "  one_hot_encoding_act_conv = []\n",
        "  env_act_dict_list = []\n",
        "  zero_act = np.zeros((n_powerlines+total_bus_actions,1))\n",
        "\n",
        "  ## Add do nothing action vector (all zeroes)\n",
        "  one_hot_encoding_act_conv.append(zero_act)\n",
        "  env_act_dict_list.append({}) ## {} is the do nothing dictonary for actions in grid2op\n",
        "\n",
        "  ## Powerline change actions\n",
        "  for idx in range(n_powerlines):\n",
        "    one_hot_encoding_act_conv_pwline = zero_act.copy()\n",
        "    one_hot_encoding_act_conv_pwline[total_bus_actions+idx] = 1\n",
        "    one_hot_encoding_act_conv.append(one_hot_encoding_act_conv_pwline)\n",
        "    env_act_dict_list.append({'change_line_status': [idx]}) ## {'change_line_status': [idx]} set an action of changing line status for lineid with id idx\n",
        "\n",
        "\n",
        "  ## Bus change actions\n",
        "  start_slice = 0\n",
        "  for sub_station_id, nb_el in enumerate(env.action_space.sub_info):\n",
        "    one_hot_encoding_act_conv_substation = zero_act.copy()\n",
        "\n",
        "    possible_bus_actions = np.array(list(product('01', repeat=nb_el))).astype(int)\n",
        "    for possible_bus_action in possible_bus_actions:\n",
        "      if possible_bus_action.sum()>0: # Do not include no change action vector\n",
        "        one_hot_encoding_act_conv_substation[start_slice:(start_slice+nb_el)] = possible_bus_action.reshape(-1,1)\n",
        "        one_hot_encoding_act_conv.append(one_hot_encoding_act_conv_substation.copy())\n",
        "        env_act_dict_list.append({\"change_bus\": {\"substations_id\": [(sub_station_id, possible_bus_action.astype(bool))]}})\n",
        "    start_slice += nb_el\n",
        "\n",
        "  one_hot_encoding_act_conv = np.array(one_hot_encoding_act_conv).reshape(len(one_hot_encoding_act_conv),n_powerlines+total_bus_actions)\n",
        "\n",
        "  return one_hot_encoding_act_conv,env_act_dict_list\n",
        "\n",
        "def convert_env_act_to_one_hot_encoding_act(one_hot_encoding_act_conv,env_act):\n",
        "  \"\"\"\n",
        "  Converts an grid2op action (in numpy format) to a one hot encoding vector\n",
        "  \"\"\"\n",
        "  one_hot_encoding_act = np.zeros(len(one_hot_encoding_act_conv))\n",
        "  env_act = env_act.reshape(-1,)\n",
        "  action_idx = (one_hot_encoding_act_conv[:, None] == env_act).all(-1).any(-1)\n",
        "  one_hot_encoding_act[action_idx] = 1\n",
        "  return one_hot_encoding_act\n",
        "\n",
        "def convert_one_hot_encoding_act_to_env_act(env_act_dict_list,one_hot_encoding_act,env=env):\n",
        "  \"\"\"\n",
        "  Converts a one hot encoding action to a grid2op action\n",
        "  \"\"\"\n",
        "  return env.action_space(env_act_dict_list[tmp_.argmax().item()])"
      ],
      "execution_count": 18,
      "outputs": []
    },
    {
      "cell_type": "markdown",
      "metadata": {
        "id": "bxUTlkF-LTbJ"
      },
      "source": [
        "##### SANITY CHECKS OF WHETHER CUSTOM MADE CONVERSIONS WORK"
      ]
    },
    {
      "cell_type": "code",
      "metadata": {
        "colab": {
          "base_uri": "https://localhost:8080/"
        },
        "id": "CDvSVUuhkDTz",
        "outputId": "052a8560-657c-47df-b5a5-bba5d68b15dd"
      },
      "source": [
        "my_agent = RandomAgent(env.action_space)\n",
        "all_obs = []\n",
        "obs = env.reset()\n",
        "reward = env.reward_range[0]\n",
        "reward_list = []\n",
        "done = False\n",
        "nb_step = 0\n",
        "action = my_agent.act(obs, reward, done)\n",
        "#print(action.to_vect()[:56])\n",
        "#print(action.to_vect()[-20:])\n",
        "print(\"Action directly from grid2op\")\n",
        "print(action)\n",
        "#print(action.to_dict())\n",
        "tmp_ = convert_env_act_to_one_hot_encoding_act(one_hot_encoding_act_conv,env_act=action.to_vect())\n",
        "my_action = convert_one_hot_encoding_act_to_env_act(env_act_dict_list,tmp_)\n",
        "print(\"Action converted to one hot encoding and back to grid2op action. Should be the same as above\")\n",
        "print(my_action)"
      ],
      "execution_count": 11,
      "outputs": [
        {
          "output_type": "stream",
          "text": [
            "This action will:\n",
            "\t - NOT change anything to the injections\n",
            "\t - NOT perform any redispatching action\n",
            "\t - NOT force any line status\n",
            "\t - NOT switch any line status\n",
            "\t - Change the bus of the following element:\n",
            "\t \t - switch bus of line (origin) 14 [on substation 12]\n",
            "\t \t - switch bus of load 9 [on substation 12]\n",
            "\t - NOT force any particular bus configuration\n",
            "This action will:\n",
            "\t - NOT change anything to the injections\n",
            "\t - NOT perform any redispatching action\n",
            "\t - NOT force any line status\n",
            "\t - NOT switch any line status\n",
            "\t - Change the bus of the following element:\n",
            "\t \t - switch bus of line (origin) 14 [on substation 12]\n",
            "\t \t - switch bus of load 9 [on substation 12]\n",
            "\t - NOT force any particular bus configuration\n"
          ],
          "name": "stdout"
        }
      ]
    },
    {
      "cell_type": "markdown",
      "metadata": {
        "id": "-xSw0pzHJOdn"
      },
      "source": [
        "# PRE-BUILT AGENT: DO NOTHING AGENT"
      ]
    },
    {
      "cell_type": "code",
      "metadata": {
        "id": "jrDcuB7_zvuO",
        "colab": {
          "base_uri": "https://localhost:8080/",
          "height": 83,
          "referenced_widgets": [
            "65beedd515094800a1d77f4d3c321085",
            "aefc5b646d7c490fab6fc1ffd56b1087",
            "0d21c885d3714f9da405a2c29ec78b4d",
            "90866a0170df4304868ac044beae74ac",
            "2906d58e4a944d6fa4d0013476cea243",
            "e9c6aaa69adc41b1a484091b7d7efc63",
            "f588428caaa241c4925c1bb5d61bac34",
            "508860c343cb462cb6d87f890e0bfb51",
            "9a7b5e5c40af4a849c3a10b1d3722b96",
            "49b82e20f6ea49c49c8380019f678424",
            "841a12c401f94b3ebad5d18333b06c84"
          ]
        },
        "outputId": "310a9bf8-5bff-430f-8b78-f2c3d1f1a31e"
      },
      "source": [
        "my_agent = DoNothingAgent(env.action_space)\n",
        "all_obs = []\n",
        "obs = env.reset()\n",
        "all_obs.append(obs)\n",
        "reward = env.reward_range[0]\n",
        "reward_list = []\n",
        "done = False\n",
        "nb_step = 0\n",
        "print(\"Do Nothing Agent Simulation\")\n",
        "with tqdm(total=env.chronics_handler.max_timestep()) as pbar:\n",
        "    while True:\n",
        "        action = my_agent.act(obs, reward, done)\n",
        "        obs, reward, done, _ = env.step(action)\n",
        "        reward_list.append(reward)\n",
        "        pbar.update(1)\n",
        "        if done:\n",
        "            break\n",
        "        all_obs.append(obs)\n",
        "        nb_step += 1\n",
        "\n",
        "reward_list_do_nothing_agent = np.copy(reward_list)\n"
      ],
      "execution_count": 33,
      "outputs": [
        {
          "output_type": "stream",
          "text": [
            "Do Nothing Agent Simulation\n"
          ],
          "name": "stdout"
        },
        {
          "output_type": "display_data",
          "data": {
            "application/vnd.jupyter.widget-view+json": {
              "model_id": "65beedd515094800a1d77f4d3c321085",
              "version_minor": 0,
              "version_major": 2
            },
            "text/plain": [
              "HBox(children=(HTML(value=''), FloatProgress(value=0.0, max=8064.0), HTML(value='')))"
            ]
          },
          "metadata": {
            "tags": []
          }
        },
        {
          "output_type": "stream",
          "text": [
            "\n"
          ],
          "name": "stdout"
        }
      ]
    },
    {
      "cell_type": "markdown",
      "metadata": {
        "id": "Yuzy6V3dLeBh"
      },
      "source": [
        "# PRE-BUILT AGENT: RANDOM ACTION AGENT"
      ]
    },
    {
      "cell_type": "code",
      "metadata": {
        "id": "PdiVQrzC1rf8",
        "colab": {
          "base_uri": "https://localhost:8080/",
          "height": 83,
          "referenced_widgets": [
            "8b9fa9f35447442a96f436ec2fd9a3dd",
            "a1c62c937d774507ae63c2bb32f1a601",
            "55d949a524214262aaa082ae3ca17285",
            "6a8befd7ee2e43c38cb0f58157e14856",
            "b7fbd89cae91433796f0518bd814e485",
            "07e48a4d5dbf4b9798bd3056965fe008",
            "fc9117b7e1f84bf5ab43cd0f58c3d901",
            "212f61d149f44a35847bc533596f23b4",
            "c8d05c4ebf0744a9826730240fbbdb4a",
            "ffe4756ba96c4a2082dcc5d828ca8d39",
            "098fc59858e94f909b24ff231f3ea8dd"
          ]
        },
        "outputId": "bcc703e7-4b49-4e4a-cf76-0874a43c95b1"
      },
      "source": [
        "my_agent = RandomAgent(env.action_space)\n",
        "all_obs = []\n",
        "obs = env.reset()\n",
        "all_obs.append(obs)\n",
        "reward = env.reward_range[0]\n",
        "reward_list = []\n",
        "done = False\n",
        "nb_step = 0\n",
        "print(\"Random Agent Simulation\")\n",
        "with tqdm(total=env.chronics_handler.max_timestep()) as pbar:\n",
        "    while True:\n",
        "        action = my_agent.act(obs, reward, done)\n",
        "        obs, reward, done, _ = env.step(action)\n",
        "        reward_list.append(reward)\n",
        "        pbar.update(1)\n",
        "        if done:\n",
        "            break\n",
        "        all_obs.append(obs)\n",
        "        nb_step += 1\n",
        "\n",
        "reward_list_random_agent = np.copy(reward_list)\n"
      ],
      "execution_count": 34,
      "outputs": [
        {
          "output_type": "stream",
          "text": [
            "Random Agent Simulation\n"
          ],
          "name": "stdout"
        },
        {
          "output_type": "display_data",
          "data": {
            "application/vnd.jupyter.widget-view+json": {
              "model_id": "8b9fa9f35447442a96f436ec2fd9a3dd",
              "version_minor": 0,
              "version_major": 2
            },
            "text/plain": [
              "HBox(children=(HTML(value=''), FloatProgress(value=0.0, max=8064.0), HTML(value='')))"
            ]
          },
          "metadata": {
            "tags": []
          }
        },
        {
          "output_type": "stream",
          "text": [
            "\n"
          ],
          "name": "stdout"
        }
      ]
    },
    {
      "cell_type": "markdown",
      "metadata": {
        "id": "DkG0bNV2LgDj"
      },
      "source": [
        "# PRE-BUILT AGENT: POWER SWITCH AGENT"
      ]
    },
    {
      "cell_type": "code",
      "metadata": {
        "id": "ODbKAS9y3I4r",
        "colab": {
          "base_uri": "https://localhost:8080/",
          "height": 83,
          "referenced_widgets": [
            "a2b386c368a04db88aea5f982f5da588",
            "c6a6b6dae4d044fea6541085a4a36ac8",
            "cc40c538e20a41ada08cfa2a26c6bdf5",
            "2c6157f03f534452ab75247683af6a69",
            "456ba16ea8074848b28b857b9fa73951",
            "d238c6f99bb241ccb21dd3045ae36e6a",
            "9f68614c60dd488db0e953edfda666ad",
            "fd8bd89263f7421094890382e01eb450",
            "61db90d2e5df4f1c8d2e35b3f4af6604",
            "443a57da905945e296e8a16f83a0ccb2",
            "6e7601c7016c4ec3979b5cb0a09e5bbc"
          ]
        },
        "outputId": "65cf14cb-9526-4354-e570-321f5fd669e1"
      },
      "source": [
        "env_all_actions_available = grid2op.make('rte_case14_realistic')\n",
        "my_agent = PowerLineSwitch(env_all_actions_available.action_space)\n",
        "all_obs = []\n",
        "obs = env_all_actions_available.reset()\n",
        "all_obs.append(obs)\n",
        "reward = env_all_actions_available.reward_range[0]\n",
        "reward_list = []\n",
        "done = False\n",
        "nb_step = 0\n",
        "print(\"Power Line Switch Agent Simulation\")\n",
        "with tqdm(total=env_all_actions_available.chronics_handler.max_timestep()) as pbar:\n",
        "    while True:\n",
        "        action = my_agent.act(obs, reward, done)\n",
        "        obs, reward, done, _ = env_all_actions_available.step(action)\n",
        "        reward_list.append(reward)\n",
        "        pbar.update(1)\n",
        "        if done:\n",
        "            break\n",
        "        all_obs.append(obs)\n",
        "        nb_step += 1\n",
        "\n",
        "reward_power_line_switch_agent = np.copy(reward_list)\n"
      ],
      "execution_count": 35,
      "outputs": [
        {
          "output_type": "stream",
          "text": [
            "Power Line Switch Agent Simulation\n"
          ],
          "name": "stdout"
        },
        {
          "output_type": "display_data",
          "data": {
            "application/vnd.jupyter.widget-view+json": {
              "model_id": "a2b386c368a04db88aea5f982f5da588",
              "version_minor": 0,
              "version_major": 2
            },
            "text/plain": [
              "HBox(children=(HTML(value=''), FloatProgress(value=0.0, max=8064.0), HTML(value='')))"
            ]
          },
          "metadata": {
            "tags": []
          }
        },
        {
          "output_type": "stream",
          "text": [
            "\n"
          ],
          "name": "stdout"
        }
      ]
    },
    {
      "cell_type": "markdown",
      "metadata": {
        "id": "csrcnm9ALjRA"
      },
      "source": [
        "# GRAPHICAL COMPARISON OF PRE-BUILT AGENTS"
      ]
    },
    {
      "cell_type": "code",
      "metadata": {
        "id": "FncvWlavL5bx",
        "colab": {
          "base_uri": "https://localhost:8080/",
          "height": 369
        },
        "outputId": "2b34cf57-a60f-4af0-a5c4-b584e7a0bbf8"
      },
      "source": [
        "import seaborn as sns\n",
        "import matplotlib.pyplot as plt\n",
        "\n",
        "nested_lists = [reward_list_do_nothing_agent,reward_list_random_agent,reward_power_line_switch_agent]\n",
        "lists_to_df  = []\n",
        "\n",
        "for nested_list in  nested_lists:\n",
        "  len_list = len(nested_list)\n",
        "  final_value = nested_list[-1]\n",
        "  list_ = np.repeat(final_value,env.chronics_handler.max_timestep())\n",
        "  list_[:len_list] = nested_list\n",
        "  lists_to_df.append(list_)\n",
        "\n",
        "df_pre_built_agents = pd.DataFrame(lists_to_df)\\\n",
        ".transpose()\\\n",
        ".rename(columns={0:'do_nothing_agent',1:'random_agent',2:'switch_power_line_agent'})\\\n",
        ".stack()\\\n",
        ".reset_index()\\\n",
        ".rename(columns={'level_0':'iteration','level_1':'agent_type',0:'reward'})\n",
        "\n",
        "\n",
        "fig,ax = plt.subplots(1,1,figsize=(7,5))\n",
        "sns.lineplot(x='iteration',y='reward',hue='agent_type',ax=ax,data=df_pre_built_agents)\n",
        "ax.set_xlabel(\"# of iterations\")\n",
        "ax.set_ylabel(\"Reward\")\n",
        "ax.set_title(\"Performance of pre-built grid2op agents\\n(Only action available is topology set action)\")\n",
        "ax.legend(['Do nothing agent','Random actions agent','Switch Power Line agent'])\n",
        "plt.tight_layout()\n",
        "plt.show()\n",
        "# df_pre_built_agents = pd.DataFrame({'random_agent':reward_list_random_agent,\n",
        "#                                     'power_line_switch_agent':reward_power_line_switch_agent\n",
        "#                                     })\n",
        "# df_pre_built_agents"
      ],
      "execution_count": null,
      "outputs": [
        {
          "output_type": "display_data",
          "data": {
            "image/png": "[encoded data removed]",
            "text/plain": [
              "<Figure size 504x360 with 1 Axes>"
            ]
          },
          "metadata": {
            "tags": [],
            "needs_background": "light"
          }
        }
      ]
    },
    {
      "cell_type": "markdown",
      "metadata": {
        "id": "GgPG0z_DYbL0"
      },
      "source": [
        "# SIMPLE DQN"
      ]
    },
    {
      "cell_type": "code",
      "metadata": {
        "id": "BOD9Rbwea7aQ",
        "colab": {
          "base_uri": "https://localhost:8080/"
        },
        "outputId": "e1674932-f4e7-4eaf-ee0b-77bd70b323d7"
      },
      "source": [
        "import torch \n",
        "\n",
        "def act_vect_to_act_obj(env, Q_est):\n",
        "  \"\"\"\n",
        "  This function returns a grid2op action object based on the estimated Q-value vector.\n",
        "  It operates as follows:\n",
        "  1. Identifies whether a' (action that maximizes Q function is positive).\n",
        "  2. if a' is non-positive, do nothing action is returned\n",
        "  3. if a' positive a grid2op action with line change of a' is returned.   \n",
        "\n",
        "  Arguments:\n",
        "\n",
        "  env: grid2op enviroment\n",
        "\n",
        "  Q_est: torch array\n",
        "  - Estimated Q-value function \n",
        "\n",
        "  Returns\n",
        "  a: grid2op action object\n",
        "  \"\"\"\n",
        "\n",
        "  ## Fix potential nan values\n",
        "  Q_est[Q_est!=Q_est] = -1\n",
        "  a_argmax = Q_est.argmax()\n",
        "\n",
        "  # Check if a' is above zero\n",
        "  if Q_est.max()>0:\n",
        "    line_id = Q_est.argmax().item()\n",
        "    a = env.action_space({'change_line_status': [line_id]}) # Change line status of line with line_id\n",
        "  else:\n",
        "    a = env.action_space({}) # Do nothing\n",
        "\n",
        "  return a\n",
        "\n",
        "if torch.cuda.is_available(): \n",
        " dev = \"cuda:0\" \n",
        "else: \n",
        " dev = \"cpu\"\n",
        "\n",
        "# num_episodes = 2000\n",
        "# episode_limit = 100\n",
        "# batch_size = 64\n",
        "# learning_rate = 0.005\n",
        "# gamma = 0.99 # discount rate\n",
        "# tau = 0.01 # target network update rate\n",
        "# replay_memory_capacity = 10000\n",
        "# prefill_memory = True\n",
        "# double_dqn = False\n",
        "# val_freq = 100 # validation frequency\n",
        "\n",
        "one_hot_encoding_act_conv,env_act_dict_list = create_one_hot_converter(n_powerlines,n_substations,total_bus_actions)\n",
        "\n",
        "TRAINING_PARAMS = {\n",
        "    'num_episodes':2000,\n",
        "    'episode_limit':env.chronics_handler.max_timestep(),\n",
        "    'batch_size':64,\n",
        "    'replay_memory_capacity':10000,\n",
        "    'prefil_memory':True,\n",
        "    'val_freq':100,\n",
        "    'tau':0.01,\n",
        "    'gamma':0.99,\n",
        "    'double_dqn':False\n",
        "}\n",
        "\n",
        "NN_PARAMS = {\n",
        "    'n_inputs':env.observation_space.n,\n",
        "    'n_outputs':len(one_hot_encoding_act_conv),\n",
        "    'optimizer':'SGD',\n",
        "    'learning_rate':0.005,\n",
        "    'weight_decay':0.001\n",
        "}\n",
        "\n",
        "# n_inputs = env.observation_space.n\n",
        "# n_outputs = env.action_space.n\n",
        "\n",
        "# initialize DQN and replay memory\n",
        "policy_dqn = agent.DQN(NN_PARAMS)\n",
        "target_dqn = agent.DQN(NN_PARAMS)\n",
        "target_dqn.load_state_dict(policy_dqn.state_dict())\n",
        "\n",
        "# set to cuda if available\n",
        "policy_dqn.to(dev)\n",
        "target_dqn.to(dev)\n",
        "\n",
        "replay_memory = agent.ReplayMemory(TRAINING_PARAMS['replay_memory_capacity'])\n",
        "\n",
        "# prefill replay memory with random actions\n",
        "if TRAINING_PARAMS['prefil_memory']:\n",
        "    print('prefill replay memory')\n",
        "    s = env.reset()\n",
        "    while replay_memory.count() < TRAINING_PARAMS['replay_memory_capacity']:\n",
        "        a = env.action_space.sample()\n",
        "        s1, r, d, _ = env.step(a)\n",
        "        a_one_hot = convert_env_act_to_one_hot_encoding_act(one_hot_encoding_act_conv,env_act=a.to_vect())\n",
        "        replay_memory.add(s.to_vect(), a_one_hot, r, s1.to_vect(), d)\n",
        "        s = s1 if not d else env.reset()\n",
        "\n",
        "# Fix issue with replay_memory not saving states and actions as vectors in some cases (legacy)\n",
        "# for i,sample_ in enumerate(replay_memory.memory):\n",
        "#   for j in [0,1,3]:\n",
        "#     try:\n",
        "#       ss_ = sample_[j].to_vect()\n",
        "#       replay_memory[i][j] = ss_\n",
        "#     except:\n",
        "#       pass\n",
        "\n",
        "# training loop\n",
        "try:\n",
        "    print('start training')\n",
        "    epsilon = 1.0\n",
        "    rewards, lengths, losses, epsilons,game_overs = [], [], [], [],[]\n",
        "    for i in range(TRAINING_PARAMS['num_episodes']):\n",
        "        # init new episode\n",
        "        s, ep_reward, ep_loss,ep_game_over = env.reset(), 0, 0,False\n",
        "        for j in range(TRAINING_PARAMS['episode_limit']):\n",
        "            # select action with epsilon-greedy strategy\n",
        "            if np.random.rand() < epsilon:\n",
        "                a = env.action_space.sample()\n",
        "            else:\n",
        "                with torch.no_grad():\n",
        "                    Q_est = policy_dqn(torch.from_numpy(np.array(s.to_vect(),dtype='float32')).to(dev).float())\n",
        "                    Q_est[Q_est!=Q_est] = -1 ## Fix potentional na value\n",
        "                    a = env.action_space(env_act_dict_list[Q_est.argmax().item()])                  \n",
        "            # perform action\n",
        "            s1, r, d, _ = env.step(a)\n",
        "            # store experience in replay memory\n",
        "            a_one_hot = convert_env_act_to_one_hot_encoding_act(one_hot_encoding_act_conv,env_act=a.to_vect())\n",
        "            replay_memory.add(s.to_vect(), a_one_hot, r, s1.to_vect(), d)\n",
        "            # batch update\n",
        "            if replay_memory.count() >= TRAINING_PARAMS['batch_size']:\n",
        "                # sample batch from replay memory\n",
        "                batch = np.array(replay_memory.sample(TRAINING_PARAMS['batch_size']))\n",
        "                ss, aa, rr, ss1, dd = batch[:,0], batch[:,1], batch[:,2], batch[:,3], batch[:,4]\n",
        "                # do forward pass of batch\n",
        "                policy_dqn.optimizer.zero_grad()\n",
        "                #Q = policy_dqn(torch.from_numpy(one_hot(ss, n_inputs)).float())\n",
        "                Q = policy_dqn(torch.from_numpy(np.array(ss.tolist(),dtype='float32')).to(dev).float())\n",
        "                # use target network to compute target Q-values\n",
        "                with torch.no_grad():\n",
        "                    if TRAINING_PARAMS['double_dqn']:\n",
        "                        Q1 = policy_dqn(torch.from_numpy(np.array(ss1.tolist(),dtype='float32')).to(dev).float())\n",
        "                    else:\n",
        "                        # TODO: use target net\n",
        "                        Q1 = target_dqn(torch.from_numpy(np.array(ss1.tolist(),dtype='float32')).to(dev).float())\n",
        "                # compute target for each sampled experience\n",
        "                q_targets = Q.clone()\n",
        "                for k in range(TRAINING_PARAMS['batch_size']):\n",
        "                    q_targets[k, aa[k]] = rr[k] + TRAINING_PARAMS['gamma'] * Q1[k].max().item() * (not dd[k])\n",
        "                # update network weights\n",
        "                loss = policy_dqn.loss(Q, q_targets)\n",
        "                loss.backward()\n",
        "                policy_dqn.optimizer.step()\n",
        "                # update target network parameters from policy network parameters\n",
        "                target_dqn.update_params(policy_dqn.state_dict(), TRAINING_PARAMS['tau'])\n",
        "            else:\n",
        "                loss = 0\n",
        "            # bookkeeping\n",
        "            s = s1\n",
        "            ep_reward += r\n",
        "            ep_loss += loss.item()\n",
        "            if r==-10:\n",
        "              ep_game_over = True\n",
        "            if d: break\n",
        "        # bookkeeping\n",
        "        epsilon *= TRAINING_PARAMS['num_episodes']/(i/(TRAINING_PARAMS['num_episodes']/20)+TRAINING_PARAMS['num_episodes']) # decrease epsilon\n",
        "        epsilons.append(epsilon); rewards.append(ep_reward); lengths.append(j+1); losses.append(ep_loss);game_overs.append(ep_game_over)\n",
        "        if (i+1) % TRAINING_PARAMS['val_freq'] == 0:\n",
        "          print('%5d mean training reward: %5.2f' % (i+1, np.mean(rewards[-TRAINING_PARAMS['val_freq']:])))\n",
        "          print(f\"{i+1} mean survival rate (not game over): {1-np.mean(game_overs[-TRAINING_PARAMS['val_freq']:])}%\")\n",
        "    print('done')\n",
        "except KeyboardInterrupt:\n",
        "    print('interrupt')\n",
        "\n"
      ],
      "execution_count": 24,
      "outputs": [
        {
          "output_type": "stream",
          "text": [
            "prefill replay memory\n",
            "start training\n",
            "  100 mean training reward: 2449.64\n",
            "100 mean survival rate (not game over): 0.0%\n",
            "  200 mean training reward: 2804.56\n",
            "200 mean survival rate (not game over): 0.0%\n",
            "  300 mean training reward: 2672.95\n",
            "300 mean survival rate (not game over): 0.0%\n",
            "  400 mean training reward: 3879.54\n",
            "400 mean survival rate (not game over): 0.0%\n",
            "  500 mean training reward: 4196.96\n",
            "500 mean survival rate (not game over): 0.0%\n",
            "  600 mean training reward: 5003.92\n",
            "600 mean survival rate (not game over): 0.0%\n",
            "  700 mean training reward: 9650.80\n",
            "700 mean survival rate (not game over): 0.0%\n",
            "  800 mean training reward: 10901.80\n",
            "800 mean survival rate (not game over): 0.0%\n",
            "  900 mean training reward: 16846.60\n",
            "900 mean survival rate (not game over): 0.0%\n",
            " 1000 mean training reward: 28770.29\n",
            "1000 mean survival rate (not game over): 0.0%\n",
            " 1100 mean training reward: 45682.39\n",
            "1100 mean survival rate (not game over): 0.0%\n",
            " 1200 mean training reward: 82280.83\n",
            "1200 mean survival rate (not game over): 0.0%\n",
            " 1300 mean training reward: 139429.28\n",
            "1300 mean survival rate (not game over): 0.0%\n",
            " 1400 mean training reward: 266705.59\n",
            "1400 mean survival rate (not game over): 0.0%\n",
            " 1500 mean training reward: 465387.36\n",
            "1500 mean survival rate (not game over): 0.0%\n",
            " 1600 mean training reward: 747082.65\n",
            "1600 mean survival rate (not game over): 0.0%\n",
            "interrupt\n"
          ],
          "name": "stdout"
        }
      ]
    },
    {
      "cell_type": "code",
      "metadata": {
        "colab": {
          "base_uri": "https://localhost:8080/",
          "height": 496
        },
        "id": "faSoVvbjYroB",
        "outputId": "084e046c-e597-49b1-e7d0-bbd8ba88727c"
      },
      "source": [
        "# plot results\n",
        "def moving_average(a, n=10) :\n",
        "    ret = np.cumsum(a, dtype=float)\n",
        "    ret[n:] = ret[n:] - ret[:-n]\n",
        "    return ret / n\n",
        "\n",
        "plt.figure(figsize=(16, 9))\n",
        "plt.subplot(411)\n",
        "plt.title('training rewards')\n",
        "plt.plot(range(1, len(rewards)+1), rewards)\n",
        "plt.plot(moving_average(rewards))\n",
        "plt.xlim([0, len(rewards)])\n",
        "plt.subplot(412)\n",
        "plt.title('training lengths')\n",
        "plt.plot(range(1, len(rewards)+1), lengths)\n",
        "plt.plot(range(1, len(rewards)+1), moving_average(lengths))\n",
        "plt.xlim([0, len(rewards)])\n",
        "plt.subplot(413)\n",
        "plt.title('training loss')\n",
        "plt.plot(range(1, len(rewards)+1), losses)\n",
        "plt.plot(range(1, len(rewards)+1), moving_average(losses))\n",
        "plt.xlim([0, len(rewards)])\n",
        "plt.subplot(414)\n",
        "plt.title('epsilon')\n",
        "plt.plot(range(1, len(rewards)+1), epsilons)\n",
        "plt.xlim([0, len(rewards)])\n",
        "plt.tight_layout(); plt.show()"
      ],
      "execution_count": 28,
      "outputs": [
        {
          "output_type": "display_data",
          "data": {
            "image/png": "[encoded data removed]",
            "text/plain": [
              "<Figure size 1152x648 with 4 Axes>"
            ]
          },
          "metadata": {
            "tags": [],
            "needs_background": "light"
          }
        }
      ]
    },
    {
      "cell_type": "markdown",
      "metadata": {
        "id": "rNnxDUSYvI5d"
      },
      "source": [
        "# VERY SIMPLE DQN AGENT"
      ]
    },
    {
      "cell_type": "code",
      "metadata": {
        "colab": {
          "base_uri": "https://localhost:8080/",
          "height": 83,
          "referenced_widgets": [
            "1fa4a1c033564ad08b4bc839f6ec886c",
            "d72ad6d7e51c4b7787903552bfebfcc6",
            "d8aecd8c335c481ab2c236682bf667c6",
            "48433e6870aa422bac36b95487226b16",
            "c8c855a9e2b94d55888d1db6054c656e",
            "d0bdf51d0fe24cb0b1338f4b3d4bc35f",
            "eedf9606923042de82d233c7242c5fb2",
            "5f1e84cdaaf942d399638ea8f7977646",
            "656e095ff05d42cf8857d95138870f4a",
            "581c09aaf0ca4ea5b73c4b2335ee1f04",
            "979e9fd801c74a38804b6feaefc5a172"
          ]
        },
        "id": "lnY920uosmCe",
        "outputId": "d96941cb-5d74-4eea-d318-873dc392967b"
      },
      "source": [
        "all_obs = []\n",
        "obs = env.reset()\n",
        "all_obs.append(obs)\n",
        "reward = env.reward_range[0]\n",
        "reward_list = []\n",
        "done = False\n",
        "nb_step = 0\n",
        "print(\"Very Simple DQN Simulation\")\n",
        "with tqdm(total=env.chronics_handler.max_timestep()) as pbar:\n",
        "    while True:\n",
        "        #action = act_vect_to_act_obj(env,target_dqn(torch.from_numpy(np.array(obs.to_vect(),dtype='float32')).to(dev).float()))\n",
        "        #action = my_agent.act(obs, reward, done)\n",
        "        Q_est = policy_dqn(torch.from_numpy(np.array(obs.to_vect(),dtype='float32')).to(dev).float())\n",
        "        Q_est[Q_est!=Q_est] = -1 ## Fix potentional na value\n",
        "        action = env.action_space(env_act_dict_list[Q_est.argmax().item()])            \n",
        "        obs, reward, done, _ = env.step(action)\n",
        "        reward_list.append(reward)\n",
        "        pbar.update(1)\n",
        "        if done:\n",
        "            break\n",
        "        all_obs.append(obs)\n",
        "        nb_step += 1\n",
        "\n",
        "reward_list_simple_DQN = np.copy(reward_list)\n"
      ],
      "execution_count": 31,
      "outputs": [
        {
          "output_type": "stream",
          "text": [
            "Very Simple DQN Simulation\n"
          ],
          "name": "stdout"
        },
        {
          "output_type": "display_data",
          "data": {
            "application/vnd.jupyter.widget-view+json": {
              "model_id": "1fa4a1c033564ad08b4bc839f6ec886c",
              "version_minor": 0,
              "version_major": 2
            },
            "text/plain": [
              "HBox(children=(HTML(value=''), FloatProgress(value=0.0, max=8064.0), HTML(value='')))"
            ]
          },
          "metadata": {
            "tags": []
          }
        },
        {
          "output_type": "stream",
          "text": [
            "\n"
          ],
          "name": "stdout"
        }
      ]
    },
    {
      "cell_type": "code",
      "metadata": {
        "colab": {
          "base_uri": "https://localhost:8080/",
          "height": 369
        },
        "id": "qY5Z838vtRCp",
        "outputId": "e8cb965e-2334-455d-bb82-8e080f8310a4"
      },
      "source": [
        "import seaborn as sns\n",
        "import matplotlib.pyplot as plt\n",
        "\n",
        "nested_lists = [reward_list_do_nothing_agent,reward_list_random_agent,reward_power_line_switch_agent,reward_list_simple_DQN]\n",
        "lists_to_df  = []\n",
        "\n",
        "for nested_list in  nested_lists:\n",
        "  len_list = len(nested_list)\n",
        "  final_value = nested_list[-1]\n",
        "  list_ = np.repeat(final_value,env.chronics_handler.max_timestep())\n",
        "  list_[:len_list] = nested_list\n",
        "  lists_to_df.append(list_)\n",
        "\n",
        "df_pre_built_agents = pd.DataFrame(lists_to_df)\\\n",
        ".transpose()\\\n",
        ".rename(columns={0:'do_nothing_agent',1:'random_agent',2:'switch_power_line_agent',3:'Very Simple DQN agent'})\\\n",
        ".stack()\\\n",
        ".reset_index()\\\n",
        ".rename(columns={'level_0':'iteration','level_1':'agent_type',0:'reward'})\n",
        "\n",
        "\n",
        "fig,ax = plt.subplots(1,1,figsize=(7,5))\n",
        "sns.lineplot(x='iteration',y='reward',hue='agent_type',ax=ax,data=df_pre_built_agents)\n",
        "ax.set_xlabel(\"# of iterations\")\n",
        "ax.set_ylabel(\"Reward\")\n",
        "ax.set_title(\"Performance of pre-built grid2op agents\\n(Only actions available are powerline and topology change)\")\n",
        "ax.legend(['Do nothing agent','Random actions agent','Switch Power Line agent','Double DQN Agent'])\n",
        "ax.set_xlim(0,8000)\n",
        "plt.tight_layout()\n",
        "plt.show()\n",
        "\n",
        "# df_pre_built_agents = pd.DataFrame({'random_agent':reward_list_random_agent,\n",
        "#                                     'power_line_switch_agent':reward_power_line_switch_agent\n",
        "#                                     })\n",
        "# df_pre_built_agents"
      ],
      "execution_count": 40,
      "outputs": [
        {
          "output_type": "display_data",
          "data": {
            "image/png": "[encoded data removed]",
            "text/plain": [
              "<Figure size 504x360 with 1 Axes>"
            ]
          },
          "metadata": {
            "tags": [],
            "needs_background": "light"
          }
        }
      ]
    },
    {
      "cell_type": "code",
      "metadata": {
        "id": "eiApUCyMg6yB"
      },
      "source": [
        ""
      ],
      "execution_count": null,
      "outputs": []
    }
  ]
}